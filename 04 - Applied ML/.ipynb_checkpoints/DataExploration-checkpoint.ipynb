{
 "cells": [
  {
   "cell_type": "markdown",
   "metadata": {},
   "source": [
    "# HW 4"
   ]
  },
  {
   "cell_type": "markdown",
   "metadata": {},
   "source": [
    "We start with the usual imports."
   ]
  },
  {
   "cell_type": "code",
   "execution_count": 373,
   "metadata": {
    "collapsed": true
   },
   "outputs": [],
   "source": [
    "import pandas as pd                                     # for dealing with csv import\n",
    "import numpy as np                                      # arrays and other matlab like manipulation\n",
    "import os                                               # for joining paths and filenames sensibly\n",
    "import matplotlib.pyplot as plt                         # Matplotlib's pyplot: MATLAB-like syntax\n",
    "import scipy.stats.mstats as ssm                        # for bootstrap\n",
    "from scipy.stats import gaussian_kde as kde\n",
    "import random\n",
    "\n",
    "%matplotlib inline\n",
    "import seaborn as sns                                   # For pretty plots"
   ]
  },
  {
   "cell_type": "markdown",
   "metadata": {},
   "source": [
    "# Data Exploration"
   ]
  },
  {
   "cell_type": "code",
   "execution_count": 374,
   "metadata": {
    "collapsed": true
   },
   "outputs": [],
   "source": [
    "filename = 'CrowdstormingDataJuly1st.csv'\n",
    "df = pd.read_csv(filename)"
   ]
  },
  {
   "cell_type": "markdown",
   "metadata": {},
   "source": [
    "Let's start by looking at the start of the data. We separate it into two for better visualization."
   ]
  },
  {
   "cell_type": "code",
   "execution_count": 375,
   "metadata": {
    "collapsed": false
   },
   "outputs": [
    {
     "data": {
      "text/html": [
       "<div>\n",
       "<table border=\"1\" class=\"dataframe\">\n",
       "  <thead>\n",
       "    <tr style=\"text-align: right;\">\n",
       "      <th></th>\n",
       "      <th>playerShort</th>\n",
       "      <th>player</th>\n",
       "      <th>club</th>\n",
       "      <th>leagueCountry</th>\n",
       "      <th>birthday</th>\n",
       "      <th>height</th>\n",
       "      <th>weight</th>\n",
       "      <th>position</th>\n",
       "      <th>games</th>\n",
       "      <th>victories</th>\n",
       "    </tr>\n",
       "  </thead>\n",
       "  <tbody>\n",
       "    <tr>\n",
       "      <th>100</th>\n",
       "      <td>fousseni-diawara</td>\n",
       "      <td>Fousseni Diawara</td>\n",
       "      <td>AC Ajaccio</td>\n",
       "      <td>France</td>\n",
       "      <td>28.08.1980</td>\n",
       "      <td>183.0</td>\n",
       "      <td>71.0</td>\n",
       "      <td>NaN</td>\n",
       "      <td>1</td>\n",
       "      <td>0</td>\n",
       "    </tr>\n",
       "    <tr>\n",
       "      <th>101</th>\n",
       "      <td>franck-signorino</td>\n",
       "      <td>Franck Signorino</td>\n",
       "      <td>Stade Reims</td>\n",
       "      <td>France</td>\n",
       "      <td>19.09.1981</td>\n",
       "      <td>173.0</td>\n",
       "      <td>69.0</td>\n",
       "      <td>Left Fullback</td>\n",
       "      <td>2</td>\n",
       "      <td>2</td>\n",
       "    </tr>\n",
       "    <tr>\n",
       "      <th>102</th>\n",
       "      <td>francois-marque</td>\n",
       "      <td>François Marque</td>\n",
       "      <td>SC Bastia</td>\n",
       "      <td>France</td>\n",
       "      <td>31.07.1983</td>\n",
       "      <td>187.0</td>\n",
       "      <td>85.0</td>\n",
       "      <td>Center Back</td>\n",
       "      <td>2</td>\n",
       "      <td>0</td>\n",
       "    </tr>\n",
       "    <tr>\n",
       "      <th>103</th>\n",
       "      <td>frederic-duplus</td>\n",
       "      <td>Frédéric Duplus</td>\n",
       "      <td>FC Sochaux</td>\n",
       "      <td>France</td>\n",
       "      <td>07.04.1990</td>\n",
       "      <td>175.0</td>\n",
       "      <td>66.0</td>\n",
       "      <td>Left Fullback</td>\n",
       "      <td>1</td>\n",
       "      <td>0</td>\n",
       "    </tr>\n",
       "    <tr>\n",
       "      <th>104</th>\n",
       "      <td>frederic-sammaritano</td>\n",
       "      <td>Frédéric Sammaritano</td>\n",
       "      <td>AC Ajaccio</td>\n",
       "      <td>France</td>\n",
       "      <td>23.03.1986</td>\n",
       "      <td>162.0</td>\n",
       "      <td>61.0</td>\n",
       "      <td>NaN</td>\n",
       "      <td>6</td>\n",
       "      <td>1</td>\n",
       "    </tr>\n",
       "    <tr>\n",
       "      <th>105</th>\n",
       "      <td>gael-angoula</td>\n",
       "      <td>Gaël Angoula</td>\n",
       "      <td>SC Bastia</td>\n",
       "      <td>France</td>\n",
       "      <td>18.07.1982</td>\n",
       "      <td>177.0</td>\n",
       "      <td>75.0</td>\n",
       "      <td>NaN</td>\n",
       "      <td>1</td>\n",
       "      <td>1</td>\n",
       "    </tr>\n",
       "    <tr>\n",
       "      <th>106</th>\n",
       "      <td>gaetan-bong</td>\n",
       "      <td>Gaëtan Bong</td>\n",
       "      <td>Valenciennes FC</td>\n",
       "      <td>France</td>\n",
       "      <td>25.04.1988</td>\n",
       "      <td>183.0</td>\n",
       "      <td>74.0</td>\n",
       "      <td>Left Fullback</td>\n",
       "      <td>1</td>\n",
       "      <td>0</td>\n",
       "    </tr>\n",
       "    <tr>\n",
       "      <th>107</th>\n",
       "      <td>gaetan-charbonnier</td>\n",
       "      <td>Gaëtan Charbonnier</td>\n",
       "      <td>Montpellier HSC</td>\n",
       "      <td>France</td>\n",
       "      <td>27.12.1988</td>\n",
       "      <td>188.0</td>\n",
       "      <td>80.0</td>\n",
       "      <td>NaN</td>\n",
       "      <td>3</td>\n",
       "      <td>3</td>\n",
       "    </tr>\n",
       "    <tr>\n",
       "      <th>108</th>\n",
       "      <td>geoffrey-dernis</td>\n",
       "      <td>Geoffrey Dernis</td>\n",
       "      <td>Stade Brest</td>\n",
       "      <td>France</td>\n",
       "      <td>24.12.1980</td>\n",
       "      <td>171.0</td>\n",
       "      <td>66.0</td>\n",
       "      <td>Left Midfielder</td>\n",
       "      <td>2</td>\n",
       "      <td>0</td>\n",
       "    </tr>\n",
       "    <tr>\n",
       "      <th>109</th>\n",
       "      <td>georges-gope-fenepej</td>\n",
       "      <td>Georges Gope-Fenepej</td>\n",
       "      <td>ESTAC Troyes</td>\n",
       "      <td>France</td>\n",
       "      <td>23.10.1988</td>\n",
       "      <td>178.0</td>\n",
       "      <td>NaN</td>\n",
       "      <td>Center Forward</td>\n",
       "      <td>1</td>\n",
       "      <td>0</td>\n",
       "    </tr>\n",
       "    <tr>\n",
       "      <th>110</th>\n",
       "      <td>granddi-ngoyi</td>\n",
       "      <td>Granddi Ngoyi</td>\n",
       "      <td>ESTAC Troyes</td>\n",
       "      <td>France</td>\n",
       "      <td>17.05.1988</td>\n",
       "      <td>186.0</td>\n",
       "      <td>77.0</td>\n",
       "      <td>Defensive Midfielder</td>\n",
       "      <td>1</td>\n",
       "      <td>0</td>\n",
       "    </tr>\n",
       "  </tbody>\n",
       "</table>\n",
       "</div>"
      ],
      "text/plain": [
       "              playerShort                player             club  \\\n",
       "100      fousseni-diawara      Fousseni Diawara       AC Ajaccio   \n",
       "101      franck-signorino      Franck Signorino      Stade Reims   \n",
       "102       francois-marque       François Marque        SC Bastia   \n",
       "103       frederic-duplus       Frédéric Duplus       FC Sochaux   \n",
       "104  frederic-sammaritano  Frédéric Sammaritano       AC Ajaccio   \n",
       "105          gael-angoula          Gaël Angoula        SC Bastia   \n",
       "106           gaetan-bong           Gaëtan Bong  Valenciennes FC   \n",
       "107    gaetan-charbonnier    Gaëtan Charbonnier  Montpellier HSC   \n",
       "108       geoffrey-dernis       Geoffrey Dernis      Stade Brest   \n",
       "109  georges-gope-fenepej  Georges Gope-Fenepej     ESTAC Troyes   \n",
       "110         granddi-ngoyi         Granddi Ngoyi     ESTAC Troyes   \n",
       "\n",
       "    leagueCountry    birthday  height  weight              position  games  \\\n",
       "100        France  28.08.1980   183.0    71.0                   NaN      1   \n",
       "101        France  19.09.1981   173.0    69.0         Left Fullback      2   \n",
       "102        France  31.07.1983   187.0    85.0           Center Back      2   \n",
       "103        France  07.04.1990   175.0    66.0         Left Fullback      1   \n",
       "104        France  23.03.1986   162.0    61.0                   NaN      6   \n",
       "105        France  18.07.1982   177.0    75.0                   NaN      1   \n",
       "106        France  25.04.1988   183.0    74.0         Left Fullback      1   \n",
       "107        France  27.12.1988   188.0    80.0                   NaN      3   \n",
       "108        France  24.12.1980   171.0    66.0       Left Midfielder      2   \n",
       "109        France  23.10.1988   178.0     NaN        Center Forward      1   \n",
       "110        France  17.05.1988   186.0    77.0  Defensive Midfielder      1   \n",
       "\n",
       "     victories  \n",
       "100          0  \n",
       "101          2  \n",
       "102          0  \n",
       "103          0  \n",
       "104          1  \n",
       "105          1  \n",
       "106          0  \n",
       "107          3  \n",
       "108          0  \n",
       "109          0  \n",
       "110          0  "
      ]
     },
     "execution_count": 375,
     "metadata": {},
     "output_type": "execute_result"
    }
   ],
   "source": [
    "df.head()\n",
    "df.ix[100:110,:10]"
   ]
  },
  {
   "cell_type": "code",
   "execution_count": 376,
   "metadata": {
    "collapsed": false
   },
   "outputs": [
    {
     "data": {
      "text/html": [
       "<div>\n",
       "<table border=\"1\" class=\"dataframe\">\n",
       "  <thead>\n",
       "    <tr style=\"text-align: right;\">\n",
       "      <th></th>\n",
       "      <th>ties</th>\n",
       "      <th>defeats</th>\n",
       "      <th>goals</th>\n",
       "      <th>yellowCards</th>\n",
       "      <th>yellowReds</th>\n",
       "      <th>redCards</th>\n",
       "      <th>photoID</th>\n",
       "      <th>rater1</th>\n",
       "      <th>rater2</th>\n",
       "      <th>refNum</th>\n",
       "      <th>refCountry</th>\n",
       "      <th>Alpha_3</th>\n",
       "      <th>meanIAT</th>\n",
       "      <th>nIAT</th>\n",
       "      <th>seIAT</th>\n",
       "      <th>meanExp</th>\n",
       "      <th>nExp</th>\n",
       "      <th>seExp</th>\n",
       "    </tr>\n",
       "  </thead>\n",
       "  <tbody>\n",
       "    <tr>\n",
       "      <th>0</th>\n",
       "      <td>0</td>\n",
       "      <td>1</td>\n",
       "      <td>0</td>\n",
       "      <td>0</td>\n",
       "      <td>0</td>\n",
       "      <td>0</td>\n",
       "      <td>95212.jpg</td>\n",
       "      <td>0.25</td>\n",
       "      <td>0.50</td>\n",
       "      <td>1</td>\n",
       "      <td>1</td>\n",
       "      <td>GRC</td>\n",
       "      <td>0.326391</td>\n",
       "      <td>712.0</td>\n",
       "      <td>0.000564</td>\n",
       "      <td>0.396000</td>\n",
       "      <td>750.0</td>\n",
       "      <td>0.002696</td>\n",
       "    </tr>\n",
       "    <tr>\n",
       "      <th>1</th>\n",
       "      <td>0</td>\n",
       "      <td>1</td>\n",
       "      <td>0</td>\n",
       "      <td>1</td>\n",
       "      <td>0</td>\n",
       "      <td>0</td>\n",
       "      <td>1663.jpg</td>\n",
       "      <td>0.75</td>\n",
       "      <td>0.75</td>\n",
       "      <td>2</td>\n",
       "      <td>2</td>\n",
       "      <td>ZMB</td>\n",
       "      <td>0.203375</td>\n",
       "      <td>40.0</td>\n",
       "      <td>0.010875</td>\n",
       "      <td>-0.204082</td>\n",
       "      <td>49.0</td>\n",
       "      <td>0.061504</td>\n",
       "    </tr>\n",
       "    <tr>\n",
       "      <th>2</th>\n",
       "      <td>1</td>\n",
       "      <td>0</td>\n",
       "      <td>0</td>\n",
       "      <td>1</td>\n",
       "      <td>0</td>\n",
       "      <td>0</td>\n",
       "      <td>NaN</td>\n",
       "      <td>NaN</td>\n",
       "      <td>NaN</td>\n",
       "      <td>3</td>\n",
       "      <td>3</td>\n",
       "      <td>ESP</td>\n",
       "      <td>0.369894</td>\n",
       "      <td>1785.0</td>\n",
       "      <td>0.000229</td>\n",
       "      <td>0.588297</td>\n",
       "      <td>1897.0</td>\n",
       "      <td>0.001002</td>\n",
       "    </tr>\n",
       "    <tr>\n",
       "      <th>3</th>\n",
       "      <td>0</td>\n",
       "      <td>0</td>\n",
       "      <td>0</td>\n",
       "      <td>0</td>\n",
       "      <td>0</td>\n",
       "      <td>0</td>\n",
       "      <td>NaN</td>\n",
       "      <td>NaN</td>\n",
       "      <td>NaN</td>\n",
       "      <td>3</td>\n",
       "      <td>3</td>\n",
       "      <td>ESP</td>\n",
       "      <td>0.369894</td>\n",
       "      <td>1785.0</td>\n",
       "      <td>0.000229</td>\n",
       "      <td>0.588297</td>\n",
       "      <td>1897.0</td>\n",
       "      <td>0.001002</td>\n",
       "    </tr>\n",
       "  </tbody>\n",
       "</table>\n",
       "</div>"
      ],
      "text/plain": [
       "   ties  defeats  goals  yellowCards  yellowReds  redCards    photoID  rater1  \\\n",
       "0     0        1      0            0           0         0  95212.jpg    0.25   \n",
       "1     0        1      0            1           0         0   1663.jpg    0.75   \n",
       "2     1        0      0            1           0         0        NaN     NaN   \n",
       "3     0        0      0            0           0         0        NaN     NaN   \n",
       "\n",
       "   rater2  refNum  refCountry Alpha_3   meanIAT    nIAT     seIAT   meanExp  \\\n",
       "0    0.50       1           1     GRC  0.326391   712.0  0.000564  0.396000   \n",
       "1    0.75       2           2     ZMB  0.203375    40.0  0.010875 -0.204082   \n",
       "2     NaN       3           3     ESP  0.369894  1785.0  0.000229  0.588297   \n",
       "3     NaN       3           3     ESP  0.369894  1785.0  0.000229  0.588297   \n",
       "\n",
       "     nExp     seExp  \n",
       "0   750.0  0.002696  \n",
       "1    49.0  0.061504  \n",
       "2  1897.0  0.001002  \n",
       "3  1897.0  0.001002  "
      ]
     },
     "execution_count": 376,
     "metadata": {},
     "output_type": "execute_result"
    }
   ],
   "source": [
    "df.ix[:3,10:]"
   ]
  },
  {
   "cell_type": "markdown",
   "metadata": {},
   "source": [
    "We observe that there are some NaN values for rater1 and rater2. In these cases, no picture was available for this player. Indeed, we verify it below"
   ]
  },
  {
   "cell_type": "code",
   "execution_count": 377,
   "metadata": {
    "collapsed": false
   },
   "outputs": [
    {
     "name": "stdout",
     "output_type": "stream",
     "text": [
      "Both rates missing iff one rate missing: True\n",
      "Photo missing iff rating missing: True\n"
     ]
    }
   ],
   "source": [
    "#df[df.rater1.equals('NaN')]\n",
    "notRatedAtAll = (df.rater1.isnull() & df.rater2.isnull())\n",
    "partiallyRated = (df.rater1.isnull() | df.rater2.isnull())\n",
    "photoMissing = df.photoID.isnull()\n",
    "\n",
    "print(\"Both rates missing iff one rate missing: {}\".format( all(notRatedAtAll == partiallyRated)))\n",
    "\n",
    "print(\"Photo missing iff rating missing: {}\".format( all(notRatedAtAll == photoMissing)))\n"
   ]
  },
  {
   "cell_type": "code",
   "execution_count": 378,
   "metadata": {
    "collapsed": false
   },
   "outputs": [
    {
     "name": "stdout",
     "output_type": "stream",
     "text": [
      "Number referees: 3147\n"
     ]
    }
   ],
   "source": [
    "uniqueRefereeNumbers = pd.unique(df['refNum'])\n",
    "totalNbReferees = len(uniqueRefereeNumbers)\n",
    "print(\"Number referees: {}\".format(totalNbReferees))"
   ]
  },
  {
   "cell_type": "markdown",
   "metadata": {},
   "source": [
    "# Number of Players Per Referee"
   ]
  },
  {
   "cell_type": "markdown",
   "metadata": {},
   "source": [
    "We get the number of players refereed by each referee."
   ]
  },
  {
   "cell_type": "markdown",
   "metadata": {},
   "source": [
    "The below is more pertinent than what the guys originally did in their data exploration because we count the number of distinct players."
   ]
  },
  {
   "cell_type": "code",
   "execution_count": 379,
   "metadata": {
    "collapsed": false
   },
   "outputs": [],
   "source": [
    "playersPerReferee = df.groupby(['refNum']).player.count() # player just used to have one column only \n",
    "\n",
    "# Get the distribution of games per referee\n",
    "#gamesPerReferee.value_counts()"
   ]
  },
  {
   "cell_type": "code",
   "execution_count": 380,
   "metadata": {
    "collapsed": false
   },
   "outputs": [
    {
     "name": "stdout",
     "output_type": "stream",
     "text": [
      "There are 2149 wrong referees out of 3147 referees (68.28725770575151% wrong)\n"
     ]
    }
   ],
   "source": [
    "numberWrongReferees = (playersPerReferee < 22).sum()\n",
    "print(\"There are {} wrong referees out of {} referees ({}% wrong)\".\n",
    "      format(numberWrongReferees, totalNbReferees, 100*numberWrongReferees/totalNbReferees))"
   ]
  },
  {
   "cell_type": "markdown",
   "metadata": {},
   "source": [
    "We see that there are a lot of referees that have refereed less than 22 players. This is impossible because each game involves at least 22 players. Hence, we conclude that the data is wrong and we prefer to exclude it (rather than correcting it)."
   ]
  },
  {
   "cell_type": "code",
   "execution_count": 381,
   "metadata": {
    "collapsed": false
   },
   "outputs": [
    {
     "data": {
      "text/plain": [
       "Int64Index([   4,    7,   16,   19,   20,   23,   49,   64,   66,   67,\n",
       "            ...\n",
       "            3088, 3099, 3101, 3104, 3114, 3125, 3127, 3128, 3139, 3147],\n",
       "           dtype='int64', name='refNum', length=998)"
      ]
     },
     "execution_count": 381,
     "metadata": {},
     "output_type": "execute_result"
    }
   ],
   "source": [
    "validRefereeNumbersBools = (playersPerReferee >= 22)\n",
    "\n",
    "validRefereeNumbers = validRefereeNumbersBools[validRefereeNumbersBools == True].index\n",
    "validRefereeNumbers"
   ]
  },
  {
   "cell_type": "markdown",
   "metadata": {},
   "source": [
    "We consequently update the dataframe to remove these invalid referees."
   ]
  },
  {
   "cell_type": "code",
   "execution_count": 382,
   "metadata": {
    "collapsed": false
   },
   "outputs": [
    {
     "name": "stdout",
     "output_type": "stream",
     "text": [
      "Number entries in dataframe before : 146028\n",
      "Number entries in dataframe after : 133501\n"
     ]
    }
   ],
   "source": [
    "print(\"Number entries in dataframe before : {}\".format(len(df)))\n",
    "df = df[df['refNum'].isin(validRefereeNumbers)]\n",
    "print(\"Number entries in dataframe after : {}\".format(len(df)))\n",
    "\n",
    "totalNbReferees = len(uniqueRefereeNumbers)"
   ]
  },
  {
   "cell_type": "markdown",
   "metadata": {},
   "source": [
    "We check that we now have zero referees arbitraging less than 22 players."
   ]
  },
  {
   "cell_type": "code",
   "execution_count": 383,
   "metadata": {
    "collapsed": false,
    "scrolled": true
   },
   "outputs": [
    {
     "name": "stdout",
     "output_type": "stream",
     "text": [
      "There are 0 referees with less than 22 players.\n"
     ]
    }
   ],
   "source": [
    "playersPerReferee = df.groupby(['refNum']).player.count()\n",
    "numberWrongReferees = (playersPerReferee < 22).sum()\n",
    "print(\"There are {} referees with less than 22 players.\".format(numberWrongReferees))"
   ]
  },
  {
   "cell_type": "markdown",
   "metadata": {},
   "source": [
    "We continue by looking at the distribution of the games arbitraged by referee."
   ]
  },
  {
   "cell_type": "code",
   "execution_count": 384,
   "metadata": {
    "collapsed": true
   },
   "outputs": [],
   "source": [
    "gamesPerReferee = df.groupby(['refNum']).games.sum()"
   ]
  },
  {
   "cell_type": "code",
   "execution_count": 385,
   "metadata": {
    "collapsed": false
   },
   "outputs": [
    {
     "data": {
      "text/plain": [
       "<matplotlib.text.Text at 0x7fc7085527f0>"
      ]
     },
     "execution_count": 385,
     "metadata": {},
     "output_type": "execute_result"
    },
    {
     "data": {
      "image/png": "[encoded data removed]",
      "text/plain": [
       "<matplotlib.figure.Figure at 0x7fc6f0c58a58>"
      ]
     },
     "metadata": {},
     "output_type": "display_data"
    }
   ],
   "source": [
    "fig, axes = plt.subplots(nrows=1, ncols=2, figsize=(12, 4))\n",
    "axes[0].hist(gamesPerReferee, bins=max(gamesPerReferee), histtype = 'stepfilled')\n",
    "axes[0].set_xlabel('Number of games')\n",
    "axes[0].set_ylabel('# Referees')\n",
    "\n",
    "axes[1].hist(gamesPerReferee, bins=max(gamesPerReferee), histtype = 'stepfilled')\n",
    "axes[1].set_title(\"Log scaled\")\n",
    "axes[1].set_yscale('symlog')\n",
    "axes[1].set_xlabel('Number of games')\n",
    "axes[1].set_ylabel('Log of # Referees')\n",
    "\n"
   ]
  },
  {
   "cell_type": "markdown",
   "metadata": {},
   "source": [
    "We see, more clearly from the log-scaled histogram, that there are many referees that have refereed a little number of games."
   ]
  },
  {
   "cell_type": "markdown",
   "metadata": {},
   "source": [
    "Let's take a different point of view and look at the distribution of encounters between the same player and the same referee."
   ]
  },
  {
   "cell_type": "code",
   "execution_count": 386,
   "metadata": {
    "collapsed": false
   },
   "outputs": [],
   "source": [
    "gamesPerRefereeAndPlayer = df.groupby(['refNum', 'player']).games.sum()\n",
    "\n",
    "#gamesPerRefereeAndPlayer.value_counts()"
   ]
  },
  {
   "cell_type": "code",
   "execution_count": 387,
   "metadata": {
    "collapsed": false
   },
   "outputs": [
    {
     "data": {
      "text/plain": [
       "<matplotlib.text.Text at 0x7fc7085df160>"
      ]
     },
     "execution_count": 387,
     "metadata": {},
     "output_type": "execute_result"
    },
    {
     "data": {
      "image/png": "[encoded data removed]",
      "text/plain": [
       "<matplotlib.figure.Figure at 0x7fc7081b6978>"
      ]
     },
     "metadata": {},
     "output_type": "display_data"
    }
   ],
   "source": [
    "fig, axes = plt.subplots(nrows=1, ncols=2, figsize=(12, 4))\n",
    "axes[0].hist(gamesPerRefereeAndPlayer, bins=max(gamesPerRefereeAndPlayer), histtype = 'stepfilled')\n",
    "axes[0].set_xlabel('Number of games')\n",
    "axes[0].set_ylabel('# Referees')\n",
    "\n",
    "axes[1].hist(gamesPerRefereeAndPlayer, bins=max(gamesPerRefereeAndPlayer), histtype = 'stepfilled')\n",
    "axes[1].set_title(\"Log scaled\")\n",
    "axes[1].set_yscale('symlog')\n",
    "axes[1].set_xlabel('Number of games (with same referee and player)')\n",
    "axes[1].set_ylabel('Log of # Referees')"
   ]
  },
  {
   "cell_type": "markdown",
   "metadata": {},
   "source": [
    "We conclude that the distribution is skewed and we must take this into account during the analysis. We have a power-law distribution (correct ???)"
   ]
  },
  {
   "cell_type": "markdown",
   "metadata": {},
   "source": [
    "Who are the players corresponding to many encounters above? They are all well known (mostly German) players."
   ]
  },
  {
   "cell_type": "code",
   "execution_count": 388,
   "metadata": {
    "collapsed": false
   },
   "outputs": [
    {
     "data": {
      "text/plain": [
       "refNum  player                \n",
       "933     Bastian Schweinsteiger    46\n",
       "        Philipp Lahm              47\n",
       "1095    Paul Scholes              44\n",
       "1214    Michael Carrick           42\n",
       "        Wayne Rooney              41\n",
       "1909    Mark Schwarzer            40\n",
       "2080    Ashley Cole               40\n",
       "        Frank Lampard             44\n",
       "        James Milner              41\n",
       "        John Terry                41\n",
       "2902    Bastian Schweinsteiger    41\n",
       "        Philipp Lahm              40\n",
       "Name: games, dtype: int64"
      ]
     },
     "execution_count": 388,
     "metadata": {},
     "output_type": "execute_result"
    }
   ],
   "source": [
    "gamesPerRefereeAndPlayer[gamesPerRefereeAndPlayer >= 40]"
   ]
  },
  {
   "cell_type": "markdown",
   "metadata": {},
   "source": [
    "We repeated the same for a few other features, but we didn't find anything interesting (e.g. for the number of games per referee)."
   ]
  },
  {
   "cell_type": "markdown",
   "metadata": {},
   "source": [
    "# Looking at the Countries"
   ]
  },
  {
   "cell_type": "code",
   "execution_count": 389,
   "metadata": {
    "collapsed": false
   },
   "outputs": [
    {
     "name": "stdout",
     "output_type": "stream",
     "text": [
      "There are 100 nationalities.\n"
     ]
    }
   ],
   "source": [
    "print(\"There are {} nationalities.\".format(len(df.Alpha_3.value_counts())))"
   ]
  },
  {
   "cell_type": "markdown",
   "metadata": {},
   "source": [
    "This seems strange, there must be less nationalities."
   ]
  },
  {
   "cell_type": "code",
   "execution_count": 390,
   "metadata": {
    "collapsed": false
   },
   "outputs": [
    {
     "name": "stdout",
     "output_type": "stream",
     "text": [
      "At least 0 games were refereed by 100 countries\n",
      "At least 1 games were refereed by 100 countries\n",
      "At least 2 games were refereed by 100 countries\n",
      "At least 3 games were refereed by 100 countries\n",
      "At least 4 games were refereed by 100 countries\n",
      "At least 5 games were refereed by 100 countries\n",
      "At least 6 games were refereed by 100 countries\n",
      "At least 7 games were refereed by 100 countries\n",
      "At least 8 games were refereed by 100 countries\n",
      "At least 9 games were refereed by 100 countries\n",
      "At least 10 games were refereed by 100 countries\n",
      "At least 11 games were refereed by 100 countries\n",
      "At least 12 games were refereed by 100 countries\n",
      "At least 13 games were refereed by 100 countries\n",
      "At least 14 games were refereed by 100 countries\n",
      "At least 15 games were refereed by 100 countries\n",
      "At least 16 games were refereed by 100 countries\n",
      "At least 17 games were refereed by 100 countries\n",
      "At least 18 games were refereed by 100 countries\n",
      "At least 19 games were refereed by 100 countries\n"
     ]
    }
   ],
   "source": [
    "gamesPerNationality = df.groupby(['Alpha_3']).games.sum()\n",
    "for minNbGames in range(0,20):\n",
    "    nbCountriesMatching = (gamesPerNationality >= minNbGames).sum()\n",
    "    print(\"At least {} games were refereed by {} countries\".format(minNbGames, nbCountriesMatching))"
   ]
  },
  {
   "cell_type": "markdown",
   "metadata": {},
   "source": [
    "In the exploratory data analysis by the experts, they actually realized with this step that the entire player's history is included. But we see that we have no problem here."
   ]
  },
  {
   "cell_type": "markdown",
   "metadata": {},
   "source": [
    "We see that the players that were refereed by referees from very rare nationalities now mainly play in the top four league countries. The same is true if we look at all referees from a country represented at least twice and get the same result. This hence corresponds to the case where the player played in its home country in its early career and was then transferred to one of the top leagues once his talent was discovered."
   ]
  },
  {
   "cell_type": "code",
   "execution_count": 391,
   "metadata": {
    "collapsed": false
   },
   "outputs": [
    {
     "data": {
      "text/plain": [
       "<matplotlib.text.Text at 0x7fc708960080>"
      ]
     },
     "execution_count": 391,
     "metadata": {},
     "output_type": "execute_result"
    },
    {
     "data": {
      "image/png": "[encoded data removed]",
      "text/plain": [
       "<matplotlib.figure.Figure at 0x7fc6e2215128>"
      ]
     },
     "metadata": {},
     "output_type": "display_data"
    }
   ],
   "source": [
    "fig, axes = plt.subplots(nrows=1, ncols=2, figsize=(12, 4))\n",
    "gamesPerNationality.plot.bar(ax = axes[0])\n",
    "axes[0].set_xlabel('Country')\n",
    "axes[1].set_ylabel('')\n",
    "\n",
    "axes[1].hist(gamesPerNationality, bins=max(gamesPerNationality), histtype = 'stepfilled')\n",
    "axes[1].set_title(\"Log scaled\")\n",
    "axes[1].set_yscale('symlog')\n",
    "axes[1].set_xlabel('Nationality (country id)')\n",
    "axes[1].set_ylabel('Log of # games')"
   ]
  },
  {
   "cell_type": "markdown",
   "metadata": {},
   "source": [
    "So, the distribution is also very skewed, there is hardly any data for all countries except for the four most important countries."
   ]
  },
  {
   "cell_type": "markdown",
   "metadata": {},
   "source": [
    "# Skinrating"
   ]
  },
  {
   "cell_type": "markdown",
   "metadata": {},
   "source": [
    "It is important to look at the skinrating because that is the variable that we want to predict in the end."
   ]
  },
  {
   "cell_type": "markdown",
   "metadata": {},
   "source": [
    "By the way, we drop all players for which we have no skin color because they have no predictive power."
   ]
  },
  {
   "cell_type": "code",
   "execution_count": 392,
   "metadata": {
    "collapsed": false
   },
   "outputs": [
    {
     "name": "stdout",
     "output_type": "stream",
     "text": [
      "133501\n",
      "113862\n"
     ]
    }
   ],
   "source": [
    "df2=df.dropna(subset=['rater1', 'rater2'], how='any')\n",
    "print(len(df))\n",
    "print(len(df2))\n",
    "df = df2"
   ]
  },
  {
   "cell_type": "code",
   "execution_count": 393,
   "metadata": {
    "collapsed": false
   },
   "outputs": [
    {
     "data": {
      "text/html": [
       "<div>\n",
       "<table border=\"1\" class=\"dataframe\">\n",
       "  <thead>\n",
       "    <tr style=\"text-align: right;\">\n",
       "      <th></th>\n",
       "      <th>playerShort</th>\n",
       "      <th>player</th>\n",
       "      <th>club</th>\n",
       "      <th>leagueCountry</th>\n",
       "      <th>birthday</th>\n",
       "      <th>height</th>\n",
       "      <th>weight</th>\n",
       "      <th>position</th>\n",
       "      <th>games</th>\n",
       "      <th>victories</th>\n",
       "      <th>...</th>\n",
       "      <th>rater2</th>\n",
       "      <th>refNum</th>\n",
       "      <th>refCountry</th>\n",
       "      <th>Alpha_3</th>\n",
       "      <th>meanIAT</th>\n",
       "      <th>nIAT</th>\n",
       "      <th>seIAT</th>\n",
       "      <th>meanExp</th>\n",
       "      <th>nExp</th>\n",
       "      <th>seExp</th>\n",
       "    </tr>\n",
       "  </thead>\n",
       "  <tbody>\n",
       "    <tr>\n",
       "      <th>5</th>\n",
       "      <td>aaron-hughes</td>\n",
       "      <td>Aaron Hughes</td>\n",
       "      <td>Fulham FC</td>\n",
       "      <td>England</td>\n",
       "      <td>08.11.1979</td>\n",
       "      <td>182.0</td>\n",
       "      <td>71.0</td>\n",
       "      <td>Center Back</td>\n",
       "      <td>1</td>\n",
       "      <td>0</td>\n",
       "      <td>...</td>\n",
       "      <td>0.0</td>\n",
       "      <td>4</td>\n",
       "      <td>4</td>\n",
       "      <td>LUX</td>\n",
       "      <td>0.325185</td>\n",
       "      <td>127.0</td>\n",
       "      <td>0.003297</td>\n",
       "      <td>0.538462</td>\n",
       "      <td>130.0</td>\n",
       "      <td>0.013752</td>\n",
       "    </tr>\n",
       "  </tbody>\n",
       "</table>\n",
       "<p>1 rows × 28 columns</p>\n",
       "</div>"
      ],
      "text/plain": [
       "    playerShort        player       club leagueCountry    birthday  height  \\\n",
       "5  aaron-hughes  Aaron Hughes  Fulham FC       England  08.11.1979   182.0   \n",
       "\n",
       "   weight     position  games  victories    ...     rater2  refNum  \\\n",
       "5    71.0  Center Back      1          0    ...        0.0       4   \n",
       "\n",
       "   refCountry  Alpha_3   meanIAT   nIAT     seIAT   meanExp   nExp     seExp  \n",
       "5           4      LUX  0.325185  127.0  0.003297  0.538462  130.0  0.013752  \n",
       "\n",
       "[1 rows x 28 columns]"
      ]
     },
     "execution_count": 393,
     "metadata": {},
     "output_type": "execute_result"
    }
   ],
   "source": [
    "df.head(1)"
   ]
  },
  {
   "cell_type": "code",
   "execution_count": 394,
   "metadata": {
    "collapsed": false
   },
   "outputs": [
    {
     "data": {
      "text/plain": [
       "Index(['playerShort', 'player', 'club', 'leagueCountry', 'birthday', 'height',\n",
       "       'weight', 'position', 'games', 'victories', 'ties', 'defeats', 'goals',\n",
       "       'yellowCards', 'yellowReds', 'redCards', 'photoID', 'rater1', 'rater2',\n",
       "       'refNum', 'refCountry', 'Alpha_3', 'meanIAT', 'nIAT', 'seIAT',\n",
       "       'meanExp', 'nExp', 'seExp'],\n",
       "      dtype='object')"
      ]
     },
     "execution_count": 394,
     "metadata": {},
     "output_type": "execute_result"
    }
   ],
   "source": [
    "df.columns"
   ]
  },
  {
   "cell_type": "code",
   "execution_count": 395,
   "metadata": {
    "collapsed": false
   },
   "outputs": [
    {
     "data": {
      "text/plain": [
       "26418"
      ]
     },
     "execution_count": 395,
     "metadata": {},
     "output_type": "execute_result"
    }
   ],
   "source": [
    "(df.rater1 != df.rater2).sum()"
   ]
  },
  {
   "cell_type": "code",
   "execution_count": 396,
   "metadata": {
    "collapsed": false
   },
   "outputs": [
    {
     "name": "stderr",
     "output_type": "stream",
     "text": [
      "/home/maximilian/anaconda3/lib/python3.5/site-packages/ipykernel/__main__.py:3: SettingWithCopyWarning: \n",
      "A value is trying to be set on a copy of a slice from a DataFrame.\n",
      "Try using .loc[row_indexer,col_indexer] = value instead\n",
      "\n",
      "See the caveats in the documentation: http://pandas.pydata.org/pandas-docs/stable/indexing.html#indexing-view-versus-copy\n",
      "  app.launch_new_instance()\n",
      "/home/maximilian/anaconda3/lib/python3.5/site-packages/ipykernel/__main__.py:4: SettingWithCopyWarning: \n",
      "A value is trying to be set on a copy of a slice from a DataFrame.\n",
      "Try using .loc[row_indexer,col_indexer] = value instead\n",
      "\n",
      "See the caveats in the documentation: http://pandas.pydata.org/pandas-docs/stable/indexing.html#indexing-view-versus-copy\n"
     ]
    }
   ],
   "source": [
    "ratingsDf = df[['rater1', 'rater2']]\n",
    "#ratingsDf['avgRate'] = (ratingsDf['rater1'] + ratingsDf['rater2']) / 2\n",
    "ratingsDf['avgRate'] = (ratingsDf['rater1'] + ratingsDf['rater2']) / 2\n",
    "ratingsDf['diffRate12'] = ratingsDf['rater1'] - ratingsDf['rater2']"
   ]
  },
  {
   "cell_type": "code",
   "execution_count": 397,
   "metadata": {
    "collapsed": false
   },
   "outputs": [
    {
     "data": {
      "text/plain": [
       "<matplotlib.axes._subplots.AxesSubplot at 0x7fc7085ccb38>"
      ]
     },
     "execution_count": 397,
     "metadata": {},
     "output_type": "execute_result"
    },
    {
     "data": {
      "image/png": "[encoded data removed]",
      "text/plain": [
       "<matplotlib.figure.Figure at 0x7fc708795a58>"
      ]
     },
     "metadata": {},
     "output_type": "display_data"
    }
   ],
   "source": [
    "fig, axes = plt.subplots(nrows=2, ncols=2, figsize=(12, 4))\n",
    "\n",
    "ratingsDf[['rater1']].plot.hist(ax=axes[0][0])\n",
    "ratingsDf[['rater2']].plot.hist(ax=axes[0][1])\n",
    "ratingsDf[['avgRate']].plot.hist(ax=axes[1][0])\n",
    "ratingsDf[['diffRate12']].plot.hist(ax=axes[1][1])"
   ]
  },
  {
   "cell_type": "markdown",
   "metadata": {},
   "source": [
    "We see there are still a lot of disagreements. Let us look at the correlation matrix."
   ]
  },
  {
   "cell_type": "code",
   "execution_count": 398,
   "metadata": {
    "collapsed": false
   },
   "outputs": [
    {
     "data": {
      "text/html": [
       "<div>\n",
       "<table border=\"1\" class=\"dataframe\">\n",
       "  <thead>\n",
       "    <tr style=\"text-align: right;\">\n",
       "      <th></th>\n",
       "      <th>rater1</th>\n",
       "      <th>rater2</th>\n",
       "      <th>avgRate</th>\n",
       "      <th>diffRate12</th>\n",
       "    </tr>\n",
       "  </thead>\n",
       "  <tbody>\n",
       "    <tr>\n",
       "      <th>rater1</th>\n",
       "      <td>1.000000</td>\n",
       "      <td>0.923161</td>\n",
       "      <td>0.980769</td>\n",
       "      <td>0.216897</td>\n",
       "    </tr>\n",
       "    <tr>\n",
       "      <th>rater2</th>\n",
       "      <td>0.923161</td>\n",
       "      <td>1.000000</td>\n",
       "      <td>0.980435</td>\n",
       "      <td>-0.175031</td>\n",
       "    </tr>\n",
       "    <tr>\n",
       "      <th>avgRate</th>\n",
       "      <td>0.980769</td>\n",
       "      <td>0.980435</td>\n",
       "      <td>1.000000</td>\n",
       "      <td>0.022200</td>\n",
       "    </tr>\n",
       "    <tr>\n",
       "      <th>diffRate12</th>\n",
       "      <td>0.216897</td>\n",
       "      <td>-0.175031</td>\n",
       "      <td>0.022200</td>\n",
       "      <td>1.000000</td>\n",
       "    </tr>\n",
       "  </tbody>\n",
       "</table>\n",
       "</div>"
      ],
      "text/plain": [
       "              rater1    rater2   avgRate  diffRate12\n",
       "rater1      1.000000  0.923161  0.980769    0.216897\n",
       "rater2      0.923161  1.000000  0.980435   -0.175031\n",
       "avgRate     0.980769  0.980435  1.000000    0.022200\n",
       "diffRate12  0.216897 -0.175031  0.022200    1.000000"
      ]
     },
     "execution_count": 398,
     "metadata": {},
     "output_type": "execute_result"
    }
   ],
   "source": [
    "ratingsDf.corr()"
   ]
  },
  {
   "cell_type": "markdown",
   "metadata": {},
   "source": [
    "# Difference between Alpha_3 and refCountry field"
   ]
  },
  {
   "cell_type": "code",
   "execution_count": 399,
   "metadata": {
    "collapsed": false
   },
   "outputs": [
    {
     "name": "stdout",
     "output_type": "stream",
     "text": [
      "True\n"
     ]
    },
    {
     "name": "stderr",
     "output_type": "stream",
     "text": [
      "/home/maximilian/anaconda3/lib/python3.5/site-packages/ipykernel/__main__.py:13: SettingWithCopyWarning: \n",
      "A value is trying to be set on a copy of a slice from a DataFrame.\n",
      "Try using .loc[row_indexer,col_indexer] = value instead\n",
      "\n",
      "See the caveats in the documentation: http://pandas.pydata.org/pandas-docs/stable/indexing.html#indexing-view-versus-copy\n"
     ]
    }
   ],
   "source": [
    "uniqueCountryNames = pd.unique(df.Alpha_3)\n",
    "uniqueCountryIds = pd.unique(df.refCountry)\n",
    "print(len(uniqueCountryIds) == len(uniqueCountryNames))\n",
    "mapIdsToNames = {}\n",
    "for (country_name, country_id) in zip(uniqueCountryNames, uniqueCountryIds):\n",
    "    mapIdsToNames[country_id] = country_name\n",
    "    \n",
    "#mapIdsToNames[df.Alpha_3]\n",
    "idsToNamesDataFrame = pd.DataFrame.from_dict(mapIdsToNames, orient='index')\n",
    "idsToNamesDataFrame#[df.Alpha_3]\n",
    "\n",
    "dfCountriesMapped = df[['Alpha_3', 'refCountry']]\n",
    "dfCountriesMapped['IndexToCountry'] = list(map(lambda id_: mapIdsToNames[id_], df.refCountry))"
   ]
  },
  {
   "cell_type": "code",
   "execution_count": 400,
   "metadata": {
    "collapsed": false
   },
   "outputs": [
    {
     "data": {
      "text/html": [
       "<div>\n",
       "<table border=\"1\" class=\"dataframe\">\n",
       "  <thead>\n",
       "    <tr style=\"text-align: right;\">\n",
       "      <th></th>\n",
       "      <th>Alpha_3</th>\n",
       "      <th>refCountry</th>\n",
       "      <th>IndexToCountry</th>\n",
       "    </tr>\n",
       "  </thead>\n",
       "  <tbody>\n",
       "    <tr>\n",
       "      <th>5</th>\n",
       "      <td>LUX</td>\n",
       "      <td>4</td>\n",
       "      <td>LUX</td>\n",
       "    </tr>\n",
       "    <tr>\n",
       "      <th>6</th>\n",
       "      <td>LUX</td>\n",
       "      <td>4</td>\n",
       "      <td>LUX</td>\n",
       "    </tr>\n",
       "    <tr>\n",
       "      <th>7</th>\n",
       "      <td>LUX</td>\n",
       "      <td>4</td>\n",
       "      <td>LUX</td>\n",
       "    </tr>\n",
       "    <tr>\n",
       "      <th>8</th>\n",
       "      <td>LUX</td>\n",
       "      <td>4</td>\n",
       "      <td>LUX</td>\n",
       "    </tr>\n",
       "  </tbody>\n",
       "</table>\n",
       "</div>"
      ],
      "text/plain": [
       "  Alpha_3  refCountry IndexToCountry\n",
       "5     LUX           4            LUX\n",
       "6     LUX           4            LUX\n",
       "7     LUX           4            LUX\n",
       "8     LUX           4            LUX"
      ]
     },
     "execution_count": 400,
     "metadata": {},
     "output_type": "execute_result"
    }
   ],
   "source": [
    "dfCountriesMapped.head(4)\n",
    "#uniqueCountryNames\n",
    "#uniqueCountryIds"
   ]
  },
  {
   "cell_type": "markdown",
   "metadata": {},
   "source": [
    "We check that this field is redundant. Removing it will help the fitting because dependent features are bad for the algorithms."
   ]
  },
  {
   "cell_type": "code",
   "execution_count": 402,
   "metadata": {
    "collapsed": false
   },
   "outputs": [
    {
     "data": {
      "text/plain": [
       "True"
      ]
     },
     "execution_count": 402,
     "metadata": {},
     "output_type": "execute_result"
    }
   ],
   "source": [
    "bothColumnsAreTheSame = all(dfCountriesMapped.Alpha_3 == dfCountriesMapped.IndexToCountry)\n",
    "bothColumnsAreTheSame"
   ]
  },
  {
   "cell_type": "code",
   "execution_count": 403,
   "metadata": {
    "collapsed": false
   },
   "outputs": [],
   "source": [
    "df_old = df # to avoid rerunning whole script if error was done\n",
    "df = df.drop(['refCountry'], axis=1)"
   ]
  },
  {
   "cell_type": "markdown",
   "metadata": {},
   "source": [
    "# Replacing some NaN values"
   ]
  },
  {
   "cell_type": "code",
   "execution_count": 425,
   "metadata": {
    "collapsed": false
   },
   "outputs": [
    {
     "data": {
      "text/html": [
       "<div>\n",
       "<table border=\"1\" class=\"dataframe\">\n",
       "  <thead>\n",
       "    <tr style=\"text-align: right;\">\n",
       "      <th></th>\n",
       "      <th>meanIAT</th>\n",
       "      <th>nIAT</th>\n",
       "      <th>seIAT</th>\n",
       "    </tr>\n",
       "    <tr>\n",
       "      <th>Alpha_3</th>\n",
       "      <th></th>\n",
       "      <th></th>\n",
       "      <th></th>\n",
       "    </tr>\n",
       "  </thead>\n",
       "  <tbody>\n",
       "    <tr>\n",
       "      <th>AGO</th>\n",
       "      <td>0.235563</td>\n",
       "      <td>197.0</td>\n",
       "      <td>0.002613</td>\n",
       "    </tr>\n",
       "    <tr>\n",
       "      <th>ALB</th>\n",
       "      <td>0.301278</td>\n",
       "      <td>794.0</td>\n",
       "      <td>0.000580</td>\n",
       "    </tr>\n",
       "    <tr>\n",
       "      <th>ARE</th>\n",
       "      <td>0.349778</td>\n",
       "      <td>831.0</td>\n",
       "      <td>0.000504</td>\n",
       "    </tr>\n",
       "  </tbody>\n",
       "</table>\n",
       "</div>"
      ],
      "text/plain": [
       "          meanIAT   nIAT     seIAT\n",
       "Alpha_3                           \n",
       "AGO      0.235563  197.0  0.002613\n",
       "ALB      0.301278  794.0  0.000580\n",
       "ARE      0.349778  831.0  0.000504"
      ]
     },
     "execution_count": 425,
     "metadata": {},
     "output_type": "execute_result"
    }
   ],
   "source": [
    "def getNonNanValue(valuesSeries):\n",
    "    valuesSeries = valuesSeries.dropna()\n",
    "    if len(valuesSeries) == 0:\n",
    "        return np.NAN\n",
    "    if not all(valuesSeries.values[0] == valuesSeries.values):\n",
    "        print(\"error\")\n",
    "        \n",
    "    return valuesSeries.values[0]\n",
    "    \n",
    "IATScores = df.groupby(['Alpha_3'])['meanIAT', 'nIAT', 'seIAT'].agg(getNonNanValue)\n",
    "IATScores.head(3)"
   ]
  },
  {
   "cell_type": "markdown",
   "metadata": {},
   "source": [
    "Let's see for which values we still have no IAT scores."
   ]
  },
  {
   "cell_type": "code",
   "execution_count": 422,
   "metadata": {
    "collapsed": false
   },
   "outputs": [
    {
     "data": {
      "text/html": [
       "<div>\n",
       "<table border=\"1\" class=\"dataframe\">\n",
       "  <thead>\n",
       "    <tr style=\"text-align: right;\">\n",
       "      <th></th>\n",
       "      <th>meanIAT</th>\n",
       "      <th>nIAT</th>\n",
       "      <th>seIAT</th>\n",
       "    </tr>\n",
       "    <tr>\n",
       "      <th>Alpha_3</th>\n",
       "      <th></th>\n",
       "      <th></th>\n",
       "      <th></th>\n",
       "    </tr>\n",
       "  </thead>\n",
       "  <tbody>\n",
       "    <tr>\n",
       "      <th>Mali</th>\n",
       "      <td>NaN</td>\n",
       "      <td>NaN</td>\n",
       "      <td>NaN</td>\n",
       "    </tr>\n",
       "    <tr>\n",
       "      <th>QAT</th>\n",
       "      <td>NaN</td>\n",
       "      <td>NaN</td>\n",
       "      <td>NaN</td>\n",
       "    </tr>\n",
       "  </tbody>\n",
       "</table>\n",
       "</div>"
      ],
      "text/plain": [
       "         meanIAT  nIAT  seIAT\n",
       "Alpha_3                      \n",
       "Mali         NaN   NaN    NaN\n",
       "QAT          NaN   NaN    NaN"
      ]
     },
     "execution_count": 422,
     "metadata": {},
     "output_type": "execute_result"
    }
   ],
   "source": [
    "IATScores[IATScores.isnull().any(axis=1)]"
   ]
  },
  {
   "cell_type": "code",
   "execution_count": 449,
   "metadata": {
    "collapsed": false
   },
   "outputs": [
    {
     "name": "stdout",
     "output_type": "stream",
     "text": [
      "meanIAT    110\n",
      "nIAT       110\n",
      "seIAT      110\n",
      "dtype: int64\n",
      "meanIAT    110\n",
      "nIAT       110\n",
      "seIAT      110\n",
      "dtype: int64\n"
     ]
    }
   ],
   "source": [
    "dfDropped = df.drop(['meanIAT', 'nIAT', 'seIAT'], axis=1)\n",
    "dfImproved = dfDropped.merge(IATScores, left_on='Alpha_3', right_index=True)\n",
    "\n",
    "print(df[['meanIAT', 'nIAT', 'seIAT']].isnull().sum(axis=0))\n",
    "print(dfImproved[['meanIAT', 'nIAT', 'seIAT']].isnull().sum(axis=0))"
   ]
  },
  {
   "cell_type": "markdown",
   "metadata": {},
   "source": [
    "We see that there is no improvement, we could have seen this from the beginning (110 is very small compared to the total number of data).\n",
    "\n",
    "We now look at the weight."
   ]
  },
  {
   "cell_type": "code",
   "execution_count": 462,
   "metadata": {
    "collapsed": false
   },
   "outputs": [
    {
     "name": "stdout",
     "output_type": "stream",
     "text": [
      "<class 'pandas.core.series.Series'>\n"
     ]
    },
    {
     "ename": "AttributeError",
     "evalue": "'int' object has no attribute 'values'",
     "output_type": "error",
     "traceback": [
      "\u001b[1;31m---------------------------------------------------------------------------\u001b[0m",
      "\u001b[1;31mAttributeError\u001b[0m                            Traceback (most recent call last)",
      "\u001b[1;32m<ipython-input-462-34a4e47f7dfc>\u001b[0m in \u001b[0;36m<module>\u001b[1;34m()\u001b[0m\n\u001b[0;32m      3\u001b[0m \u001b[1;33m\u001b[0m\u001b[0m\n\u001b[0;32m      4\u001b[0m \u001b[0mprint\u001b[0m\u001b[1;33m(\u001b[0m\u001b[0mtype\u001b[0m\u001b[1;33m(\u001b[0m\u001b[0mnanWeights\u001b[0m\u001b[1;33m)\u001b[0m\u001b[1;33m)\u001b[0m\u001b[1;33m\u001b[0m\u001b[0m\n\u001b[1;32m----> 5\u001b[1;33m \u001b[0mprint\u001b[0m\u001b[1;33m(\u001b[0m\u001b[1;34m\"There are {} NaN entries and {} non-NaN entries.\"\u001b[0m\u001b[1;33m.\u001b[0m\u001b[0mformat\u001b[0m\u001b[1;33m(\u001b[0m\u001b[0mnanWeights\u001b[0m\u001b[1;33m.\u001b[0m\u001b[0mvalues\u001b[0m\u001b[1;33m,\u001b[0m \u001b[0mnonNanWeights\u001b[0m\u001b[1;33m.\u001b[0m\u001b[0mvalues\u001b[0m\u001b[1;33m)\u001b[0m\u001b[1;33m)\u001b[0m\u001b[1;33m\u001b[0m\u001b[0m\n\u001b[0m\u001b[0;32m      6\u001b[0m \u001b[1;33m\u001b[0m\u001b[0m\n\u001b[0;32m      7\u001b[0m \u001b[0mdf\u001b[0m\u001b[1;33m[\u001b[0m\u001b[0mnanWeights\u001b[0m\u001b[1;33m]\u001b[0m\u001b[1;33m\u001b[0m\u001b[0m\n",
      "\u001b[1;31mAttributeError\u001b[0m: 'int' object has no attribute 'values'"
     ]
    }
   ],
   "source": [
    "nanWeights = df[['weight']].isnull().sum(axis=0)\n",
    "nonNanWeights = df['weight'].count().sum(axis=0) # number of non-nan values\n",
    "\n",
    "print(type(nanWeights))\n",
    "print(\"There are {} NaN entries and {} non-NaN entries.\".format(nanWeights.values, nonNanWeights))\n",
    "\n",
    "df[nanWeights]"
   ]
  },
  {
   "cell_type": "markdown",
   "metadata": {},
   "source": [
    "# Exporting the Data"
   ]
  },
  {
   "cell_type": "markdown",
   "metadata": {},
   "source": [
    "We export the data so that we can use it in another notebook."
   ]
  },
  {
   "cell_type": "code",
   "execution_count": 371,
   "metadata": {
    "collapsed": true
   },
   "outputs": [],
   "source": [
    "df.to_csv('Data_Processed.csv', ',', index=False)"
   ]
  },
  {
   "cell_type": "code",
   "execution_count": null,
   "metadata": {
    "collapsed": true
   },
   "outputs": [],
   "source": []
  },
  {
   "cell_type": "code",
   "execution_count": null,
   "metadata": {
    "collapsed": true
   },
   "outputs": [],
   "source": []
  },
  {
   "cell_type": "markdown",
   "metadata": {},
   "source": [
    "# Stubs"
   ]
  },
  {
   "cell_type": "code",
   "execution_count": null,
   "metadata": {
    "collapsed": true
   },
   "outputs": [],
   "source": []
  },
  {
   "cell_type": "markdown",
   "metadata": {},
   "source": [
    "We see that there are a few countries which have only played a single game."
   ]
  },
  {
   "cell_type": "code",
   "execution_count": 208,
   "metadata": {
    "collapsed": false
   },
   "outputs": [
    {
     "data": {
      "text/plain": [
       "Alpha_3\n",
       "ABW         1\n",
       "AGO        43\n",
       "ALB        46\n",
       "ANT         2\n",
       "ARE       123\n",
       "ARG      3364\n",
       "ARM        52\n",
       "AUS       388\n",
       "AUT      2886\n",
       "AZE        74\n",
       "BDI        12\n",
       "BEL      5233\n",
       "BEN        66\n",
       "BFA        26\n",
       "BGD         4\n",
       "BGR       382\n",
       "BHR        71\n",
       "BIH        87\n",
       "BLR       222\n",
       "BOL       135\n",
       "BRA      1704\n",
       "BRB         8\n",
       "BWA         9\n",
       "CAF         1\n",
       "CAN       241\n",
       "CHE      3686\n",
       "CHL       913\n",
       "CHN       130\n",
       "CIV        81\n",
       "CMR       127\n",
       "         ... \n",
       "SLB         2\n",
       "SLV       217\n",
       "SMR        18\n",
       "SRB       731\n",
       "SUR        66\n",
       "SVK      1047\n",
       "SVN      1317\n",
       "SWE      2655\n",
       "SWZ         2\n",
       "SYC       149\n",
       "SYR        10\n",
       "TCD         4\n",
       "TGO        14\n",
       "THA        25\n",
       "TKM         1\n",
       "TTO        60\n",
       "TUN       375\n",
       "TUR      2596\n",
       "TZA         6\n",
       "UGA        29\n",
       "UKR       551\n",
       "URY       735\n",
       "USA       929\n",
       "UZB       248\n",
       "VEN       147\n",
       "VUT         2\n",
       "WALES     258\n",
       "ZAF       279\n",
       "ZMB        58\n",
       "ZWE        46\n",
       "Name: games, dtype: int64"
      ]
     },
     "execution_count": 208,
     "metadata": {},
     "output_type": "execute_result"
    }
   ],
   "source": [
    "gamesPerNationality"
   ]
  },
  {
   "cell_type": "code",
   "execution_count": 217,
   "metadata": {
    "collapsed": false
   },
   "outputs": [
    {
     "data": {
      "text/plain": [
       "Index(['ABW', 'CAF', 'IRQ', 'NPL', 'PRK', 'TKM'], dtype='object', name='Alpha_3')"
      ]
     },
     "execution_count": 217,
     "metadata": {},
     "output_type": "execute_result"
    }
   ],
   "source": [
    "fewGamesNationalities = (gamesPerNationality <= 1)\n",
    "fewGamesNationalities = fewGamesNationalities[fewGamesNationalities == True].index\n",
    "fewGamesNationalities"
   ]
  },
  {
   "cell_type": "code",
   "execution_count": 218,
   "metadata": {
    "collapsed": false,
    "scrolled": true
   },
   "outputs": [
    {
     "data": {
      "text/html": [
       "<div>\n",
       "<table border=\"1\" class=\"dataframe\">\n",
       "  <thead>\n",
       "    <tr style=\"text-align: right;\">\n",
       "      <th></th>\n",
       "      <th>playerShort</th>\n",
       "      <th>player</th>\n",
       "      <th>club</th>\n",
       "      <th>leagueCountry</th>\n",
       "      <th>birthday</th>\n",
       "      <th>height</th>\n",
       "      <th>weight</th>\n",
       "      <th>position</th>\n",
       "      <th>games</th>\n",
       "      <th>victories</th>\n",
       "      <th>...</th>\n",
       "      <th>rater2</th>\n",
       "      <th>refNum</th>\n",
       "      <th>refCountry</th>\n",
       "      <th>Alpha_3</th>\n",
       "      <th>meanIAT</th>\n",
       "      <th>nIAT</th>\n",
       "      <th>seIAT</th>\n",
       "      <th>meanExp</th>\n",
       "      <th>nExp</th>\n",
       "      <th>seExp</th>\n",
       "    </tr>\n",
       "  </thead>\n",
       "  <tbody>\n",
       "    <tr>\n",
       "      <th>82244</th>\n",
       "      <td>ali-al-habsi</td>\n",
       "      <td>Ali Al Habsi</td>\n",
       "      <td>Wigan Athletic</td>\n",
       "      <td>England</td>\n",
       "      <td>30.12.1981</td>\n",
       "      <td>194.0</td>\n",
       "      <td>88.0</td>\n",
       "      <td>Goalkeeper</td>\n",
       "      <td>1</td>\n",
       "      <td>0</td>\n",
       "      <td>...</td>\n",
       "      <td>NaN</td>\n",
       "      <td>1791</td>\n",
       "      <td>143</td>\n",
       "      <td>IRQ</td>\n",
       "      <td>0.296930</td>\n",
       "      <td>177.0</td>\n",
       "      <td>0.002269</td>\n",
       "      <td>0.345361</td>\n",
       "      <td>194.0</td>\n",
       "      <td>0.013683</td>\n",
       "    </tr>\n",
       "    <tr>\n",
       "      <th>82394</th>\n",
       "      <td>masoud-shojaei</td>\n",
       "      <td>Masoud Shojaei</td>\n",
       "      <td>CA Osasuna</td>\n",
       "      <td>Spain</td>\n",
       "      <td>09.06.1984</td>\n",
       "      <td>184.0</td>\n",
       "      <td>73.0</td>\n",
       "      <td>Attacking Midfielder</td>\n",
       "      <td>1</td>\n",
       "      <td>1</td>\n",
       "      <td>...</td>\n",
       "      <td>0.25</td>\n",
       "      <td>1801</td>\n",
       "      <td>144</td>\n",
       "      <td>TKM</td>\n",
       "      <td>0.416486</td>\n",
       "      <td>13.0</td>\n",
       "      <td>0.034018</td>\n",
       "      <td>-0.076923</td>\n",
       "      <td>13.0</td>\n",
       "      <td>0.091349</td>\n",
       "    </tr>\n",
       "    <tr>\n",
       "      <th>103419</th>\n",
       "      <td>atsuto-uchida</td>\n",
       "      <td>Atsuto Uchida</td>\n",
       "      <td>FC Schalke 04</td>\n",
       "      <td>Germany</td>\n",
       "      <td>27.03.1988</td>\n",
       "      <td>176.0</td>\n",
       "      <td>62.0</td>\n",
       "      <td>Right Fullback</td>\n",
       "      <td>1</td>\n",
       "      <td>1</td>\n",
       "      <td>...</td>\n",
       "      <td>0.00</td>\n",
       "      <td>2214</td>\n",
       "      <td>151</td>\n",
       "      <td>PRK</td>\n",
       "      <td>0.032314</td>\n",
       "      <td>10.0</td>\n",
       "      <td>0.061203</td>\n",
       "      <td>-0.888889</td>\n",
       "      <td>9.0</td>\n",
       "      <td>0.195982</td>\n",
       "    </tr>\n",
       "    <tr>\n",
       "      <th>122343</th>\n",
       "      <td>darwin-machis</td>\n",
       "      <td>Darwin Machís</td>\n",
       "      <td>Granada CF</td>\n",
       "      <td>Spain</td>\n",
       "      <td>07.02.1993</td>\n",
       "      <td>174.0</td>\n",
       "      <td>70.0</td>\n",
       "      <td>NaN</td>\n",
       "      <td>1</td>\n",
       "      <td>0</td>\n",
       "      <td>...</td>\n",
       "      <td>0.75</td>\n",
       "      <td>2599</td>\n",
       "      <td>155</td>\n",
       "      <td>ABW</td>\n",
       "      <td>0.222097</td>\n",
       "      <td>243.0</td>\n",
       "      <td>0.001978</td>\n",
       "      <td>-0.160338</td>\n",
       "      <td>237.0</td>\n",
       "      <td>0.013744</td>\n",
       "    </tr>\n",
       "    <tr>\n",
       "      <th>127741</th>\n",
       "      <td>barel-mouko</td>\n",
       "      <td>Barel Mouko</td>\n",
       "      <td>Lille OSC</td>\n",
       "      <td>France</td>\n",
       "      <td>05.04.1979</td>\n",
       "      <td>177.0</td>\n",
       "      <td>71.0</td>\n",
       "      <td>Goalkeeper</td>\n",
       "      <td>1</td>\n",
       "      <td>1</td>\n",
       "      <td>...</td>\n",
       "      <td>1.00</td>\n",
       "      <td>2737</td>\n",
       "      <td>159</td>\n",
       "      <td>CAF</td>\n",
       "      <td>0.318392</td>\n",
       "      <td>23.0</td>\n",
       "      <td>0.019218</td>\n",
       "      <td>-0.130435</td>\n",
       "      <td>23.0</td>\n",
       "      <td>0.147328</td>\n",
       "    </tr>\n",
       "    <tr>\n",
       "      <th>133319</th>\n",
       "      <td>stephan-schroeck</td>\n",
       "      <td>Stephan Schröck</td>\n",
       "      <td>1899 Hoffenheim</td>\n",
       "      <td>Germany</td>\n",
       "      <td>21.08.1986</td>\n",
       "      <td>170.0</td>\n",
       "      <td>68.0</td>\n",
       "      <td>Right Midfielder</td>\n",
       "      <td>1</td>\n",
       "      <td>0</td>\n",
       "      <td>...</td>\n",
       "      <td>0.25</td>\n",
       "      <td>2827</td>\n",
       "      <td>160</td>\n",
       "      <td>NPL</td>\n",
       "      <td>0.349965</td>\n",
       "      <td>90.0</td>\n",
       "      <td>0.004713</td>\n",
       "      <td>0.366337</td>\n",
       "      <td>101.0</td>\n",
       "      <td>0.015700</td>\n",
       "    </tr>\n",
       "  </tbody>\n",
       "</table>\n",
       "<p>6 rows × 28 columns</p>\n",
       "</div>"
      ],
      "text/plain": [
       "             playerShort           player             club leagueCountry  \\\n",
       "82244       ali-al-habsi     Ali Al Habsi   Wigan Athletic       England   \n",
       "82394     masoud-shojaei   Masoud Shojaei       CA Osasuna         Spain   \n",
       "103419     atsuto-uchida    Atsuto Uchida    FC Schalke 04       Germany   \n",
       "122343     darwin-machis    Darwin Machís       Granada CF         Spain   \n",
       "127741       barel-mouko      Barel Mouko        Lille OSC        France   \n",
       "133319  stephan-schroeck  Stephan Schröck  1899 Hoffenheim       Germany   \n",
       "\n",
       "          birthday  height  weight              position  games  victories  \\\n",
       "82244   30.12.1981   194.0    88.0            Goalkeeper      1          0   \n",
       "82394   09.06.1984   184.0    73.0  Attacking Midfielder      1          1   \n",
       "103419  27.03.1988   176.0    62.0        Right Fullback      1          1   \n",
       "122343  07.02.1993   174.0    70.0                   NaN      1          0   \n",
       "127741  05.04.1979   177.0    71.0            Goalkeeper      1          1   \n",
       "133319  21.08.1986   170.0    68.0      Right Midfielder      1          0   \n",
       "\n",
       "          ...     rater2  refNum  refCountry  Alpha_3   meanIAT   nIAT  \\\n",
       "82244     ...        NaN    1791         143      IRQ  0.296930  177.0   \n",
       "82394     ...       0.25    1801         144      TKM  0.416486   13.0   \n",
       "103419    ...       0.00    2214         151      PRK  0.032314   10.0   \n",
       "122343    ...       0.75    2599         155      ABW  0.222097  243.0   \n",
       "127741    ...       1.00    2737         159      CAF  0.318392   23.0   \n",
       "133319    ...       0.25    2827         160      NPL  0.349965   90.0   \n",
       "\n",
       "           seIAT   meanExp   nExp     seExp  \n",
       "82244   0.002269  0.345361  194.0  0.013683  \n",
       "82394   0.034018 -0.076923   13.0  0.091349  \n",
       "103419  0.061203 -0.888889    9.0  0.195982  \n",
       "122343  0.001978 -0.160338  237.0  0.013744  \n",
       "127741  0.019218 -0.130435   23.0  0.147328  \n",
       "133319  0.004713  0.366337  101.0  0.015700  \n",
       "\n",
       "[6 rows x 28 columns]"
      ]
     },
     "execution_count": 218,
     "metadata": {},
     "output_type": "execute_result"
    }
   ],
   "source": [
    "df[df['Alpha_3'].isin(fewGamesNationalities)]"
   ]
  }
 ],
 "metadata": {
  "anaconda-cloud": {},
  "kernelspec": {
   "display_name": "Python [Root]",
   "language": "python",
   "name": "Python [Root]"
  },
  "language_info": {
   "codemirror_mode": {
    "name": "ipython",
    "version": 3
   },
   "file_extension": ".py",
   "mimetype": "text/x-python",
   "name": "python",
   "nbconvert_exporter": "python",
   "pygments_lexer": "ipython3",
   "version": "3.5.2"
  }
 },
 "nbformat": 4,
 "nbformat_minor": 0
}
