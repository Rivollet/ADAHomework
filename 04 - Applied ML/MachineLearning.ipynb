{
 "cells": [
  {
   "cell_type": "markdown",
   "metadata": {},
   "source": [
    "# HW 4"
   ]
  },
  {
   "cell_type": "markdown",
   "metadata": {},
   "source": [
    "This is the main part of HW4."
   ]
  },
  {
   "cell_type": "markdown",
   "metadata": {},
   "source": [
    "We start with the usual imports."
   ]
  },
  {
   "cell_type": "code",
   "execution_count": 19,
   "metadata": {
    "collapsed": false
   },
   "outputs": [],
   "source": [
    "import pandas as pd                                     # for dealing with csv import\n",
    "import numpy as np                                      # arrays and other matlab like manipulation\n",
    "import os                                               # for joining paths and filenames sensibly\n",
    "import matplotlib.pyplot as plt                         # Matplotlib's pyplot: MATLAB-like syntax\n",
    "import scipy.stats.mstats as ssm                        # for bootstrap\n",
    "from scipy.stats import gaussian_kde as kde\n",
    "import random\n",
    "\n",
    "%matplotlib inline\n",
    "import seaborn as sns                                   # For pretty plots"
   ]
  },
  {
   "cell_type": "code",
   "execution_count": 20,
   "metadata": {
    "collapsed": false
   },
   "outputs": [],
   "source": [
    "filenameProcessed = 'Data_Processed.csv'\n",
    "df = pd.read_csv(filenameProcessed)"
   ]
  },
  {
   "cell_type": "code",
   "execution_count": 21,
   "metadata": {
    "collapsed": false
   },
   "outputs": [
    {
     "data": {
      "text/html": [
       "<div>\n",
       "<table border=\"1\" class=\"dataframe\">\n",
       "  <thead>\n",
       "    <tr style=\"text-align: right;\">\n",
       "      <th></th>\n",
       "      <th>playerShort</th>\n",
       "      <th>player</th>\n",
       "      <th>club</th>\n",
       "      <th>leagueCountry</th>\n",
       "      <th>birthday</th>\n",
       "      <th>height</th>\n",
       "      <th>weight</th>\n",
       "      <th>position</th>\n",
       "      <th>games</th>\n",
       "      <th>victories</th>\n",
       "      <th>...</th>\n",
       "      <th>rater1</th>\n",
       "      <th>rater2</th>\n",
       "      <th>refNum</th>\n",
       "      <th>Alpha_3</th>\n",
       "      <th>meanIAT</th>\n",
       "      <th>nIAT</th>\n",
       "      <th>seIAT</th>\n",
       "      <th>meanExp</th>\n",
       "      <th>nExp</th>\n",
       "      <th>seExp</th>\n",
       "    </tr>\n",
       "  </thead>\n",
       "  <tbody>\n",
       "    <tr>\n",
       "      <th>0</th>\n",
       "      <td>aaron-hughes</td>\n",
       "      <td>Aaron Hughes</td>\n",
       "      <td>Fulham FC</td>\n",
       "      <td>England</td>\n",
       "      <td>08.11.1979</td>\n",
       "      <td>182.0</td>\n",
       "      <td>71.0</td>\n",
       "      <td>Center Back</td>\n",
       "      <td>1</td>\n",
       "      <td>0</td>\n",
       "      <td>...</td>\n",
       "      <td>0.25</td>\n",
       "      <td>0.0</td>\n",
       "      <td>4</td>\n",
       "      <td>LUX</td>\n",
       "      <td>0.325185</td>\n",
       "      <td>127.0</td>\n",
       "      <td>0.003297</td>\n",
       "      <td>0.538462</td>\n",
       "      <td>130.0</td>\n",
       "      <td>0.013752</td>\n",
       "    </tr>\n",
       "  </tbody>\n",
       "</table>\n",
       "<p>1 rows × 27 columns</p>\n",
       "</div>"
      ],
      "text/plain": [
       "    playerShort        player       club leagueCountry    birthday  height  \\\n",
       "0  aaron-hughes  Aaron Hughes  Fulham FC       England  08.11.1979   182.0   \n",
       "\n",
       "   weight     position  games  victories    ...     rater1  rater2  refNum  \\\n",
       "0    71.0  Center Back      1          0    ...       0.25     0.0       4   \n",
       "\n",
       "   Alpha_3   meanIAT   nIAT     seIAT   meanExp   nExp     seExp  \n",
       "0      LUX  0.325185  127.0  0.003297  0.538462  130.0  0.013752  \n",
       "\n",
       "[1 rows x 27 columns]"
      ]
     },
     "execution_count": 21,
     "metadata": {},
     "output_type": "execute_result"
    }
   ],
   "source": [
    "df.head(1)"
   ]
  },
  {
   "cell_type": "code",
   "execution_count": 22,
   "metadata": {
    "collapsed": false
   },
   "outputs": [
    {
     "data": {
      "text/plain": [
       "Index(['playerShort', 'player', 'club', 'leagueCountry', 'birthday', 'height',\n",
       "       'weight', 'position', 'games', 'victories', 'ties', 'defeats', 'goals',\n",
       "       'yellowCards', 'yellowReds', 'redCards', 'photoID', 'rater1', 'rater2',\n",
       "       'refNum', 'Alpha_3', 'meanIAT', 'nIAT', 'seIAT', 'meanExp', 'nExp',\n",
       "       'seExp'],\n",
       "      dtype='object')"
      ]
     },
     "execution_count": 22,
     "metadata": {},
     "output_type": "execute_result"
    }
   ],
   "source": [
    "df.columns"
   ]
  },
  {
   "cell_type": "markdown",
   "metadata": {},
   "source": [
    "# Convert Columns to Float"
   ]
  },
  {
   "cell_type": "markdown",
   "metadata": {},
   "source": [
    "To use the random forest classifier (see below), we must convert all entries to floats. We chose not to do this in the dataprocessing because we want to be able to convert it back to the real categories. The classifier is robust to such categorical data transformation (i.e. we can assign numbers to categories without implying the meaning that one category is twice as important as another category (because the assigned integer is twice as large))."
   ]
  },
  {
   "cell_type": "code",
   "execution_count": 23,
   "metadata": {
    "collapsed": false
   },
   "outputs": [
    {
     "data": {
      "text/plain": [
       "array([   0,    1,    2, ..., 1569, 1570, 1571])"
      ]
     },
     "execution_count": 23,
     "metadata": {},
     "output_type": "execute_result"
    }
   ],
   "source": [
    "dfRealCategories = df\n",
    "categ = df['player'].astype('category')\n",
    "a = pd.unique(categ.cat.codes)\n",
    "a.sort()\n",
    "a"
   ]
  },
  {
   "cell_type": "code",
   "execution_count": null,
   "metadata": {
    "collapsed": false
   },
   "outputs": [],
   "source": []
  },
  {
   "cell_type": "code",
   "execution_count": 24,
   "metadata": {
    "collapsed": false
   },
   "outputs": [
    {
     "name": "stdout",
     "output_type": "stream",
     "text": [
      "playerShort\n",
      "player\n",
      "club\n",
      "leagueCountry\n",
      "birthday\n",
      "height\n",
      "weight\n",
      "position\n",
      "games\n",
      "victories\n",
      "ties\n",
      "defeats\n",
      "goals\n",
      "yellowCards\n",
      "yellowReds\n",
      "redCards\n",
      "photoID\n",
      "rater1\n",
      "rater2\n",
      "refNum\n",
      "Alpha_3\n",
      "meanIAT\n",
      "nIAT\n",
      "seIAT\n",
      "meanExp\n",
      "nExp\n",
      "seExp\n"
     ]
    }
   ],
   "source": [
    "for column_name in df.columns:\n",
    "    print(column_name)\n",
    "    if not (df[column_name].dtype in ['int64', 'float64']):\n",
    "        #print(\"num ))))))))))))))))))))))\")\n",
    "        df[column_name] = df[column_name].astype('category').cat.codes"
   ]
  },
  {
   "cell_type": "code",
   "execution_count": 25,
   "metadata": {
    "collapsed": false
   },
   "outputs": [
    {
     "data": {
      "text/html": [
       "<div>\n",
       "<table border=\"1\" class=\"dataframe\">\n",
       "  <thead>\n",
       "    <tr style=\"text-align: right;\">\n",
       "      <th></th>\n",
       "      <th>playerShort</th>\n",
       "      <th>player</th>\n",
       "      <th>club</th>\n",
       "      <th>leagueCountry</th>\n",
       "      <th>birthday</th>\n",
       "      <th>height</th>\n",
       "      <th>weight</th>\n",
       "      <th>position</th>\n",
       "      <th>games</th>\n",
       "      <th>victories</th>\n",
       "      <th>...</th>\n",
       "      <th>rater1</th>\n",
       "      <th>rater2</th>\n",
       "      <th>refNum</th>\n",
       "      <th>Alpha_3</th>\n",
       "      <th>meanIAT</th>\n",
       "      <th>nIAT</th>\n",
       "      <th>seIAT</th>\n",
       "      <th>meanExp</th>\n",
       "      <th>nExp</th>\n",
       "      <th>seExp</th>\n",
       "    </tr>\n",
       "  </thead>\n",
       "  <tbody>\n",
       "    <tr>\n",
       "      <th>47</th>\n",
       "      <td>488</td>\n",
       "      <td>737</td>\n",
       "      <td>58</td>\n",
       "      <td>1</td>\n",
       "      <td>270</td>\n",
       "      <td>179.0</td>\n",
       "      <td>NaN</td>\n",
       "      <td>-1</td>\n",
       "      <td>1</td>\n",
       "      <td>0</td>\n",
       "      <td>...</td>\n",
       "      <td>0.25</td>\n",
       "      <td>0.25</td>\n",
       "      <td>7</td>\n",
       "      <td>33</td>\n",
       "      <td>0.334684</td>\n",
       "      <td>2882.0</td>\n",
       "      <td>0.000151</td>\n",
       "      <td>0.336101</td>\n",
       "      <td>3011.0</td>\n",
       "      <td>0.000586</td>\n",
       "    </tr>\n",
       "    <tr>\n",
       "      <th>115</th>\n",
       "      <td>97</td>\n",
       "      <td>18</td>\n",
       "      <td>6</td>\n",
       "      <td>0</td>\n",
       "      <td>332</td>\n",
       "      <td>180.0</td>\n",
       "      <td>74.0</td>\n",
       "      <td>6</td>\n",
       "      <td>1</td>\n",
       "      <td>0</td>\n",
       "      <td>...</td>\n",
       "      <td>0.50</td>\n",
       "      <td>0.50</td>\n",
       "      <td>19</td>\n",
       "      <td>74</td>\n",
       "      <td>NaN</td>\n",
       "      <td>NaN</td>\n",
       "      <td>NaN</td>\n",
       "      <td>NaN</td>\n",
       "      <td>NaN</td>\n",
       "      <td>NaN</td>\n",
       "    </tr>\n",
       "    <tr>\n",
       "      <th>116</th>\n",
       "      <td>116</td>\n",
       "      <td>1564</td>\n",
       "      <td>66</td>\n",
       "      <td>3</td>\n",
       "      <td>609</td>\n",
       "      <td>180.0</td>\n",
       "      <td>70.0</td>\n",
       "      <td>8</td>\n",
       "      <td>1</td>\n",
       "      <td>1</td>\n",
       "      <td>...</td>\n",
       "      <td>0.25</td>\n",
       "      <td>0.25</td>\n",
       "      <td>19</td>\n",
       "      <td>74</td>\n",
       "      <td>NaN</td>\n",
       "      <td>NaN</td>\n",
       "      <td>NaN</td>\n",
       "      <td>NaN</td>\n",
       "      <td>NaN</td>\n",
       "      <td>NaN</td>\n",
       "    </tr>\n",
       "    <tr>\n",
       "      <th>117</th>\n",
       "      <td>150</td>\n",
       "      <td>497</td>\n",
       "      <td>34</td>\n",
       "      <td>0</td>\n",
       "      <td>209</td>\n",
       "      <td>181.0</td>\n",
       "      <td>74.0</td>\n",
       "      <td>8</td>\n",
       "      <td>1</td>\n",
       "      <td>1</td>\n",
       "      <td>...</td>\n",
       "      <td>0.50</td>\n",
       "      <td>0.50</td>\n",
       "      <td>19</td>\n",
       "      <td>74</td>\n",
       "      <td>NaN</td>\n",
       "      <td>NaN</td>\n",
       "      <td>NaN</td>\n",
       "      <td>NaN</td>\n",
       "      <td>NaN</td>\n",
       "      <td>NaN</td>\n",
       "    </tr>\n",
       "  </tbody>\n",
       "</table>\n",
       "<p>4 rows × 27 columns</p>\n",
       "</div>"
      ],
      "text/plain": [
       "     playerShort  player  club  leagueCountry  birthday  height  weight  \\\n",
       "47           488     737    58              1       270   179.0     NaN   \n",
       "115           97      18     6              0       332   180.0    74.0   \n",
       "116          116    1564    66              3       609   180.0    70.0   \n",
       "117          150     497    34              0       209   181.0    74.0   \n",
       "\n",
       "     position  games  victories    ...     rater1  rater2  refNum  Alpha_3  \\\n",
       "47         -1      1          0    ...       0.25    0.25       7       33   \n",
       "115         6      1          0    ...       0.50    0.50      19       74   \n",
       "116         8      1          1    ...       0.25    0.25      19       74   \n",
       "117         8      1          1    ...       0.50    0.50      19       74   \n",
       "\n",
       "      meanIAT    nIAT     seIAT   meanExp    nExp     seExp  \n",
       "47   0.334684  2882.0  0.000151  0.336101  3011.0  0.000586  \n",
       "115       NaN     NaN       NaN       NaN     NaN       NaN  \n",
       "116       NaN     NaN       NaN       NaN     NaN       NaN  \n",
       "117       NaN     NaN       NaN       NaN     NaN       NaN  \n",
       "\n",
       "[4 rows x 27 columns]"
      ]
     },
     "execution_count": 25,
     "metadata": {},
     "output_type": "execute_result"
    }
   ],
   "source": [
    "df[df.isnull().any(axis=1)].head(4)"
   ]
  },
  {
   "cell_type": "markdown",
   "metadata": {},
   "source": [
    "We need to remove the nans because the random forest does not know what to do otherwise.\n",
    "\n",
    "Here, we choose to replace them by -1, hoping for the random forest to recognize them. (We could also choose to replace the values by the median where applicable)."
   ]
  },
  {
   "cell_type": "code",
   "execution_count": 26,
   "metadata": {
    "collapsed": true
   },
   "outputs": [],
   "source": [
    "df = df.fillna(value=-1)"
   ]
  },
  {
   "cell_type": "code",
   "execution_count": 27,
   "metadata": {
    "collapsed": false
   },
   "outputs": [
    {
     "data": {
      "text/html": [
       "<div>\n",
       "<table border=\"1\" class=\"dataframe\">\n",
       "  <thead>\n",
       "    <tr style=\"text-align: right;\">\n",
       "      <th></th>\n",
       "      <th>playerShort</th>\n",
       "      <th>player</th>\n",
       "      <th>club</th>\n",
       "      <th>leagueCountry</th>\n",
       "      <th>birthday</th>\n",
       "      <th>height</th>\n",
       "      <th>weight</th>\n",
       "      <th>position</th>\n",
       "      <th>games</th>\n",
       "      <th>victories</th>\n",
       "      <th>...</th>\n",
       "      <th>rater1</th>\n",
       "      <th>rater2</th>\n",
       "      <th>refNum</th>\n",
       "      <th>Alpha_3</th>\n",
       "      <th>meanIAT</th>\n",
       "      <th>nIAT</th>\n",
       "      <th>seIAT</th>\n",
       "      <th>meanExp</th>\n",
       "      <th>nExp</th>\n",
       "      <th>seExp</th>\n",
       "    </tr>\n",
       "  </thead>\n",
       "  <tbody>\n",
       "    <tr>\n",
       "      <th>0</th>\n",
       "      <td>0</td>\n",
       "      <td>392</td>\n",
       "      <td>34</td>\n",
       "      <td>0</td>\n",
       "      <td>360</td>\n",
       "      <td>182.0</td>\n",
       "      <td>71.0</td>\n",
       "      <td>1</td>\n",
       "      <td>1</td>\n",
       "      <td>0</td>\n",
       "      <td>...</td>\n",
       "      <td>0.25</td>\n",
       "      <td>0.00</td>\n",
       "      <td>4</td>\n",
       "      <td>53</td>\n",
       "      <td>0.325185</td>\n",
       "      <td>127.0</td>\n",
       "      <td>0.003297</td>\n",
       "      <td>0.538462</td>\n",
       "      <td>130.0</td>\n",
       "      <td>0.013752</td>\n",
       "    </tr>\n",
       "    <tr>\n",
       "      <th>1</th>\n",
       "      <td>44</td>\n",
       "      <td>425</td>\n",
       "      <td>48</td>\n",
       "      <td>0</td>\n",
       "      <td>446</td>\n",
       "      <td>187.0</td>\n",
       "      <td>80.0</td>\n",
       "      <td>6</td>\n",
       "      <td>1</td>\n",
       "      <td>1</td>\n",
       "      <td>...</td>\n",
       "      <td>0.00</td>\n",
       "      <td>0.25</td>\n",
       "      <td>4</td>\n",
       "      <td>53</td>\n",
       "      <td>0.325185</td>\n",
       "      <td>127.0</td>\n",
       "      <td>0.003297</td>\n",
       "      <td>0.538462</td>\n",
       "      <td>130.0</td>\n",
       "      <td>0.013752</td>\n",
       "    </tr>\n",
       "    <tr>\n",
       "      <th>2</th>\n",
       "      <td>63</td>\n",
       "      <td>440</td>\n",
       "      <td>54</td>\n",
       "      <td>0</td>\n",
       "      <td>158</td>\n",
       "      <td>180.0</td>\n",
       "      <td>68.0</td>\n",
       "      <td>4</td>\n",
       "      <td>1</td>\n",
       "      <td>0</td>\n",
       "      <td>...</td>\n",
       "      <td>1.00</td>\n",
       "      <td>1.00</td>\n",
       "      <td>4</td>\n",
       "      <td>53</td>\n",
       "      <td>0.325185</td>\n",
       "      <td>127.0</td>\n",
       "      <td>0.003297</td>\n",
       "      <td>0.538462</td>\n",
       "      <td>130.0</td>\n",
       "      <td>0.013752</td>\n",
       "    </tr>\n",
       "  </tbody>\n",
       "</table>\n",
       "<p>3 rows × 27 columns</p>\n",
       "</div>"
      ],
      "text/plain": [
       "   playerShort  player  club  leagueCountry  birthday  height  weight  \\\n",
       "0            0     392    34              0       360   182.0    71.0   \n",
       "1           44     425    48              0       446   187.0    80.0   \n",
       "2           63     440    54              0       158   180.0    68.0   \n",
       "\n",
       "   position  games  victories    ...     rater1  rater2  refNum  Alpha_3  \\\n",
       "0         1      1          0    ...       0.25    0.00       4       53   \n",
       "1         6      1          1    ...       0.00    0.25       4       53   \n",
       "2         4      1          0    ...       1.00    1.00       4       53   \n",
       "\n",
       "    meanIAT   nIAT     seIAT   meanExp   nExp     seExp  \n",
       "0  0.325185  127.0  0.003297  0.538462  130.0  0.013752  \n",
       "1  0.325185  127.0  0.003297  0.538462  130.0  0.013752  \n",
       "2  0.325185  127.0  0.003297  0.538462  130.0  0.013752  \n",
       "\n",
       "[3 rows x 27 columns]"
      ]
     },
     "execution_count": 27,
     "metadata": {},
     "output_type": "execute_result"
    }
   ],
   "source": [
    "df.head(3)"
   ]
  },
  {
   "cell_type": "markdown",
   "metadata": {},
   "source": [
    "We get the features X and the prediction y. We need to multiply by 4 or 8 to get integer numbers because the classifiers will only accept integers (we could also convert to category codes as above)."
   ]
  },
  {
   "cell_type": "code",
   "execution_count": 28,
   "metadata": {
    "collapsed": false
   },
   "outputs": [
    {
     "data": {
      "text/plain": [
       "Float64Index([0.0, 0.25, 0.5, 0.75, 1.0], dtype='float64')"
      ]
     },
     "execution_count": 28,
     "metadata": {},
     "output_type": "execute_result"
    }
   ],
   "source": [
    "df['rater1'].astype('category').cat.categories"
   ]
  },
  {
   "cell_type": "code",
   "execution_count": 29,
   "metadata": {
    "collapsed": false
   },
   "outputs": [
    {
     "name": "stdout",
     "output_type": "stream",
     "text": [
      "0    0.125\n",
      "1    0.125\n",
      "2    1.000\n",
      "dtype: float64\n",
      "[1 1 8]\n"
     ]
    }
   ],
   "source": [
    "X = df.drop(['rater1', 'rater2'],axis=1)\n",
    "y1 = np.asarray((df['rater1'].values)*8).astype('int')\n",
    "y2 = np.asarray((df['rater2'].values)*8).astype('int')\n",
    "\n",
    "y_avg = (df['rater1'] + df['rater2']) / 2\n",
    "print(y_avg.head(3))\n",
    "y_avg = np.asarray((y_avg.values)*8).astype('int')\n",
    "print(y_avg[:3])"
   ]
  },
  {
   "cell_type": "markdown",
   "metadata": {},
   "source": [
    "For later, we define the convention that values 4-8 mean \"black person\" and vice versa for \"white person\"."
   ]
  },
  {
   "cell_type": "code",
   "execution_count": 59,
   "metadata": {
    "collapsed": false
   },
   "outputs": [
    {
     "data": {
      "text/plain": [
       "Index(['playerShort', 'player', 'club', 'leagueCountry', 'birthday', 'height',\n",
       "       'weight', 'position', 'games', 'victories', 'ties', 'defeats', 'goals',\n",
       "       'yellowCards', 'yellowReds', 'redCards', 'photoID', 'refNum', 'Alpha_3',\n",
       "       'meanIAT', 'nIAT', 'seIAT', 'meanExp', 'nExp', 'seExp'],\n",
       "      dtype='object')"
      ]
     },
     "execution_count": 59,
     "metadata": {},
     "output_type": "execute_result"
    }
   ],
   "source": [
    "X.columns"
   ]
  },
  {
   "cell_type": "code",
   "execution_count": 31,
   "metadata": {
    "collapsed": false
   },
   "outputs": [
    {
     "data": {
      "text/plain": [
       "array([2, 0, 8])"
      ]
     },
     "execution_count": 31,
     "metadata": {},
     "output_type": "execute_result"
    }
   ],
   "source": [
    "y1[:3]"
   ]
  },
  {
   "cell_type": "code",
   "execution_count": 32,
   "metadata": {
    "collapsed": false
   },
   "outputs": [
    {
     "data": {
      "text/plain": [
       "array([0, 2, 8])"
      ]
     },
     "execution_count": 32,
     "metadata": {},
     "output_type": "execute_result"
    }
   ],
   "source": [
    "y2[:3]"
   ]
  },
  {
   "cell_type": "code",
   "execution_count": 33,
   "metadata": {
    "collapsed": false
   },
   "outputs": [
    {
     "data": {
      "text/plain": [
       "array([1, 1, 8])"
      ]
     },
     "execution_count": 33,
     "metadata": {},
     "output_type": "execute_result"
    }
   ],
   "source": [
    "y_avg[:3]"
   ]
  },
  {
   "cell_type": "markdown",
   "metadata": {},
   "source": [
    "# Machine Learning"
   ]
  },
  {
   "cell_type": "markdown",
   "metadata": {},
   "source": [
    "We first look at the following material to help us use scikit.\n",
    "\n",
    "https://github.com/justmarkham/scikit-learn-videos\n",
    "\n",
    "http://scikit-learn.org/stable/auto_examples/ensemble/plot_forest_importances.html"
   ]
  },
  {
   "cell_type": "code",
   "execution_count": 34,
   "metadata": {
    "collapsed": true
   },
   "outputs": [],
   "source": [
    "from sklearn.cross_validation import cross_val_score\n",
    "from sklearn.neighbors import KNeighborsClassifier\n",
    "from sklearn.ensemble import RandomForestClassifier \n",
    "from sklearn.metrics import f1_score"
   ]
  },
  {
   "cell_type": "markdown",
   "metadata": {},
   "source": [
    "We use cross-validation over 10-folds to get good testing accuracy. This only involves passing the fitting object and the function $\\textrm{cross_val_score}$ will then do the rest. We will start with knn (k-nearest neighbours)."
   ]
  },
  {
   "cell_type": "code",
   "execution_count": 35,
   "metadata": {
    "collapsed": false
   },
   "outputs": [
    {
     "name": "stdout",
     "output_type": "stream",
     "text": [
      "Doing k=1\n",
      "Doing k=2\n",
      "[0.68425533400592742, 0.65710874634426275]\n"
     ]
    }
   ],
   "source": [
    "k_range = list(range(1,3))#list(range(1, 31))\n",
    "k_scores = []\n",
    "for k in k_range:\n",
    "    print(\"Doing k={}\".format(k))\n",
    "    knn = KNeighborsClassifier(n_neighbors=k)\n",
    "    #knn.fit(X, y1)\n",
    "    scores = cross_val_score(knn, X, y1, cv=10, scoring='accuracy')\n",
    "    k_scores.append(scores.mean())\n",
    "print(k_scores)"
   ]
  },
  {
   "cell_type": "markdown",
   "metadata": {},
   "source": [
    "# Using Random Forests"
   ]
  },
  {
   "cell_type": "markdown",
   "metadata": {},
   "source": [
    "We see that we only get 68% and 65% training accuracy with knn. This is probably because we don't know much about the data. For this, random forests prove useful."
   ]
  },
  {
   "cell_type": "markdown",
   "metadata": {},
   "source": [
    "We cite Wikipedia because we think it captures well the spirit of our approach:\n",
    "\n",
    "\n",
    "Decision trees are a popular method for various machine learning tasks. Tree learning \"come[s] closest to meeting the requirements for serving as an off-the-shelf procedure for data mining\", say Hastie et al., because it is invariant under scaling and various other transformations of feature values, is robust to inclusion of irrelevant features, and produces inspectable models. However, they are seldom accurate.[3]:352\n",
    "In particular, trees that are grown very deep tend to learn highly irregular patterns: they overfit their training sets, i.e. have low bias, but very high variance. Random forests are a way of averaging multiple deep decision trees, trained on different parts of the same training set, with the goal of reducing the variance.[3]:587–588 This comes at the expense of a small increase in the bias and some loss of interpretability, but generally greatly boosts the performance of the final model."
   ]
  },
  {
   "cell_type": "markdown",
   "metadata": {},
   "source": [
    "## Influence of different parameters on RandomForestClassifier"
   ]
  },
  {
   "cell_type": "markdown",
   "metadata": {},
   "source": [
    "We choose to train on $y_{avg}$ because it seems to best reflect the rating because we have no way of telling whether rater1 or rater2 is correct. Another approach would be to separately fit two models to rater1 and rater2, apply each model to new input data, and to take the average rating in the end, but this claims that rater1 and rater2 have different characteristics. Fitting the models to data where half of the raters were interchanged would lead to different models, which is strange."
   ]
  },
  {
   "cell_type": "markdown",
   "metadata": {},
   "source": [
    "Note that the choice of the metric is important because our distribution is highly skewed, i.e. there are much more data samples with white skin colors than the opposite, see the data exploration part. We repeat the essential step here."
   ]
  },
  {
   "cell_type": "code",
   "execution_count": 36,
   "metadata": {
    "collapsed": false
   },
   "outputs": [
    {
     "name": "stdout",
     "output_type": "stream",
     "text": [
      "y1: 28319 black out of 113862 (25.0%)\n",
      "y2: 29550 black out of 113862 (26.0%)\n",
      "y_avg: 26310 black out of 113862 (23.0%)\n"
     ]
    }
   ],
   "source": [
    "def getBlackStatistics(y_vec):\n",
    "    nbBlack = sum(y_vec >= 4)\n",
    "    nbTotal = len(y_vec)\n",
    "    percentBlack = round(nbBlack / nbTotal * 100);\n",
    "    return (nbBlack, nbTotal, percentBlack)\n",
    "\n",
    "print(\"y1: {} black out of {} ({}%)\".format(*getBlackStatistics(y1)))\n",
    "print(\"y2: {} black out of {} ({}%)\".format(*getBlackStatistics(y2)))\n",
    "print(\"y_avg: {} black out of {} ({}%)\".format(*getBlackStatistics(y_avg)))"
   ]
  },
  {
   "cell_type": "markdown",
   "metadata": {},
   "source": [
    "We see that the prediction accuracy is not the good measure here (but it is not the most terrible either), hence we choose the F1 score, see https://en.wikipedia.org/wiki/F1_score. A F1-score close to 1 is good. The syntax of the F1-score is:\n",
    "\n",
    "f1_score(y_true, y_pred, labels=None, pos_label=1, average='binary', sample_weight=None)"
   ]
  },
  {
   "cell_type": "markdown",
   "metadata": {},
   "source": [
    "We can look at the confusion matrix that is the generalization of the F1-score to more than two labels (see http://scikit-learn.org/stable/modules/generated/sklearn.metrics.confusion_matrix.html). The f1_score function below is summing over the entries of the confusion matrix. Note, we can also pass the \"scoring=f1_weighted\" to the cross_val_score function, but this weights less the underrepresented class and we don't want this.\n",
    "\n",
    "Below, we could also use average=\"macro\", this takes the average of the F1-scores per class. In the end, we chose to take average=\"micro\" because \"macro\" sets to 0 the F1-score of the classes that are not predicted which is not what we want. We have left commented the version where"
   ]
  },
  {
   "cell_type": "code",
   "execution_count": 37,
   "metadata": {
    "collapsed": false
   },
   "outputs": [],
   "source": [
    "from sklearn.metrics import precision_recall_fscore_support\n",
    "\n",
    "labels = set(range(0,8+1))\n",
    "\n",
    "def f1_score_modif(estimator, X, y_true):\n",
    "    # estimator ignored\n",
    "    y_pred = estimator.predict(X)\n",
    "    \n",
    "    #score = precision_recall_fscore_support(y_true, y_pred)\n",
    "    score = f1_score(y_true, y_pred, average='micro')\n",
    "    \n",
    "    #score = f1_score(y_true, y_pred, average='macro')\n",
    "    # get average per class\n",
    "    #score = f1_score(y_true, y_pred, average=None)\n",
    "    \n",
    "    # suppose that 0 F-score \n",
    "    #y_pred[y_pre]\n",
    "    #predicted_samples_indices = list(map(set(y_pred))\n",
    "    #avg_score = score[predicted_samples_indices].mean()\n",
    "    #return avg_score\n",
    "    \n",
    "    return score"
   ]
  },
  {
   "cell_type": "code",
   "execution_count": 38,
   "metadata": {
    "collapsed": false
   },
   "outputs": [
    {
     "data": {
      "text/plain": [
       "{3, 4, 5, 6, 7, 8}"
      ]
     },
     "execution_count": 38,
     "metadata": {},
     "output_type": "execute_result"
    }
   ],
   "source": [
    "newLabels = labels.difference(set(range(3)))\n",
    "labels\n",
    "newLabels"
   ]
  },
  {
   "cell_type": "markdown",
   "metadata": {},
   "source": [
    "Let's see how different parameters passed to the random forest classifier change the prediction accuracy."
   ]
  },
  {
   "cell_type": "code",
   "execution_count": 39,
   "metadata": {
    "collapsed": false,
    "scrolled": true
   },
   "outputs": [
    {
     "name": "stdout",
     "output_type": "stream",
     "text": [
      "Params: {'n_estimators': 10, 'max_depth': 2}\n",
      "Score: 0.34158841826376785\n",
      "Params: {'n_estimators': 10, 'max_depth': 8}\n",
      "Score: 0.5579886787788082\n",
      "Params: {'n_estimators': 20, 'max_depth': 2}\n",
      "Score: 0.33538677225069974\n",
      "Params: {'n_estimators': 20, 'max_depth': 8}\n",
      "Score: 0.580902704451149\n",
      "Params: {'bootstrap': False, 'n_estimators': 10, 'max_depth': 2}\n",
      "Score: 0.3384000501617657\n",
      "Params: {'max_features': 20, 'n_estimators': 10, 'max_depth': 12}\n",
      "Score: 0.9543403762775787\n"
     ]
    }
   ],
   "source": [
    "params = [  \n",
    "    {'n_estimators': 10, 'max_depth': 2},\n",
    "    {'n_estimators': 10, 'max_depth': 8},\n",
    "    {'n_estimators': 20, 'max_depth': 2},\n",
    "    {'n_estimators': 20, 'max_depth': 8},\n",
    "    {'n_estimators': 10, 'max_depth': 2, 'bootstrap': False},\n",
    "    {'n_estimators': 10, 'max_depth': 12, 'max_features': 20},\n",
    "    #{} # no params\n",
    "         ]\n",
    "    \n",
    "for paramset in params:\n",
    "    print(\"Params: {}\".format(paramset))\n",
    "    forest = RandomForestClassifier(**paramset)\n",
    "    scores = cross_val_score(forest, X, y_avg, cv=10, scoring=f1_score_modif)\n",
    "    print(\"Score: {}\".format(scores.mean()))"
   ]
  },
  {
   "cell_type": "markdown",
   "metadata": {},
   "source": [
    "From the above, we see that it is important to have a sufficiently large max_depth. Let's see what no params at all do. Then, the classifier will choose itself."
   ]
  },
  {
   "cell_type": "code",
   "execution_count": 40,
   "metadata": {
    "collapsed": false
   },
   "outputs": [
    {
     "name": "stdout",
     "output_type": "stream",
     "text": [
      "Score: 0.9878505985333049\n"
     ]
    }
   ],
   "source": [
    "forest = RandomForestClassifier()\n",
    "scores = cross_val_score(forest, X, y_avg, cv=10, scoring=f1_score_modif)\n",
    "print(\"Score: {}\".format(scores.mean()))"
   ]
  },
  {
   "cell_type": "code",
   "execution_count": 41,
   "metadata": {
    "collapsed": false,
    "scrolled": true
   },
   "outputs": [
    {
     "data": {
      "text/plain": [
       "RandomForestClassifier(bootstrap=True, class_weight=None, criterion='gini',\n",
       "            max_depth=None, max_features='auto', max_leaf_nodes=None,\n",
       "            min_samples_leaf=1, min_samples_split=2,\n",
       "            min_weight_fraction_leaf=0.0, n_estimators=10, n_jobs=1,\n",
       "            oob_score=False, random_state=None, verbose=0,\n",
       "            warm_start=False)"
      ]
     },
     "execution_count": 41,
     "metadata": {},
     "output_type": "execute_result"
    }
   ],
   "source": [
    "forest"
   ]
  },
  {
   "cell_type": "markdown",
   "metadata": {},
   "source": [
    "Unfortunately, the default \"forest\" has a lot of parameters that are implicitly specified, but we see that there is no depth restriction which seems is important as above. The default random forest classifier performs better than what we did above."
   ]
  },
  {
   "cell_type": "code",
   "execution_count": 42,
   "metadata": {
    "collapsed": false
   },
   "outputs": [
    {
     "name": "stdout",
     "output_type": "stream",
     "text": [
      "Doing n_estim=1\n",
      "Doing n_estim=2\n",
      "Doing n_estim=3\n",
      "Doing n_estim=5\n",
      "Doing n_estim=10\n",
      "Doing n_estim=20\n",
      "Doing n_estim=30\n",
      "Doing n_estim=50\n",
      "[0.9622068692941721, 0.96833599854850116, 0.98506100456397616, 0.98880926648089085, 0.99759334147710221, 0.99846291211089078, 0.99920073737821402, 0.99964869908437604]\n"
     ]
    }
   ],
   "source": [
    "n_estimators_range = [1, 2, 3, 5, 10, 20, 30, 50]\n",
    "k_scores = []\n",
    "for n_estim in n_estimators_range:\n",
    "    print(\"Doing n_estim={}\".format(n_estim))\n",
    "    forest = RandomForestClassifier(n_estimators = n_estim)\n",
    "    scores = cross_val_score(forest, X, y1, cv=10, scoring=f1_score_modif)\n",
    "    k_scores.append(scores.mean())\n",
    "print(k_scores)"
   ]
  },
  {
   "cell_type": "code",
   "execution_count": 43,
   "metadata": {
    "collapsed": false
   },
   "outputs": [
    {
     "name": "stdout",
     "output_type": "stream",
     "text": [
      "Doing depth=1\n",
      "[ 0.44073749  0.42159789  0.41755926  0.4662803   0.40990516  0.41517387\n",
      "  0.40235335  0.43519494  0.40059712  0.399719    0.47777973  0.40997716\n",
      "  0.41419287  0.42129304  0.42709065  0.41883345  0.42884751  0.42972593\n",
      "  0.40966608  0.41335677]\n",
      "Doing depth=2\n",
      "[ 0.37559263  0.46128183  0.414223    0.48963822  0.43905866  0.45398665\n",
      "  0.42922374  0.45117668  0.40077274  0.46469968  0.48814333  0.42262428\n",
      "  0.44229756  0.43938862  0.4443078   0.42955025  0.45133521  0.44360506\n",
      "  0.42302285  0.44235501]\n",
      "Doing depth=3\n",
      "[ 0.47796313  0.47690957  0.4572432   0.49578504  0.44713734  0.471549\n",
      "  0.4348437   0.48314015  0.41622761  0.49596066  0.50166872  0.46056561\n",
      "  0.45705252  0.45186226  0.47997189  0.44290232  0.45678145  0.46697119\n",
      "  0.4258348   0.45852373]\n",
      "Doing depth=4\n",
      "[ 0.5000878   0.50131694  0.48129939  0.52774851  0.48296452  0.48981384\n",
      "  0.47225149  0.49016509  0.44959607  0.49789252  0.52503074  0.48234674\n",
      "  0.46495696  0.48875615  0.48840478  0.47856641  0.50404076  0.5082572\n",
      "  0.45606327  0.48752197]\n",
      "Doing depth=6\n",
      "[ 0.5618964   0.56014047  0.57085162  0.58640674  0.55602388  0.55936073\n",
      "  0.55286266  0.55251142  0.53178785  0.56743941  0.55981029  0.55085192\n",
      "  0.55137889  0.55903022  0.57273366  0.55042164  0.54831342  0.5686929\n",
      "  0.53497364  0.54604569]\n",
      "Doing depth=8\n",
      "[ 0.65338016  0.6667252   0.67515364  0.68616087  0.67492097  0.6594661\n",
      "  0.67544784  0.69476642  0.62223393  0.65823674  0.71315651  0.66344634\n",
      "  0.64061128  0.68078004  0.66654954  0.65073788  0.69571328  0.68851019\n",
      "  0.63725835  0.65641476]\n",
      "Doing depth=10\n",
      "[ 0.75136084  0.79877085  0.83195786  0.82771338  0.81050228  0.79258869\n",
      "  0.83596769  0.8517738   0.75623463  0.77133825  0.82487265  0.79764623\n",
      "  0.77849991  0.80867885  0.82712579  0.81588194  0.81886859  0.84276177\n",
      "  0.7771529   0.83163445]\n",
      "Doing depth=15\n",
      "[ 0.98419666  0.98489903  0.97945566  0.9887601   0.97927643  0.98524763\n",
      "  0.97207587  0.98331577  0.98191078  0.97031963  0.98875812  0.99455472\n",
      "  0.98928509  0.99191848  0.99367533  0.99104006  0.98735067  0.99437807\n",
      "  0.97065026  0.98488576]\n",
      "Doing depth=20\n",
      "[ 0.9977173   0.99877085  0.99947322  1.          0.99947313  1.\n",
      "  0.99877064  0.99894626  0.99894626  0.99947313  0.99964869  0.99666257\n",
      "  0.99894607  0.99929726  0.9987702   0.99947294  0.99929726  0.99841883\n",
      "  0.99894552  0.99964851]\n",
      "Doing depth=25\n",
      "[ 0.99964881  0.99596137  0.99947322  1.          1.          0.99982438\n",
      "  0.9970144   1.          0.99929751  0.99964875  0.99947304  0.99947304\n",
      "  0.99877042  0.99964863  0.99947294  0.99947294  0.9987702   0.99929726\n",
      "  0.99384886  0.99578207]\n",
      "Doing depth=30\n",
      "[ 0.99912204  0.99859526  0.99912204  1.          0.99964875  0.9970144\n",
      "  0.99841939  0.99947313  0.99877064  0.99982438  0.99877042  0.99929738\n",
      "  0.99894607  0.99947294  0.99929726  0.99947294  0.99912157  0.99964863\n",
      "  0.99718805  0.99771529]\n",
      "Doing depth=35\n",
      "[ 0.9975417   0.99841967  0.99929763  1.          1.          0.99719002\n",
      "  0.99841939  0.99912188  0.99929751  0.99964875  0.99982435  0.9980678\n",
      "  0.99894607  0.99929726  1.          0.99982431  0.99912157  0.99894589\n",
      "  0.99929701  0.99912127]\n",
      "Doing depth=40\n",
      "[ 0.99877085  0.99894644  0.99964881  0.99982438  0.9970144   0.99806814\n",
      "  0.99560941  0.99947313  0.99947313  0.99859501  0.99947304  0.99841911\n",
      "  0.9980678   0.99929726  0.99982431  0.99964863  0.99964863  0.99947294\n",
      "  0.99859402  0.9973638 ]\n",
      "[0.42299407909793996, 0.44031418908496167, 0.46294469251196257, 0.48885405709400909, 0.55707667381128811, 0.66798350219033775, 0.80756656754917233, 0.98479770737537142, 0.99903393207817948, 0.99874389252526119, 0.9989460292817427, 0.99906910458735931, 0.99876166323040905]\n"
     ]
    }
   ],
   "source": [
    "depth_range = [1, 2, 3, 4, 6, 8, 10, 15, 20, 25, 30, 35, 40]\n",
    "k_scores_depth = []\n",
    "for depth in depth_range:\n",
    "    print(\"Doing depth={}\".format(depth))\n",
    "    forest = RandomForestClassifier(n_estimators = 10, max_depth=depth)\n",
    "    scores = cross_val_score(forest, X, y1, cv=20, scoring=f1_score_modif)\n",
    "    print(scores)\n",
    "    k_scores_depth.append(scores.mean())\n",
    "print(k_scores_depth)"
   ]
  },
  {
   "cell_type": "code",
   "execution_count": 44,
   "metadata": {
    "collapsed": false
   },
   "outputs": [
    {
     "data": {
      "text/plain": [
       "RandomForestClassifier(bootstrap=True, class_weight=None, criterion='gini',\n",
       "            max_depth=40, max_features='auto', max_leaf_nodes=None,\n",
       "            min_samples_leaf=1, min_samples_split=2,\n",
       "            min_weight_fraction_leaf=0.0, n_estimators=10, n_jobs=1,\n",
       "            oob_score=False, random_state=None, verbose=0,\n",
       "            warm_start=False)"
      ]
     },
     "execution_count": 44,
     "metadata": {},
     "output_type": "execute_result"
    }
   ],
   "source": [
    "forest = RandomForestClassifier(n_estimators = 10, max_depth=40)\n",
    "\n",
    "forest"
   ]
  },
  {
   "cell_type": "code",
   "execution_count": 45,
   "metadata": {
    "collapsed": false
   },
   "outputs": [
    {
     "name": "stdout",
     "output_type": "stream",
     "text": [
      "13\n",
      "13\n"
     ]
    }
   ],
   "source": [
    "print(len(k_scores_depth))\n",
    "print(len(depth_range))\n",
    "#depth_range.extend(list(range(13,33,10)))\n",
    "#depth_range"
   ]
  },
  {
   "cell_type": "code",
   "execution_count": 46,
   "metadata": {
    "collapsed": false
   },
   "outputs": [],
   "source": [
    "def plot_cross_validation_error(x, y, xlabelStr):\n",
    "    # y are k_scores, x are the parameters\n",
    "\n",
    "    fig, ax = plt.subplots(nrows=1, ncols=1, figsize=(8, 4))\n",
    "\n",
    "    ax.plot(x, y)\n",
    "    ax.set_xlabel(xlabelStr)\n",
    "    ax.set_ylabel('cross-validation error')\n",
    "\n",
    "    plt.show()"
   ]
  },
  {
   "cell_type": "code",
   "execution_count": 47,
   "metadata": {
    "collapsed": false
   },
   "outputs": [
    {
     "data": {
      "image/png": "[encoded data removed]",
      "text/plain": [
       "<matplotlib.figure.Figure at 0x117cdc048>"
      ]
     },
     "metadata": {},
     "output_type": "display_data"
    },
    {
     "data": {
      "image/png": "[encoded data removed]",
      "text/plain": [
       "<matplotlib.figure.Figure at 0x11995da20>"
      ]
     },
     "metadata": {},
     "output_type": "display_data"
    }
   ],
   "source": [
    "plot_cross_validation_error(n_estimators_range, k_scores, xlabelStr='n_estimator')\n",
    "plot_cross_validation_error(depth_range, k_scores_depth, xlabelStr='depth')"
   ]
  },
  {
   "cell_type": "code",
   "execution_count": 48,
   "metadata": {
    "collapsed": false
   },
   "outputs": [
    {
     "data": {
      "text/plain": [
       "8"
      ]
     },
     "execution_count": 48,
     "metadata": {},
     "output_type": "execute_result"
    }
   ],
   "source": [
    "#n_estimators_range = n_estimators_range[1:6]\n",
    "#n_estimators_range.extend([20,30])\n",
    "n_estimators_range = [1, 2, 3, 5, 10, 20, 30, 50]\n",
    "len(n_estimators_range)\n",
    "len(k_scores)"
   ]
  },
  {
   "cell_type": "code",
   "execution_count": 49,
   "metadata": {
    "collapsed": true
   },
   "outputs": [],
   "source": [
    "forest = RandomForestClassifier(n_estimators = 20)\n",
    "scores = cross_val_score(forest, X, y1, cv=10, scoring=f1_score_modif)"
   ]
  },
  {
   "cell_type": "code",
   "execution_count": 50,
   "metadata": {
    "collapsed": false
   },
   "outputs": [
    {
     "data": {
      "text/plain": [
       "RandomForestClassifier(bootstrap=True, class_weight=None, criterion='gini',\n",
       "            max_depth=None, max_features='auto', max_leaf_nodes=None,\n",
       "            min_samples_leaf=1, min_samples_split=2,\n",
       "            min_weight_fraction_leaf=0.0, n_estimators=20, n_jobs=1,\n",
       "            oob_score=False, random_state=None, verbose=0,\n",
       "            warm_start=False)"
      ]
     },
     "execution_count": 50,
     "metadata": {},
     "output_type": "execute_result"
    }
   ],
   "source": [
    "forest = RandomForestClassifier(n_estimators = 20)\n",
    "forest.fit(X,y1)"
   ]
  },
  {
   "cell_type": "code",
   "execution_count": 51,
   "metadata": {
    "collapsed": false
   },
   "outputs": [],
   "source": [
    "featureNames = X.columns\n",
    "def info_and_plot_feature_importances(forest):\n",
    "\n",
    "    importances = forest.feature_importances_\n",
    "    std = np.std([tree.feature_importances_ for tree in forest.estimators_],\n",
    "                 axis=0)\n",
    "    indices = np.argsort(importances)[::-1] # backward order\n",
    "\n",
    "    # Print the feature ranking\n",
    "    print(\"Feature ranking:\")\n",
    "\n",
    "    for f in range(X.shape[1]):\n",
    "        print(\"%d. feature '%s' (feature index %d) (%f)\" % (f + 1, featureNames[indices[f]], indices[f], importances[indices[f]]))\n",
    "\n",
    "    # Plot the feature importances of the forest\n",
    "    plt.figure()\n",
    "    plt.title(\"Feature importances\")\n",
    "    plt.bar(range(X.shape[1]), importances[indices],\n",
    "           color=\"r\", yerr=std[indices], align=\"center\")\n",
    "    plt.xticks(range(X.shape[1]), indices)\n",
    "    plt.xlim([-1, X.shape[1]])\n",
    "    plt.show()\n"
   ]
  },
  {
   "cell_type": "code",
   "execution_count": 52,
   "metadata": {
    "collapsed": false
   },
   "outputs": [
    {
     "name": "stdout",
     "output_type": "stream",
     "text": [
      "Feature ranking:\n",
      "1. feature 'photoID' (feature index 16) (0.132900)\n",
      "2. feature 'birthday' (feature index 4) (0.129283)\n",
      "3. feature 'player' (feature index 1) (0.127651)\n",
      "4. feature 'playerShort' (feature index 0) (0.123940)\n",
      "5. feature 'club' (feature index 2) (0.116240)\n",
      "6. feature 'weight' (feature index 6) (0.105807)\n",
      "7. feature 'height' (feature index 5) (0.104803)\n",
      "8. feature 'position' (feature index 7) (0.082496)\n",
      "9. feature 'leagueCountry' (feature index 3) (0.036770)\n",
      "10. feature 'meanExp' (feature index 22) (0.005814)\n",
      "11. feature 'meanIAT' (feature index 19) (0.003799)\n",
      "12. feature 'seIAT' (feature index 21) (0.003779)\n",
      "13. feature 'nIAT' (feature index 20) (0.003696)\n",
      "14. feature 'Alpha_3' (feature index 18) (0.003608)\n",
      "15. feature 'nExp' (feature index 23) (0.003475)\n",
      "16. feature 'seExp' (feature index 24) (0.003348)\n",
      "17. feature 'games' (feature index 8) (0.002782)\n",
      "18. feature 'goals' (feature index 12) (0.002170)\n",
      "19. feature 'victories' (feature index 9) (0.002108)\n",
      "20. feature 'refNum' (feature index 17) (0.002096)\n",
      "21. feature 'defeats' (feature index 11) (0.001269)\n",
      "22. feature 'yellowCards' (feature index 13) (0.001069)\n",
      "23. feature 'ties' (feature index 10) (0.000934)\n",
      "24. feature 'redCards' (feature index 15) (0.000092)\n",
      "25. feature 'yellowReds' (feature index 14) (0.000071)\n"
     ]
    },
    {
     "data": {
      "image/png": "[encoded data removed]",
      "text/plain": [
       "<matplotlib.figure.Figure at 0x119f5aa58>"
      ]
     },
     "metadata": {},
     "output_type": "display_data"
    }
   ],
   "source": [
    "info_and_plot_feature_importances(forest)"
   ]
  },
  {
   "cell_type": "markdown",
   "metadata": {},
   "source": [
    "# Task 2"
   ]
  },
  {
   "cell_type": "code",
   "execution_count": 53,
   "metadata": {
    "collapsed": false
   },
   "outputs": [],
   "source": [
    "from sklearn.cluster import KMeans"
   ]
  },
  {
   "cell_type": "code",
   "execution_count": 54,
   "metadata": {
    "collapsed": false
   },
   "outputs": [
    {
     "data": {
      "text/plain": [
       "array([0, 1])"
      ]
     },
     "execution_count": 54,
     "metadata": {},
     "output_type": "execute_result"
    }
   ],
   "source": [
    "kmeansClassifier = KMeans(n_clusters=2)\n",
    "kmeansClassifier.fit(X)\n",
    "yPred = kmeansClassifier.predict(X)\n",
    "yPred\n",
    "pd.unique(pd.Series(yPred))\n",
    "#metrics.accuracy_score(y, y_pred))"
   ]
  },
  {
   "cell_type": "code",
   "execution_count": 55,
   "metadata": {
    "collapsed": false
   },
   "outputs": [],
   "source": [
    "def clusterAssignmentAccuracy(estimator, X, y_true):\n",
    "    y_pred = estimator.predict(X)\n",
    "    \n",
    "    #print(y_pred)\n",
    "    #print(y_true)\n",
    "    \n",
    "    # we have to take the minimum because the cluster assignment is ambiguous\n",
    "    agreeingEntries = (np.array(y_pred) == np.array(y_true))\n",
    "    disAgreeingEntries = (np.array(y_pred) != np.array(y_true))\n",
    "    fractionAgreeing = sum(agreeingEntries)/len(agreeingEntries)\n",
    "    fractionDisagreeing = sum(disAgreeingEntries)/len(disAgreeingEntries)\n",
    "    \n",
    "    return max(fractionAgreeing, fractionDisagreeing)"
   ]
  },
  {
   "cell_type": "code",
   "execution_count": 56,
   "metadata": {
    "collapsed": true
   },
   "outputs": [],
   "source": [
    "yBlackBinary = y_avg\n",
    "yBlackBinary[y_avg >= 4] = 0\n",
    "yBlackBinary[y_avg < 4] = 1\n",
    "#yBlackBinary = np.asarray(yBlackBinary)"
   ]
  },
  {
   "cell_type": "code",
   "execution_count": 60,
   "metadata": {
    "collapsed": false
   },
   "outputs": [
    {
     "name": "stdout",
     "output_type": "stream",
     "text": [
      "Doing pas=2\n",
      "[ 1.          0.99481865  1.          0.99762867  0.98735289  0.99727736\n",
      "  0.99393993  1.          0.9957843   0.99604778]\n",
      "[0.99628495680087092]\n"
     ]
    }
   ],
   "source": [
    "\n",
    "\n",
    "pas_vals = [2]\n",
    "score_clustering = []\n",
    "for pas in pas_vals:\n",
    "    print(\"Doing pas={}\".format(pas))\n",
    "    kmeansClassifier = KMeans(n_clusters=2)\n",
    "    kmeansClassifier.fit(X)\n",
    "    scores = cross_val_score(kmeansClassifier, X, yBlackBinary, cv=10, scoring=clusterAssignmentAccuracy)\n",
    "    print(scores)\n",
    "    score_clustering.append(scores.mean())\n",
    "print(score_clustering)"
   ]
  },
  {
   "cell_type": "code",
   "execution_count": 61,
   "metadata": {
    "collapsed": false
   },
   "outputs": [
    {
     "data": {
      "text/plain": [
       "[0.99628495680087092]"
      ]
     },
     "execution_count": 61,
     "metadata": {},
     "output_type": "execute_result"
    }
   ],
   "source": [
    "score_clustering"
   ]
  },
  {
   "cell_type": "code",
   "execution_count": null,
   "metadata": {
    "collapsed": true
   },
   "outputs": [],
   "source": []
  }
 ],
 "metadata": {
  "kernelspec": {
   "display_name": "Python [Root]",
   "language": "python",
   "name": "Python [Root]"
  },
  "language_info": {
   "codemirror_mode": {
    "name": "ipython",
    "version": 3
   },
   "file_extension": ".py",
   "mimetype": "text/x-python",
   "name": "python",
   "nbconvert_exporter": "python",
   "pygments_lexer": "ipython3",
   "version": "3.5.2"
  }
 },
 "nbformat": 4,
 "nbformat_minor": 0
}
