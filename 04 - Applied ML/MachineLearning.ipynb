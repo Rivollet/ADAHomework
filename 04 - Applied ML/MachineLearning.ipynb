{
 "cells": [
  {
   "cell_type": "markdown",
   "metadata": {},
   "source": [
    "# HW 4"
   ]
  },
  {
   "cell_type": "markdown",
   "metadata": {},
   "source": [
    "This is the main part of HW4."
   ]
  },
  {
   "cell_type": "markdown",
   "metadata": {},
   "source": [
    "We start with the usual imports."
   ]
  },
  {
   "cell_type": "code",
   "execution_count": 1,
   "metadata": {
    "collapsed": false
   },
   "outputs": [],
   "source": [
    "import pandas as pd                                     # for dealing with csv import\n",
    "import numpy as np                                      # arrays and other matlab like manipulation\n",
    "import os                                               # for joining paths and filenames sensibly\n",
    "import matplotlib.pyplot as plt                         # Matplotlib's pyplot: MATLAB-like syntax\n",
    "import scipy.stats.mstats as ssm                        # for bootstrap\n",
    "from scipy.stats import gaussian_kde as kde\n",
    "import random\n",
    "\n",
    "%matplotlib inline\n",
    "import seaborn as sns                                   # For pretty plots"
   ]
  },
  {
   "cell_type": "code",
   "execution_count": 2,
   "metadata": {
    "collapsed": false
   },
   "outputs": [],
   "source": [
    "filenameProcessed = 'Data_Processed.csv'\n",
    "df = pd.read_csv(filenameProcessed)"
   ]
  },
  {
   "cell_type": "code",
   "execution_count": 3,
   "metadata": {
    "collapsed": false
   },
   "outputs": [
    {
     "data": {
      "text/html": [
       "<div>\n",
       "<table border=\"1\" class=\"dataframe\">\n",
       "  <thead>\n",
       "    <tr style=\"text-align: right;\">\n",
       "      <th></th>\n",
       "      <th>playerShort</th>\n",
       "      <th>player</th>\n",
       "      <th>club</th>\n",
       "      <th>leagueCountry</th>\n",
       "      <th>birthday</th>\n",
       "      <th>height</th>\n",
       "      <th>weight</th>\n",
       "      <th>position</th>\n",
       "      <th>games</th>\n",
       "      <th>victories</th>\n",
       "      <th>...</th>\n",
       "      <th>rater1</th>\n",
       "      <th>rater2</th>\n",
       "      <th>refNum</th>\n",
       "      <th>Alpha_3</th>\n",
       "      <th>meanIAT</th>\n",
       "      <th>nIAT</th>\n",
       "      <th>seIAT</th>\n",
       "      <th>meanExp</th>\n",
       "      <th>nExp</th>\n",
       "      <th>seExp</th>\n",
       "    </tr>\n",
       "  </thead>\n",
       "  <tbody>\n",
       "    <tr>\n",
       "      <th>0</th>\n",
       "      <td>aaron-hughes</td>\n",
       "      <td>Aaron Hughes</td>\n",
       "      <td>Fulham FC</td>\n",
       "      <td>England</td>\n",
       "      <td>08.11.1979</td>\n",
       "      <td>182.0</td>\n",
       "      <td>71.0</td>\n",
       "      <td>Center Back</td>\n",
       "      <td>1</td>\n",
       "      <td>0</td>\n",
       "      <td>...</td>\n",
       "      <td>0.25</td>\n",
       "      <td>0.0</td>\n",
       "      <td>4</td>\n",
       "      <td>LUX</td>\n",
       "      <td>0.325185</td>\n",
       "      <td>127.0</td>\n",
       "      <td>0.003297</td>\n",
       "      <td>0.538462</td>\n",
       "      <td>130.0</td>\n",
       "      <td>0.013752</td>\n",
       "    </tr>\n",
       "  </tbody>\n",
       "</table>\n",
       "<p>1 rows × 27 columns</p>\n",
       "</div>"
      ],
      "text/plain": [
       "    playerShort        player       club leagueCountry    birthday  height  \\\n",
       "0  aaron-hughes  Aaron Hughes  Fulham FC       England  08.11.1979   182.0   \n",
       "\n",
       "   weight     position  games  victories    ...     rater1  rater2  refNum  \\\n",
       "0    71.0  Center Back      1          0    ...       0.25     0.0       4   \n",
       "\n",
       "   Alpha_3   meanIAT   nIAT     seIAT   meanExp   nExp     seExp  \n",
       "0      LUX  0.325185  127.0  0.003297  0.538462  130.0  0.013752  \n",
       "\n",
       "[1 rows x 27 columns]"
      ]
     },
     "execution_count": 3,
     "metadata": {},
     "output_type": "execute_result"
    }
   ],
   "source": [
    "df.head(1)"
   ]
  },
  {
   "cell_type": "code",
   "execution_count": 4,
   "metadata": {
    "collapsed": false
   },
   "outputs": [
    {
     "data": {
      "text/plain": [
       "Index(['playerShort', 'player', 'club', 'leagueCountry', 'birthday', 'height',\n",
       "       'weight', 'position', 'games', 'victories', 'ties', 'defeats', 'goals',\n",
       "       'yellowCards', 'yellowReds', 'redCards', 'photoID', 'rater1', 'rater2',\n",
       "       'refNum', 'Alpha_3', 'meanIAT', 'nIAT', 'seIAT', 'meanExp', 'nExp',\n",
       "       'seExp'],\n",
       "      dtype='object')"
      ]
     },
     "execution_count": 4,
     "metadata": {},
     "output_type": "execute_result"
    }
   ],
   "source": [
    "df.columns"
   ]
  },
  {
   "cell_type": "markdown",
   "metadata": {},
   "source": [
    "# Convert Columns to Float"
   ]
  },
  {
   "cell_type": "markdown",
   "metadata": {},
   "source": [
    "To use the random forest classifier (see below), we must convert all entries to floats. We chose not to do this in the dataprocessing because we want to be able to convert it back to the real categories. The classifier is robust to such categorical data transformation (i.e. we can assign numbers to categories without implying the meaning that one category is twice as important as another category (because the assigned integer is twice as large))."
   ]
  },
  {
   "cell_type": "code",
   "execution_count": 5,
   "metadata": {
    "collapsed": false
   },
   "outputs": [
    {
     "data": {
      "text/plain": [
       "array([   0,    1,    2, ..., 1569, 1570, 1571])"
      ]
     },
     "execution_count": 5,
     "metadata": {},
     "output_type": "execute_result"
    }
   ],
   "source": [
    "dfRealCategories = df\n",
    "categ = df['player'].astype('category')\n",
    "a = pd.unique(categ.cat.codes)\n",
    "a.sort()\n",
    "a"
   ]
  },
  {
   "cell_type": "code",
   "execution_count": null,
   "metadata": {
    "collapsed": false
   },
   "outputs": [],
   "source": []
  },
  {
   "cell_type": "code",
   "execution_count": 6,
   "metadata": {
    "collapsed": false
   },
   "outputs": [
    {
     "name": "stdout",
     "output_type": "stream",
     "text": [
      "playerShort\n",
      "player\n",
      "club\n",
      "leagueCountry\n",
      "birthday\n",
      "height\n",
      "weight\n",
      "position\n",
      "games\n",
      "victories\n",
      "ties\n",
      "defeats\n",
      "goals\n",
      "yellowCards\n",
      "yellowReds\n",
      "redCards\n",
      "photoID\n",
      "rater1\n",
      "rater2\n",
      "refNum\n",
      "Alpha_3\n",
      "meanIAT\n",
      "nIAT\n",
      "seIAT\n",
      "meanExp\n",
      "nExp\n",
      "seExp\n"
     ]
    }
   ],
   "source": [
    "for column_name in df.columns:\n",
    "    print(column_name)\n",
    "    if not (df[column_name].dtype in ['int64', 'float64']):\n",
    "        #print(\"num ))))))))))))))))))))))\")\n",
    "        df[column_name] = df[column_name].astype('category').cat.codes"
   ]
  },
  {
   "cell_type": "code",
   "execution_count": 7,
   "metadata": {
    "collapsed": false
   },
   "outputs": [
    {
     "data": {
      "text/html": [
       "<div>\n",
       "<table border=\"1\" class=\"dataframe\">\n",
       "  <thead>\n",
       "    <tr style=\"text-align: right;\">\n",
       "      <th></th>\n",
       "      <th>playerShort</th>\n",
       "      <th>player</th>\n",
       "      <th>club</th>\n",
       "      <th>leagueCountry</th>\n",
       "      <th>birthday</th>\n",
       "      <th>height</th>\n",
       "      <th>weight</th>\n",
       "      <th>position</th>\n",
       "      <th>games</th>\n",
       "      <th>victories</th>\n",
       "      <th>...</th>\n",
       "      <th>rater1</th>\n",
       "      <th>rater2</th>\n",
       "      <th>refNum</th>\n",
       "      <th>Alpha_3</th>\n",
       "      <th>meanIAT</th>\n",
       "      <th>nIAT</th>\n",
       "      <th>seIAT</th>\n",
       "      <th>meanExp</th>\n",
       "      <th>nExp</th>\n",
       "      <th>seExp</th>\n",
       "    </tr>\n",
       "  </thead>\n",
       "  <tbody>\n",
       "    <tr>\n",
       "      <th>47</th>\n",
       "      <td>488</td>\n",
       "      <td>737</td>\n",
       "      <td>58</td>\n",
       "      <td>1</td>\n",
       "      <td>270</td>\n",
       "      <td>179.0</td>\n",
       "      <td>NaN</td>\n",
       "      <td>-1</td>\n",
       "      <td>1</td>\n",
       "      <td>0</td>\n",
       "      <td>...</td>\n",
       "      <td>0.25</td>\n",
       "      <td>0.25</td>\n",
       "      <td>7</td>\n",
       "      <td>33</td>\n",
       "      <td>0.334684</td>\n",
       "      <td>2882.0</td>\n",
       "      <td>0.000151</td>\n",
       "      <td>0.336101</td>\n",
       "      <td>3011.0</td>\n",
       "      <td>0.000586</td>\n",
       "    </tr>\n",
       "    <tr>\n",
       "      <th>115</th>\n",
       "      <td>97</td>\n",
       "      <td>18</td>\n",
       "      <td>6</td>\n",
       "      <td>0</td>\n",
       "      <td>332</td>\n",
       "      <td>180.0</td>\n",
       "      <td>74.0</td>\n",
       "      <td>6</td>\n",
       "      <td>1</td>\n",
       "      <td>0</td>\n",
       "      <td>...</td>\n",
       "      <td>0.50</td>\n",
       "      <td>0.50</td>\n",
       "      <td>19</td>\n",
       "      <td>74</td>\n",
       "      <td>NaN</td>\n",
       "      <td>NaN</td>\n",
       "      <td>NaN</td>\n",
       "      <td>NaN</td>\n",
       "      <td>NaN</td>\n",
       "      <td>NaN</td>\n",
       "    </tr>\n",
       "    <tr>\n",
       "      <th>116</th>\n",
       "      <td>116</td>\n",
       "      <td>1564</td>\n",
       "      <td>66</td>\n",
       "      <td>3</td>\n",
       "      <td>609</td>\n",
       "      <td>180.0</td>\n",
       "      <td>70.0</td>\n",
       "      <td>8</td>\n",
       "      <td>1</td>\n",
       "      <td>1</td>\n",
       "      <td>...</td>\n",
       "      <td>0.25</td>\n",
       "      <td>0.25</td>\n",
       "      <td>19</td>\n",
       "      <td>74</td>\n",
       "      <td>NaN</td>\n",
       "      <td>NaN</td>\n",
       "      <td>NaN</td>\n",
       "      <td>NaN</td>\n",
       "      <td>NaN</td>\n",
       "      <td>NaN</td>\n",
       "    </tr>\n",
       "    <tr>\n",
       "      <th>117</th>\n",
       "      <td>150</td>\n",
       "      <td>497</td>\n",
       "      <td>34</td>\n",
       "      <td>0</td>\n",
       "      <td>209</td>\n",
       "      <td>181.0</td>\n",
       "      <td>74.0</td>\n",
       "      <td>8</td>\n",
       "      <td>1</td>\n",
       "      <td>1</td>\n",
       "      <td>...</td>\n",
       "      <td>0.50</td>\n",
       "      <td>0.50</td>\n",
       "      <td>19</td>\n",
       "      <td>74</td>\n",
       "      <td>NaN</td>\n",
       "      <td>NaN</td>\n",
       "      <td>NaN</td>\n",
       "      <td>NaN</td>\n",
       "      <td>NaN</td>\n",
       "      <td>NaN</td>\n",
       "    </tr>\n",
       "  </tbody>\n",
       "</table>\n",
       "<p>4 rows × 27 columns</p>\n",
       "</div>"
      ],
      "text/plain": [
       "     playerShort  player  club  leagueCountry  birthday  height  weight  \\\n",
       "47           488     737    58              1       270   179.0     NaN   \n",
       "115           97      18     6              0       332   180.0    74.0   \n",
       "116          116    1564    66              3       609   180.0    70.0   \n",
       "117          150     497    34              0       209   181.0    74.0   \n",
       "\n",
       "     position  games  victories    ...     rater1  rater2  refNum  Alpha_3  \\\n",
       "47         -1      1          0    ...       0.25    0.25       7       33   \n",
       "115         6      1          0    ...       0.50    0.50      19       74   \n",
       "116         8      1          1    ...       0.25    0.25      19       74   \n",
       "117         8      1          1    ...       0.50    0.50      19       74   \n",
       "\n",
       "      meanIAT    nIAT     seIAT   meanExp    nExp     seExp  \n",
       "47   0.334684  2882.0  0.000151  0.336101  3011.0  0.000586  \n",
       "115       NaN     NaN       NaN       NaN     NaN       NaN  \n",
       "116       NaN     NaN       NaN       NaN     NaN       NaN  \n",
       "117       NaN     NaN       NaN       NaN     NaN       NaN  \n",
       "\n",
       "[4 rows x 27 columns]"
      ]
     },
     "execution_count": 7,
     "metadata": {},
     "output_type": "execute_result"
    }
   ],
   "source": [
    "df[df.isnull().any(axis=1)].head(4)"
   ]
  },
  {
   "cell_type": "markdown",
   "metadata": {},
   "source": [
    "We need to remove the nans because the random forest does not know what to do otherwise.\n",
    "\n",
    "Here, we choose to replace them by -1, hoping for the random forest to recognize them. (We could also choose to replace the values by the median where applicable)."
   ]
  },
  {
   "cell_type": "code",
   "execution_count": 8,
   "metadata": {
    "collapsed": true
   },
   "outputs": [],
   "source": [
    "df = df.fillna(value=-1)"
   ]
  },
  {
   "cell_type": "code",
   "execution_count": 9,
   "metadata": {
    "collapsed": false
   },
   "outputs": [
    {
     "data": {
      "text/html": [
       "<div>\n",
       "<table border=\"1\" class=\"dataframe\">\n",
       "  <thead>\n",
       "    <tr style=\"text-align: right;\">\n",
       "      <th></th>\n",
       "      <th>playerShort</th>\n",
       "      <th>player</th>\n",
       "      <th>club</th>\n",
       "      <th>leagueCountry</th>\n",
       "      <th>birthday</th>\n",
       "      <th>height</th>\n",
       "      <th>weight</th>\n",
       "      <th>position</th>\n",
       "      <th>games</th>\n",
       "      <th>victories</th>\n",
       "      <th>...</th>\n",
       "      <th>rater1</th>\n",
       "      <th>rater2</th>\n",
       "      <th>refNum</th>\n",
       "      <th>Alpha_3</th>\n",
       "      <th>meanIAT</th>\n",
       "      <th>nIAT</th>\n",
       "      <th>seIAT</th>\n",
       "      <th>meanExp</th>\n",
       "      <th>nExp</th>\n",
       "      <th>seExp</th>\n",
       "    </tr>\n",
       "  </thead>\n",
       "  <tbody>\n",
       "    <tr>\n",
       "      <th>0</th>\n",
       "      <td>0</td>\n",
       "      <td>392</td>\n",
       "      <td>34</td>\n",
       "      <td>0</td>\n",
       "      <td>360</td>\n",
       "      <td>182.0</td>\n",
       "      <td>71.0</td>\n",
       "      <td>1</td>\n",
       "      <td>1</td>\n",
       "      <td>0</td>\n",
       "      <td>...</td>\n",
       "      <td>0.25</td>\n",
       "      <td>0.00</td>\n",
       "      <td>4</td>\n",
       "      <td>53</td>\n",
       "      <td>0.325185</td>\n",
       "      <td>127.0</td>\n",
       "      <td>0.003297</td>\n",
       "      <td>0.538462</td>\n",
       "      <td>130.0</td>\n",
       "      <td>0.013752</td>\n",
       "    </tr>\n",
       "    <tr>\n",
       "      <th>1</th>\n",
       "      <td>44</td>\n",
       "      <td>425</td>\n",
       "      <td>48</td>\n",
       "      <td>0</td>\n",
       "      <td>446</td>\n",
       "      <td>187.0</td>\n",
       "      <td>80.0</td>\n",
       "      <td>6</td>\n",
       "      <td>1</td>\n",
       "      <td>1</td>\n",
       "      <td>...</td>\n",
       "      <td>0.00</td>\n",
       "      <td>0.25</td>\n",
       "      <td>4</td>\n",
       "      <td>53</td>\n",
       "      <td>0.325185</td>\n",
       "      <td>127.0</td>\n",
       "      <td>0.003297</td>\n",
       "      <td>0.538462</td>\n",
       "      <td>130.0</td>\n",
       "      <td>0.013752</td>\n",
       "    </tr>\n",
       "    <tr>\n",
       "      <th>2</th>\n",
       "      <td>63</td>\n",
       "      <td>440</td>\n",
       "      <td>54</td>\n",
       "      <td>0</td>\n",
       "      <td>158</td>\n",
       "      <td>180.0</td>\n",
       "      <td>68.0</td>\n",
       "      <td>4</td>\n",
       "      <td>1</td>\n",
       "      <td>0</td>\n",
       "      <td>...</td>\n",
       "      <td>1.00</td>\n",
       "      <td>1.00</td>\n",
       "      <td>4</td>\n",
       "      <td>53</td>\n",
       "      <td>0.325185</td>\n",
       "      <td>127.0</td>\n",
       "      <td>0.003297</td>\n",
       "      <td>0.538462</td>\n",
       "      <td>130.0</td>\n",
       "      <td>0.013752</td>\n",
       "    </tr>\n",
       "  </tbody>\n",
       "</table>\n",
       "<p>3 rows × 27 columns</p>\n",
       "</div>"
      ],
      "text/plain": [
       "   playerShort  player  club  leagueCountry  birthday  height  weight  \\\n",
       "0            0     392    34              0       360   182.0    71.0   \n",
       "1           44     425    48              0       446   187.0    80.0   \n",
       "2           63     440    54              0       158   180.0    68.0   \n",
       "\n",
       "   position  games  victories    ...     rater1  rater2  refNum  Alpha_3  \\\n",
       "0         1      1          0    ...       0.25    0.00       4       53   \n",
       "1         6      1          1    ...       0.00    0.25       4       53   \n",
       "2         4      1          0    ...       1.00    1.00       4       53   \n",
       "\n",
       "    meanIAT   nIAT     seIAT   meanExp   nExp     seExp  \n",
       "0  0.325185  127.0  0.003297  0.538462  130.0  0.013752  \n",
       "1  0.325185  127.0  0.003297  0.538462  130.0  0.013752  \n",
       "2  0.325185  127.0  0.003297  0.538462  130.0  0.013752  \n",
       "\n",
       "[3 rows x 27 columns]"
      ]
     },
     "execution_count": 9,
     "metadata": {},
     "output_type": "execute_result"
    }
   ],
   "source": [
    "df.head(3)"
   ]
  },
  {
   "cell_type": "markdown",
   "metadata": {},
   "source": [
    "We get the features X and the prediction y. We need to multiply by 4 or 8 to get integer numbers because the classifiers will only accept integers (we could also convert to category codes as above)."
   ]
  },
  {
   "cell_type": "code",
   "execution_count": 10,
   "metadata": {
    "collapsed": false
   },
   "outputs": [
    {
     "data": {
      "text/plain": [
       "Float64Index([0.0, 0.25, 0.5, 0.75, 1.0], dtype='float64')"
      ]
     },
     "execution_count": 10,
     "metadata": {},
     "output_type": "execute_result"
    }
   ],
   "source": [
    "df['rater1'].astype('category').cat.categories"
   ]
  },
  {
   "cell_type": "code",
   "execution_count": 11,
   "metadata": {
    "collapsed": false
   },
   "outputs": [
    {
     "name": "stdout",
     "output_type": "stream",
     "text": [
      "0    0.125\n",
      "1    0.125\n",
      "2    1.000\n",
      "dtype: float64\n",
      "[1 1 8]\n"
     ]
    }
   ],
   "source": [
    "X = df.drop(['rater1', 'rater2'],axis=1)\n",
    "y1 = np.asarray((df['rater1'].values)*8).astype('int')\n",
    "y2 = np.asarray((df['rater2'].values)*8).astype('int')\n",
    "\n",
    "y_avg = (df['rater1'] + df['rater2']) / 2\n",
    "print(y_avg.head(3))\n",
    "y_avg = np.asarray((y_avg.values)*8).astype('int')\n",
    "print(y_avg[:3])"
   ]
  },
  {
   "cell_type": "markdown",
   "metadata": {},
   "source": [
    "For later, we define the convention that values 4-8 mean \"black person\" and vice versa for \"white person\"."
   ]
  },
  {
   "cell_type": "code",
   "execution_count": 12,
   "metadata": {
    "collapsed": false
   },
   "outputs": [
    {
     "data": {
      "text/html": [
       "<div>\n",
       "<table border=\"1\" class=\"dataframe\">\n",
       "  <thead>\n",
       "    <tr style=\"text-align: right;\">\n",
       "      <th></th>\n",
       "      <th>playerShort</th>\n",
       "      <th>player</th>\n",
       "      <th>club</th>\n",
       "      <th>leagueCountry</th>\n",
       "      <th>birthday</th>\n",
       "      <th>height</th>\n",
       "      <th>weight</th>\n",
       "      <th>position</th>\n",
       "      <th>games</th>\n",
       "      <th>victories</th>\n",
       "      <th>...</th>\n",
       "      <th>redCards</th>\n",
       "      <th>photoID</th>\n",
       "      <th>refNum</th>\n",
       "      <th>Alpha_3</th>\n",
       "      <th>meanIAT</th>\n",
       "      <th>nIAT</th>\n",
       "      <th>seIAT</th>\n",
       "      <th>meanExp</th>\n",
       "      <th>nExp</th>\n",
       "      <th>seExp</th>\n",
       "    </tr>\n",
       "  </thead>\n",
       "  <tbody>\n",
       "    <tr>\n",
       "      <th>0</th>\n",
       "      <td>0</td>\n",
       "      <td>392</td>\n",
       "      <td>34</td>\n",
       "      <td>0</td>\n",
       "      <td>360</td>\n",
       "      <td>182.0</td>\n",
       "      <td>71.0</td>\n",
       "      <td>1</td>\n",
       "      <td>1</td>\n",
       "      <td>0</td>\n",
       "      <td>...</td>\n",
       "      <td>0</td>\n",
       "      <td>1080</td>\n",
       "      <td>4</td>\n",
       "      <td>53</td>\n",
       "      <td>0.325185</td>\n",
       "      <td>127.0</td>\n",
       "      <td>0.003297</td>\n",
       "      <td>0.538462</td>\n",
       "      <td>130.0</td>\n",
       "      <td>0.013752</td>\n",
       "    </tr>\n",
       "    <tr>\n",
       "      <th>1</th>\n",
       "      <td>44</td>\n",
       "      <td>425</td>\n",
       "      <td>48</td>\n",
       "      <td>0</td>\n",
       "      <td>446</td>\n",
       "      <td>187.0</td>\n",
       "      <td>80.0</td>\n",
       "      <td>6</td>\n",
       "      <td>1</td>\n",
       "      <td>1</td>\n",
       "      <td>...</td>\n",
       "      <td>0</td>\n",
       "      <td>1174</td>\n",
       "      <td>4</td>\n",
       "      <td>53</td>\n",
       "      <td>0.325185</td>\n",
       "      <td>127.0</td>\n",
       "      <td>0.003297</td>\n",
       "      <td>0.538462</td>\n",
       "      <td>130.0</td>\n",
       "      <td>0.013752</td>\n",
       "    </tr>\n",
       "    <tr>\n",
       "      <th>2</th>\n",
       "      <td>63</td>\n",
       "      <td>440</td>\n",
       "      <td>54</td>\n",
       "      <td>0</td>\n",
       "      <td>158</td>\n",
       "      <td>180.0</td>\n",
       "      <td>68.0</td>\n",
       "      <td>4</td>\n",
       "      <td>1</td>\n",
       "      <td>0</td>\n",
       "      <td>...</td>\n",
       "      <td>0</td>\n",
       "      <td>802</td>\n",
       "      <td>4</td>\n",
       "      <td>53</td>\n",
       "      <td>0.325185</td>\n",
       "      <td>127.0</td>\n",
       "      <td>0.003297</td>\n",
       "      <td>0.538462</td>\n",
       "      <td>130.0</td>\n",
       "      <td>0.013752</td>\n",
       "    </tr>\n",
       "    <tr>\n",
       "      <th>3</th>\n",
       "      <td>88</td>\n",
       "      <td>454</td>\n",
       "      <td>49</td>\n",
       "      <td>0</td>\n",
       "      <td>569</td>\n",
       "      <td>193.0</td>\n",
       "      <td>80.0</td>\n",
       "      <td>5</td>\n",
       "      <td>1</td>\n",
       "      <td>0</td>\n",
       "      <td>...</td>\n",
       "      <td>0</td>\n",
       "      <td>490</td>\n",
       "      <td>4</td>\n",
       "      <td>53</td>\n",
       "      <td>0.325185</td>\n",
       "      <td>127.0</td>\n",
       "      <td>0.003297</td>\n",
       "      <td>0.538462</td>\n",
       "      <td>130.0</td>\n",
       "      <td>0.013752</td>\n",
       "    </tr>\n",
       "    <tr>\n",
       "      <th>4</th>\n",
       "      <td>102</td>\n",
       "      <td>456</td>\n",
       "      <td>2</td>\n",
       "      <td>2</td>\n",
       "      <td>563</td>\n",
       "      <td>180.0</td>\n",
       "      <td>70.0</td>\n",
       "      <td>9</td>\n",
       "      <td>1</td>\n",
       "      <td>1</td>\n",
       "      <td>...</td>\n",
       "      <td>0</td>\n",
       "      <td>1035</td>\n",
       "      <td>4</td>\n",
       "      <td>53</td>\n",
       "      <td>0.325185</td>\n",
       "      <td>127.0</td>\n",
       "      <td>0.003297</td>\n",
       "      <td>0.538462</td>\n",
       "      <td>130.0</td>\n",
       "      <td>0.013752</td>\n",
       "    </tr>\n",
       "  </tbody>\n",
       "</table>\n",
       "<p>5 rows × 25 columns</p>\n",
       "</div>"
      ],
      "text/plain": [
       "   playerShort  player  club  leagueCountry  birthday  height  weight  \\\n",
       "0            0     392    34              0       360   182.0    71.0   \n",
       "1           44     425    48              0       446   187.0    80.0   \n",
       "2           63     440    54              0       158   180.0    68.0   \n",
       "3           88     454    49              0       569   193.0    80.0   \n",
       "4          102     456     2              2       563   180.0    70.0   \n",
       "\n",
       "   position  games  victories    ...     redCards  photoID  refNum  Alpha_3  \\\n",
       "0         1      1          0    ...            0     1080       4       53   \n",
       "1         6      1          1    ...            0     1174       4       53   \n",
       "2         4      1          0    ...            0      802       4       53   \n",
       "3         5      1          0    ...            0      490       4       53   \n",
       "4         9      1          1    ...            0     1035       4       53   \n",
       "\n",
       "    meanIAT   nIAT     seIAT   meanExp   nExp     seExp  \n",
       "0  0.325185  127.0  0.003297  0.538462  130.0  0.013752  \n",
       "1  0.325185  127.0  0.003297  0.538462  130.0  0.013752  \n",
       "2  0.325185  127.0  0.003297  0.538462  130.0  0.013752  \n",
       "3  0.325185  127.0  0.003297  0.538462  130.0  0.013752  \n",
       "4  0.325185  127.0  0.003297  0.538462  130.0  0.013752  \n",
       "\n",
       "[5 rows x 25 columns]"
      ]
     },
     "execution_count": 12,
     "metadata": {},
     "output_type": "execute_result"
    }
   ],
   "source": [
    "X.head()"
   ]
  },
  {
   "cell_type": "code",
   "execution_count": 13,
   "metadata": {
    "collapsed": false
   },
   "outputs": [
    {
     "data": {
      "text/plain": [
       "array([2, 0, 8])"
      ]
     },
     "execution_count": 13,
     "metadata": {},
     "output_type": "execute_result"
    }
   ],
   "source": [
    "y1[:3]"
   ]
  },
  {
   "cell_type": "code",
   "execution_count": 14,
   "metadata": {
    "collapsed": false
   },
   "outputs": [
    {
     "data": {
      "text/plain": [
       "array([0, 2, 8])"
      ]
     },
     "execution_count": 14,
     "metadata": {},
     "output_type": "execute_result"
    }
   ],
   "source": [
    "y2[:3]"
   ]
  },
  {
   "cell_type": "code",
   "execution_count": 15,
   "metadata": {
    "collapsed": false
   },
   "outputs": [
    {
     "data": {
      "text/plain": [
       "array([1, 1, 8])"
      ]
     },
     "execution_count": 15,
     "metadata": {},
     "output_type": "execute_result"
    }
   ],
   "source": [
    "y_avg[:3]"
   ]
  },
  {
   "cell_type": "markdown",
   "metadata": {},
   "source": [
    "# Machine Learning"
   ]
  },
  {
   "cell_type": "markdown",
   "metadata": {},
   "source": [
    "We first look at the following material to help us use scikit.\n",
    "\n",
    "https://github.com/justmarkham/scikit-learn-videos\n",
    "\n",
    "http://scikit-learn.org/stable/auto_examples/ensemble/plot_forest_importances.html"
   ]
  },
  {
   "cell_type": "code",
   "execution_count": 16,
   "metadata": {
    "collapsed": true
   },
   "outputs": [],
   "source": [
    "from sklearn.cross_validation import cross_val_score\n",
    "from sklearn.neighbors import KNeighborsClassifier\n",
    "from sklearn.ensemble import RandomForestClassifier \n",
    "from sklearn.metrics import f1_score"
   ]
  },
  {
   "cell_type": "markdown",
   "metadata": {},
   "source": [
    "We use cross-validation over 10-folds to get good testing accuracy. This only involves passing the fitting object and the function $\\textrm{cross_val_score}$ will then do the rest. We will start with knn (k-nearest neighbours)."
   ]
  },
  {
   "cell_type": "code",
   "execution_count": 17,
   "metadata": {
    "collapsed": false
   },
   "outputs": [
    {
     "name": "stdout",
     "output_type": "stream",
     "text": [
      "Doing k=1\n",
      "Doing k=2\n",
      "[0.68425533400592742, 0.65710874634426275]\n"
     ]
    }
   ],
   "source": [
    "k_range = list(range(1,3))#list(range(1, 31))\n",
    "k_scores = []\n",
    "for k in k_range:\n",
    "    print(\"Doing k={}\".format(k))\n",
    "    knn = KNeighborsClassifier(n_neighbors=k)\n",
    "    #knn.fit(X, y1)\n",
    "    scores = cross_val_score(knn, X, y1, cv=10, scoring='accuracy')\n",
    "    k_scores.append(scores.mean())\n",
    "print(k_scores)"
   ]
  },
  {
   "cell_type": "markdown",
   "metadata": {},
   "source": [
    "# Using Random Forests"
   ]
  },
  {
   "cell_type": "markdown",
   "metadata": {},
   "source": [
    "We see that we only get 68% and 65% training accuracy with knn. This is probably because we don't know much about the data. For this, random forests prove useful."
   ]
  },
  {
   "cell_type": "markdown",
   "metadata": {},
   "source": [
    "We cite Wikipedia because we think it captures well the spirit of our approach:\n",
    "\n",
    "\n",
    "Decision trees are a popular method for various machine learning tasks. Tree learning \"come[s] closest to meeting the requirements for serving as an off-the-shelf procedure for data mining\", say Hastie et al., because it is invariant under scaling and various other transformations of feature values, is robust to inclusion of irrelevant features, and produces inspectable models. However, they are seldom accurate.[3]:352\n",
    "In particular, trees that are grown very deep tend to learn highly irregular patterns: they overfit their training sets, i.e. have low bias, but very high variance. Random forests are a way of averaging multiple deep decision trees, trained on different parts of the same training set, with the goal of reducing the variance.[3]:587–588 This comes at the expense of a small increase in the bias and some loss of interpretability, but generally greatly boosts the performance of the final model."
   ]
  },
  {
   "cell_type": "markdown",
   "metadata": {},
   "source": [
    "## Influence of different parameters on RandomForestClassifier"
   ]
  },
  {
   "cell_type": "markdown",
   "metadata": {},
   "source": [
    "We choose to train on $y_{avg}$ because it seems to best reflect the rating because we have no way of telling whether rater1 or rater2 is correct. Another approach would be to separately fit two models to rater1 and rater2, apply each model to new input data, and to take the average rating in the end, but this claims that rater1 and rater2 have different characteristics. Fitting the models to data where half of the raters were interchanged would lead to different models, which is strange."
   ]
  },
  {
   "cell_type": "markdown",
   "metadata": {},
   "source": [
    "Note that the choice of the metric is important because our distribution is highly skewed, i.e. there are much more data samples with white skin colors than the opposite, see the data exploration part. We repeat the essential step here."
   ]
  },
  {
   "cell_type": "code",
   "execution_count": 18,
   "metadata": {
    "collapsed": false
   },
   "outputs": [
    {
     "name": "stdout",
     "output_type": "stream",
     "text": [
      "y1: 28319 black out of 113862 (25.0%)\n",
      "y2: 29550 black out of 113862 (26.0%)\n",
      "y_avg: 26310 black out of 113862 (23.0%)\n"
     ]
    }
   ],
   "source": [
    "def getBlackStatistics(y_vec):\n",
    "    nbBlack = sum(y_vec >= 4)\n",
    "    nbTotal = len(y_vec)\n",
    "    percentBlack = round(nbBlack / nbTotal * 100);\n",
    "    return (nbBlack, nbTotal, percentBlack)\n",
    "\n",
    "print(\"y1: {} black out of {} ({}%)\".format(*getBlackStatistics(y1)))\n",
    "print(\"y2: {} black out of {} ({}%)\".format(*getBlackStatistics(y2)))\n",
    "print(\"y_avg: {} black out of {} ({}%)\".format(*getBlackStatistics(y_avg)))"
   ]
  },
  {
   "cell_type": "markdown",
   "metadata": {},
   "source": [
    "We see that the prediction accuracy is not the good measure here (but it is not the most terrible either), hence we choose the F1 score, see https://en.wikipedia.org/wiki/F1_score. A F1-score close to 1 is good. The syntax of the F1-score is:\n",
    "\n",
    "f1_score(y_true, y_pred, labels=None, pos_label=1, average='binary', sample_weight=None)"
   ]
  },
  {
   "cell_type": "markdown",
   "metadata": {},
   "source": [
    "We can look at the confusion matrix that is the generalization of the F1-score to more than two labels (see http://scikit-learn.org/stable/modules/generated/sklearn.metrics.confusion_matrix.html). The f1_score function below is summing over the entries of the confusion matrix. Note, we can also pass the \"scoring=f1_weighted\" to the cross_val_score function, but this weights less the underrepresented class and we don't want this.\n",
    "\n",
    "Below, we could also use average=\"macro\", this takes the average of the F1-scores per class. In the end, we chose to take average=\"micro\" because \"macro\" sets to 0 the F1-score of the classes that are not predicted which is not what we want. We have left commented the version where"
   ]
  },
  {
   "cell_type": "code",
   "execution_count": 19,
   "metadata": {
    "collapsed": false
   },
   "outputs": [],
   "source": [
    "from sklearn.metrics import precision_recall_fscore_support\n",
    "\n",
    "labels = set(range(0,8+1))\n",
    "\n",
    "def f1_score_modif(estimator, X, y_true):\n",
    "    # estimator ignored\n",
    "    y_pred = estimator.predict(X)\n",
    "    \n",
    "    #score = precision_recall_fscore_support(y_true, y_pred)\n",
    "    score = f1_score(y_true, y_pred, average='micro')\n",
    "    \n",
    "    #score = f1_score(y_true, y_pred, average='macro')\n",
    "    # get average per class\n",
    "    #score = f1_score(y_true, y_pred, average=None)\n",
    "    \n",
    "    # suppose that 0 F-score \n",
    "    #y_pred[y_pre]\n",
    "    #predicted_samples_indices = list(map(set(y_pred))\n",
    "    #avg_score = score[predicted_samples_indices].mean()\n",
    "    #return avg_score\n",
    "    \n",
    "    return score"
   ]
  },
  {
   "cell_type": "code",
   "execution_count": 20,
   "metadata": {
    "collapsed": false
   },
   "outputs": [
    {
     "data": {
      "text/plain": [
       "{3, 4, 5, 6, 7, 8}"
      ]
     },
     "execution_count": 20,
     "metadata": {},
     "output_type": "execute_result"
    }
   ],
   "source": [
    "newLabels = labels.difference(set(range(3)))\n",
    "labels\n",
    "newLabels"
   ]
  },
  {
   "cell_type": "markdown",
   "metadata": {},
   "source": [
    "Let's see how different parameters passed to the random forest classifier change the prediction accuracy."
   ]
  },
  {
   "cell_type": "code",
   "execution_count": 21,
   "metadata": {
    "collapsed": false,
    "scrolled": true
   },
   "outputs": [
    {
     "name": "stdout",
     "output_type": "stream",
     "text": [
      "Params: {'max_depth': 2, 'n_estimators': 10}\n",
      "Score: 0.3360024895435623\n",
      "Params: {'max_depth': 8, 'n_estimators': 10}\n",
      "Score: 0.5545539346617672\n",
      "Params: {'max_depth': 2, 'n_estimators': 20}\n",
      "Score: 0.341675463927111\n",
      "Params: {'max_depth': 8, 'n_estimators': 20}\n",
      "Score: 0.5716446267245293\n",
      "Params: {'bootstrap': False, 'max_depth': 2, 'n_estimators': 10}\n",
      "Score: 0.3376008584045772\n",
      "Params: {'max_features': 20, 'max_depth': 12, 'n_estimators': 10}\n",
      "Score: 0.9599613173851564\n"
     ]
    }
   ],
   "source": [
    "params = [  \n",
    "    {'n_estimators': 10, 'max_depth': 2},\n",
    "    {'n_estimators': 10, 'max_depth': 8},\n",
    "    {'n_estimators': 20, 'max_depth': 2},\n",
    "    {'n_estimators': 20, 'max_depth': 8},\n",
    "    {'n_estimators': 10, 'max_depth': 2, 'bootstrap': False},\n",
    "    {'n_estimators': 10, 'max_depth': 12, 'max_features': 20},\n",
    "    #{} # no params\n",
    "         ]\n",
    "    \n",
    "for paramset in params:\n",
    "    print(\"Params: {}\".format(paramset))\n",
    "    forest = RandomForestClassifier(**paramset)\n",
    "    scores = cross_val_score(forest, X, y_avg, cv=10, scoring=f1_score_modif)\n",
    "    print(\"Score: {}\".format(scores.mean()))"
   ]
  },
  {
   "cell_type": "markdown",
   "metadata": {},
   "source": [
    "From the above, we see that it is important to have a sufficiently large max_depth. Let's see what no params at all do. Then, the classifier will choose itself."
   ]
  },
  {
   "cell_type": "code",
   "execution_count": 22,
   "metadata": {
    "collapsed": false
   },
   "outputs": [
    {
     "name": "stdout",
     "output_type": "stream",
     "text": [
      "Score: 0.9933061170112614\n"
     ]
    }
   ],
   "source": [
    "forest = RandomForestClassifier()\n",
    "scores = cross_val_score(forest, X, y_avg, cv=10, scoring=f1_score_modif)\n",
    "print(\"Score: {}\".format(scores.mean()))"
   ]
  },
  {
   "cell_type": "code",
   "execution_count": 23,
   "metadata": {
    "collapsed": false,
    "scrolled": true
   },
   "outputs": [
    {
     "data": {
      "text/plain": [
       "RandomForestClassifier(bootstrap=True, class_weight=None, criterion='gini',\n",
       "            max_depth=None, max_features='auto', max_leaf_nodes=None,\n",
       "            min_samples_leaf=1, min_samples_split=2,\n",
       "            min_weight_fraction_leaf=0.0, n_estimators=10, n_jobs=1,\n",
       "            oob_score=False, random_state=None, verbose=0,\n",
       "            warm_start=False)"
      ]
     },
     "execution_count": 23,
     "metadata": {},
     "output_type": "execute_result"
    }
   ],
   "source": [
    "forest"
   ]
  },
  {
   "cell_type": "markdown",
   "metadata": {},
   "source": [
    "Unfortunately, the default \"forest\" has a lot of parameters that are implicitly specified, but we see that there is no depth restriction which seems is important as above. The default random forest classifier performs better than what we did above."
   ]
  },
  {
   "cell_type": "code",
   "execution_count": 24,
   "metadata": {
    "collapsed": false
   },
   "outputs": [
    {
     "name": "stdout",
     "output_type": "stream",
     "text": [
      "Doing n_estim=1\n",
      "Doing n_estim=2\n",
      "Doing n_estim=3\n",
      "Doing n_estim=5\n",
      "Doing n_estim=10\n",
      "Doing n_estim=20\n",
      "Doing n_estim=30\n",
      "Doing n_estim=50\n",
      "[0.97757821265376799, 0.96464849665227015, 0.99078646987973773, 0.99476535019466739, 0.99728590013968277, 0.99935887409099211, 0.99939398490105058, 0.99960477470480547]\n"
     ]
    }
   ],
   "source": [
    "n_estimators_range = [1, 2, 3, 5, 10, 20, 30, 50]\n",
    "k_scores = []\n",
    "for n_estim in n_estimators_range:\n",
    "    print(\"Doing n_estim={}\".format(n_estim))\n",
    "    forest = RandomForestClassifier(n_estimators = n_estim)\n",
    "    scores = cross_val_score(forest, X, y1, cv=10, scoring=f1_score_modif)\n",
    "    k_scores.append(scores.mean())\n",
    "print(k_scores)"
   ]
  },
  {
   "cell_type": "code",
   "execution_count": 25,
   "metadata": {
    "collapsed": false
   },
   "outputs": [
    {
     "name": "stdout",
     "output_type": "stream",
     "text": [
      "Doing depth=1\n",
      "[ 0.44073749  0.42493415  0.40351185  0.40358272  0.40498771  0.39954338\n",
      "  0.41657885  0.44046365  0.38004917  0.41412013  0.38837168  0.41770595\n",
      "  0.41436852  0.42796908  0.42304989  0.41461701  0.42199578  0.42796908\n",
      "  0.41405975  0.4142355 ]\n",
      "Doing depth=2\n",
      "[ 0.45618964  0.45513608  0.43634767  0.46961714  0.44327362  0.46188971\n",
      "  0.42465753  0.44678609  0.38935722  0.4543379   0.49657474  0.44475672\n",
      "  0.43650097  0.433591    0.45888967  0.42621223  0.42779339  0.45572734\n",
      "  0.428471    0.43550088]\n",
      "Doing depth=3\n",
      "[ 0.45548727  0.4976295   0.45618964  0.48717949  0.45574289  0.46540218\n",
      "  0.42764313  0.47664208  0.41815947  0.47541272  0.50606007  0.46003864\n",
      "  0.44493237  0.45783556  0.47329585  0.43991567  0.45941673  0.4762825\n",
      "  0.44165202  0.46818981]\n",
      "Doing depth=4\n",
      "[ 0.50289728  0.49499561  0.46514486  0.5224798   0.48191078  0.49262381\n",
      "  0.47348086  0.49034071  0.44819108  0.51668423  0.53504304  0.48463025\n",
      "  0.48094151  0.47171469  0.509487    0.47259311  0.48137737  0.49033732\n",
      "  0.46326889  0.4741652 ]\n",
      "Doing depth=6\n",
      "[ 0.5524144   0.55873573  0.54064969  0.57639621  0.54513523  0.556902\n",
      "  0.54689146  0.57165437  0.52827538  0.55057956  0.58405059  0.57228175\n",
      "  0.55173019  0.5414617   0.55744905  0.53742094  0.54409698  0.56711174\n",
      "  0.54815466  0.55817223]\n",
      "Doing depth=8\n",
      "[ 0.66918349  0.64354697  0.66215979  0.67000351  0.68018967  0.69353706\n",
      "  0.62925887  0.64910432  0.67808219  0.67369161  0.71192693  0.65325839\n",
      "  0.6474618   0.66619817  0.6718201   0.65425158  0.67480675  0.70572734\n",
      "  0.63075571  0.67065026]\n",
      "Doing depth=10\n",
      "[ 0.80140474  0.80842845  0.80316067  0.84316825  0.79381805  0.80330172\n",
      "  0.77362136  0.8090973   0.80646294  0.78731999  0.824697    0.78833655\n",
      "  0.80695591  0.83432888  0.82203092  0.806922    0.83011244  0.85576247\n",
      "  0.8198594   0.83075571]\n",
      "Doing depth=15\n",
      "[ 0.985777    0.98296752  0.9833187   0.99332631  0.9940288   0.98788198\n",
      "  0.98208641  0.99227257  0.97769582  0.97997893  0.9919199   0.97839452\n",
      "  0.98102933  0.9917428   0.99156711  0.98612087  0.99139143  0.99508082\n",
      "  0.95413005  0.98137083]\n",
      "Doing depth=20\n",
      "[ 0.99859526  0.99929763  0.99736611  0.99982438  0.99947313  0.99964875\n",
      "  0.99367756  0.99929751  0.99947313  0.99859501  0.99964869  0.99736519\n",
      "  0.99824346  0.9987702   0.99912157  0.99912157  0.99718904  0.99947294\n",
      "  0.99947276  0.99507909]\n",
      "Doing depth=25\n",
      "[ 0.99841967  0.99789289  0.9977173   0.99947313  0.99894626  0.99912188\n",
      "  0.99912188  0.99929751  0.99929751  0.99964875  0.99964869  0.9980678\n",
      "  0.99877042  0.99929726  0.99947294  0.99894589  0.99947294  0.99929726\n",
      "  0.99912127  0.99964851]\n",
      "Doing depth=30\n",
      "[ 0.9977173   0.99894644  0.99982441  0.99964875  0.99894626  0.99894626\n",
      "  0.99859501  0.99947313  0.99947313  1.          0.99894607  0.99964869\n",
      "  0.99912173  0.99824315  0.99964863  0.99929726  0.99982431  0.99964863\n",
      "  0.99982425  0.99666081]\n",
      "Doing depth=35\n",
      "[ 0.99912204  0.99912204  0.99964881  1.          0.99947313  0.99912188\n",
      "  0.99929751  0.99929751  0.99929751  0.99929751  0.99894607  0.99894607\n",
      "  0.99841911  0.99859452  0.99982431  0.99964863  0.99824315  0.99947294\n",
      "  0.99789104  0.99630931]\n",
      "Doing depth=40\n",
      "[ 0.99964881  0.99859526  0.99947322  0.99982438  0.99964875  0.99824377\n",
      "  0.99754127  0.99912188  0.99982438  0.99982438  0.99964869  0.99718953\n",
      "  0.99947304  0.99718904  0.99964863  0.99947294  0.9987702   0.99912157\n",
      "  0.99947276  0.99771529]\n",
      "[0.41464256801346655, 0.44408052751858423, 0.46215537921157346, 0.48761536997182375, 0.55447819328311243, 0.66678072522504528, 0.81247723717497156, 0.98510408403671124, 0.99843664872131566, 0.99903398760750117, 0.99912171138528216, 0.99899865460913817, 0.99897238980452274]\n"
     ]
    }
   ],
   "source": [
    "depth_range = [1, 2, 3, 4, 6, 8, 10, 15, 20, 25, 30, 35, 40]\n",
    "k_scores_depth = []\n",
    "for depth in depth_range:\n",
    "    print(\"Doing depth={}\".format(depth))\n",
    "    forest = RandomForestClassifier(n_estimators = 10, max_depth=depth)\n",
    "    scores = cross_val_score(forest, X, y1, cv=20, scoring=f1_score_modif)\n",
    "    print(scores)\n",
    "    k_scores_depth.append(scores.mean())\n",
    "print(k_scores_depth)"
   ]
  },
  {
   "cell_type": "code",
   "execution_count": 26,
   "metadata": {
    "collapsed": false
   },
   "outputs": [
    {
     "data": {
      "text/plain": [
       "RandomForestClassifier(bootstrap=True, class_weight=None, criterion='gini',\n",
       "            max_depth=40, max_features='auto', max_leaf_nodes=None,\n",
       "            min_samples_leaf=1, min_samples_split=2,\n",
       "            min_weight_fraction_leaf=0.0, n_estimators=10, n_jobs=1,\n",
       "            oob_score=False, random_state=None, verbose=0,\n",
       "            warm_start=False)"
      ]
     },
     "execution_count": 26,
     "metadata": {},
     "output_type": "execute_result"
    }
   ],
   "source": [
    "forest = RandomForestClassifier(n_estimators = 10, max_depth=40)\n",
    "\n",
    "forest"
   ]
  },
  {
   "cell_type": "code",
   "execution_count": 27,
   "metadata": {
    "collapsed": false
   },
   "outputs": [
    {
     "name": "stdout",
     "output_type": "stream",
     "text": [
      "13\n",
      "13\n"
     ]
    }
   ],
   "source": [
    "print(len(k_scores_depth))\n",
    "print(len(depth_range))\n",
    "#depth_range.extend(list(range(13,33,10)))\n",
    "#depth_range"
   ]
  },
  {
   "cell_type": "code",
   "execution_count": 28,
   "metadata": {
    "collapsed": false
   },
   "outputs": [],
   "source": [
    "def plot_cross_validation_error(x, y, xlabelStr):\n",
    "    # y are k_scores, x are the parameters\n",
    "\n",
    "    fig, ax = plt.subplots(nrows=1, ncols=1, figsize=(8, 4))\n",
    "\n",
    "    ax.plot(x, y)\n",
    "    ax.set_xlabel(xlabelStr)\n",
    "    ax.set_ylabel('cross-validation error')\n",
    "\n",
    "    plt.show()"
   ]
  },
  {
   "cell_type": "code",
   "execution_count": 29,
   "metadata": {
    "collapsed": false
   },
   "outputs": [
    {
     "data": {
      "image/png": "[encoded data removed]",
      "text/plain": [
       "<matplotlib.figure.Figure at 0x11abe3400>"
      ]
     },
     "metadata": {},
     "output_type": "display_data"
    },
    {
     "data": {
      "image/png": "[encoded data removed]",
      "text/plain": [
       "<matplotlib.figure.Figure at 0x11abe3f28>"
      ]
     },
     "metadata": {},
     "output_type": "display_data"
    }
   ],
   "source": [
    "plot_cross_validation_error(n_estimators_range, k_scores, xlabelStr='n_estimator')\n",
    "plot_cross_validation_error(depth_range, k_scores_depth, xlabelStr='depth')"
   ]
  },
  {
   "cell_type": "code",
   "execution_count": 30,
   "metadata": {
    "collapsed": false
   },
   "outputs": [
    {
     "data": {
      "text/plain": [
       "8"
      ]
     },
     "execution_count": 30,
     "metadata": {},
     "output_type": "execute_result"
    }
   ],
   "source": [
    "#n_estimators_range = n_estimators_range[1:6]\n",
    "#n_estimators_range.extend([20,30])\n",
    "n_estimators_range = [1, 2, 3, 5, 10, 20, 30, 50]\n",
    "len(n_estimators_range)\n",
    "len(k_scores)"
   ]
  },
  {
   "cell_type": "code",
   "execution_count": 31,
   "metadata": {
    "collapsed": true
   },
   "outputs": [],
   "source": [
    "forest = RandomForestClassifier(n_estimators = 20)\n",
    "scores = cross_val_score(forest, X, y1, cv=10, scoring=f1_score_modif)"
   ]
  },
  {
   "cell_type": "code",
   "execution_count": 32,
   "metadata": {
    "collapsed": false
   },
   "outputs": [
    {
     "data": {
      "text/plain": [
       "RandomForestClassifier(bootstrap=True, class_weight=None, criterion='gini',\n",
       "            max_depth=None, max_features='auto', max_leaf_nodes=None,\n",
       "            min_samples_leaf=1, min_samples_split=2,\n",
       "            min_weight_fraction_leaf=0.0, n_estimators=20, n_jobs=1,\n",
       "            oob_score=False, random_state=None, verbose=0,\n",
       "            warm_start=False)"
      ]
     },
     "execution_count": 32,
     "metadata": {},
     "output_type": "execute_result"
    }
   ],
   "source": [
    "forest = RandomForestClassifier(n_estimators = 20)\n",
    "forest.fit(X,y1)"
   ]
  },
  {
   "cell_type": "code",
   "execution_count": 33,
   "metadata": {
    "collapsed": false
   },
   "outputs": [],
   "source": [
    "featureNames = X.columns\n",
    "def info_and_plot_feature_importances(forest):\n",
    "\n",
    "    importances = forest.feature_importances_\n",
    "    std = np.std([tree.feature_importances_ for tree in forest.estimators_],\n",
    "                 axis=0)\n",
    "    indices = np.argsort(importances)[::-1] # backward order\n",
    "\n",
    "    # Print the feature ranking\n",
    "    print(\"Feature ranking:\")\n",
    "\n",
    "    for f in range(X.shape[1]):\n",
    "        print(\"%d. feature '%s' (feature index %d) (%f)\" % (f + 1, featureNames[indices[f]], indices[f], importances[indices[f]]))\n",
    "\n",
    "    # Plot the feature importances of the forest\n",
    "    plt.figure()\n",
    "    plt.title(\"Feature importances\")\n",
    "    plt.bar(range(X.shape[1]), importances[indices],\n",
    "           color=\"r\", yerr=std[indices], align=\"center\")\n",
    "    plt.xticks(range(X.shape[1]), indices)\n",
    "    plt.xlim([-1, X.shape[1]])\n",
    "    plt.show()\n"
   ]
  },
  {
   "cell_type": "code",
   "execution_count": 34,
   "metadata": {
    "collapsed": false
   },
   "outputs": [
    {
     "name": "stdout",
     "output_type": "stream",
     "text": [
      "Feature ranking:\n",
      "1. feature 'photoID' (feature index 16) (0.135389)\n",
      "2. feature 'birthday' (feature index 4) (0.125585)\n",
      "3. feature 'player' (feature index 1) (0.123950)\n",
      "4. feature 'playerShort' (feature index 0) (0.121710)\n",
      "5. feature 'club' (feature index 2) (0.118742)\n",
      "6. feature 'weight' (feature index 6) (0.106435)\n",
      "7. feature 'height' (feature index 5) (0.103674)\n",
      "8. feature 'position' (feature index 7) (0.084964)\n",
      "9. feature 'leagueCountry' (feature index 3) (0.037280)\n",
      "10. feature 'meanIAT' (feature index 19) (0.005022)\n",
      "11. feature 'nIAT' (feature index 20) (0.004626)\n",
      "12. feature 'meanExp' (feature index 22) (0.004525)\n",
      "13. feature 'nExp' (feature index 23) (0.004243)\n",
      "14. feature 'Alpha_3' (feature index 18) (0.003594)\n",
      "15. feature 'games' (feature index 8) (0.003173)\n",
      "16. feature 'seIAT' (feature index 21) (0.003134)\n",
      "17. feature 'seExp' (feature index 24) (0.002814)\n",
      "18. feature 'goals' (feature index 12) (0.002395)\n",
      "19. feature 'refNum' (feature index 17) (0.002335)\n",
      "20. feature 'victories' (feature index 9) (0.002314)\n",
      "21. feature 'defeats' (feature index 11) (0.001524)\n",
      "22. feature 'yellowCards' (feature index 13) (0.001284)\n",
      "23. feature 'ties' (feature index 10) (0.001105)\n",
      "24. feature 'yellowReds' (feature index 14) (0.000096)\n",
      "25. feature 'redCards' (feature index 15) (0.000091)\n"
     ]
    },
    {
     "data": {
      "image/png": "[encoded data removed]",
      "text/plain": [
       "<matplotlib.figure.Figure at 0x11865ef98>"
      ]
     },
     "metadata": {},
     "output_type": "display_data"
    }
   ],
   "source": [
    "info_and_plot_feature_importances(forest)"
   ]
  },
  {
   "cell_type": "markdown",
   "metadata": {},
   "source": [
    "# Task 2"
   ]
  },
  {
   "cell_type": "code",
   "execution_count": 35,
   "metadata": {
    "collapsed": false
   },
   "outputs": [],
   "source": [
    "from sklearn.cluster import KMeans"
   ]
  },
  {
   "cell_type": "code",
   "execution_count": 36,
   "metadata": {
    "collapsed": false
   },
   "outputs": [
    {
     "data": {
      "text/plain": [
       "array([0, 1])"
      ]
     },
     "execution_count": 36,
     "metadata": {},
     "output_type": "execute_result"
    }
   ],
   "source": [
    "kmeansClassifier = KMeans(n_clusters=2)\n",
    "kmeansClassifier.fit(X)\n",
    "yPred = kmeansClassifier.predict(X)\n",
    "yPred\n",
    "pd.unique(pd.Series(yPred))\n",
    "#metrics.accuracy_score(y, y_pred))"
   ]
  },
  {
   "cell_type": "code",
   "execution_count": 37,
   "metadata": {
    "collapsed": false
   },
   "outputs": [],
   "source": [
    "def clusterAssignmentAccuracy(estimator, X, y_true):\n",
    "    y_pred = estimator.predict(X)\n",
    "    \n",
    "    #print(y_pred)\n",
    "    #print(y_true)\n",
    "    \n",
    "    # we have to take the minimum because the cluster assignment is ambiguous\n",
    "    agreeingEntries = (np.array(y_pred) == np.array(y_true))\n",
    "    disAgreeingEntries = (np.array(y_pred) != np.array(y_true))\n",
    "    fractionAgreeing = sum(agreeingEntries)/len(agreeingEntries)\n",
    "    fractionDisagreeing = sum(disAgreeingEntries)/len(disAgreeingEntries)\n",
    "    \n",
    "    return max(fractionAgreeing, fractionDisagreeing)"
   ]
  },
  {
   "cell_type": "code",
   "execution_count": 38,
   "metadata": {
    "collapsed": true
   },
   "outputs": [],
   "source": [
    "yBlackBinary = y_avg\n",
    "yBlackBinary[y_avg >= 4] = 0\n",
    "yBlackBinary[y_avg < 4] = 1\n",
    "#yBlackBinary = np.asarray(yBlackBinary)"
   ]
  },
  {
   "cell_type": "code",
   "execution_count": 39,
   "metadata": {
    "collapsed": false
   },
   "outputs": [
    {
     "name": "stdout",
     "output_type": "stream",
     "text": [
      "Doing pas=2\n",
      "[ 1.          0.99481865  1.          0.99762867  0.98735289  0.99727736\n",
      "  0.99393993  1.          0.9957843   0.99604778]\n",
      "[0.99628495680087092]\n"
     ]
    }
   ],
   "source": [
    "\n",
    "\n",
    "pas_vals = [2]\n",
    "score_clustering = []\n",
    "for pas in pas_vals:\n",
    "    print(\"Doing pas={}\".format(pas))\n",
    "    kmeansClassifier = KMeans(n_clusters=2)\n",
    "    scores = cross_val_score(kmeansClassifier, X, yBlackBinary, cv=10, scoring=clusterAssignmentAccuracy)\n",
    "    print(scores)\n",
    "    score_clustering.append(scores.mean())\n",
    "print(score_clustering)"
   ]
  },
  {
   "cell_type": "code",
   "execution_count": 40,
   "metadata": {
    "collapsed": false
   },
   "outputs": [
    {
     "data": {
      "text/plain": [
       "[0.99628495680087092]"
      ]
     },
     "execution_count": 40,
     "metadata": {},
     "output_type": "execute_result"
    }
   ],
   "source": [
    "score_clustering"
   ]
  },
  {
   "cell_type": "code",
   "execution_count": null,
   "metadata": {
    "collapsed": true
   },
   "outputs": [],
   "source": []
  }
 ],
 "metadata": {
  "kernelspec": {
   "display_name": "Python [Root]",
   "language": "python",
   "name": "Python [Root]"
  },
  "language_info": {
   "codemirror_mode": {
    "name": "ipython",
    "version": 3
   },
   "file_extension": ".py",
   "mimetype": "text/x-python",
   "name": "python",
   "nbconvert_exporter": "python",
   "pygments_lexer": "ipython3",
   "version": "3.5.2"
  }
 },
 "nbformat": 4,
 "nbformat_minor": 0
}
