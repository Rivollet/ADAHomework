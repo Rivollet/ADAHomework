{
 "cells": [
  {
   "cell_type": "markdown",
   "metadata": {},
   "source": [
    "# Homework 4 - Applied Machine Learning"
   ]
  },
  {
   "cell_type": "markdown",
   "metadata": {},
   "source": [
    "This notebook corresponds the Homework 4. Firsly, we are going to explore and clean the data we have. Then, we are going to process some Machine Learning on these data.\n",
    "\n",
    "We are going to work with the data from the CrowdstormingDataJuly1st.csv file, which represent all players playing in the first male divisions of England, Germany, France and Spain in the 2012-2013 season and all referees that these players played under in their professional career. Each row of the tables is a dyad containing information about a player given by a specific referee (for example the number of yellow cards given by this referee to the player) and also some statistics about racial bias in the referee's home country.\n",
    "\n",
    "\n",
    "Our objectif is to determine the skin color of a player depending on its characteristics. In the first part, we are going to do some supervised machine learning by training a classifier. The second task will consist in processing some unsuppervised machine learning by clustering the data. "
   ]
  },
  {
   "cell_type": "markdown",
   "metadata": {},
   "source": [
    "### Imports"
   ]
  },
  {
   "cell_type": "markdown",
   "metadata": {},
   "source": [
    "We start with the usual imports"
   ]
  },
  {
   "cell_type": "code",
   "execution_count": 1,
   "metadata": {
    "collapsed": true
   },
   "outputs": [],
   "source": [
    "import pandas as pd                                     # for dealing with csv import\n",
    "import numpy as np                                      # arrays and other matlab like manipulation\n",
    "import os                                               # for joining paths and filenames sensibly\n",
    "import matplotlib.pyplot as plt                         # Matplotlib's pyplot: MATLAB-like syntax\n",
    "import scipy.stats.mstats as ssm                        # for bootstrap\n",
    "from scipy.stats import gaussian_kde as kde\n",
    "import random\n",
    "\n",
    "%matplotlib inline\n",
    "import seaborn as sns                                   # For pretty plots"
   ]
  },
  {
   "cell_type": "markdown",
   "metadata": {},
   "source": [
    "### Uploading the data"
   ]
  },
  {
   "cell_type": "code",
   "execution_count": 2,
   "metadata": {
    "collapsed": true
   },
   "outputs": [],
   "source": [
    "filename = 'CrowdstormingDataJuly1st.csv'\n",
    "df = pd.read_csv(filename)"
   ]
  },
  {
   "cell_type": "markdown",
   "metadata": {},
   "source": [
    "# 0. Data Exploration and cleaning"
   ]
  },
  {
   "cell_type": "markdown",
   "metadata": {},
   "source": [
    "Let's observe our data structure. First we see that we have 146028 initial rows with 28 parameters each."
   ]
  },
  {
   "cell_type": "code",
   "execution_count": 3,
   "metadata": {
    "collapsed": false
   },
   "outputs": [
    {
     "data": {
      "text/plain": [
       "(146028, 28)"
      ]
     },
     "execution_count": 3,
     "metadata": {},
     "output_type": "execute_result"
    }
   ],
   "source": [
    "df.shape"
   ]
  },
  {
   "cell_type": "markdown",
   "metadata": {},
   "source": [
    "The 10 first parameters of the lines 100 to 105 are shown bellow. (We look at the parameters in two tables for better vizualisation)"
   ]
  },
  {
   "cell_type": "code",
   "execution_count": 4,
   "metadata": {
    "collapsed": false,
    "scrolled": true
   },
   "outputs": [
    {
     "data": {
      "text/html": [
       "<div>\n",
       "<table border=\"1\" class=\"dataframe\">\n",
       "  <thead>\n",
       "    <tr style=\"text-align: right;\">\n",
       "      <th></th>\n",
       "      <th>playerShort</th>\n",
       "      <th>player</th>\n",
       "      <th>club</th>\n",
       "      <th>leagueCountry</th>\n",
       "      <th>birthday</th>\n",
       "      <th>height</th>\n",
       "      <th>weight</th>\n",
       "      <th>position</th>\n",
       "      <th>games</th>\n",
       "      <th>victories</th>\n",
       "      <th>ties</th>\n",
       "      <th>defeats</th>\n",
       "    </tr>\n",
       "  </thead>\n",
       "  <tbody>\n",
       "    <tr>\n",
       "      <th>100</th>\n",
       "      <td>fousseni-diawara</td>\n",
       "      <td>Fousseni Diawara</td>\n",
       "      <td>AC Ajaccio</td>\n",
       "      <td>France</td>\n",
       "      <td>28.08.1980</td>\n",
       "      <td>183.0</td>\n",
       "      <td>71.0</td>\n",
       "      <td>NaN</td>\n",
       "      <td>1</td>\n",
       "      <td>0</td>\n",
       "      <td>1</td>\n",
       "      <td>0</td>\n",
       "    </tr>\n",
       "    <tr>\n",
       "      <th>101</th>\n",
       "      <td>franck-signorino</td>\n",
       "      <td>Franck Signorino</td>\n",
       "      <td>Stade Reims</td>\n",
       "      <td>France</td>\n",
       "      <td>19.09.1981</td>\n",
       "      <td>173.0</td>\n",
       "      <td>69.0</td>\n",
       "      <td>Left Fullback</td>\n",
       "      <td>2</td>\n",
       "      <td>2</td>\n",
       "      <td>0</td>\n",
       "      <td>0</td>\n",
       "    </tr>\n",
       "    <tr>\n",
       "      <th>102</th>\n",
       "      <td>francois-marque</td>\n",
       "      <td>François Marque</td>\n",
       "      <td>SC Bastia</td>\n",
       "      <td>France</td>\n",
       "      <td>31.07.1983</td>\n",
       "      <td>187.0</td>\n",
       "      <td>85.0</td>\n",
       "      <td>Center Back</td>\n",
       "      <td>2</td>\n",
       "      <td>0</td>\n",
       "      <td>1</td>\n",
       "      <td>1</td>\n",
       "    </tr>\n",
       "    <tr>\n",
       "      <th>103</th>\n",
       "      <td>frederic-duplus</td>\n",
       "      <td>Frédéric Duplus</td>\n",
       "      <td>FC Sochaux</td>\n",
       "      <td>France</td>\n",
       "      <td>07.04.1990</td>\n",
       "      <td>175.0</td>\n",
       "      <td>66.0</td>\n",
       "      <td>Left Fullback</td>\n",
       "      <td>1</td>\n",
       "      <td>0</td>\n",
       "      <td>1</td>\n",
       "      <td>0</td>\n",
       "    </tr>\n",
       "    <tr>\n",
       "      <th>104</th>\n",
       "      <td>frederic-sammaritano</td>\n",
       "      <td>Frédéric Sammaritano</td>\n",
       "      <td>AC Ajaccio</td>\n",
       "      <td>France</td>\n",
       "      <td>23.03.1986</td>\n",
       "      <td>162.0</td>\n",
       "      <td>61.0</td>\n",
       "      <td>NaN</td>\n",
       "      <td>6</td>\n",
       "      <td>1</td>\n",
       "      <td>3</td>\n",
       "      <td>2</td>\n",
       "    </tr>\n",
       "    <tr>\n",
       "      <th>105</th>\n",
       "      <td>gael-angoula</td>\n",
       "      <td>Gaël Angoula</td>\n",
       "      <td>SC Bastia</td>\n",
       "      <td>France</td>\n",
       "      <td>18.07.1982</td>\n",
       "      <td>177.0</td>\n",
       "      <td>75.0</td>\n",
       "      <td>NaN</td>\n",
       "      <td>1</td>\n",
       "      <td>1</td>\n",
       "      <td>0</td>\n",
       "      <td>0</td>\n",
       "    </tr>\n",
       "  </tbody>\n",
       "</table>\n",
       "</div>"
      ],
      "text/plain": [
       "              playerShort                player         club leagueCountry  \\\n",
       "100      fousseni-diawara      Fousseni Diawara   AC Ajaccio        France   \n",
       "101      franck-signorino      Franck Signorino  Stade Reims        France   \n",
       "102       francois-marque       François Marque    SC Bastia        France   \n",
       "103       frederic-duplus       Frédéric Duplus   FC Sochaux        France   \n",
       "104  frederic-sammaritano  Frédéric Sammaritano   AC Ajaccio        France   \n",
       "105          gael-angoula          Gaël Angoula    SC Bastia        France   \n",
       "\n",
       "       birthday  height  weight       position  games  victories  ties  \\\n",
       "100  28.08.1980   183.0    71.0            NaN      1          0     1   \n",
       "101  19.09.1981   173.0    69.0  Left Fullback      2          2     0   \n",
       "102  31.07.1983   187.0    85.0    Center Back      2          0     1   \n",
       "103  07.04.1990   175.0    66.0  Left Fullback      1          0     1   \n",
       "104  23.03.1986   162.0    61.0            NaN      6          1     3   \n",
       "105  18.07.1982   177.0    75.0            NaN      1          1     0   \n",
       "\n",
       "     defeats  \n",
       "100        0  \n",
       "101        0  \n",
       "102        1  \n",
       "103        0  \n",
       "104        2  \n",
       "105        0  "
      ]
     },
     "execution_count": 4,
     "metadata": {},
     "output_type": "execute_result"
    }
   ],
   "source": [
    "df.head()\n",
    "df.ix[100:105,:12]"
   ]
  },
  {
   "cell_type": "code",
   "execution_count": 5,
   "metadata": {
    "collapsed": false,
    "scrolled": false
   },
   "outputs": [
    {
     "data": {
      "text/html": [
       "<div>\n",
       "<table border=\"1\" class=\"dataframe\">\n",
       "  <thead>\n",
       "    <tr style=\"text-align: right;\">\n",
       "      <th></th>\n",
       "      <th>goals</th>\n",
       "      <th>yellowCards</th>\n",
       "      <th>yellowReds</th>\n",
       "      <th>redCards</th>\n",
       "      <th>photoID</th>\n",
       "      <th>rater1</th>\n",
       "      <th>rater2</th>\n",
       "      <th>refNum</th>\n",
       "      <th>refCountry</th>\n",
       "      <th>Alpha_3</th>\n",
       "      <th>meanIAT</th>\n",
       "      <th>nIAT</th>\n",
       "      <th>seIAT</th>\n",
       "      <th>meanExp</th>\n",
       "      <th>nExp</th>\n",
       "      <th>seExp</th>\n",
       "    </tr>\n",
       "  </thead>\n",
       "  <tbody>\n",
       "    <tr>\n",
       "      <th>100</th>\n",
       "      <td>0</td>\n",
       "      <td>0</td>\n",
       "      <td>0</td>\n",
       "      <td>0</td>\n",
       "      <td>18905.jpg</td>\n",
       "      <td>0.75</td>\n",
       "      <td>1.00</td>\n",
       "      <td>7</td>\n",
       "      <td>7</td>\n",
       "      <td>FRA</td>\n",
       "      <td>0.334684</td>\n",
       "      <td>2882.0</td>\n",
       "      <td>0.000151</td>\n",
       "      <td>0.336101</td>\n",
       "      <td>3011.0</td>\n",
       "      <td>0.000586</td>\n",
       "    </tr>\n",
       "    <tr>\n",
       "      <th>101</th>\n",
       "      <td>0</td>\n",
       "      <td>0</td>\n",
       "      <td>0</td>\n",
       "      <td>0</td>\n",
       "      <td>11653.jpg</td>\n",
       "      <td>0.00</td>\n",
       "      <td>0.00</td>\n",
       "      <td>7</td>\n",
       "      <td>7</td>\n",
       "      <td>FRA</td>\n",
       "      <td>0.334684</td>\n",
       "      <td>2882.0</td>\n",
       "      <td>0.000151</td>\n",
       "      <td>0.336101</td>\n",
       "      <td>3011.0</td>\n",
       "      <td>0.000586</td>\n",
       "    </tr>\n",
       "    <tr>\n",
       "      <th>102</th>\n",
       "      <td>0</td>\n",
       "      <td>0</td>\n",
       "      <td>0</td>\n",
       "      <td>0</td>\n",
       "      <td>NaN</td>\n",
       "      <td>NaN</td>\n",
       "      <td>NaN</td>\n",
       "      <td>7</td>\n",
       "      <td>7</td>\n",
       "      <td>FRA</td>\n",
       "      <td>0.334684</td>\n",
       "      <td>2882.0</td>\n",
       "      <td>0.000151</td>\n",
       "      <td>0.336101</td>\n",
       "      <td>3011.0</td>\n",
       "      <td>0.000586</td>\n",
       "    </tr>\n",
       "    <tr>\n",
       "      <th>103</th>\n",
       "      <td>0</td>\n",
       "      <td>0</td>\n",
       "      <td>0</td>\n",
       "      <td>0</td>\n",
       "      <td>NaN</td>\n",
       "      <td>NaN</td>\n",
       "      <td>NaN</td>\n",
       "      <td>7</td>\n",
       "      <td>7</td>\n",
       "      <td>FRA</td>\n",
       "      <td>0.334684</td>\n",
       "      <td>2882.0</td>\n",
       "      <td>0.000151</td>\n",
       "      <td>0.336101</td>\n",
       "      <td>3011.0</td>\n",
       "      <td>0.000586</td>\n",
       "    </tr>\n",
       "    <tr>\n",
       "      <th>104</th>\n",
       "      <td>0</td>\n",
       "      <td>0</td>\n",
       "      <td>0</td>\n",
       "      <td>0</td>\n",
       "      <td>124957.jpg</td>\n",
       "      <td>0.25</td>\n",
       "      <td>0.25</td>\n",
       "      <td>7</td>\n",
       "      <td>7</td>\n",
       "      <td>FRA</td>\n",
       "      <td>0.334684</td>\n",
       "      <td>2882.0</td>\n",
       "      <td>0.000151</td>\n",
       "      <td>0.336101</td>\n",
       "      <td>3011.0</td>\n",
       "      <td>0.000586</td>\n",
       "    </tr>\n",
       "    <tr>\n",
       "      <th>105</th>\n",
       "      <td>0</td>\n",
       "      <td>0</td>\n",
       "      <td>0</td>\n",
       "      <td>0</td>\n",
       "      <td>NaN</td>\n",
       "      <td>NaN</td>\n",
       "      <td>NaN</td>\n",
       "      <td>7</td>\n",
       "      <td>7</td>\n",
       "      <td>FRA</td>\n",
       "      <td>0.334684</td>\n",
       "      <td>2882.0</td>\n",
       "      <td>0.000151</td>\n",
       "      <td>0.336101</td>\n",
       "      <td>3011.0</td>\n",
       "      <td>0.000586</td>\n",
       "    </tr>\n",
       "  </tbody>\n",
       "</table>\n",
       "</div>"
      ],
      "text/plain": [
       "     goals  yellowCards  yellowReds  redCards     photoID  rater1  rater2  \\\n",
       "100      0            0           0         0   18905.jpg    0.75    1.00   \n",
       "101      0            0           0         0   11653.jpg    0.00    0.00   \n",
       "102      0            0           0         0         NaN     NaN     NaN   \n",
       "103      0            0           0         0         NaN     NaN     NaN   \n",
       "104      0            0           0         0  124957.jpg    0.25    0.25   \n",
       "105      0            0           0         0         NaN     NaN     NaN   \n",
       "\n",
       "     refNum  refCountry Alpha_3   meanIAT    nIAT     seIAT   meanExp    nExp  \\\n",
       "100       7           7     FRA  0.334684  2882.0  0.000151  0.336101  3011.0   \n",
       "101       7           7     FRA  0.334684  2882.0  0.000151  0.336101  3011.0   \n",
       "102       7           7     FRA  0.334684  2882.0  0.000151  0.336101  3011.0   \n",
       "103       7           7     FRA  0.334684  2882.0  0.000151  0.336101  3011.0   \n",
       "104       7           7     FRA  0.334684  2882.0  0.000151  0.336101  3011.0   \n",
       "105       7           7     FRA  0.334684  2882.0  0.000151  0.336101  3011.0   \n",
       "\n",
       "        seExp  \n",
       "100  0.000586  \n",
       "101  0.000586  \n",
       "102  0.000586  \n",
       "103  0.000586  \n",
       "104  0.000586  \n",
       "105  0.000586  "
      ]
     },
     "execution_count": 5,
     "metadata": {},
     "output_type": "execute_result"
    }
   ],
   "source": [
    "df.ix[100:105,12:]"
   ]
  },
  {
   "cell_type": "markdown",
   "metadata": {},
   "source": [
    "The parameters *rater1* and *rater2* are skin rating of the player photo given by two differents raters (5-point scale ranging from “very light skin” (0.00 value) to “very dark skin” (1.00 value)).\n",
    "\n",
    "We observe that there are some NaN values for rater1 and rater2. In these cases, no picture was available for this player. The correlation seems obvious because the raters used the player photo to determine its skin color, but let's verify it:"
   ]
  },
  {
   "cell_type": "code",
   "execution_count": 6,
   "metadata": {
    "collapsed": false
   },
   "outputs": [
    {
     "name": "stdout",
     "output_type": "stream",
     "text": [
      "Both rates missing iff one rate missing: True\n",
      "Photo missing iff rating missing: True\n"
     ]
    }
   ],
   "source": [
    "notRatedAtAll = (df.rater1.isnull() & df.rater2.isnull())\n",
    "partiallyRated = (df.rater1.isnull() | df.rater2.isnull())\n",
    "photoMissing = df.photoID.isnull()\n",
    "\n",
    "print(\"Both rates missing iff one rate missing: {}\".format( all(notRatedAtAll == partiallyRated)))\n",
    "\n",
    "print(\"Photo missing iff rating missing: {}\".format( all(notRatedAtAll == photoMissing)))"
   ]
  },
  {
   "cell_type": "markdown",
   "metadata": {},
   "source": [
    "Our objectif is to determine the skin color of a player depending on its characteristics with the use of a classifier. Therefore, the players for which we don't have any information on their skin color will not be interesting for us. We can therefore drop theses specific rows."
   ]
  },
  {
   "cell_type": "markdown",
   "metadata": {},
   "source": [
    "Let's check how many rows is concerned by this lack of information"
   ]
  },
  {
   "cell_type": "code",
   "execution_count": 7,
   "metadata": {
    "collapsed": false,
    "scrolled": true
   },
   "outputs": [
    {
     "data": {
      "text/plain": [
       "21407"
      ]
     },
     "execution_count": 7,
     "metadata": {},
     "output_type": "execute_result"
    }
   ],
   "source": [
    "(df.photoID.isnull()).sum()"
   ]
  },
  {
   "cell_type": "code",
   "execution_count": 8,
   "metadata": {
    "collapsed": false
   },
   "outputs": [
    {
     "data": {
      "text/plain": [
       "(146028, 28)"
      ]
     },
     "execution_count": 8,
     "metadata": {},
     "output_type": "execute_result"
    }
   ],
   "source": [
    "df.shape"
   ]
  },
  {
   "cell_type": "code",
   "execution_count": 9,
   "metadata": {
    "collapsed": false
   },
   "outputs": [
    {
     "data": {
      "text/plain": [
       "14.659517352836444"
      ]
     },
     "execution_count": 9,
     "metadata": {},
     "output_type": "execute_result"
    }
   ],
   "source": [
    "(df.photoID.isnull()).sum()/df.shape[0]*100"
   ]
  },
  {
   "cell_type": "markdown",
   "metadata": {},
   "source": [
    "Therefore, more or less 14.7% of our data are concerned by this lack, but we don't have any other choice that drop them because theses rows do not bring us more information."
   ]
  },
  {
   "cell_type": "code",
   "execution_count": 10,
   "metadata": {
    "collapsed": false
   },
   "outputs": [
    {
     "data": {
      "text/plain": [
       "(124621, 28)"
      ]
     },
     "execution_count": 10,
     "metadata": {},
     "output_type": "execute_result"
    }
   ],
   "source": [
    "df = df[(df.photoID.isnull() == False)]\n",
    "df.shape"
   ]
  },
  {
   "cell_type": "markdown",
   "metadata": {},
   "source": [
    "Let's check if we correctly removed all the NaNs for the rater1 and rater2 parameters"
   ]
  },
  {
   "cell_type": "code",
   "execution_count": 11,
   "metadata": {
    "collapsed": false
   },
   "outputs": [
    {
     "data": {
      "text/plain": [
       "playerShort      False\n",
       "player           False\n",
       "club             False\n",
       "leagueCountry    False\n",
       "birthday         False\n",
       "height            True\n",
       "weight            True\n",
       "position          True\n",
       "games            False\n",
       "victories        False\n",
       "ties             False\n",
       "defeats          False\n",
       "goals            False\n",
       "yellowCards      False\n",
       "yellowReds       False\n",
       "redCards         False\n",
       "photoID          False\n",
       "rater1           False\n",
       "rater2           False\n",
       "refNum           False\n",
       "refCountry       False\n",
       "Alpha_3           True\n",
       "meanIAT           True\n",
       "nIAT              True\n",
       "seIAT             True\n",
       "meanExp           True\n",
       "nExp              True\n",
       "seExp             True\n",
       "dtype: bool"
      ]
     },
     "execution_count": 11,
     "metadata": {},
     "output_type": "execute_result"
    }
   ],
   "source": [
    "df.isnull().any()"
   ]
  },
  {
   "cell_type": "markdown",
   "metadata": {},
   "source": [
    "Note also that we don't need the the parameter photoID anymore, so we can drop it:"
   ]
  },
  {
   "cell_type": "code",
   "execution_count": 12,
   "metadata": {
    "collapsed": true
   },
   "outputs": [],
   "source": [
    "df = df.drop(['photoID'], axis=1)"
   ]
  },
  {
   "cell_type": "markdown",
   "metadata": {},
   "source": [
    "Here, we have an other problem. For many entries (28907, i.e 23%), the two raters do not give us similar result."
   ]
  },
  {
   "cell_type": "code",
   "execution_count": 13,
   "metadata": {
    "collapsed": false
   },
   "outputs": [
    {
     "data": {
      "text/plain": [
       "28907"
      ]
     },
     "execution_count": 13,
     "metadata": {},
     "output_type": "execute_result"
    }
   ],
   "source": [
    "(df.rater1 != df.rater2).sum()"
   ]
  },
  {
   "cell_type": "code",
   "execution_count": 14,
   "metadata": {
    "collapsed": false
   },
   "outputs": [
    {
     "data": {
      "text/plain": [
       "23.195930059941745"
      ]
     },
     "execution_count": 14,
     "metadata": {},
     "output_type": "execute_result"
    }
   ],
   "source": [
    "(df.rater1 != df.rater2).sum() / df.shape[0] * 100"
   ]
  },
  {
   "cell_type": "markdown",
   "metadata": {},
   "source": [
    "In order to counter this issue, we can take the euclidian mean value between the two rates of each row. Let's observe that the mean value representes correctly the situation. Let's calculate the mean rate for each column and the difference between the two rates to see if sometimes the raters give opposite results."
   ]
  },
  {
   "cell_type": "code",
   "execution_count": 15,
   "metadata": {
    "collapsed": false
   },
   "outputs": [],
   "source": [
    "ratingsDf = df[['rater1', 'rater2']].copy()\n",
    "\n",
    "# Computing the mean\n",
    "ratingsDf['avgRate'] = (ratingsDf['rater1'] + ratingsDf['rater2']) / 2\n",
    "\n",
    "# Computing the difference\n",
    "ratingsDf['diffRate12'] = ratingsDf['rater1'] - ratingsDf['rater2']"
   ]
  },
  {
   "cell_type": "code",
   "execution_count": 16,
   "metadata": {
    "collapsed": false
   },
   "outputs": [
    {
     "data": {
      "image/png": "[encoded data removed]",
      "text/plain": [
       "<matplotlib.figure.Figure at 0x11b2ef7b8>"
      ]
     },
     "metadata": {},
     "output_type": "display_data"
    }
   ],
   "source": [
    "fig, axes = plt.subplots(nrows=2, ncols=2, figsize=(12, 4))\n",
    "\n",
    "ratingsDf[['rater1']].plot.hist(ax=axes[0][0])\n",
    "ratingsDf[['rater2']].plot.hist(ax=axes[0][1])\n",
    "ratingsDf[['avgRate']].plot.hist(ax=axes[1][0])\n",
    "ratingsDf[['diffRate12']].plot.hist(ax=axes[1][1]);"
   ]
  },
  {
   "cell_type": "markdown",
   "metadata": {},
   "source": [
    "Firstly, we observe that most of the time, when the raters give different result, their values are only separated by 0.25, which means that the computing the mean rates should be consitent to represent the data. This is confirmed if we take a look at the average rate histogram. It looks very similar to the two rates histogram. In order to confirm that, let's get a look at the correlation matrix:"
   ]
  },
  {
   "cell_type": "code",
   "execution_count": 17,
   "metadata": {
    "collapsed": false
   },
   "outputs": [
    {
     "data": {
      "text/html": [
       "<div>\n",
       "<table border=\"1\" class=\"dataframe\">\n",
       "  <thead>\n",
       "    <tr style=\"text-align: right;\">\n",
       "      <th></th>\n",
       "      <th>rater1</th>\n",
       "      <th>rater2</th>\n",
       "      <th>avgRate</th>\n",
       "      <th>diffRate12</th>\n",
       "    </tr>\n",
       "  </thead>\n",
       "  <tbody>\n",
       "    <tr>\n",
       "      <th>rater1</th>\n",
       "      <td>1.000000</td>\n",
       "      <td>0.923467</td>\n",
       "      <td>0.980837</td>\n",
       "      <td>0.215314</td>\n",
       "    </tr>\n",
       "    <tr>\n",
       "      <th>rater2</th>\n",
       "      <td>0.923467</td>\n",
       "      <td>1.000000</td>\n",
       "      <td>0.980523</td>\n",
       "      <td>-0.175843</td>\n",
       "    </tr>\n",
       "    <tr>\n",
       "      <th>avgRate</th>\n",
       "      <td>0.980837</td>\n",
       "      <td>0.980523</td>\n",
       "      <td>1.000000</td>\n",
       "      <td>0.020925</td>\n",
       "    </tr>\n",
       "    <tr>\n",
       "      <th>diffRate12</th>\n",
       "      <td>0.215314</td>\n",
       "      <td>-0.175843</td>\n",
       "      <td>0.020925</td>\n",
       "      <td>1.000000</td>\n",
       "    </tr>\n",
       "  </tbody>\n",
       "</table>\n",
       "</div>"
      ],
      "text/plain": [
       "              rater1    rater2   avgRate  diffRate12\n",
       "rater1      1.000000  0.923467  0.980837    0.215314\n",
       "rater2      0.923467  1.000000  0.980523   -0.175843\n",
       "avgRate     0.980837  0.980523  1.000000    0.020925\n",
       "diffRate12  0.215314 -0.175843  0.020925    1.000000"
      ]
     },
     "execution_count": 17,
     "metadata": {},
     "output_type": "execute_result"
    }
   ],
   "source": [
    "ratingsDf.corr()"
   ]
  },
  {
   "cell_type": "markdown",
   "metadata": {},
   "source": [
    "We see that the correlation of the *avgRate* is very high for both raters. Therefore, let's replace rater1 and rater2 values by their mean in our data and use it for further analysis."
   ]
  },
  {
   "cell_type": "code",
   "execution_count": 18,
   "metadata": {
    "collapsed": true
   },
   "outputs": [],
   "source": [
    "# We create a new column in our data set with the mean value\n",
    "df['avgRate'] = ratingsDf[['avgRate']]\n",
    "\n",
    "# Remove the columns of rater1 and rater2\n",
    "df = df.drop(['rater1', 'rater2'], axis=1)"
   ]
  },
  {
   "cell_type": "code",
   "execution_count": 19,
   "metadata": {
    "collapsed": false
   },
   "outputs": [
    {
     "data": {
      "text/html": [
       "<div>\n",
       "<table border=\"1\" class=\"dataframe\">\n",
       "  <thead>\n",
       "    <tr style=\"text-align: right;\">\n",
       "      <th></th>\n",
       "      <th>playerShort</th>\n",
       "      <th>player</th>\n",
       "      <th>club</th>\n",
       "      <th>leagueCountry</th>\n",
       "      <th>birthday</th>\n",
       "      <th>height</th>\n",
       "      <th>weight</th>\n",
       "      <th>position</th>\n",
       "      <th>games</th>\n",
       "      <th>victories</th>\n",
       "      <th>...</th>\n",
       "      <th>refNum</th>\n",
       "      <th>refCountry</th>\n",
       "      <th>Alpha_3</th>\n",
       "      <th>meanIAT</th>\n",
       "      <th>nIAT</th>\n",
       "      <th>seIAT</th>\n",
       "      <th>meanExp</th>\n",
       "      <th>nExp</th>\n",
       "      <th>seExp</th>\n",
       "      <th>avgRate</th>\n",
       "    </tr>\n",
       "  </thead>\n",
       "  <tbody>\n",
       "    <tr>\n",
       "      <th>0</th>\n",
       "      <td>lucas-wilchez</td>\n",
       "      <td>Lucas Wilchez</td>\n",
       "      <td>Real Zaragoza</td>\n",
       "      <td>Spain</td>\n",
       "      <td>31.08.1983</td>\n",
       "      <td>177.0</td>\n",
       "      <td>72.0</td>\n",
       "      <td>Attacking Midfielder</td>\n",
       "      <td>1</td>\n",
       "      <td>0</td>\n",
       "      <td>...</td>\n",
       "      <td>1</td>\n",
       "      <td>1</td>\n",
       "      <td>GRC</td>\n",
       "      <td>0.326391</td>\n",
       "      <td>712.0</td>\n",
       "      <td>0.000564</td>\n",
       "      <td>0.396000</td>\n",
       "      <td>750.0</td>\n",
       "      <td>0.002696</td>\n",
       "      <td>0.375</td>\n",
       "    </tr>\n",
       "    <tr>\n",
       "      <th>1</th>\n",
       "      <td>john-utaka</td>\n",
       "      <td>John Utaka</td>\n",
       "      <td>Montpellier HSC</td>\n",
       "      <td>France</td>\n",
       "      <td>08.01.1982</td>\n",
       "      <td>179.0</td>\n",
       "      <td>82.0</td>\n",
       "      <td>Right Winger</td>\n",
       "      <td>1</td>\n",
       "      <td>0</td>\n",
       "      <td>...</td>\n",
       "      <td>2</td>\n",
       "      <td>2</td>\n",
       "      <td>ZMB</td>\n",
       "      <td>0.203375</td>\n",
       "      <td>40.0</td>\n",
       "      <td>0.010875</td>\n",
       "      <td>-0.204082</td>\n",
       "      <td>49.0</td>\n",
       "      <td>0.061504</td>\n",
       "      <td>0.750</td>\n",
       "    </tr>\n",
       "    <tr>\n",
       "      <th>5</th>\n",
       "      <td>aaron-hughes</td>\n",
       "      <td>Aaron Hughes</td>\n",
       "      <td>Fulham FC</td>\n",
       "      <td>England</td>\n",
       "      <td>08.11.1979</td>\n",
       "      <td>182.0</td>\n",
       "      <td>71.0</td>\n",
       "      <td>Center Back</td>\n",
       "      <td>1</td>\n",
       "      <td>0</td>\n",
       "      <td>...</td>\n",
       "      <td>4</td>\n",
       "      <td>4</td>\n",
       "      <td>LUX</td>\n",
       "      <td>0.325185</td>\n",
       "      <td>127.0</td>\n",
       "      <td>0.003297</td>\n",
       "      <td>0.538462</td>\n",
       "      <td>130.0</td>\n",
       "      <td>0.013752</td>\n",
       "      <td>0.125</td>\n",
       "    </tr>\n",
       "    <tr>\n",
       "      <th>6</th>\n",
       "      <td>aleksandar-kolarov</td>\n",
       "      <td>Aleksandar Kolarov</td>\n",
       "      <td>Manchester City</td>\n",
       "      <td>England</td>\n",
       "      <td>10.11.1985</td>\n",
       "      <td>187.0</td>\n",
       "      <td>80.0</td>\n",
       "      <td>Left Fullback</td>\n",
       "      <td>1</td>\n",
       "      <td>1</td>\n",
       "      <td>...</td>\n",
       "      <td>4</td>\n",
       "      <td>4</td>\n",
       "      <td>LUX</td>\n",
       "      <td>0.325185</td>\n",
       "      <td>127.0</td>\n",
       "      <td>0.003297</td>\n",
       "      <td>0.538462</td>\n",
       "      <td>130.0</td>\n",
       "      <td>0.013752</td>\n",
       "      <td>0.125</td>\n",
       "    </tr>\n",
       "    <tr>\n",
       "      <th>7</th>\n",
       "      <td>alexander-tettey</td>\n",
       "      <td>Alexander Tettey</td>\n",
       "      <td>Norwich City</td>\n",
       "      <td>England</td>\n",
       "      <td>04.04.1986</td>\n",
       "      <td>180.0</td>\n",
       "      <td>68.0</td>\n",
       "      <td>Defensive Midfielder</td>\n",
       "      <td>1</td>\n",
       "      <td>0</td>\n",
       "      <td>...</td>\n",
       "      <td>4</td>\n",
       "      <td>4</td>\n",
       "      <td>LUX</td>\n",
       "      <td>0.325185</td>\n",
       "      <td>127.0</td>\n",
       "      <td>0.003297</td>\n",
       "      <td>0.538462</td>\n",
       "      <td>130.0</td>\n",
       "      <td>0.013752</td>\n",
       "      <td>1.000</td>\n",
       "    </tr>\n",
       "  </tbody>\n",
       "</table>\n",
       "<p>5 rows × 26 columns</p>\n",
       "</div>"
      ],
      "text/plain": [
       "          playerShort              player             club leagueCountry  \\\n",
       "0       lucas-wilchez       Lucas Wilchez    Real Zaragoza         Spain   \n",
       "1          john-utaka          John Utaka  Montpellier HSC        France   \n",
       "5        aaron-hughes        Aaron Hughes        Fulham FC       England   \n",
       "6  aleksandar-kolarov  Aleksandar Kolarov  Manchester City       England   \n",
       "7    alexander-tettey    Alexander Tettey     Norwich City       England   \n",
       "\n",
       "     birthday  height  weight              position  games  victories  \\\n",
       "0  31.08.1983   177.0    72.0  Attacking Midfielder      1          0   \n",
       "1  08.01.1982   179.0    82.0          Right Winger      1          0   \n",
       "5  08.11.1979   182.0    71.0           Center Back      1          0   \n",
       "6  10.11.1985   187.0    80.0         Left Fullback      1          1   \n",
       "7  04.04.1986   180.0    68.0  Defensive Midfielder      1          0   \n",
       "\n",
       "    ...     refNum  refCountry  Alpha_3   meanIAT   nIAT     seIAT   meanExp  \\\n",
       "0   ...          1           1      GRC  0.326391  712.0  0.000564  0.396000   \n",
       "1   ...          2           2      ZMB  0.203375   40.0  0.010875 -0.204082   \n",
       "5   ...          4           4      LUX  0.325185  127.0  0.003297  0.538462   \n",
       "6   ...          4           4      LUX  0.325185  127.0  0.003297  0.538462   \n",
       "7   ...          4           4      LUX  0.325185  127.0  0.003297  0.538462   \n",
       "\n",
       "    nExp     seExp  avgRate  \n",
       "0  750.0  0.002696    0.375  \n",
       "1   49.0  0.061504    0.750  \n",
       "5  130.0  0.013752    0.125  \n",
       "6  130.0  0.013752    0.125  \n",
       "7  130.0  0.013752    1.000  \n",
       "\n",
       "[5 rows x 26 columns]"
      ]
     },
     "execution_count": 19,
     "metadata": {},
     "output_type": "execute_result"
    }
   ],
   "source": [
    "df.head(5)"
   ]
  },
  {
   "cell_type": "markdown",
   "metadata": {},
   "source": [
    "We are interested by determing the skin color of each player. Therefore, we need to regroup the entries by player, applying the mean on each values, excluding the number of games for which we sum them (for obvious reasons). We also add two new features *stdIAT* and *stdExp*, which are the standard deviation of meanIAT and meanExp.\n",
    "\n",
    "In this case, the attributes *reNum*, *refCountry*, *nIAT*, *nExp* do not make any sense, and we can drop them. We are also going to drop *seIAT* and *seExp* parameters."
   ]
  },
  {
   "cell_type": "code",
   "execution_count": 20,
   "metadata": {
    "collapsed": false
   },
   "outputs": [
    {
     "data": {
      "text/html": [
       "<div>\n",
       "<table border=\"1\" class=\"dataframe\">\n",
       "  <thead>\n",
       "    <tr style=\"text-align: right;\">\n",
       "      <th></th>\n",
       "      <th>height</th>\n",
       "      <th>redCards</th>\n",
       "      <th>games</th>\n",
       "      <th>goals</th>\n",
       "      <th>avgRate</th>\n",
       "      <th>ties</th>\n",
       "      <th>defeats</th>\n",
       "      <th>meanExp</th>\n",
       "      <th>yellowReds</th>\n",
       "      <th>yellowCards</th>\n",
       "      <th>meanIAT</th>\n",
       "      <th>weight</th>\n",
       "      <th>victories</th>\n",
       "      <th>stdIAT</th>\n",
       "      <th>stdExp</th>\n",
       "    </tr>\n",
       "    <tr>\n",
       "      <th>playerShort</th>\n",
       "      <th></th>\n",
       "      <th></th>\n",
       "      <th></th>\n",
       "      <th></th>\n",
       "      <th></th>\n",
       "      <th></th>\n",
       "      <th></th>\n",
       "      <th></th>\n",
       "      <th></th>\n",
       "      <th></th>\n",
       "      <th></th>\n",
       "      <th></th>\n",
       "      <th></th>\n",
       "      <th></th>\n",
       "      <th></th>\n",
       "    </tr>\n",
       "  </thead>\n",
       "  <tbody>\n",
       "    <tr>\n",
       "      <th>aaron-hughes</th>\n",
       "      <td>182.0</td>\n",
       "      <td>0.000000</td>\n",
       "      <td>654</td>\n",
       "      <td>0.054217</td>\n",
       "      <td>0.125</td>\n",
       "      <td>1.078313</td>\n",
       "      <td>1.373494</td>\n",
       "      <td>0.494575</td>\n",
       "      <td>0.000000</td>\n",
       "      <td>0.114458</td>\n",
       "      <td>0.346459</td>\n",
       "      <td>71.0</td>\n",
       "      <td>1.487952</td>\n",
       "      <td>0.031511</td>\n",
       "      <td>0.231113</td>\n",
       "    </tr>\n",
       "    <tr>\n",
       "      <th>aaron-hunt</th>\n",
       "      <td>183.0</td>\n",
       "      <td>0.010101</td>\n",
       "      <td>336</td>\n",
       "      <td>0.626263</td>\n",
       "      <td>0.125</td>\n",
       "      <td>0.737374</td>\n",
       "      <td>1.232323</td>\n",
       "      <td>0.449220</td>\n",
       "      <td>0.000000</td>\n",
       "      <td>0.424242</td>\n",
       "      <td>0.348818</td>\n",
       "      <td>73.0</td>\n",
       "      <td>1.424242</td>\n",
       "      <td>0.022432</td>\n",
       "      <td>0.174013</td>\n",
       "    </tr>\n",
       "    <tr>\n",
       "      <th>aaron-lennon</th>\n",
       "      <td>165.0</td>\n",
       "      <td>0.000000</td>\n",
       "      <td>412</td>\n",
       "      <td>0.306931</td>\n",
       "      <td>0.250</td>\n",
       "      <td>0.960396</td>\n",
       "      <td>1.138614</td>\n",
       "      <td>0.491482</td>\n",
       "      <td>0.000000</td>\n",
       "      <td>0.108911</td>\n",
       "      <td>0.345893</td>\n",
       "      <td>63.0</td>\n",
       "      <td>1.980198</td>\n",
       "      <td>0.028438</td>\n",
       "      <td>0.224068</td>\n",
       "    </tr>\n",
       "    <tr>\n",
       "      <th>aaron-ramsey</th>\n",
       "      <td>178.0</td>\n",
       "      <td>0.009615</td>\n",
       "      <td>260</td>\n",
       "      <td>0.375000</td>\n",
       "      <td>0.000</td>\n",
       "      <td>0.403846</td>\n",
       "      <td>0.653846</td>\n",
       "      <td>0.514693</td>\n",
       "      <td>0.000000</td>\n",
       "      <td>0.298077</td>\n",
       "      <td>0.346821</td>\n",
       "      <td>76.0</td>\n",
       "      <td>1.442308</td>\n",
       "      <td>0.032460</td>\n",
       "      <td>0.248885</td>\n",
       "    </tr>\n",
       "    <tr>\n",
       "      <th>abdelhamid-el-kaoutari</th>\n",
       "      <td>180.0</td>\n",
       "      <td>0.054054</td>\n",
       "      <td>124</td>\n",
       "      <td>0.027027</td>\n",
       "      <td>0.250</td>\n",
       "      <td>1.081081</td>\n",
       "      <td>1.162162</td>\n",
       "      <td>0.335587</td>\n",
       "      <td>0.108108</td>\n",
       "      <td>0.216216</td>\n",
       "      <td>0.331600</td>\n",
       "      <td>73.0</td>\n",
       "      <td>1.108108</td>\n",
       "      <td>0.045723</td>\n",
       "      <td>0.242213</td>\n",
       "    </tr>\n",
       "  </tbody>\n",
       "</table>\n",
       "</div>"
      ],
      "text/plain": [
       "                        height  redCards  games     goals  avgRate      ties  \\\n",
       "playerShort                                                                    \n",
       "aaron-hughes             182.0  0.000000    654  0.054217    0.125  1.078313   \n",
       "aaron-hunt               183.0  0.010101    336  0.626263    0.125  0.737374   \n",
       "aaron-lennon             165.0  0.000000    412  0.306931    0.250  0.960396   \n",
       "aaron-ramsey             178.0  0.009615    260  0.375000    0.000  0.403846   \n",
       "abdelhamid-el-kaoutari   180.0  0.054054    124  0.027027    0.250  1.081081   \n",
       "\n",
       "                         defeats   meanExp  yellowReds  yellowCards   meanIAT  \\\n",
       "playerShort                                                                     \n",
       "aaron-hughes            1.373494  0.494575    0.000000     0.114458  0.346459   \n",
       "aaron-hunt              1.232323  0.449220    0.000000     0.424242  0.348818   \n",
       "aaron-lennon            1.138614  0.491482    0.000000     0.108911  0.345893   \n",
       "aaron-ramsey            0.653846  0.514693    0.000000     0.298077  0.346821   \n",
       "abdelhamid-el-kaoutari  1.162162  0.335587    0.108108     0.216216  0.331600   \n",
       "\n",
       "                        weight  victories    stdIAT    stdExp  \n",
       "playerShort                                                    \n",
       "aaron-hughes              71.0   1.487952  0.031511  0.231113  \n",
       "aaron-hunt                73.0   1.424242  0.022432  0.174013  \n",
       "aaron-lennon              63.0   1.980198  0.028438  0.224068  \n",
       "aaron-ramsey              76.0   1.442308  0.032460  0.248885  \n",
       "abdelhamid-el-kaoutari    73.0   1.108108  0.045723  0.242213  "
      ]
     },
     "execution_count": 20,
     "metadata": {},
     "output_type": "execute_result"
    }
   ],
   "source": [
    "df_by_player = df.groupby(\"playerShort\")\n",
    "df_players = df_by_player.agg({'height': np.mean, 'weight':np.mean, 'games': np.sum, 'victories': np.mean, 'ties': np.mean, 'defeats': np.mean, 'goals': np.mean,\n",
    "                       'yellowCards': np.mean, 'yellowReds': np.mean, 'redCards': np.mean, 'meanIAT': np.mean, 'meanExp': np.mean, 'avgRate': np.mean})\n",
    "\n",
    "# Adding the two new features: 'stdIAT' and 'stdExp'\n",
    "df_players[['stdIAT','stdExp']] = df_by_player['meanIAT', 'meanExp'].agg(np.std)\n",
    "\n",
    "df_players.head()"
   ]
  },
  {
   "cell_type": "code",
   "execution_count": 21,
   "metadata": {
    "collapsed": false
   },
   "outputs": [
    {
     "data": {
      "text/plain": [
       "(1585, 15)"
      ]
     },
     "execution_count": 21,
     "metadata": {},
     "output_type": "execute_result"
    }
   ],
   "source": [
    "df_players.shape"
   ]
  },
  {
   "cell_type": "markdown",
   "metadata": {},
   "source": [
    "We observe that we have a total of 1585 football players in our data. Note also that we still have some entries filled with NaN. Let's drop them."
   ]
  },
  {
   "cell_type": "code",
   "execution_count": 22,
   "metadata": {
    "collapsed": false
   },
   "outputs": [
    {
     "data": {
      "text/plain": [
       "height          True\n",
       "redCards       False\n",
       "games          False\n",
       "goals          False\n",
       "avgRate        False\n",
       "ties           False\n",
       "defeats        False\n",
       "meanExp        False\n",
       "yellowReds     False\n",
       "yellowCards    False\n",
       "meanIAT        False\n",
       "weight          True\n",
       "victories      False\n",
       "stdIAT          True\n",
       "stdExp          True\n",
       "dtype: bool"
      ]
     },
     "execution_count": 22,
     "metadata": {},
     "output_type": "execute_result"
    }
   ],
   "source": [
    "df_players.isnull().any()"
   ]
  },
  {
   "cell_type": "code",
   "execution_count": 23,
   "metadata": {
    "collapsed": false
   },
   "outputs": [],
   "source": [
    "df_players = df_players[(df_players.height.isnull() == False)]\n",
    "df_players = df_players[(df_players.weight.isnull() == False)]\n",
    "df_players.fillna(value=0.0, inplace=True)"
   ]
  },
  {
   "cell_type": "code",
   "execution_count": 24,
   "metadata": {
    "collapsed": false
   },
   "outputs": [
    {
     "data": {
      "text/plain": [
       "height         False\n",
       "redCards       False\n",
       "games          False\n",
       "goals          False\n",
       "avgRate        False\n",
       "ties           False\n",
       "defeats        False\n",
       "meanExp        False\n",
       "yellowReds     False\n",
       "yellowCards    False\n",
       "meanIAT        False\n",
       "weight         False\n",
       "victories      False\n",
       "stdIAT         False\n",
       "stdExp         False\n",
       "dtype: bool"
      ]
     },
     "execution_count": 24,
     "metadata": {},
     "output_type": "execute_result"
    }
   ],
   "source": [
    "df_players.isnull().any()"
   ]
  },
  {
   "cell_type": "code",
   "execution_count": 25,
   "metadata": {
    "collapsed": false
   },
   "outputs": [
    {
     "data": {
      "text/plain": [
       "(1564, 15)"
      ]
     },
     "execution_count": 25,
     "metadata": {},
     "output_type": "execute_result"
    }
   ],
   "source": [
    "df_players.shape"
   ]
  },
  {
   "cell_type": "markdown",
   "metadata": {},
   "source": [
    "We observe now that we have 1564 players left in our *cleaned* data set."
   ]
  },
  {
   "cell_type": "markdown",
   "metadata": {},
   "source": [
    "# 1. Supervised Machine Learning - Random Forest"
   ]
  },
  {
   "cell_type": "markdown",
   "metadata": {},
   "source": [
    "Now that we have made some preprocessing on the data set and keep the useful parameters for our analysis, we can start performing some Maching Learning. We will use a Random Forest classifier. The following materials are helpful to understand the tool *scikit* we are using.\n",
    "\n",
    "https://github.com/justmarkham/scikit-learn-videos\n",
    "\n",
    "http://scikit-learn.org/stable/auto_examples/ensemble/plot_forest_importances.html\n",
    "\n",
    "We import the library:"
   ]
  },
  {
   "cell_type": "code",
   "execution_count": 26,
   "metadata": {
    "collapsed": false
   },
   "outputs": [
    {
     "name": "stderr",
     "output_type": "stream",
     "text": [
      "/Users/loicveyssiere/anaconda/lib/python3.5/site-packages/sklearn/cross_validation.py:44: DeprecationWarning: This module was deprecated in version 0.18 in favor of the model_selection module into which all the refactored classes and functions are moved. Also note that the interface of the new CV iterators are different from that of this module. This module will be removed in 0.20.\n",
      "  \"This module will be removed in 0.20.\", DeprecationWarning)\n"
     ]
    }
   ],
   "source": [
    "from sklearn.cross_validation import cross_val_score\n",
    "from sklearn.ensemble import RandomForestClassifier\n",
    "from sklearn import metrics\n",
    "from plot_learning_curve import *\n",
    "import warnings"
   ]
  },
  {
   "cell_type": "markdown",
   "metadata": {},
   "source": [
    "The random forest classifier seems appropriate to use in our case, because we don't know much about our data."
   ]
  },
  {
   "cell_type": "markdown",
   "metadata": {},
   "source": [
    "We cite Wikipedia because we think it captures well the spirit of our approach:\n",
    "\n",
    "\n",
    "\n",
    "> *Decision trees are a popular method for various machine learning tasks. Tree learning \"come[s] closest to meeting the requirements for serving as an off-the-shelf procedure for data mining\", say Hastie et al., because it is invariant under scaling and various other transformations of feature values, is robust to inclusion of irrelevant features, and produces inspectable models. However, they are seldom accurate.[3]:352\n",
    "In particular, trees that are grown very deep tend to learn highly irregular patterns: they overfit their training sets, i.e. have low bias, but very high variance. Random forests are a way of averaging multiple deep decision trees, trained on different parts of the same training set, with the goal of reducing the variance.[3]:587–588 This comes at the expense of a small increase in the bias and some loss of interpretability, but generally greatly boosts the performance of the final model.*"
   ]
  },
  {
   "cell_type": "markdown",
   "metadata": {},
   "source": [
    "Before doing any further anaylsis, it is important to say that there is two differents approach on how to train the classifier. \n",
    "* The first idea would be to train the model with the labels $y_{avg}$ determined using the average rate of skin darkness (average number between *rater1* and *rater2*). **It is the method we are going to use for the rest of the exercise**. It seems to be a good method because we have no other way to verify which of the raters are giving the right result.\n",
    "* The second approach would be to separately fit two models to *rater1* and *rater2*, apply each model to new input data, and to take the average rating in the end. However, this claims that *rater1* and *rater2* have different characteristics. Fitting the models on the data where half of the raters were interchanged would lead to different models, which is not ideal."
   ]
  },
  {
   "cell_type": "markdown",
   "metadata": {},
   "source": [
    "First of all, we need to change the labels to discrete values, because we use a random forest classifier. Let's say that if a player has an average rate *avgRate* over or equal to 0.5, we will consider that his skin is dark. Otherwise, we will say that the player is white. Therefore, we can assign a label for each player:\n",
    "* 0 for white player\n",
    "* 1 for black player\n"
   ]
  },
  {
   "cell_type": "code",
   "execution_count": 27,
   "metadata": {
    "collapsed": true
   },
   "outputs": [],
   "source": [
    "def defining_skin_color(x):\n",
    "    if(x['avgRate'] < 0.5):\n",
    "        return 0\n",
    "    else:\n",
    "        return 1"
   ]
  },
  {
   "cell_type": "code",
   "execution_count": 28,
   "metadata": {
    "collapsed": false
   },
   "outputs": [],
   "source": [
    "df_players['skin color'] = df_players.apply(defining_skin_color, axis=1)"
   ]
  },
  {
   "cell_type": "markdown",
   "metadata": {},
   "source": [
    "Let's now compute the number of *black* players in our data:"
   ]
  },
  {
   "cell_type": "code",
   "execution_count": 29,
   "metadata": {
    "collapsed": false
   },
   "outputs": [
    {
     "data": {
      "text/plain": [
       "378"
      ]
     },
     "execution_count": 29,
     "metadata": {},
     "output_type": "execute_result"
    }
   ],
   "source": [
    "df_players['skin color'].sum()"
   ]
  },
  {
   "cell_type": "code",
   "execution_count": 30,
   "metadata": {
    "collapsed": false
   },
   "outputs": [
    {
     "data": {
      "text/plain": [
       "1564"
      ]
     },
     "execution_count": 30,
     "metadata": {},
     "output_type": "execute_result"
    }
   ],
   "source": [
    "df_players.shape[0]"
   ]
  },
  {
   "cell_type": "code",
   "execution_count": 31,
   "metadata": {
    "collapsed": false
   },
   "outputs": [
    {
     "data": {
      "text/plain": [
       "24.168797953964194"
      ]
     },
     "execution_count": 31,
     "metadata": {},
     "output_type": "execute_result"
    }
   ],
   "source": [
    "df_players['skin color'].sum() / df_players.shape[0] * 100"
   ]
  },
  {
   "cell_type": "markdown",
   "metadata": {},
   "source": [
    "We observe that more or less 25% of the players (378) are considerated as black. Therfore the two classes (black and white people) do not have the same importance or representation number in the data, i.e the distribution is highly screwed. This can be a big issue when we training the model."
   ]
  },
  {
   "cell_type": "markdown",
   "metadata": {
    "collapsed": true
   },
   "source": [
    "## Selection of Random forsest parameters : number of estimation & max of depth"
   ]
  },
  {
   "cell_type": "markdown",
   "metadata": {},
   "source": [
    "The Ramdom Forest classifier depends on 2 parameters, number of estimation and max of depth. In this part we will analyse their impacts on the results by performing on each pair of parameter a cross-validation. We then visualize the means and the standard deviation, in order to choose the most suitable couple. We want to avoid overfitting. Let's consider all the parameters for this step."
   ]
  },
  {
   "cell_type": "code",
   "execution_count": 32,
   "metadata": {
    "collapsed": true
   },
   "outputs": [],
   "source": [
    "all_parameters = ['height', 'weight', 'games', 'victories', 'ties', 'defeats', 'goals', 'yellowCards', 'yellowReds', 'redCards', 'meanIAT', 'meanExp', 'stdIAT', 'stdExp']"
   ]
  },
  {
   "cell_type": "code",
   "execution_count": 33,
   "metadata": {
    "collapsed": true
   },
   "outputs": [],
   "source": [
    "# Initialization of the features and labels we are going to use in our analysis\n",
    "parameters = all_parameters\n",
    "X = df_players[parameters]\n",
    "y = df_players['skin color']\n",
    "\n",
    "# We partition the data in 20 folds\n",
    "cv = 20\n",
    "\n",
    "# We will test estimators from 10 to 110 and maximum depth of 1 to 8\n",
    "n_estimators = np.arange(10, 110, 10)\n",
    "max_depth = np.arange(1, 8, 1)"
   ]
  },
  {
   "cell_type": "markdown",
   "metadata": {},
   "source": [
    "Let's define a function *parameter_analysis* that perform a cross-validation for each random forest parameters: number of estimators and max_depth. With the result obtained for each cross-validation, we will observe when the model overfit the data by analyzing the means and the standard deviations for each number of estimators and each maximum depth used. In order to visualize correctly the results, we plot them with the use of the *plotting_analysis* function."
   ]
  },
  {
   "cell_type": "code",
   "execution_count": 34,
   "metadata": {
    "collapsed": false
   },
   "outputs": [],
   "source": [
    "# parameter_analysis will perform a cross validation for each random forest parameters n_estimators and max_depth\n",
    "# passed in argument, on the features X with the labels y passed in argument as well. It returns the mean accuracy \n",
    "# of prediction and the standard deviation of each cross-validation made.\n",
    "def parameter_analysis(X, y, n_estimators, max_depth, cv, scoring='accuracy'):\n",
    "    \n",
    "    # Result storage\n",
    "    means = [[0 for i in n_estimators] for j in max_depth]\n",
    "    stds = [[0 for i in n_estimators] for j in max_depth]\n",
    "\n",
    "    # Loop over number of estimators \n",
    "    for (i, estim) in enumerate(n_estimators):\n",
    "\n",
    "        print('Work in progress {p} %'.format(p=i/len(n_estimators)*100))\n",
    "\n",
    "        # Loop over depth of trees\n",
    "        for (j, depth) in enumerate(max_depth):\n",
    "\n",
    "            # Builing the classifier and processing the cross-validation\n",
    "            classifier = RandomForestClassifier(n_estimators=estim, max_depth=depth)\n",
    "            classifier.fit(X, y)\n",
    "            cross_validation = cross_val_score(classifier, X, y, cv=cv, scoring=scoring)\n",
    "            means[j][i] = np.mean(cross_validation)\n",
    "            stds[j][i] = np.std(cross_validation)\n",
    "    print('End of Work')\n",
    "    return means, stds"
   ]
  },
  {
   "cell_type": "code",
   "execution_count": 35,
   "metadata": {
    "collapsed": true
   },
   "outputs": [],
   "source": [
    "# plotting_analysis is a function that plot the means and the standard deviations of the cross-validation\n",
    "# passed in parameter, for each number of estimators and each maximum depth used.\n",
    "def plotting_analysis(means, stds):\n",
    "    \n",
    "    # Plotting means\n",
    "    im = plt.imshow(means, interpolation='nearest', cmap='seismic', aspect='auto',origin='lower',extent=(n_estimators.min(),n_estimators.max(),max_depth.min(),max_depth.max()))\n",
    "    plt.colorbar(im, orientation='vertical')\n",
    "    plt.ylabel('Max depth',{'fontsize':16})\n",
    "    plt.xlabel('n_estimators',{'fontsize':16})\n",
    "    plt.title('Mean Scores', {'fontsize':20})\n",
    "    plt.show()\n",
    "\n",
    "    # Plotting standard deviations\n",
    "    im = plt.imshow(stds, cmap='BrBG', interpolation='nearest', aspect='auto',origin='lower',extent=(n_estimators.min(),n_estimators.max(),max_depth.min(),max_depth.max()))\n",
    "    plt.colorbar(im, orientation='vertical')\n",
    "    plt.ylabel('Max depth',{'fontsize':16})\n",
    "    plt.xlabel('n_estimators',{'fontsize':16})\n",
    "    plt.title('Standard Deviations', {'fontsize':20})\n",
    "    plt.show()"
   ]
  },
  {
   "cell_type": "markdown",
   "metadata": {},
   "source": [
    "**Note:** The following cell takes a few minutes (~5 minutes) to compute."
   ]
  },
  {
   "cell_type": "code",
   "execution_count": 36,
   "metadata": {
    "collapsed": false
   },
   "outputs": [
    {
     "name": "stdout",
     "output_type": "stream",
     "text": [
      "Work in progress 0.0 %\n",
      "Work in progress 10.0 %\n",
      "Work in progress 20.0 %\n",
      "Work in progress 30.0 %\n",
      "Work in progress 40.0 %\n",
      "Work in progress 50.0 %\n",
      "Work in progress 60.0 %\n",
      "Work in progress 70.0 %\n",
      "Work in progress 80.0 %\n",
      "Work in progress 90.0 %\n",
      "End of Work\n"
     ]
    }
   ],
   "source": [
    "means, stds = parameter_analysis(X, y, n_estimators, max_depth, cv)"
   ]
  },
  {
   "cell_type": "markdown",
   "metadata": {},
   "source": [
    "Let's take a look at the results obtained with intuitive vizualitions:"
   ]
  },
  {
   "cell_type": "code",
   "execution_count": 37,
   "metadata": {
    "collapsed": false,
    "scrolled": true
   },
   "outputs": [
    {
     "data": {
      "image/png": "[encoded data removed]",
      "text/plain": [
       "<matplotlib.figure.Figure at 0x109a75438>"
      ]
     },
     "metadata": {},
     "output_type": "display_data"
    },
    {
     "data": {
      "image/png": "[encoded data removed]",
      "text/plain": [
       "<matplotlib.figure.Figure at 0x11957d828>"
      ]
     },
     "metadata": {},
     "output_type": "display_data"
    }
   ],
   "source": [
    "plotting_analysis(means, stds)"
   ]
  },
  {
   "cell_type": "markdown",
   "metadata": {},
   "source": [
    "The previous plots represents means and standard deviation of each pair of parameter. The results are between 0.77 qnd 0.81 which is not a large range. Therefore, we can note that the final result is not too much influenced by the random forest parameters. We observed as well that the **best results** are obtained for a **large depths**. However, for this values, a large standard deviation is observed, which means that we are probably overfitting our data. This means that we should used small maximum depth even if the result are worst, in order to avoid a dangerous overfitting. Moreover, we observe that the number of estimators does not seem to have a revelant impact on the results."
   ]
  },
  {
   "cell_type": "markdown",
   "metadata": {},
   "source": [
    "Therefore, for the model construction with a random forest classifier, we will use the following parameters for the rest of the homework, in order to avoid overfitting:\n",
    "* n_estimators = 10\n",
    "* max_depth = 2"
   ]
  },
  {
   "cell_type": "markdown",
   "metadata": {},
   "source": [
    "## Random forest classifier and cross-validation"
   ]
  },
  {
   "cell_type": "markdown",
   "metadata": {},
   "source": [
    "Now that we have setted the random forest parameters, let's start training our random forest classifier with the simplest parameters possible, say *height* and *weight* of the players. We train and test on the whole data set."
   ]
  },
  {
   "cell_type": "code",
   "execution_count": 38,
   "metadata": {
    "collapsed": true
   },
   "outputs": [],
   "source": [
    "# Function that train a random forest classifier with the specific parameters passed in argument. \n",
    "# It returns the training data set X, the labels y, the prediction y_pred and the classifier used.\n",
    "def random_forest_predict(df, parameters, n_estim=10, max_dep=2):\n",
    "    X = df[parameters]\n",
    "    y = df['skin color']\n",
    "    classifier = RandomForestClassifier(n_estimators=n_estim, max_depth=max_dep)\n",
    "    classifier.fit(X,y)\n",
    "\n",
    "    y_pred = classifier.predict(X)\n",
    "    return X, y, y_pred, classifier"
   ]
  },
  {
   "cell_type": "code",
   "execution_count": 39,
   "metadata": {
    "collapsed": false
   },
   "outputs": [
    {
     "name": "stdout",
     "output_type": "stream",
     "text": [
      "The accuracy is 76.1%\n"
     ]
    }
   ],
   "source": [
    "parameters = ['height', 'weight']\n",
    "X, y, y_pred, classifier = random_forest_predict(df_players, parameters)\n",
    "\n",
    "print('The accuracy is {0:.1f}%'.format(metrics.accuracy_score(y, y_pred)*100))"
   ]
  },
  {
   "cell_type": "markdown",
   "metadata": {},
   "source": [
    "We obtain an accuracy around 76% which seems to be a good first prediction. However, we need to be careful with this result, because first the reslut may be bias: we trained and tested our model on the same data set. Secondly, 76.1% is exactly the number of white players in our data, which means that a dummy classifier that return always a constant predition would get the same accuracy.\n",
    "\n",
    "Let's check the *y_pred* we obtained:"
   ]
  },
  {
   "cell_type": "code",
   "execution_count": 40,
   "metadata": {
    "collapsed": false
   },
   "outputs": [
    {
     "data": {
      "text/plain": [
       "array([0, 0, 0, ..., 0, 0, 0])"
      ]
     },
     "execution_count": 40,
     "metadata": {},
     "output_type": "execute_result"
    }
   ],
   "source": [
    "y_pred"
   ]
  },
  {
   "cell_type": "code",
   "execution_count": 41,
   "metadata": {
    "collapsed": false
   },
   "outputs": [
    {
     "data": {
      "text/plain": [
       "4"
      ]
     },
     "execution_count": 41,
     "metadata": {},
     "output_type": "execute_result"
    }
   ],
   "source": [
    "y_pred.sum()"
   ]
  },
  {
   "cell_type": "markdown",
   "metadata": {},
   "source": [
    "We observe that our model is really bad... The classifier return the prediction 0 for (almost) all the players. This makes sense because we cannot classify skin color only with height and weight information of a person. It let us highlight the fact that **is not becaue we have good percentage accuracy that our model is good. We need to understand our data and be aware of what happens behind.**"
   ]
  },
  {
   "cell_type": "markdown",
   "metadata": {},
   "source": [
    "Let observe now what happens if we add more features to train our data. We can add all the information about the player football games, say number of yellow cards he got or games he played for example. We don't take yet the parameters take concern racisim information."
   ]
  },
  {
   "cell_type": "code",
   "execution_count": 42,
   "metadata": {
    "collapsed": false
   },
   "outputs": [
    {
     "name": "stdout",
     "output_type": "stream",
     "text": [
      "The accuracy is 76.3%\n"
     ]
    }
   ],
   "source": [
    "parameters = ['height', 'weight', 'games', 'victories', 'ties', 'defeats', 'goals', 'yellowCards', 'yellowReds', 'redCards']\n",
    "X, y, y_pred, classifier = random_forest_predict(df_players, parameters)\n",
    "\n",
    "print('The accuracy is {0:.1f}%'.format(metrics.accuracy_score(y, y_pred)*100))"
   ]
  },
  {
   "cell_type": "code",
   "execution_count": 43,
   "metadata": {
    "collapsed": false
   },
   "outputs": [
    {
     "data": {
      "text/plain": [
       "8"
      ]
     },
     "execution_count": 43,
     "metadata": {},
     "output_type": "execute_result"
    }
   ],
   "source": [
    "y_pred.sum()"
   ]
  },
  {
   "cell_type": "markdown",
   "metadata": {},
   "source": [
    "Well... we observe that it didn't influence much our previous conclusion... Let's observe what we obtained with a 20 folds cross validation in order to get rid of the bias values that we have by training and testing on the same data set."
   ]
  },
  {
   "cell_type": "code",
   "execution_count": 44,
   "metadata": {
    "collapsed": false
   },
   "outputs": [
    {
     "data": {
      "text/plain": [
       "array([ 0.75949367,  0.75949367,  0.75949367,  0.75949367,  0.75949367,\n",
       "        0.75949367,  0.75641026,  0.75641026,  0.78205128,  0.75641026,\n",
       "        0.75641026,  0.75641026,  0.75641026,  0.75641026,  0.75641026,\n",
       "        0.74358974,  0.74358974,  0.78205128,  0.76623377,  0.77922078])"
      ]
     },
     "execution_count": 44,
     "metadata": {},
     "output_type": "execute_result"
    }
   ],
   "source": [
    "cross_validation = cross_val_score(classifier, X, y, cv=20, scoring='accuracy')\n",
    "cross_validation"
   ]
  },
  {
   "cell_type": "code",
   "execution_count": 45,
   "metadata": {
    "collapsed": false
   },
   "outputs": [
    {
     "data": {
      "text/plain": [
       "count    20.000000\n",
       "mean      0.760249\n",
       "std       0.010318\n",
       "min       0.743590\n",
       "25%       0.756410\n",
       "50%       0.757952\n",
       "75%       0.759494\n",
       "max       0.782051\n",
       "dtype: float64"
      ]
     },
     "execution_count": 45,
     "metadata": {},
     "output_type": "execute_result"
    }
   ],
   "source": [
    "pd.Series(cross_validation).describe()"
   ]
  },
  {
   "cell_type": "markdown",
   "metadata": {},
   "source": [
    "These results seem to confirm the previous conclusion, which is that everything is classified as the same class. This can be conclude, because we have a large bias but a small variance (i.e small standard deviation)."
   ]
  },
  {
   "cell_type": "markdown",
   "metadata": {},
   "source": [
    "Let's consider now all the 15 parameters and see what is going on."
   ]
  },
  {
   "cell_type": "code",
   "execution_count": 46,
   "metadata": {
    "collapsed": false
   },
   "outputs": [
    {
     "name": "stdout",
     "output_type": "stream",
     "text": [
      "The accuracy is 79.6%\n"
     ]
    }
   ],
   "source": [
    "parameters = all_parameters\n",
    "X, y, y_pred, classifier = random_forest_predict(df_players, parameters)\n",
    "\n",
    "print('The accuracy is {0:.1f}%'.format(metrics.accuracy_score(y, y_pred)*100))"
   ]
  },
  {
   "cell_type": "code",
   "execution_count": 47,
   "metadata": {
    "collapsed": false
   },
   "outputs": [
    {
     "data": {
      "text/plain": [
       "79"
      ]
     },
     "execution_count": 47,
     "metadata": {},
     "output_type": "execute_result"
    }
   ],
   "source": [
    "y_pred.sum()"
   ]
  },
  {
   "cell_type": "markdown",
   "metadata": {},
   "source": [
    "Well, something changed here. We observe that the number of found *black* players increased, but it is still not really what we expected. Let's observe what we obtained with the 20 folds cross validaition:"
   ]
  },
  {
   "cell_type": "code",
   "execution_count": 48,
   "metadata": {
    "collapsed": false
   },
   "outputs": [
    {
     "data": {
      "text/plain": [
       "array([ 0.78481013,  0.82278481,  0.79746835,  0.79746835,  0.78481013,\n",
       "        0.74683544,  0.79487179,  0.74358974,  0.76923077,  0.80769231,\n",
       "        0.74358974,  0.83333333,  0.78205128,  0.79487179,  0.79487179,\n",
       "        0.78205128,  0.74358974,  0.85897436,  0.76623377,  0.79220779])"
      ]
     },
     "execution_count": 48,
     "metadata": {},
     "output_type": "execute_result"
    }
   ],
   "source": [
    "cross_validation = cross_val_score(classifier, X, y, cv=20, scoring='accuracy')\n",
    "cross_validation"
   ]
  },
  {
   "cell_type": "code",
   "execution_count": 49,
   "metadata": {
    "collapsed": false
   },
   "outputs": [
    {
     "data": {
      "text/plain": [
       "count    20.000000\n",
       "mean      0.787067\n",
       "std       0.030384\n",
       "min       0.743590\n",
       "25%       0.768482\n",
       "50%       0.788509\n",
       "75%       0.797468\n",
       "max       0.858974\n",
       "dtype: float64"
      ]
     },
     "execution_count": 49,
     "metadata": {},
     "output_type": "execute_result"
    }
   ],
   "source": [
    "pd.Series(cross_validation).describe()"
   ]
  },
  {
   "cell_type": "markdown",
   "metadata": {},
   "source": [
    "The results confirm our expectations. We obtained a mean prediction score of more or less 80%, and a small small standard deviation. Again, the result have still a large bias and a small variance. From this results, we can conclude that the low percentage of black players in the original set influence the classifier in a wrong way. The model tends to predict all the palyer skin color as *white*."
   ]
  },
  {
   "cell_type": "markdown",
   "metadata": {},
   "source": [
    "Let's check the confusion matrix of our predictions:"
   ]
  },
  {
   "cell_type": "code",
   "execution_count": 50,
   "metadata": {
    "collapsed": false
   },
   "outputs": [
    {
     "data": {
      "text/plain": [
       "array([[1176,   10],\n",
       "       [ 309,   69]])"
      ]
     },
     "execution_count": 50,
     "metadata": {},
     "output_type": "execute_result"
    }
   ],
   "source": [
    "metrics.confusion_matrix(y, y_pred)"
   ]
  },
  {
   "cell_type": "markdown",
   "metadata": {},
   "source": [
    "As expected, we observe that the results are totally bias. **We will see later a way to balanced the importance of the class proportion (with the f1 score)**."
   ]
  },
  {
   "cell_type": "markdown",
   "metadata": {},
   "source": [
    "We can observe as well the importance of each parameters and which ones have more impact in the classification. As expected, the feature *meanIAT* and *stdIAT* are the ones that influence the most the prediction, because it take into account the racisim in the countries. Therefore, this parameter change if the player is black or not. However, it is still not good enough to obtain coherent final model."
   ]
  },
  {
   "cell_type": "code",
   "execution_count": 51,
   "metadata": {
    "collapsed": false
   },
   "outputs": [
    {
     "data": {
      "image/png": "[encoded data removed]",
      "text/plain": [
       "<matplotlib.figure.Figure at 0x119668ba8>"
      ]
     },
     "metadata": {},
     "output_type": "display_data"
    }
   ],
   "source": [
    "df_parameters_importances = pd.DataFrame({\"parameters\": parameters, \"parameter importances\": classifier.feature_importances_})\n",
    "df_parameters_importances = df_parameters_importances.set_index(\"parameters\")\n",
    "df_parameters_importances = df_parameters_importances.sort_values(\"parameter importances\", ascending=False)\n",
    "df_parameters_importances.plot(kind=\"bar\");"
   ]
  },
  {
   "cell_type": "markdown",
   "metadata": {},
   "source": [
    "## F1_scoring"
   ]
  },
  {
   "cell_type": "markdown",
   "metadata": {},
   "source": [
    "As stated previously, we saw that the prediction accuracy was not a good model quality measure in our case, because the percentage of balck and white players are not similar. The distribution is totally screwd. Hence, a good solution for this kind of issue is to choose the F1 score, see https://en.wikipedia.org/wiki/F1_score. The F1 score will balanced the distribution of the two classes, say the skin colors.\n",
    "\n",
    "The goal is to prevent from the unbalanced distribution of the black & white skins. We perform again the random forest parameters analysis to see the impact of use of the **F1 score option**:"
   ]
  },
  {
   "cell_type": "markdown",
   "metadata": {},
   "source": [
    "Let's compute the mean and the standard deviation of the prediction changing the parameters, but with the use of the F1 score this time."
   ]
  },
  {
   "cell_type": "code",
   "execution_count": 52,
   "metadata": {
    "collapsed": true
   },
   "outputs": [],
   "source": [
    "# Initialization of the features and labels we are going to use in our analysis\n",
    "parameters = all_parameters\n",
    "X = df_players[parameters]\n",
    "y = df_players['skin color']\n",
    "\n",
    "# We partition the data in 20 folds\n",
    "cv = 20\n",
    "\n",
    "# We will test estimators from 10 to 110 and maximum depth of 1 to 8\n",
    "n_estimators = np.arange(10, 110, 10)\n",
    "max_depth = np.arange(1, 8, 1)"
   ]
  },
  {
   "cell_type": "code",
   "execution_count": 53,
   "metadata": {
    "collapsed": false
   },
   "outputs": [
    {
     "name": "stdout",
     "output_type": "stream",
     "text": [
      "Work in progress 0.0 %\n",
      "Work in progress 10.0 %\n",
      "Work in progress 20.0 %\n",
      "Work in progress 30.0 %\n",
      "Work in progress 40.0 %\n",
      "Work in progress 50.0 %\n",
      "Work in progress 60.0 %\n",
      "Work in progress 70.0 %\n",
      "Work in progress 80.0 %\n",
      "Work in progress 90.0 %\n",
      "End of Work\n"
     ]
    }
   ],
   "source": [
    "warnings.filterwarnings('ignore')\n",
    "means, stds = parameter_analysis(X, y, n_estimators, max_depth, cv, scoring='f1_weighted')"
   ]
  },
  {
   "cell_type": "markdown",
   "metadata": {},
   "source": [
    "We plot the result obtained:"
   ]
  },
  {
   "cell_type": "code",
   "execution_count": 54,
   "metadata": {
    "collapsed": false
   },
   "outputs": [
    {
     "data": {
      "image/png": "[encoded data removed]",
      "text/plain": [
       "<matplotlib.figure.Figure at 0x11983c080>"
      ]
     },
     "metadata": {},
     "output_type": "display_data"
    },
    {
     "data": {
      "image/png": "[encoded data removed]",
      "text/plain": [
       "<matplotlib.figure.Figure at 0x119f09ba8>"
      ]
     },
     "metadata": {},
     "output_type": "display_data"
    }
   ],
   "source": [
    "plotting_analysis(means, stds)"
   ]
  },
  {
   "cell_type": "markdown",
   "metadata": {},
   "source": [
    "We observe a deterioration of the results (between 0.69 and 0.76). The accuracy of every model trained dropped! This is due to the fact that we considered with similar weights the importance of the 2 classes in our data, and therefore  prevented the classifier to classify every player in white in order to obtain a high score (just because there is many white player in our data)."
   ]
  },
  {
   "cell_type": "markdown",
   "metadata": {},
   "source": [
    "We can verify this conclusion by doing a 20 folds cross-validation with the same random forest parameters used previously, say *n_estimators = 10* and *max_depth = 2*."
   ]
  },
  {
   "cell_type": "code",
   "execution_count": 55,
   "metadata": {
    "collapsed": false
   },
   "outputs": [
    {
     "data": {
      "text/plain": [
       "count    20.000000\n",
       "mean      0.727034\n",
       "std       0.049427\n",
       "min       0.638746\n",
       "25%       0.710185\n",
       "50%       0.732526\n",
       "75%       0.745921\n",
       "max       0.836260\n",
       "dtype: float64"
      ]
     },
     "execution_count": 55,
     "metadata": {},
     "output_type": "execute_result"
    }
   ],
   "source": [
    "parameters = all_parameters\n",
    "X, y, y_pred, classifier = random_forest_predict(df_players, parameters)\n",
    "\n",
    "warnings.filterwarnings('ignore')\n",
    "cross_validation = cross_val_score(classifier, X, y, cv=20, scoring='f1_weighted')\n",
    "pd.Series(cross_validation).describe()"
   ]
  },
  {
   "cell_type": "markdown",
   "metadata": {},
   "source": [
    "We observe that the mean accuracy has dropped (around 71% now) and the variance (i.e standard deviation) has increased. We can also check the confusion matrix for this case."
   ]
  },
  {
   "cell_type": "code",
   "execution_count": 56,
   "metadata": {
    "collapsed": false
   },
   "outputs": [
    {
     "data": {
      "text/plain": [
       "array([[1173,   13],\n",
       "       [ 305,   73]])"
      ]
     },
     "execution_count": 56,
     "metadata": {},
     "output_type": "execute_result"
    }
   ],
   "source": [
    "metrics.confusion_matrix(y, y_pred)"
   ]
  },
  {
   "cell_type": "markdown",
   "metadata": {},
   "source": [
    "We observe that the number of reconized black player is a bit better, but many white player have been assigned to the wrong class (i.e misclassified). The **F1 score option is actually essential**, because it protects us to have a *dummy* classifier that just classify all the player as white. Therefore, with a new data set with more black players, the predictions of such model will be better than the *dummy* one even if there are lower in this example!"
   ]
  },
  {
   "cell_type": "markdown",
   "metadata": {},
   "source": [
    "Let's check the now the features importances:"
   ]
  },
  {
   "cell_type": "code",
   "execution_count": 57,
   "metadata": {
    "collapsed": false
   },
   "outputs": [
    {
     "data": {
      "image/png": "[encoded data removed]",
      "text/plain": [
       "<matplotlib.figure.Figure at 0x11a0227b8>"
      ]
     },
     "metadata": {},
     "output_type": "display_data"
    }
   ],
   "source": [
    "df_parameters_importances = pd.DataFrame({\"parameters\": parameters, \"parameter importances\": classifier.feature_importances_})\n",
    "df_parameters_importances = df_parameters_importances.set_index(\"parameters\")\n",
    "df_parameters_importances = df_parameters_importances.sort_values(\"parameter importances\", ascending=False)\n",
    "df_parameters_importances.plot(kind=\"bar\");"
   ]
  },
  {
   "cell_type": "markdown",
   "metadata": {},
   "source": [
    "We observe now that the *stdExp*, *stdIAT* and *meanIA* features have much more impact than the others, which is normal, because it is the parameter that should differ between black and white players."
   ]
  },
  {
   "cell_type": "markdown",
   "metadata": {},
   "source": [
    "# 1.1 Bonus: Learning curves"
   ]
  },
  {
   "cell_type": "markdown",
   "metadata": {},
   "source": [
    "The previous analysis make possible to find two different couples of parameter. One couple with test results close to train results and the other one with large bias."
   ]
  },
  {
   "cell_type": "code",
   "execution_count": 58,
   "metadata": {
    "collapsed": false
   },
   "outputs": [],
   "source": [
    "train_sizes = np.linspace(0.2,1,20)"
   ]
  },
  {
   "cell_type": "code",
   "execution_count": 59,
   "metadata": {
    "collapsed": false
   },
   "outputs": [
    {
     "data": {
      "image/png": "[encoded data removed]",
      "text/plain": [
       "<matplotlib.figure.Figure at 0x11a301ba8>"
      ]
     },
     "metadata": {},
     "output_type": "display_data"
    }
   ],
   "source": [
    "n_estimators = 60\n",
    "max_depth = 2\n",
    "estimator = RandomForestClassifier(n_estimators=n_estimators, max_depth=max_depth)\n",
    "title = 'Learning Curve for n_estim={} and depth={}'.format(n_estimators, max_depth)\n",
    "plot_learning_curve(estimator, title, X, y, ylim=(0.7, 0.9), cv=20, train_sizes=train_sizes);"
   ]
  },
  {
   "cell_type": "markdown",
   "metadata": {},
   "source": [
    "The previous analysis show that max_depth to 2 is a good tradeoff between good results and no overfitting. This learning curve highlight this conclusion: the training score fit the cross-validation score."
   ]
  },
  {
   "cell_type": "code",
   "execution_count": 60,
   "metadata": {
    "collapsed": false
   },
   "outputs": [
    {
     "data": {
      "image/png": "[encoded data removed]",
      "text/plain": [
       "<matplotlib.figure.Figure at 0x11a3012b0>"
      ]
     },
     "metadata": {},
     "output_type": "display_data"
    }
   ],
   "source": [
    "n_estimators = 40\n",
    "max_depth = 6\n",
    "estimator = RandomForestClassifier(n_estimators=n_estimators, max_depth=max_depth)\n",
    "title = 'Learning Curve for n_estim={} and depth={}'.format(n_estimators, max_depth)\n",
    "plot_learning_curve(estimator, 'learning', X, y, ylim=(0.7, 0.9), cv=20, train_sizes=train_sizes);"
   ]
  },
  {
   "cell_type": "markdown",
   "metadata": {},
   "source": [
    "As explained, overfitting is present with a large max_depth parameter, in this example we set max_depth to 6. Overfitting is observed since training score is not even present in the confidence interval of the cross-validation score."
   ]
  },
  {
   "cell_type": "markdown",
   "metadata": {},
   "source": [
    "# 2. Unsupervised Machine Learning - Clustering"
   ]
  },
  {
   "cell_type": "markdown",
   "metadata": {},
   "source": [
    "Now that we have made some analysis and defined models using supervised Machine Learning technique, we can do another approach in order to separate the black and white palyers with the data that we have.\n",
    "\n",
    "Let's do some unsupervised machine learning, which will consiste in trying to build two different clusters, say the dark skin players and the white skin players. We will use the **k-means clustering method**."
   ]
  },
  {
   "cell_type": "code",
   "execution_count": 61,
   "metadata": {
    "collapsed": true
   },
   "outputs": [],
   "source": [
    "# Useful import\n",
    "from sklearn.cluster import KMeans\n",
    "from sklearn.metrics import silhouette_score"
   ]
  },
  {
   "cell_type": "markdown",
   "metadata": {},
   "source": [
    "Let's now use an unsupervised classifier. The goal is to define if the classification performed fits the skin color.\n",
    "\n",
    "To compute the score of the classifier knowning the skin color of the players, the following heuristic has been set up:\n",
    "    * We count the number equal labels (i.e count the number of y == prediction)\n",
    "    * The score is normalized with the number of players\n",
    "    * Since the classifier has no idea of what is black or white (0 or 1), the score can be flipped!\n",
    "    * The final score is given by max(score, 1-score)"
   ]
  },
  {
   "cell_type": "code",
   "execution_count": 62,
   "metadata": {
    "collapsed": false
   },
   "outputs": [],
   "source": [
    "# The following function perfom a k-means clustering method on data features X passed in argument\n",
    "def perform_kmean(X):\n",
    "    \n",
    "    kmeansClassifier = KMeans(n_clusters=2)\n",
    "    kmeansClassifier.fit(X)\n",
    "    prediction = kmeansClassifier.predict(X)\n",
    "    silhouette = silhouette_score(X, prediction, metric='euclidean')\n",
    "    \n",
    "    auxi = (y == prediction).sum() / len(y)\n",
    "    score = max(auxi, 1-auxi)\n",
    "    return prediction, score, silhouette\n",
    "    \n"
   ]
  },
  {
   "cell_type": "markdown",
   "metadata": {},
   "source": [
    "Let's observe what we obtain with the use of the parameters for which we obtained the best perfomance in the previous analysis (with a random forest classifier)."
   ]
  },
  {
   "cell_type": "code",
   "execution_count": 63,
   "metadata": {
    "collapsed": true
   },
   "outputs": [],
   "source": [
    "# Initialization\n",
    "parameters = all_parameters\n",
    "X = df_players[parameters]\n",
    "y = df_players['skin color']"
   ]
  },
  {
   "cell_type": "code",
   "execution_count": 64,
   "metadata": {
    "collapsed": false
   },
   "outputs": [
    {
     "name": "stdout",
     "output_type": "stream",
     "text": [
      "Score at 0.5703324808184144, silhouette at 0.5939297187905805\n"
     ]
    }
   ],
   "source": [
    "prediction, score, silhouette = perform_kmean(X)\n",
    "print('Score at {}, silhouette at {}'.format(score, silhouette))"
   ]
  },
  {
   "cell_type": "markdown",
   "metadata": {},
   "source": [
    "We observe that the result are really bad. The algorithm is not able to separate correctly the two classes... the score obtained is around 57%. Knowing that the worst possible is 50%, it is a really bad result. Moreover, we observe that the silhouette number is really low as well. The silhouette value defined the separability of the clusters. If the silhouette value is equal to 1, the two clusters can be easily differenciated. If it is equal to 0, it is impossible to determine which value should belong to which cluster.\n",
    "\n",
    "In our case, the silhouette value is more or less equal to 0.6, which makes hard to separate the two clusters."
   ]
  },
  {
   "cell_type": "code",
   "execution_count": 65,
   "metadata": {
    "collapsed": false
   },
   "outputs": [],
   "source": [
    "def one_step_iteration_delete(parameters, df, criteria='score'):\n",
    "\n",
    "    max_score = 0\n",
    "    max_silhouette = 0\n",
    "    \n",
    "    # Compute k-mean for (n-1) features\n",
    "    for (i ,parameter) in enumerate(parameters):\n",
    "        \n",
    "        subparameters = np.delete(parameters, i)\n",
    "        prediction, score, silhouette = perform_kmean(df[subparameters])\n",
    "        \n",
    "        if ( (criteria=='score' and score > max_score) or (criteria=='silhouette' and silhouette > max_silhouette) ):\n",
    "            deleted_parameter = parameter\n",
    "            max_score = score\n",
    "            max_silhouette = silhouette\n",
    "            deleted_index = i\n",
    "            \n",
    "    return deleted_parameter, max_score, max_silhouette, deleted_index\n",
    "\n",
    "def one_step_iteration_add(parameters, addParameters, df, criteria='score'):\n",
    "\n",
    "    max_score = 0\n",
    "    max_silhouette = 0\n",
    "    \n",
    "    # Compute k-mean for new features\n",
    "    for (i, parameter) in enumerate(addParameters):\n",
    "        \n",
    "        subparameters = np.append(parameters, parameter)\n",
    "        prediction, score, silhouette = perform_kmean(df[subparameters])\n",
    "        \n",
    "        if ( (criteria=='score' and score > max_score) or (criteria=='silhouette' and silhouette > max_silhouette) ):\n",
    "            added_parameter = parameter\n",
    "            max_score = score\n",
    "            max_silhouette = silhouette\n",
    "            added_index = i\n",
    "            \n",
    "    return added_parameter, max_score, max_silhouette, added_index"
   ]
  },
  {
   "cell_type": "markdown",
   "metadata": {},
   "source": [
    "Starting from all the features, the following routine the most irrelevant feature. After printing the score and the silhouette, we reiterate the process on the remaining feature."
   ]
  },
  {
   "cell_type": "code",
   "execution_count": 66,
   "metadata": {
    "collapsed": false
   },
   "outputs": [
    {
     "name": "stdout",
     "output_type": "stream",
     "text": [
      "Alter deleting height: score at 0.5703, silhouette at 0.5975\n",
      "Alter deleting weight: score at 0.5703, silhouette at 0.6023\n",
      "Alter deleting victories: score at 0.5703, silhouette at 0.6023\n",
      "Alter deleting ties: score at 0.5703, silhouette at 0.6023\n",
      "Alter deleting games: score at 0.5761, silhouette at 0.3881\n",
      "Alter deleting defeats: score at 0.6841, silhouette at 0.4531\n",
      "Alter deleting yellowCards: score at 0.6861, silhouette at 0.5964\n",
      "Alter deleting yellowReds: score at 0.6861, silhouette at 0.5980\n",
      "Alter deleting redCards: score at 0.6861, silhouette at 0.5996\n",
      "Alter deleting meanIAT: score at 0.6861, silhouette at 0.6002\n",
      "Alter deleting meanExp: score at 0.6861, silhouette at 0.6376\n",
      "Alter deleting stdIAT: score at 0.6861, silhouette at 0.6386\n",
      "Alter deleting stdExp: score at 0.6861, silhouette at 0.6956\n",
      "Last feature: goals\n"
     ]
    }
   ],
   "source": [
    "myParameters = parameters\n",
    "while (len(myParameters) > 1):\n",
    "    p, sc, si, i = one_step_iteration_delete(myParameters, df_players)\n",
    "    print('Alter deleting {}: score at {:.4f}, silhouette at {:.4f}'.format(p, sc, si))\n",
    "    myParameters = np.delete(myParameters, i)\n",
    "print('Last feature: {}'.format(myParameters[0]))"
   ]
  },
  {
   "cell_type": "markdown",
   "metadata": {},
   "source": [
    "Let's analyse the process:\n",
    "\n",
    " * Most irrelevant features are weight, games, victories, ties, defeats\n",
    " * Most relevant features are goals, stdExp, stdIAT, meanExp, meanIAT, readCards, yellowReds, yellowCards\n",
    " * A jump on the result appears after deleting defeats\n",
    " * The 8 best results are super close, that means that the last feature is dominant (here goals)\n",
    " * The best score is 0.6861 which is not high\n",
    " * The best silhouette is pretty bad, that is to say the 2 clusters are not well separeted "
   ]
  },
  {
   "cell_type": "code",
   "execution_count": 67,
   "metadata": {
    "collapsed": false
   },
   "outputs": [
    {
     "name": "stdout",
     "output_type": "stream",
     "text": [
      "Alter adding stdIAT: score at 0.7481, silhouette at 0.5907\n",
      "Alter adding meanIAT: score at 0.7922, silhouette at 0.5550\n",
      "Alter adding goals: score at 0.6861, silhouette at 0.6896\n",
      "Alter adding yellowReds: score at 0.6861, silhouette at 0.6861\n",
      "Alter adding redCards: score at 0.6861, silhouette at 0.6831\n",
      "Alter adding meanExp: score at 0.6861, silhouette at 0.6341\n",
      "Alter adding stdExp: score at 0.6861, silhouette at 0.5964\n",
      "Alter adding yellowCards: score at 0.6841, silhouette at 0.4531\n",
      "Alter adding defeats: score at 0.5767, silhouette at 0.3886\n",
      "Alter adding games: score at 0.5703, silhouette at 0.6023\n",
      "Alter adding height: score at 0.5703, silhouette at 0.5979\n",
      "Alter adding weight: score at 0.5703, silhouette at 0.5939\n",
      "Alter adding ties: score at 0.5703, silhouette at 0.5939\n",
      "Alter adding victories: score at 0.5703, silhouette at 0.5939\n"
     ]
    }
   ],
   "source": [
    "myParameters = []\n",
    "addParameters = parameters\n",
    "while (len(addParameters) > 0):\n",
    "    p, sc, si, i = one_step_iteration_add(myParameters, addParameters ,df_players)\n",
    "    print('Alter adding {}: score at {:.4f}, silhouette at {:.4f}'.format(p, sc, si))\n",
    "    myParameters = np.append(myParameters, p)\n",
    "    addParameters = np.delete(addParameters, i)"
   ]
  },
  {
   "cell_type": "markdown",
   "metadata": {
    "collapsed": true
   },
   "source": [
    "Let's analyse the process:\n",
    "\n",
    " * Most irrelevant features are weight, victories, games, height, defeats\n",
    " * Most relevant features are stdIAT, meanIAT, goals, yellowReds, redCards, meanIAT, meanExp, yellowCards\n",
    " * A jump on the result also appears after adding defeats\n",
    " * The 6 best results are super close, that means that the last feature is dominant (here goals)\n",
    " * The best score is 0.6848 which is not high\n",
    " * The best silhouette is pretty bad, that is to say the 2 clusters are not well separeted "
   ]
  },
  {
   "cell_type": "markdown",
   "metadata": {},
   "source": [
    "Those two anaylsis are really similar. To sum up, the classification with respect to the skin color is dicted by the **goal feature**. We can admit that it is totally absurd to claim that it is possible to classifer skin color by number of goals...\n",
    "\n",
    "Furthemore, score and silhouette are too low to ensure classifier players by skin color with our data."
   ]
  },
  {
   "cell_type": "code",
   "execution_count": null,
   "metadata": {
    "collapsed": true
   },
   "outputs": [],
   "source": []
  }
 ],
 "metadata": {
  "anaconda-cloud": {},
  "kernelspec": {
   "display_name": "Python [Root]",
   "language": "python",
   "name": "Python [Root]"
  },
  "language_info": {
   "codemirror_mode": {
    "name": "ipython",
    "version": 3
   },
   "file_extension": ".py",
   "mimetype": "text/x-python",
   "name": "python",
   "nbconvert_exporter": "python",
   "pygments_lexer": "ipython3",
   "version": "3.5.2"
  }
 },
 "nbformat": 4,
 "nbformat_minor": 0
}
