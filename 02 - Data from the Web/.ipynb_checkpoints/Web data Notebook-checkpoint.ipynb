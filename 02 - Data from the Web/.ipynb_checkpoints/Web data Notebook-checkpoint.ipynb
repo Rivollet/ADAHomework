{
 "cells": [
  {
   "cell_type": "markdown",
   "metadata": {},
   "source": [
    "# Homework 2: Data from the Web"
   ]
  },
  {
   "cell_type": "markdown",
   "metadata": {},
   "source": [
    "In this homework, we are going to fetch information from the EPFL website IS-Academia"
   ]
  },
  {
   "cell_type": "markdown",
   "metadata": {},
   "source": [
    "# Fetching data from IS-Academia"
   ]
  },
  {
   "cell_type": "markdown",
   "metadata": {},
   "source": [
    "We import first the libraries we'll need in this notebook"
   ]
  },
  {
   "cell_type": "code",
   "execution_count": 4,
   "metadata": {
    "collapsed": false
   },
   "outputs": [],
   "source": [
    "#Usual imports\n",
    "%matplotlib inline\n",
    "import pandas as pd\n",
    "import numpy as np\n",
    "import matplotlib.pyplot as plt\n",
    "#import seaborn as sns\n",
    "#sns.set_context('notebook')\n",
    "\n",
    "#Specific imports for data fetching\n",
    "import requests #HTTP requests\n",
    "from bs4 import BeautifulSoup #HTML parsing"
   ]
  },
  {
   "cell_type": "markdown",
   "metadata": {},
   "source": [
    "Let's start by indexing the web page where we are going to fetch all the data, i.e IS-Academia"
   ]
  },
  {
   "cell_type": "code",
   "execution_count": 5,
   "metadata": {
    "collapsed": true
   },
   "outputs": [],
   "source": [
    "URL = 'http://isa.epfl.ch/imoniteur_ISAP/%21gedpublicreports.htm?ww_i_reportmodel=133685247'"
   ]
  },
  {
   "cell_type": "code",
   "execution_count": 7,
   "metadata": {
    "collapsed": false
   },
   "outputs": [],
   "source": [
    "HTML = requests.get(URL).text"
   ]
  },
  {
   "cell_type": "code",
   "execution_count": 8,
   "metadata": {
    "collapsed": true
   },
   "outputs": [],
   "source": [
    "page = BeautifulSoup(HTML, \"lxml\")"
   ]
  },
  {
   "cell_type": "code",
   "execution_count": 9,
   "metadata": {
    "collapsed": false
   },
   "outputs": [
    {
     "data": {
      "text/plain": [
       "<html>\n",
       "<head>\n",
       "<meta content=\"text/html; charset=utf-8\" http-equiv=\"Content-Type\"/>\n",
       "<title>IS-Academia</title>\n",
       "<link href=\"gedpublicreports.css?ww_x_path=Gestac.Moniteur.Style\" rel=\"stylesheet\" type=\"text/css\"/>\n",
       "<link href=\"!ewxslsource.css?ww_x_path=Eqnx.Ajax.PageNL_css\" rel=\"stylesheet\" type=\"text/css\"/><script src=\"gedpublicreports.txt?ww_x_path=Eqnx.Ajax.X.core\" type=\"text/javascript\"></script><script src=\"gedpublicreports.txt?ww_x_path=Eqnx.Ajax.X.drag\" type=\"text/javascript\"></script><script src=\"gedpublicreports.txt?ww_x_path=Eqnx.Ajax.X.event\" type=\"text/javascript\"></script><script src=\"gedpublicreports.txt?ww_x_path=Eqnx.Ajax.X.dom\" type=\"text/javascript\"></script><script src=\"gedpublicreports.txt?ww_x_path=Eqnx.Ajax.ewnet.namespace\" type=\"text/javascript\"></script><script src=\"gedpublicreports.txt?ww_x_path=Eqnx.Ajax.ewnet.core\" type=\"text/javascript\"></script><script src=\"gedpublicreports.txt?ww_x_path=Eqnx.Ajax.ewnet.uctrl\" type=\"text/javascript\"></script><script src=\"gedpublicreports.txt?ww_x_path=Eqnx.Ajax.ewnet.ucore\" type=\"text/javascript\"></script><script src=\"gedpublicreports.txt?ww_x_path=Eqnx.Ajax.ewnet.ctrl\" type=\"text/javascript\"></script><script src=\"gedpublicreports.txt?ww_x_path=Eqnx.Ajax.ewnet.autocomplete\" type=\"text/javascript\"></script><script src=\"gedpublicreports.txt?ww_x_path=Eqnx.Ajax.ewnet.toc\" type=\"text/javascript\"></script><script src=\"gedpublicreports.txt?ww_x_path=Eqnx.Ajax.ewnet.ruban\" type=\"text/javascript\"></script><script src=\"gedpublicreports.txt?ww_x_path=Eqnx.Ajax.ewnet.info\" type=\"text/javascript\"></script>\n",
       "</head>\n",
       "<frameset border=\"0\" frameborder=\"0\" rows=\"113,*\">\n",
       "<frame name=\"entete\" noresize=\"\" scrolling=\"no\" src=\"!GEDPUBLICREPORTS.entete?ww_i_reportModel=133685247\"/>\n",
       "<frameset border=\"0\" cols=\"25%,*\" frameborder=\"0\">\n",
       "<frame name=\"toc\" src=\"!GEDPUBLICREPORTS.filter?ww_i_reportModel=133685247\"/>\n",
       "<frame name=\"principal\" src=\"GEDPUBLICREPORTS.empty\"/>\n",
       "</frameset>\n",
       "</frameset>\n",
       "</html>\n",
       "<!-- OpenXml:0.00s  agent ctrl:0.00s  xml:0.01s  xsl clob before parse:0.00s  xsl extr&stylesheet:0.00s  xsl clob before parse:0.00s  xsl after parsing:0.00s  xsl ctrl data:0.00s  transform 2:0.01s  xsl process:0.00s  -->"
      ]
     },
     "execution_count": 9,
     "metadata": {},
     "output_type": "execute_result"
    }
   ],
   "source": [
    "page"
   ]
  },
  {
   "cell_type": "code",
   "execution_count": null,
   "metadata": {
    "collapsed": true
   },
   "outputs": [],
   "source": []
  }
 ],
 "metadata": {
  "kernelspec": {
   "display_name": "Python [Root]",
   "language": "python",
   "name": "Python [Root]"
  },
  "language_info": {
   "codemirror_mode": {
    "name": "ipython",
    "version": 3
   },
   "file_extension": ".py",
   "mimetype": "text/x-python",
   "name": "python",
   "nbconvert_exporter": "python",
   "pygments_lexer": "ipython3",
   "version": "3.5.2"
  }
 },
 "nbformat": 4,
 "nbformat_minor": 0
}
