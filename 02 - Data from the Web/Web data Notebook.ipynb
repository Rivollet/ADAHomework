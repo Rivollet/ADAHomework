{
 "cells": [
  {
   "cell_type": "markdown",
   "metadata": {},
   "source": [
    "# Homework 2: Data from the Web"
   ]
  },
  {
   "cell_type": "markdown",
   "metadata": {},
   "source": [
    "In this homework, we are going to fetch information from the EPFL website IS-Academia. The idea is to read data from the webpage in an html format, to parse this data using external library BeautifulSoup and to analyze the data obtained, i.e the informatic students, extracting some statistical information.\n",
    "We can then decompose the work in two principale activities: \n",
    "- Fetching the data\n",
    "- Analyzing the data"
   ]
  },
  {
   "cell_type": "markdown",
   "metadata": {},
   "source": [
    "# Fetching data from IS-Academia"
   ]
  },
  {
   "cell_type": "markdown",
   "metadata": {},
   "source": [
    "We import first the libraries we'll need in this notebook"
   ]
  },
  {
   "cell_type": "code",
   "execution_count": 41,
   "metadata": {
    "collapsed": false
   },
   "outputs": [],
   "source": [
    "#Usual imports\n",
    "%matplotlib inline\n",
    "import pandas as pd\n",
    "import numpy as np\n",
    "import matplotlib.pyplot as plt\n",
    "#import seaborn as sns\n",
    "#sns.set_context('notebook')\n",
    "\n",
    "#Specific imports for data fetching\n",
    "import requests #HTTP requests\n",
    "from bs4 import BeautifulSoup as BSoup #HTML parsing"
   ]
  },
  {
   "cell_type": "markdown",
   "metadata": {},
   "source": [
    "Let's start by indexing the web page where we are going to fetch all the data, i.e IS-Academia"
   ]
  },
  {
   "cell_type": "code",
   "execution_count": 42,
   "metadata": {
    "collapsed": false
   },
   "outputs": [],
   "source": [
    "# URL containing the empty form of IS_Academia that list students\n",
    "main_url = 'http://isa.epfl.ch/imoniteur_ISAP/!GEDPUBLICREPORTS.filter?ww_x_GPS=-1&ww_i_reportModel=133685247'\n",
    "\n",
    "# URL containing the form with the fields that we will replace depending on the information we want to extract, i.e {ACADEMIC_PERIOD_KEY}\n",
    "form_url = 'http://isa.epfl.ch/imoniteur_ISAP/!GEDPUBLICREPORTS.bhtml?ww_x_GPS=-1&ww_i_reportModel=133685247&ww_i_reportModelXsl=133685270&ww_x_UNITE_ACAD={ACADEMIC_UNIT_KEY}&ww_x_PERIODE_ACAD={ACADEMIC_PERIOD_KEY}&ww_x_PERIODE_PEDAGO={PEDAGOGIC_PERIOD_KEY}&ww_x_HIVERETE={HIVERETE_KEY}'"
   ]
  },
  {
   "cell_type": "markdown",
   "metadata": {},
   "source": [
    "The webpage where the data are stored is in a form format. Therefore, we have to change the URL depending on which list of student we want. We can check which are the specific keys for each section, year, bachelor semester and season, in order to obtain the corresponding student list when we replace them in the \"form_url\" above. The field (or parameters) to be change in the URL are given in brackets {}, for example {ACADEMIC_UNIT_KEY}."
   ]
  },
  {
   "cell_type": "code",
   "execution_count": 43,
   "metadata": {
    "collapsed": false
   },
   "outputs": [],
   "source": [
    "# We get the raw data of the main page\n",
    "ugly_html = requests.get(main_url)\n",
    "    \n",
    "# We parse it using BeautifulSoup\n",
    "beautiful_html = BSoup(ugly_html.text, 'html.parser')\n",
    "\n",
    "section_keys = {}\n",
    "year_keys = {}\n",
    "semester_keys = {}\n",
    "season_keys = {}\n",
    "\n",
    "# We store all the keys of the sections\n",
    "unite_html = beautiful_html.find('select', {'name': 'ww_x_UNITE_ACAD'})\n",
    "for unite in unite_html.find_all('option'):\n",
    "    section_keys[unite.text] = unite.get('value')\n",
    "\n",
    "# We store all the keys of the academic years\n",
    "acad_period_html = beautiful_html.find('select', {'name': 'ww_x_PERIODE_ACAD'})\n",
    "for period in acad_period_html.find_all('option'):\n",
    "    year_keys[period.text] = period.get('value')\n",
    "\n",
    "# We store all the keys of the academic semester (Bachelor and Master)\n",
    "peda_period_html = beautiful_html.find('select', {'name': 'ww_x_PERIODE_PEDAGO'})\n",
    "for peda in peda_period_html.find_all('option'):\n",
    "    semester_keys[peda.text] = peda.get('value')\n",
    "\n",
    "# We store all the keys of the seasons (Autumn / Spring)\n",
    "season_html = beautiful_html.find('select', {'name': 'ww_x_HIVERETE'})\n",
    "for season in season_html.find_all('option'):\n",
    "    season_keys[season.text] = season.get('value')\n",
    "    "
   ]
  },
  {
   "cell_type": "markdown",
   "metadata": {},
   "source": [
    "We can verify that we have all the keys that we need:\n",
    "\n",
    "(Note that the first one is empty. It represents the situation when the user does not precise what he wants for this field of research)"
   ]
  },
  {
   "cell_type": "code",
   "execution_count": 44,
   "metadata": {
    "collapsed": false
   },
   "outputs": [
    {
     "data": {
      "text/plain": [
       "{'': 'null',\n",
       " 'Architecture': '942293',\n",
       " 'Chimie et génie chimique': '246696',\n",
       " 'Cours de mathématiques spéciales': '943282',\n",
       " 'EME (EPFL Middle East)': '637841336',\n",
       " 'Génie civil': '942623',\n",
       " 'Génie mécanique': '944263',\n",
       " 'Génie électrique et électronique ': '943936',\n",
       " 'Humanités digitales': '2054839157',\n",
       " 'Informatique': '249847',\n",
       " 'Ingénierie financière': '120623110',\n",
       " 'Management de la technologie': '946882',\n",
       " 'Mathématiques': '944590',\n",
       " 'Microtechnique': '945244',\n",
       " 'Physique': '945571',\n",
       " 'Science et génie des matériaux': '944917',\n",
       " \"Sciences et ingénierie de l'environnement\": '942953',\n",
       " 'Sciences et technologies du vivant': '945901',\n",
       " 'Section FCUE': '1574548993',\n",
       " 'Systèmes de communication': '946228'}"
      ]
     },
     "execution_count": 44,
     "metadata": {},
     "output_type": "execute_result"
    }
   ],
   "source": [
    "section_keys"
   ]
  },
  {
   "cell_type": "code",
   "execution_count": 45,
   "metadata": {
    "collapsed": false,
    "scrolled": true
   },
   "outputs": [
    {
     "data": {
      "text/plain": [
       "{'': 'null',\n",
       " '2007-2008': '978181',\n",
       " '2008-2009': '978187',\n",
       " '2009-2010': '978195',\n",
       " '2010-2011': '39486325',\n",
       " '2011-2012': '123455150',\n",
       " '2012-2013': '123456101',\n",
       " '2013-2014': '213637754',\n",
       " '2014-2015': '213637922',\n",
       " '2015-2016': '213638028',\n",
       " '2016-2017': '355925344'}"
      ]
     },
     "execution_count": 45,
     "metadata": {},
     "output_type": "execute_result"
    }
   ],
   "source": [
    "year_keys"
   ]
  },
  {
   "cell_type": "code",
   "execution_count": 46,
   "metadata": {
    "collapsed": false
   },
   "outputs": [
    {
     "data": {
      "text/plain": [
       "{'': 'null',\n",
       " 'Bachelor semestre 1': '249108',\n",
       " 'Bachelor semestre 2': '249114',\n",
       " 'Bachelor semestre 3': '942155',\n",
       " 'Bachelor semestre 4': '942163',\n",
       " 'Bachelor semestre 5': '942120',\n",
       " 'Bachelor semestre 5b': '2226768',\n",
       " 'Bachelor semestre 6': '942175',\n",
       " 'Bachelor semestre 6b': '2226785',\n",
       " 'Master semestre 1': '2230106',\n",
       " 'Master semestre 2': '942192',\n",
       " 'Master semestre 3': '2230128',\n",
       " 'Master semestre 4': '2230140',\n",
       " 'Mineur semestre 1': '2335667',\n",
       " 'Mineur semestre 2': '2335676',\n",
       " 'Mise à niveau': '2063602308',\n",
       " 'Projet Master automne': '249127',\n",
       " 'Projet Master printemps': '3781783',\n",
       " 'Semestre automne': '953159',\n",
       " 'Semestre printemps': '2754553',\n",
       " 'Stage automne 3ème année': '953137',\n",
       " 'Stage automne 4ème année': '2226616',\n",
       " 'Stage printemps 3ème année': '983606',\n",
       " 'Stage printemps 4ème année': '2226626',\n",
       " 'Stage printemps master': '2227132'}"
      ]
     },
     "execution_count": 46,
     "metadata": {},
     "output_type": "execute_result"
    }
   ],
   "source": [
    "semester_keys"
   ]
  },
  {
   "cell_type": "code",
   "execution_count": 47,
   "metadata": {
    "collapsed": false
   },
   "outputs": [
    {
     "data": {
      "text/plain": [
       "{'': 'null',\n",
       " \"Semestre d'automne\": '2936286',\n",
       " 'Semestre de printemps': '2936295'}"
      ]
     },
     "execution_count": 47,
     "metadata": {},
     "output_type": "execute_result"
    }
   ],
   "source": [
    "season_keys"
   ]
  },
  {
   "cell_type": "markdown",
   "metadata": {},
   "source": [
    "We create a function that update the URL depending on the list of student we want, for example 'Informatique / 2007-2008 / Bachelor semestre 1 / Semestre d'automne'."
   ]
  },
  {
   "cell_type": "code",
   "execution_count": 48,
   "metadata": {
    "collapsed": false
   },
   "outputs": [],
   "source": [
    "def getSpecificURL(section, years, semester, season):\n",
    "    new_url = form_url;\n",
    "    new_url = new_url.replace('{ACADEMIC_UNIT_KEY}', str(section_keys[section]))\n",
    "    new_url = new_url.replace('{ACADEMIC_PERIOD_KEY}', str(year_keys[years]))\n",
    "    new_url = new_url.replace('{PEDAGOGIC_PERIOD_KEY}', str(semester_keys[semester]))\n",
    "    new_url = new_url.replace('{HIVERETE_KEY}', str(season_keys[season]))\n",
    "    return new_url"
   ]
  },
  {
   "cell_type": "code",
   "execution_count": 49,
   "metadata": {
    "collapsed": false
   },
   "outputs": [
    {
     "data": {
      "text/plain": [
       "'http://isa.epfl.ch/imoniteur_ISAP/!GEDPUBLICREPORTS.bhtml?ww_x_GPS=-1&ww_i_reportModel=133685247&ww_i_reportModelXsl=133685270&ww_x_UNITE_ACAD=249847&ww_x_PERIODE_ACAD=978181&ww_x_PERIODE_PEDAGO=249108&ww_x_HIVERETE=2936286'"
      ]
     },
     "execution_count": 49,
     "metadata": {},
     "output_type": "execute_result"
    }
   ],
   "source": [
    "getSpecificURL('Informatique', '2007-2008', 'Bachelor semestre 1', 'Semestre d\\'automne')"
   ]
  },
  {
   "cell_type": "markdown",
   "metadata": {},
   "source": [
    "If you tap this URL in your favorite browser, you will obtain the list of student for this specific year and semester."
   ]
  },
  {
   "cell_type": "markdown",
   "metadata": {},
   "source": [
    "Before extracting the data we want, we still have to define a function that parse correctly the list of student (given in html) into a well designed DataFrame. To do so, we define the function parseTable:"
   ]
  },
  {
   "cell_type": "code",
   "execution_count": 50,
   "metadata": {
    "collapsed": true
   },
   "outputs": [],
   "source": [
    "def parseTable(table):\n",
    "    # Search on all the lines\n",
    "    lines = table.find_all('tr')\n",
    "    N = len(lines)\n",
    "    output = []\n",
    "    \n",
    "    \n",
    "    for i in range(2, N-1):\n",
    "        # Search on all the columns\n",
    "        line = lines[i]\n",
    "        rows = line.find_all('td')\n",
    "        M = len(rows)\n",
    "        if M > 0:\n",
    "            gender = rows[0].text\n",
    "            name = rows[1].text\n",
    "            sciper = rows[10].text\n",
    "            status = rows[7].text\n",
    "            output.append({'gender':gender, 'name':name, 'sciper':sciper, 'status':status})\n",
    "            \n",
    "    return pd.DataFrame(output)"
   ]
  },
  {
   "cell_type": "markdown",
   "metadata": {},
   "source": [
    "Now that we have all the tools that we needed to extract the data correctly, we can start fetching them from IS-Academia. First, we have to decide which ones are interesting for us. We will focus only on the 'Informatique' section and on the students that have finished their bachelor degree. We will then store only the information on 'Informatique' students that have *'Bachelor semestre 1'*, *'Bachelor semestre 5'* and *'Bachelor semestre 6'* entries. We  have to keep the *'Bachelor semestre 5'* entry because a student can finish his degree in the semester 5 if he redoes only half a year.\n",
    "\n",
    "Note also that we don't take into account the academic year 2016-2017, because the students have not completed there cursus yet."
   ]
  },
  {
   "cell_type": "code",
   "execution_count": 51,
   "metadata": {
    "collapsed": true
   },
   "outputs": [],
   "source": [
    "spec_section = ['Informatique']\n",
    "spec_year = ['2007-2008', '2008-2009', '2009-2010', '2010-2011', '2011-2012', '2012-2013', '2013-2014', '2014-2015', '2015-2016']\n",
    "spec_semester = ['Bachelor semestre 1','Bachelor semestre 5','Bachelor semestre 6']\n",
    "spec_season = ['Semestre d\\'automne', 'Semestre de printemps']"
   ]
  },
  {
   "cell_type": "code",
   "execution_count": 52,
   "metadata": {
    "collapsed": false
   },
   "outputs": [],
   "source": [
    "all_data = []\n",
    "\n",
    "for section in spec_section:\n",
    "    for year in spec_year:\n",
    "        for semester in spec_semester:\n",
    "            for season in spec_season:\n",
    "                spec_url = getSpecificURL(section, year, semester, season)\n",
    "                spec_html = requests.get(spec_url)\n",
    "                spec_beautiful_html = BSoup(spec_html.text, 'html.parser')\n",
    "                \n",
    "                student_table = spec_beautiful_html.find('table')\n",
    "                student_data = parseTable(student_table)\n",
    "                student_data['section'] = section\n",
    "                student_data['year'] = year\n",
    "                student_data['semester'] = semester\n",
    "                student_data['season'] = season\n",
    "                \n",
    "                if not(student_data.empty):\n",
    "                    all_data.append(student_data)"
   ]
  },
  {
   "cell_type": "code",
   "execution_count": 53,
   "metadata": {
    "collapsed": false,
    "scrolled": true
   },
   "outputs": [
    {
     "data": {
      "text/html": [
       "<div>\n",
       "<table border=\"1\" class=\"dataframe\">\n",
       "  <thead>\n",
       "    <tr style=\"text-align: right;\">\n",
       "      <th></th>\n",
       "      <th>gender</th>\n",
       "      <th>name</th>\n",
       "      <th>sciper</th>\n",
       "      <th>status</th>\n",
       "      <th>section</th>\n",
       "      <th>year</th>\n",
       "      <th>semester</th>\n",
       "      <th>season</th>\n",
       "    </tr>\n",
       "  </thead>\n",
       "  <tbody>\n",
       "    <tr>\n",
       "      <th>0</th>\n",
       "      <td>Monsieur</td>\n",
       "      <td>Arévalo Christian</td>\n",
       "      <td>169569</td>\n",
       "      <td>Présent</td>\n",
       "      <td>Informatique</td>\n",
       "      <td>2007-2008</td>\n",
       "      <td>Bachelor semestre 1</td>\n",
       "      <td>Semestre d'automne</td>\n",
       "    </tr>\n",
       "    <tr>\n",
       "      <th>1</th>\n",
       "      <td>Monsieur</td>\n",
       "      <td>Aubelle Flavien</td>\n",
       "      <td>174905</td>\n",
       "      <td>Présent</td>\n",
       "      <td>Informatique</td>\n",
       "      <td>2007-2008</td>\n",
       "      <td>Bachelor semestre 1</td>\n",
       "      <td>Semestre d'automne</td>\n",
       "    </tr>\n",
       "    <tr>\n",
       "      <th>2</th>\n",
       "      <td>Monsieur</td>\n",
       "      <td>Badoud Morgan</td>\n",
       "      <td>173922</td>\n",
       "      <td>Présent</td>\n",
       "      <td>Informatique</td>\n",
       "      <td>2007-2008</td>\n",
       "      <td>Bachelor semestre 1</td>\n",
       "      <td>Semestre d'automne</td>\n",
       "    </tr>\n",
       "    <tr>\n",
       "      <th>3</th>\n",
       "      <td>Monsieur</td>\n",
       "      <td>Baeriswyl Jonathan</td>\n",
       "      <td>179406</td>\n",
       "      <td>Présent</td>\n",
       "      <td>Informatique</td>\n",
       "      <td>2007-2008</td>\n",
       "      <td>Bachelor semestre 1</td>\n",
       "      <td>Semestre d'automne</td>\n",
       "    </tr>\n",
       "    <tr>\n",
       "      <th>4</th>\n",
       "      <td>Monsieur</td>\n",
       "      <td>Barroco Michael</td>\n",
       "      <td>179428</td>\n",
       "      <td>Présent</td>\n",
       "      <td>Informatique</td>\n",
       "      <td>2007-2008</td>\n",
       "      <td>Bachelor semestre 1</td>\n",
       "      <td>Semestre d'automne</td>\n",
       "    </tr>\n",
       "    <tr>\n",
       "      <th>5</th>\n",
       "      <td>Monsieur</td>\n",
       "      <td>Belfis Nicolas</td>\n",
       "      <td>179324</td>\n",
       "      <td>Présent</td>\n",
       "      <td>Informatique</td>\n",
       "      <td>2007-2008</td>\n",
       "      <td>Bachelor semestre 1</td>\n",
       "      <td>Semestre d'automne</td>\n",
       "    </tr>\n",
       "    <tr>\n",
       "      <th>6</th>\n",
       "      <td>Monsieur</td>\n",
       "      <td>Beliaev Stanislav</td>\n",
       "      <td>174597</td>\n",
       "      <td>Présent</td>\n",
       "      <td>Informatique</td>\n",
       "      <td>2007-2008</td>\n",
       "      <td>Bachelor semestre 1</td>\n",
       "      <td>Semestre d'automne</td>\n",
       "    </tr>\n",
       "    <tr>\n",
       "      <th>7</th>\n",
       "      <td>Monsieur</td>\n",
       "      <td>Bindschaedler Vincent</td>\n",
       "      <td>179449</td>\n",
       "      <td>Présent</td>\n",
       "      <td>Informatique</td>\n",
       "      <td>2007-2008</td>\n",
       "      <td>Bachelor semestre 1</td>\n",
       "      <td>Semestre d'automne</td>\n",
       "    </tr>\n",
       "    <tr>\n",
       "      <th>8</th>\n",
       "      <td>Monsieur</td>\n",
       "      <td>Bloch Marc-Olivier</td>\n",
       "      <td>178553</td>\n",
       "      <td>Présent</td>\n",
       "      <td>Informatique</td>\n",
       "      <td>2007-2008</td>\n",
       "      <td>Bachelor semestre 1</td>\n",
       "      <td>Semestre d'automne</td>\n",
       "    </tr>\n",
       "    <tr>\n",
       "      <th>9</th>\n",
       "      <td>Monsieur</td>\n",
       "      <td>Bloch Remi</td>\n",
       "      <td>179426</td>\n",
       "      <td>Présent</td>\n",
       "      <td>Informatique</td>\n",
       "      <td>2007-2008</td>\n",
       "      <td>Bachelor semestre 1</td>\n",
       "      <td>Semestre d'automne</td>\n",
       "    </tr>\n",
       "  </tbody>\n",
       "</table>\n",
       "</div>"
      ],
      "text/plain": [
       "     gender                   name  sciper   status       section       year  \\\n",
       "0  Monsieur      Arévalo Christian  169569  Présent  Informatique  2007-2008   \n",
       "1  Monsieur        Aubelle Flavien  174905  Présent  Informatique  2007-2008   \n",
       "2  Monsieur          Badoud Morgan  173922  Présent  Informatique  2007-2008   \n",
       "3  Monsieur     Baeriswyl Jonathan  179406  Présent  Informatique  2007-2008   \n",
       "4  Monsieur        Barroco Michael  179428  Présent  Informatique  2007-2008   \n",
       "5  Monsieur         Belfis Nicolas  179324  Présent  Informatique  2007-2008   \n",
       "6  Monsieur      Beliaev Stanislav  174597  Présent  Informatique  2007-2008   \n",
       "7  Monsieur  Bindschaedler Vincent  179449  Présent  Informatique  2007-2008   \n",
       "8  Monsieur     Bloch Marc-Olivier  178553  Présent  Informatique  2007-2008   \n",
       "9  Monsieur             Bloch Remi  179426  Présent  Informatique  2007-2008   \n",
       "\n",
       "              semester              season  \n",
       "0  Bachelor semestre 1  Semestre d'automne  \n",
       "1  Bachelor semestre 1  Semestre d'automne  \n",
       "2  Bachelor semestre 1  Semestre d'automne  \n",
       "3  Bachelor semestre 1  Semestre d'automne  \n",
       "4  Bachelor semestre 1  Semestre d'automne  \n",
       "5  Bachelor semestre 1  Semestre d'automne  \n",
       "6  Bachelor semestre 1  Semestre d'automne  \n",
       "7  Bachelor semestre 1  Semestre d'automne  \n",
       "8  Bachelor semestre 1  Semestre d'automne  \n",
       "9  Bachelor semestre 1  Semestre d'automne  "
      ]
     },
     "execution_count": 53,
     "metadata": {},
     "output_type": "execute_result"
    }
   ],
   "source": [
    "all_data[0].head(10)"
   ]
  },
  {
   "cell_type": "code",
   "execution_count": 54,
   "metadata": {
    "collapsed": false,
    "scrolled": true
   },
   "outputs": [
    {
     "data": {
      "text/plain": [
       "(2868, 8)"
      ]
     },
     "execution_count": 54,
     "metadata": {},
     "output_type": "execute_result"
    }
   ],
   "source": [
    "all_data_frame = pd.concat(all_data)\n",
    "all_data_frame.shape"
   ]
  },
  {
   "cell_type": "markdown",
   "metadata": {},
   "source": [
    "In oder to avoid unecessary process, we store all the data in an csv file"
   ]
  },
  {
   "cell_type": "code",
   "execution_count": 56,
   "metadata": {
    "collapsed": true
   },
   "outputs": [],
   "source": [
    "all_data_frame.to_csv('data_ba.csv', ',', index=False)"
   ]
  },
  {
   "cell_type": "markdown",
   "metadata": {},
   "source": [
    "For futher work, we will also need the students in master degree. Therefore, we can redo the process above and store these new datas in an other file. However, the data has a different structure for the master students. For example, it would be interesting to store the minor the student has (if he has one) etc...\n",
    "\n",
    "We need then to redefine a parser for the list of master students."
   ]
  },
  {
   "cell_type": "code",
   "execution_count": 76,
   "metadata": {
    "collapsed": true
   },
   "outputs": [],
   "source": [
    "def parseTable_ma(table):\n",
    "    # Search on all the lines\n",
    "    lines = table.find_all('tr')\n",
    "    N = len(lines)\n",
    "    output = []\n",
    "    \n",
    "    \n",
    "    for i in range(2, N-1):\n",
    "        # Search on all the columns\n",
    "        line = lines[i]\n",
    "        rows = line.find_all('td')\n",
    "        M = len(rows)\n",
    "        if M > 0:\n",
    "            gender = rows[0].text\n",
    "            name = rows[1].text\n",
    "            sciper = rows[10].text\n",
    "            status = rows[7].text\n",
    "            special = rows[4].text\n",
    "            mineur = rows[6].text\n",
    "            output.append({'gender':gender, 'name':name, 'sciper':sciper, 'status':status, 'specialization': special, 'mineur':mineur})\n",
    "            \n",
    "    return pd.DataFrame(output)"
   ]
  },
  {
   "cell_type": "code",
   "execution_count": 74,
   "metadata": {
    "collapsed": true
   },
   "outputs": [],
   "source": [
    "spec_semester_ma = ['Master semestre 1','Master semestre 2','Master semestre 3','Master semestre 4']"
   ]
  },
  {
   "cell_type": "code",
   "execution_count": 77,
   "metadata": {
    "collapsed": false
   },
   "outputs": [],
   "source": [
    "all_data_ma = []\n",
    "\n",
    "for section in spec_section:\n",
    "    for year in spec_year:\n",
    "        for semester in spec_semester_ma:\n",
    "            for season in spec_season:\n",
    "                spec_url = getSpecificURL(section, year, semester, season)\n",
    "                spec_html = requests.get(spec_url)\n",
    "                spec_beautiful_html = BSoup(spec_html.text, 'html.parser')\n",
    "                \n",
    "                student_table = spec_beautiful_html.find('table')\n",
    "                student_data = parseTable_ma(student_table)\n",
    "                student_data['section'] = section\n",
    "                student_data['year'] = year\n",
    "                student_data['semester'] = semester\n",
    "                student_data['season'] = season\n",
    "                \n",
    "                if not(student_data.empty):\n",
    "                    all_data_ma.append(student_data)"
   ]
  },
  {
   "cell_type": "code",
   "execution_count": 78,
   "metadata": {
    "collapsed": false
   },
   "outputs": [
    {
     "data": {
      "text/plain": [
       "(2431, 10)"
      ]
     },
     "execution_count": 78,
     "metadata": {},
     "output_type": "execute_result"
    }
   ],
   "source": [
    "all_data_frame_ma = pd.concat(all_data_ma)\n",
    "all_data_frame_ma.shape"
   ]
  },
  {
   "cell_type": "code",
   "execution_count": 83,
   "metadata": {
    "collapsed": false
   },
   "outputs": [
    {
     "data": {
      "text/html": [
       "<div>\n",
       "<table border=\"1\" class=\"dataframe\">\n",
       "  <thead>\n",
       "    <tr style=\"text-align: right;\">\n",
       "      <th></th>\n",
       "      <th>gender</th>\n",
       "      <th>mineur</th>\n",
       "      <th>name</th>\n",
       "      <th>sciper</th>\n",
       "      <th>specialization</th>\n",
       "      <th>status</th>\n",
       "      <th>section</th>\n",
       "      <th>year</th>\n",
       "      <th>semester</th>\n",
       "      <th>season</th>\n",
       "    </tr>\n",
       "  </thead>\n",
       "  <tbody>\n",
       "    <tr>\n",
       "      <th>0</th>\n",
       "      <td>Monsieur</td>\n",
       "      <td></td>\n",
       "      <td>Aeberhard François-Xavier</td>\n",
       "      <td>153066</td>\n",
       "      <td></td>\n",
       "      <td>Présent</td>\n",
       "      <td>Informatique</td>\n",
       "      <td>2007-2008</td>\n",
       "      <td>Master semestre 1</td>\n",
       "      <td>Semestre d'automne</td>\n",
       "    </tr>\n",
       "    <tr>\n",
       "      <th>1</th>\n",
       "      <td>Madame</td>\n",
       "      <td></td>\n",
       "      <td>Agarwal Megha</td>\n",
       "      <td>180027</td>\n",
       "      <td></td>\n",
       "      <td>Présent</td>\n",
       "      <td>Informatique</td>\n",
       "      <td>2007-2008</td>\n",
       "      <td>Master semestre 1</td>\n",
       "      <td>Semestre d'automne</td>\n",
       "    </tr>\n",
       "    <tr>\n",
       "      <th>2</th>\n",
       "      <td>Monsieur</td>\n",
       "      <td></td>\n",
       "      <td>Anagnostaras David</td>\n",
       "      <td>152232</td>\n",
       "      <td></td>\n",
       "      <td>Présent</td>\n",
       "      <td>Informatique</td>\n",
       "      <td>2007-2008</td>\n",
       "      <td>Master semestre 1</td>\n",
       "      <td>Semestre d'automne</td>\n",
       "    </tr>\n",
       "    <tr>\n",
       "      <th>3</th>\n",
       "      <td>Monsieur</td>\n",
       "      <td></td>\n",
       "      <td>Auroux Damien</td>\n",
       "      <td>177395</td>\n",
       "      <td></td>\n",
       "      <td>Présent</td>\n",
       "      <td>Informatique</td>\n",
       "      <td>2007-2008</td>\n",
       "      <td>Master semestre 1</td>\n",
       "      <td>Semestre d'automne</td>\n",
       "    </tr>\n",
       "    <tr>\n",
       "      <th>4</th>\n",
       "      <td>Monsieur</td>\n",
       "      <td></td>\n",
       "      <td>Awalebo Joseph</td>\n",
       "      <td>161970</td>\n",
       "      <td></td>\n",
       "      <td>Présent</td>\n",
       "      <td>Informatique</td>\n",
       "      <td>2007-2008</td>\n",
       "      <td>Master semestre 1</td>\n",
       "      <td>Semestre d'automne</td>\n",
       "    </tr>\n",
       "    <tr>\n",
       "      <th>5</th>\n",
       "      <td>Monsieur</td>\n",
       "      <td></td>\n",
       "      <td>Balet Ken</td>\n",
       "      <td>166258</td>\n",
       "      <td></td>\n",
       "      <td>Présent</td>\n",
       "      <td>Informatique</td>\n",
       "      <td>2007-2008</td>\n",
       "      <td>Master semestre 1</td>\n",
       "      <td>Semestre d'automne</td>\n",
       "    </tr>\n",
       "    <tr>\n",
       "      <th>6</th>\n",
       "      <td>Monsieur</td>\n",
       "      <td></td>\n",
       "      <td>Barazzutti Raphaël Pierre</td>\n",
       "      <td>173600</td>\n",
       "      <td></td>\n",
       "      <td>Présent</td>\n",
       "      <td>Informatique</td>\n",
       "      <td>2007-2008</td>\n",
       "      <td>Master semestre 1</td>\n",
       "      <td>Semestre d'automne</td>\n",
       "    </tr>\n",
       "    <tr>\n",
       "      <th>7</th>\n",
       "      <td>Monsieur</td>\n",
       "      <td></td>\n",
       "      <td>Bayramoglu Ersoy</td>\n",
       "      <td>178879</td>\n",
       "      <td></td>\n",
       "      <td>Présent</td>\n",
       "      <td>Informatique</td>\n",
       "      <td>2007-2008</td>\n",
       "      <td>Master semestre 1</td>\n",
       "      <td>Semestre d'automne</td>\n",
       "    </tr>\n",
       "    <tr>\n",
       "      <th>8</th>\n",
       "      <td>Madame</td>\n",
       "      <td></td>\n",
       "      <td>Benabdallah Zeineb</td>\n",
       "      <td>154573</td>\n",
       "      <td></td>\n",
       "      <td>Présent</td>\n",
       "      <td>Informatique</td>\n",
       "      <td>2007-2008</td>\n",
       "      <td>Master semestre 1</td>\n",
       "      <td>Semestre d'automne</td>\n",
       "    </tr>\n",
       "    <tr>\n",
       "      <th>9</th>\n",
       "      <td>Monsieur</td>\n",
       "      <td></td>\n",
       "      <td>Bettex Marc</td>\n",
       "      <td>160492</td>\n",
       "      <td></td>\n",
       "      <td>Présent</td>\n",
       "      <td>Informatique</td>\n",
       "      <td>2007-2008</td>\n",
       "      <td>Master semestre 1</td>\n",
       "      <td>Semestre d'automne</td>\n",
       "    </tr>\n",
       "    <tr>\n",
       "      <th>10</th>\n",
       "      <td>Monsieur</td>\n",
       "      <td></td>\n",
       "      <td>Billaud Joël</td>\n",
       "      <td>172687</td>\n",
       "      <td></td>\n",
       "      <td>Présent</td>\n",
       "      <td>Informatique</td>\n",
       "      <td>2007-2008</td>\n",
       "      <td>Master semestre 1</td>\n",
       "      <td>Semestre d'automne</td>\n",
       "    </tr>\n",
       "    <tr>\n",
       "      <th>11</th>\n",
       "      <td>Monsieur</td>\n",
       "      <td></td>\n",
       "      <td>Brightwell Mark</td>\n",
       "      <td>179802</td>\n",
       "      <td></td>\n",
       "      <td>Présent</td>\n",
       "      <td>Informatique</td>\n",
       "      <td>2007-2008</td>\n",
       "      <td>Master semestre 1</td>\n",
       "      <td>Semestre d'automne</td>\n",
       "    </tr>\n",
       "    <tr>\n",
       "      <th>12</th>\n",
       "      <td>Madame</td>\n",
       "      <td></td>\n",
       "      <td>Bucher Cécile</td>\n",
       "      <td>162618</td>\n",
       "      <td></td>\n",
       "      <td>Présent</td>\n",
       "      <td>Informatique</td>\n",
       "      <td>2007-2008</td>\n",
       "      <td>Master semestre 1</td>\n",
       "      <td>Semestre d'automne</td>\n",
       "    </tr>\n",
       "    <tr>\n",
       "      <th>13</th>\n",
       "      <td>Monsieur</td>\n",
       "      <td></td>\n",
       "      <td>Campora Simone</td>\n",
       "      <td>180072</td>\n",
       "      <td>Internet computing</td>\n",
       "      <td>Présent</td>\n",
       "      <td>Informatique</td>\n",
       "      <td>2007-2008</td>\n",
       "      <td>Master semestre 1</td>\n",
       "      <td>Semestre d'automne</td>\n",
       "    </tr>\n",
       "    <tr>\n",
       "      <th>14</th>\n",
       "      <td>Monsieur</td>\n",
       "      <td></td>\n",
       "      <td>Cardinaux Damien</td>\n",
       "      <td>146330</td>\n",
       "      <td></td>\n",
       "      <td>Présent</td>\n",
       "      <td>Informatique</td>\n",
       "      <td>2007-2008</td>\n",
       "      <td>Master semestre 1</td>\n",
       "      <td>Semestre d'automne</td>\n",
       "    </tr>\n",
       "  </tbody>\n",
       "</table>\n",
       "</div>"
      ],
      "text/plain": [
       "      gender mineur                       name  sciper      specialization  \\\n",
       "0   Monsieur         Aeberhard François-Xavier  153066                       \n",
       "1     Madame                     Agarwal Megha  180027                       \n",
       "2   Monsieur                Anagnostaras David  152232                       \n",
       "3   Monsieur                     Auroux Damien  177395                       \n",
       "4   Monsieur                    Awalebo Joseph  161970                       \n",
       "5   Monsieur                         Balet Ken  166258                       \n",
       "6   Monsieur         Barazzutti Raphaël Pierre  173600                       \n",
       "7   Monsieur                  Bayramoglu Ersoy  178879                       \n",
       "8     Madame                Benabdallah Zeineb  154573                       \n",
       "9   Monsieur                       Bettex Marc  160492                       \n",
       "10  Monsieur                      Billaud Joël  172687                       \n",
       "11  Monsieur                   Brightwell Mark  179802                       \n",
       "12    Madame                     Bucher Cécile  162618                       \n",
       "13  Monsieur                    Campora Simone  180072  Internet computing   \n",
       "14  Monsieur                  Cardinaux Damien  146330                       \n",
       "\n",
       "     status       section       year           semester              season  \n",
       "0   Présent  Informatique  2007-2008  Master semestre 1  Semestre d'automne  \n",
       "1   Présent  Informatique  2007-2008  Master semestre 1  Semestre d'automne  \n",
       "2   Présent  Informatique  2007-2008  Master semestre 1  Semestre d'automne  \n",
       "3   Présent  Informatique  2007-2008  Master semestre 1  Semestre d'automne  \n",
       "4   Présent  Informatique  2007-2008  Master semestre 1  Semestre d'automne  \n",
       "5   Présent  Informatique  2007-2008  Master semestre 1  Semestre d'automne  \n",
       "6   Présent  Informatique  2007-2008  Master semestre 1  Semestre d'automne  \n",
       "7   Présent  Informatique  2007-2008  Master semestre 1  Semestre d'automne  \n",
       "8   Présent  Informatique  2007-2008  Master semestre 1  Semestre d'automne  \n",
       "9   Présent  Informatique  2007-2008  Master semestre 1  Semestre d'automne  \n",
       "10  Présent  Informatique  2007-2008  Master semestre 1  Semestre d'automne  \n",
       "11  Présent  Informatique  2007-2008  Master semestre 1  Semestre d'automne  \n",
       "12  Présent  Informatique  2007-2008  Master semestre 1  Semestre d'automne  \n",
       "13  Présent  Informatique  2007-2008  Master semestre 1  Semestre d'automne  \n",
       "14  Présent  Informatique  2007-2008  Master semestre 1  Semestre d'automne  "
      ]
     },
     "execution_count": 83,
     "metadata": {},
     "output_type": "execute_result"
    }
   ],
   "source": [
    "all_data_frame_ma.head(15)"
   ]
  },
  {
   "cell_type": "markdown",
   "metadata": {},
   "source": [
    "Again, we store these data in a csv file"
   ]
  },
  {
   "cell_type": "code",
   "execution_count": 80,
   "metadata": {
    "collapsed": true
   },
   "outputs": [],
   "source": [
    "all_data_frame_ma.to_csv('data_ma.csv', ',', index=False)"
   ]
  },
  {
   "cell_type": "markdown",
   "metadata": {},
   "source": [
    "# Assignments: Analyzing the data"
   ]
  },
  {
   "cell_type": "markdown",
   "metadata": {},
   "source": [
    "Now that we have fetching all the data interesting for us, we can start analyzing them and try to extract interesting information."
   ]
  },
  {
   "cell_type": "markdown",
   "metadata": {},
   "source": [
    "It is possible to import data without requesting the server because everything had been stored previously in memory "
   ]
  },
  {
   "cell_type": "code",
   "execution_count": 32,
   "metadata": {
    "collapsed": false
   },
   "outputs": [
    {
     "data": {
      "text/plain": [
       "(2868, 8)"
      ]
     },
     "execution_count": 32,
     "metadata": {},
     "output_type": "execute_result"
    }
   ],
   "source": [
    "all_data_frame = pd.read_csv('data_ba.csv', ',')\n",
    "all_data_frame.shape"
   ]
  },
  {
   "cell_type": "code",
   "execution_count": 31,
   "metadata": {
    "collapsed": false
   },
   "outputs": [
    {
     "data": {
      "text/html": [
       "<div>\n",
       "<table border=\"1\" class=\"dataframe\">\n",
       "  <thead>\n",
       "    <tr style=\"text-align: right;\">\n",
       "      <th></th>\n",
       "      <th>gender</th>\n",
       "      <th>name</th>\n",
       "      <th>sciper</th>\n",
       "      <th>status</th>\n",
       "      <th>section</th>\n",
       "      <th>year</th>\n",
       "      <th>semester</th>\n",
       "      <th>season</th>\n",
       "    </tr>\n",
       "  </thead>\n",
       "  <tbody>\n",
       "    <tr>\n",
       "      <th>0</th>\n",
       "      <td>Monsieur</td>\n",
       "      <td>Arévalo Christian</td>\n",
       "      <td>169569</td>\n",
       "      <td>Présent</td>\n",
       "      <td>Informatique</td>\n",
       "      <td>2007-2008</td>\n",
       "      <td>Bachelor semestre 1</td>\n",
       "      <td>Semestre d'automne</td>\n",
       "    </tr>\n",
       "    <tr>\n",
       "      <th>1</th>\n",
       "      <td>Monsieur</td>\n",
       "      <td>Aubelle Flavien</td>\n",
       "      <td>174905</td>\n",
       "      <td>Présent</td>\n",
       "      <td>Informatique</td>\n",
       "      <td>2007-2008</td>\n",
       "      <td>Bachelor semestre 1</td>\n",
       "      <td>Semestre d'automne</td>\n",
       "    </tr>\n",
       "    <tr>\n",
       "      <th>2</th>\n",
       "      <td>Monsieur</td>\n",
       "      <td>Badoud Morgan</td>\n",
       "      <td>173922</td>\n",
       "      <td>Présent</td>\n",
       "      <td>Informatique</td>\n",
       "      <td>2007-2008</td>\n",
       "      <td>Bachelor semestre 1</td>\n",
       "      <td>Semestre d'automne</td>\n",
       "    </tr>\n",
       "    <tr>\n",
       "      <th>3</th>\n",
       "      <td>Monsieur</td>\n",
       "      <td>Baeriswyl Jonathan</td>\n",
       "      <td>179406</td>\n",
       "      <td>Présent</td>\n",
       "      <td>Informatique</td>\n",
       "      <td>2007-2008</td>\n",
       "      <td>Bachelor semestre 1</td>\n",
       "      <td>Semestre d'automne</td>\n",
       "    </tr>\n",
       "    <tr>\n",
       "      <th>4</th>\n",
       "      <td>Monsieur</td>\n",
       "      <td>Barroco Michael</td>\n",
       "      <td>179428</td>\n",
       "      <td>Présent</td>\n",
       "      <td>Informatique</td>\n",
       "      <td>2007-2008</td>\n",
       "      <td>Bachelor semestre 1</td>\n",
       "      <td>Semestre d'automne</td>\n",
       "    </tr>\n",
       "  </tbody>\n",
       "</table>\n",
       "</div>"
      ],
      "text/plain": [
       "     gender                name  sciper   status       section       year  \\\n",
       "0  Monsieur   Arévalo Christian  169569  Présent  Informatique  2007-2008   \n",
       "1  Monsieur     Aubelle Flavien  174905  Présent  Informatique  2007-2008   \n",
       "2  Monsieur       Badoud Morgan  173922  Présent  Informatique  2007-2008   \n",
       "3  Monsieur  Baeriswyl Jonathan  179406  Présent  Informatique  2007-2008   \n",
       "4  Monsieur     Barroco Michael  179428  Présent  Informatique  2007-2008   \n",
       "\n",
       "              semester              season  \n",
       "0  Bachelor semestre 1  Semestre d'automne  \n",
       "1  Bachelor semestre 1  Semestre d'automne  \n",
       "2  Bachelor semestre 1  Semestre d'automne  \n",
       "3  Bachelor semestre 1  Semestre d'automne  \n",
       "4  Bachelor semestre 1  Semestre d'automne  "
      ]
     },
     "execution_count": 31,
     "metadata": {},
     "output_type": "execute_result"
    }
   ],
   "source": [
    "all_data_frame.head()"
   ]
  },
  {
   "cell_type": "code",
   "execution_count": 69,
   "metadata": {
    "collapsed": false
   },
   "outputs": [
    {
     "data": {
      "text/plain": [
       "(2431, 8)"
      ]
     },
     "execution_count": 69,
     "metadata": {},
     "output_type": "execute_result"
    }
   ],
   "source": [
    "all_data_frame_ma = pd.read_csv('data_ma.csv', ',')\n",
    "all_data_frame_ma.shape"
   ]
  },
  {
   "cell_type": "code",
   "execution_count": 70,
   "metadata": {
    "collapsed": false
   },
   "outputs": [
    {
     "data": {
      "text/html": [
       "<div>\n",
       "<table border=\"1\" class=\"dataframe\">\n",
       "  <thead>\n",
       "    <tr style=\"text-align: right;\">\n",
       "      <th></th>\n",
       "      <th>gender</th>\n",
       "      <th>name</th>\n",
       "      <th>sciper</th>\n",
       "      <th>status</th>\n",
       "      <th>section</th>\n",
       "      <th>year</th>\n",
       "      <th>semester</th>\n",
       "      <th>season</th>\n",
       "    </tr>\n",
       "  </thead>\n",
       "  <tbody>\n",
       "    <tr>\n",
       "      <th>0</th>\n",
       "      <td>Monsieur</td>\n",
       "      <td>Aeberhard François-Xavier</td>\n",
       "      <td>153066</td>\n",
       "      <td>Présent</td>\n",
       "      <td>Informatique</td>\n",
       "      <td>2007-2008</td>\n",
       "      <td>Master semestre 1</td>\n",
       "      <td>Semestre d'automne</td>\n",
       "    </tr>\n",
       "    <tr>\n",
       "      <th>1</th>\n",
       "      <td>Madame</td>\n",
       "      <td>Agarwal Megha</td>\n",
       "      <td>180027</td>\n",
       "      <td>Présent</td>\n",
       "      <td>Informatique</td>\n",
       "      <td>2007-2008</td>\n",
       "      <td>Master semestre 1</td>\n",
       "      <td>Semestre d'automne</td>\n",
       "    </tr>\n",
       "    <tr>\n",
       "      <th>2</th>\n",
       "      <td>Monsieur</td>\n",
       "      <td>Anagnostaras David</td>\n",
       "      <td>152232</td>\n",
       "      <td>Présent</td>\n",
       "      <td>Informatique</td>\n",
       "      <td>2007-2008</td>\n",
       "      <td>Master semestre 1</td>\n",
       "      <td>Semestre d'automne</td>\n",
       "    </tr>\n",
       "    <tr>\n",
       "      <th>3</th>\n",
       "      <td>Monsieur</td>\n",
       "      <td>Auroux Damien</td>\n",
       "      <td>177395</td>\n",
       "      <td>Présent</td>\n",
       "      <td>Informatique</td>\n",
       "      <td>2007-2008</td>\n",
       "      <td>Master semestre 1</td>\n",
       "      <td>Semestre d'automne</td>\n",
       "    </tr>\n",
       "    <tr>\n",
       "      <th>4</th>\n",
       "      <td>Monsieur</td>\n",
       "      <td>Awalebo Joseph</td>\n",
       "      <td>161970</td>\n",
       "      <td>Présent</td>\n",
       "      <td>Informatique</td>\n",
       "      <td>2007-2008</td>\n",
       "      <td>Master semestre 1</td>\n",
       "      <td>Semestre d'automne</td>\n",
       "    </tr>\n",
       "  </tbody>\n",
       "</table>\n",
       "</div>"
      ],
      "text/plain": [
       "     gender                       name  sciper   status       section  \\\n",
       "0  Monsieur  Aeberhard François-Xavier  153066  Présent  Informatique   \n",
       "1    Madame              Agarwal Megha  180027  Présent  Informatique   \n",
       "2  Monsieur         Anagnostaras David  152232  Présent  Informatique   \n",
       "3  Monsieur              Auroux Damien  177395  Présent  Informatique   \n",
       "4  Monsieur             Awalebo Joseph  161970  Présent  Informatique   \n",
       "\n",
       "        year           semester              season  \n",
       "0  2007-2008  Master semestre 1  Semestre d'automne  \n",
       "1  2007-2008  Master semestre 1  Semestre d'automne  \n",
       "2  2007-2008  Master semestre 1  Semestre d'automne  \n",
       "3  2007-2008  Master semestre 1  Semestre d'automne  \n",
       "4  2007-2008  Master semestre 1  Semestre d'automne  "
      ]
     },
     "execution_count": 70,
     "metadata": {},
     "output_type": "execute_result"
    }
   ],
   "source": [
    "all_data_frame_ma.head()"
   ]
  },
  {
   "cell_type": "markdown",
   "metadata": {
    "collapsed": true
   },
   "source": [
    "## Task 1: Bachelor students"
   ]
  },
  {
   "cell_type": "markdown",
   "metadata": {},
   "source": [
    "In this first task, we will consider only the students that have finished their Bachelor degree and see how many months they took to complete it. We will then separate the students between men and women and observe if the time difference is statically interesting."
   ]
  },
  {
   "cell_type": "code",
   "execution_count": 206,
   "metadata": {
    "collapsed": true
   },
   "outputs": [],
   "source": [
    "data = pd.read_csv('data_ba.csv', ',')"
   ]
  },
  {
   "cell_type": "markdown",
   "metadata": {},
   "source": [
    "First, we can keep only the data with the student's status 'Présent'"
   ]
  },
  {
   "cell_type": "code",
   "execution_count": 207,
   "metadata": {
    "collapsed": true
   },
   "outputs": [],
   "source": [
    "# remove all people that are currently away\n",
    "data = data[data.status == 'Présent']"
   ]
  },
  {
   "cell_type": "markdown",
   "metadata": {},
   "source": [
    "Then, we sort the people by sciper and check if each student has an entry for *'Bachelor semester 6'*. If not, we remove the corresponding persons. We can then check the years of the first and the last semester done at EPFL. With this methodolgy, we will consider as well the student that have finished their Bachelor degree after redoing only the *'Bachelor semester 5'*.\n",
    "\n",
    "Note that we cannot know if a student actually graduated after the *'Bachelor semester 6'* or if he failed at the last step. Therefore, we will consider that all the students with a *'Bachelor semester 6'* entry did graduated at some point."
   ]
  },
  {
   "cell_type": "code",
   "execution_count": 208,
   "metadata": {
    "collapsed": false
   },
   "outputs": [],
   "source": [
    "# Sort people\n",
    "data.sort_values(ascending=[True, True, True], by=['sciper', 'year', 'semester'], inplace=True)\n",
    "\n",
    "# Select only the people for which we have a 'Bachelor semester 1' entry\n",
    "starting_scipers = data[data.semester == 'Bachelor semestre 1'].sciper.drop_duplicates()\n",
    "\n",
    "# Select only people that have completed their degree (i.e have a 'Bachelor semester 6' entry)\n",
    "graduated_scipers = data[data.semester == 'Bachelor semestre 6'].sciper.drop_duplicates()\n",
    "\n",
    "# Take the intersection of the two list of scipers above\n",
    "correct_scipers = pd.Series(list(set(starting_scipers).intersection(set(graduated_scipers)))).sort_values(ascending=True)"
   ]
  },
  {
   "cell_type": "code",
   "execution_count": 209,
   "metadata": {
    "collapsed": false
   },
   "outputs": [
    {
     "data": {
      "text/html": [
       "<div>\n",
       "<table border=\"1\" class=\"dataframe\">\n",
       "  <thead>\n",
       "    <tr style=\"text-align: right;\">\n",
       "      <th></th>\n",
       "      <th>gender</th>\n",
       "      <th>name</th>\n",
       "      <th>sciper</th>\n",
       "      <th>status</th>\n",
       "      <th>section</th>\n",
       "      <th>year</th>\n",
       "      <th>semester</th>\n",
       "      <th>season</th>\n",
       "    </tr>\n",
       "  </thead>\n",
       "  <tbody>\n",
       "    <tr>\n",
       "      <th>0</th>\n",
       "      <td>Monsieur</td>\n",
       "      <td>Arévalo Christian</td>\n",
       "      <td>169569</td>\n",
       "      <td>Présent</td>\n",
       "      <td>Informatique</td>\n",
       "      <td>2007-2008</td>\n",
       "      <td>Bachelor semestre 1</td>\n",
       "      <td>Semestre d'automne</td>\n",
       "    </tr>\n",
       "    <tr>\n",
       "      <th>490</th>\n",
       "      <td>Monsieur</td>\n",
       "      <td>Arévalo Christian</td>\n",
       "      <td>169569</td>\n",
       "      <td>Présent</td>\n",
       "      <td>Informatique</td>\n",
       "      <td>2009-2010</td>\n",
       "      <td>Bachelor semestre 5</td>\n",
       "      <td>Semestre d'automne</td>\n",
       "    </tr>\n",
       "    <tr>\n",
       "      <th>564</th>\n",
       "      <td>Monsieur</td>\n",
       "      <td>Arévalo Christian</td>\n",
       "      <td>169569</td>\n",
       "      <td>Présent</td>\n",
       "      <td>Informatique</td>\n",
       "      <td>2009-2010</td>\n",
       "      <td>Bachelor semestre 6</td>\n",
       "      <td>Semestre de printemps</td>\n",
       "    </tr>\n",
       "    <tr>\n",
       "      <th>44</th>\n",
       "      <td>Monsieur</td>\n",
       "      <td>Knecht Mathieu</td>\n",
       "      <td>169731</td>\n",
       "      <td>Présent</td>\n",
       "      <td>Informatique</td>\n",
       "      <td>2007-2008</td>\n",
       "      <td>Bachelor semestre 1</td>\n",
       "      <td>Semestre d'automne</td>\n",
       "    </tr>\n",
       "    <tr>\n",
       "      <th>859</th>\n",
       "      <td>Monsieur</td>\n",
       "      <td>Knecht Mathieu</td>\n",
       "      <td>169731</td>\n",
       "      <td>Présent</td>\n",
       "      <td>Informatique</td>\n",
       "      <td>2010-2011</td>\n",
       "      <td>Bachelor semestre 6</td>\n",
       "      <td>Semestre de printemps</td>\n",
       "    </tr>\n",
       "    <tr>\n",
       "      <th>76</th>\n",
       "      <td>Monsieur</td>\n",
       "      <td>Scheiben Pascal</td>\n",
       "      <td>169795</td>\n",
       "      <td>Présent</td>\n",
       "      <td>Informatique</td>\n",
       "      <td>2007-2008</td>\n",
       "      <td>Bachelor semestre 1</td>\n",
       "      <td>Semestre d'automne</td>\n",
       "    </tr>\n",
       "    <tr>\n",
       "      <th>553</th>\n",
       "      <td>Monsieur</td>\n",
       "      <td>Scheiben Pascal</td>\n",
       "      <td>169795</td>\n",
       "      <td>Présent</td>\n",
       "      <td>Informatique</td>\n",
       "      <td>2009-2010</td>\n",
       "      <td>Bachelor semestre 5</td>\n",
       "      <td>Semestre d'automne</td>\n",
       "    </tr>\n",
       "    <tr>\n",
       "      <th>615</th>\n",
       "      <td>Monsieur</td>\n",
       "      <td>Scheiben Pascal</td>\n",
       "      <td>169795</td>\n",
       "      <td>Présent</td>\n",
       "      <td>Informatique</td>\n",
       "      <td>2009-2010</td>\n",
       "      <td>Bachelor semestre 6</td>\n",
       "      <td>Semestre de printemps</td>\n",
       "    </tr>\n",
       "    <tr>\n",
       "      <th>823</th>\n",
       "      <td>Monsieur</td>\n",
       "      <td>Scheiben Pascal</td>\n",
       "      <td>169795</td>\n",
       "      <td>Présent</td>\n",
       "      <td>Informatique</td>\n",
       "      <td>2010-2011</td>\n",
       "      <td>Bachelor semestre 5</td>\n",
       "      <td>Semestre d'automne</td>\n",
       "    </tr>\n",
       "    <tr>\n",
       "      <th>876</th>\n",
       "      <td>Monsieur</td>\n",
       "      <td>Scheiben Pascal</td>\n",
       "      <td>169795</td>\n",
       "      <td>Présent</td>\n",
       "      <td>Informatique</td>\n",
       "      <td>2010-2011</td>\n",
       "      <td>Bachelor semestre 6</td>\n",
       "      <td>Semestre de printemps</td>\n",
       "    </tr>\n",
       "    <tr>\n",
       "      <th>1101</th>\n",
       "      <td>Monsieur</td>\n",
       "      <td>Scheiben Pascal</td>\n",
       "      <td>169795</td>\n",
       "      <td>Présent</td>\n",
       "      <td>Informatique</td>\n",
       "      <td>2011-2012</td>\n",
       "      <td>Bachelor semestre 5</td>\n",
       "      <td>Semestre d'automne</td>\n",
       "    </tr>\n",
       "    <tr>\n",
       "      <th>71</th>\n",
       "      <td>Monsieur</td>\n",
       "      <td>Richter Arnaud</td>\n",
       "      <td>171195</td>\n",
       "      <td>Présent</td>\n",
       "      <td>Informatique</td>\n",
       "      <td>2007-2008</td>\n",
       "      <td>Bachelor semestre 1</td>\n",
       "      <td>Semestre d'automne</td>\n",
       "    </tr>\n",
       "  </tbody>\n",
       "</table>\n",
       "</div>"
      ],
      "text/plain": [
       "        gender               name  sciper   status       section       year  \\\n",
       "0     Monsieur  Arévalo Christian  169569  Présent  Informatique  2007-2008   \n",
       "490   Monsieur  Arévalo Christian  169569  Présent  Informatique  2009-2010   \n",
       "564   Monsieur  Arévalo Christian  169569  Présent  Informatique  2009-2010   \n",
       "44    Monsieur     Knecht Mathieu  169731  Présent  Informatique  2007-2008   \n",
       "859   Monsieur     Knecht Mathieu  169731  Présent  Informatique  2010-2011   \n",
       "76    Monsieur    Scheiben Pascal  169795  Présent  Informatique  2007-2008   \n",
       "553   Monsieur    Scheiben Pascal  169795  Présent  Informatique  2009-2010   \n",
       "615   Monsieur    Scheiben Pascal  169795  Présent  Informatique  2009-2010   \n",
       "823   Monsieur    Scheiben Pascal  169795  Présent  Informatique  2010-2011   \n",
       "876   Monsieur    Scheiben Pascal  169795  Présent  Informatique  2010-2011   \n",
       "1101  Monsieur    Scheiben Pascal  169795  Présent  Informatique  2011-2012   \n",
       "71    Monsieur     Richter Arnaud  171195  Présent  Informatique  2007-2008   \n",
       "\n",
       "                 semester                 season  \n",
       "0     Bachelor semestre 1     Semestre d'automne  \n",
       "490   Bachelor semestre 5     Semestre d'automne  \n",
       "564   Bachelor semestre 6  Semestre de printemps  \n",
       "44    Bachelor semestre 1     Semestre d'automne  \n",
       "859   Bachelor semestre 6  Semestre de printemps  \n",
       "76    Bachelor semestre 1     Semestre d'automne  \n",
       "553   Bachelor semestre 5     Semestre d'automne  \n",
       "615   Bachelor semestre 6  Semestre de printemps  \n",
       "823   Bachelor semestre 5     Semestre d'automne  \n",
       "876   Bachelor semestre 6  Semestre de printemps  \n",
       "1101  Bachelor semestre 5     Semestre d'automne  \n",
       "71    Bachelor semestre 1     Semestre d'automne  "
      ]
     },
     "execution_count": 209,
     "metadata": {},
     "output_type": "execute_result"
    }
   ],
   "source": [
    "data = data[data['sciper'].isin(correct_scipers)]\n",
    "data.head(12)"
   ]
  },
  {
   "cell_type": "code",
   "execution_count": 231,
   "metadata": {
    "collapsed": false
   },
   "outputs": [],
   "source": [
    "# Find starting semester of the Bachelor. We keep the first one if the student has redone his first year.\n",
    "startData = data[data.semester == 'Bachelor semestre 1'].copy()\n",
    "startData.drop_duplicates(subset=['sciper'], keep='first', inplace = True)\n",
    "\n",
    "# Find ending semester of the Bachelor. We keep the last one if the student has redone some semesters.\n",
    "endData = data[data['semester'].isin(['Bachelor semestre 6', 'Bachelor semestre 5'])].copy()\n",
    "endData.drop_duplicates(subset=['sciper'], keep='last', inplace = True)"
   ]
  },
  {
   "cell_type": "code",
   "execution_count": 240,
   "metadata": {
    "collapsed": false
   },
   "outputs": [],
   "source": [
    "# Renaming the columns\n",
    "startData = startData.rename(columns={'year': 'startYear', 'season': 'startSeason'})\n",
    "endData = endData.rename(columns={'year': 'finalYear', 'season': 'finalSeason'})\n",
    "\n",
    "# Fusion of the two dataframes\n",
    "startEndData = pd.merge(startData, endData[['sciper', 'finalYear', 'finalSeason']], how='inner', left_on='sciper', right_on='sciper')\n",
    "startEndData.drop(['semester'], axis=1, inplace = True)"
   ]
  },
  {
   "cell_type": "markdown",
   "metadata": {},
   "source": [
    "We can now observe that 294 students have done their entire degree in *'Informatique'* between 2007 and 2016."
   ]
  },
  {
   "cell_type": "code",
   "execution_count": 233,
   "metadata": {
    "collapsed": false
   },
   "outputs": [
    {
     "data": {
      "text/plain": [
       "(294, 9)"
      ]
     },
     "execution_count": 233,
     "metadata": {},
     "output_type": "execute_result"
    }
   ],
   "source": [
    "startEndData.shape"
   ]
  },
  {
   "cell_type": "markdown",
   "metadata": {},
   "source": [
    "But what is interesting for us is to know how many semester each of these graduated students took to get their diploma. For that, let's define a function that calculate the number of semesters based on the student incoming and outcoming year/season."
   ]
  },
  {
   "cell_type": "code",
   "execution_count": 237,
   "metadata": {
    "collapsed": true
   },
   "outputs": [],
   "source": [
    "def getNumberOfBachelorSemester(startYear, startSeason, endYear, endSeason):\n",
    "    year_diff = int(endYear.split('-')[1]) - int(startYear.split('-')[0])\n",
    "    if( startSeason == endSeason):\n",
    "        semester_number = (2 * year_diff) - 1\n",
    "    else :\n",
    "        semester_number = (2 * year_diff)\n",
    "    return semester_number\n"
   ]
  },
  {
   "cell_type": "code",
   "execution_count": 242,
   "metadata": {
    "collapsed": false
   },
   "outputs": [
    {
     "data": {
      "text/html": [
       "<div>\n",
       "<table border=\"1\" class=\"dataframe\">\n",
       "  <thead>\n",
       "    <tr style=\"text-align: right;\">\n",
       "      <th></th>\n",
       "      <th>gender</th>\n",
       "      <th>name</th>\n",
       "      <th>sciper</th>\n",
       "      <th>status</th>\n",
       "      <th>section</th>\n",
       "      <th>startYear</th>\n",
       "      <th>startSeason</th>\n",
       "      <th>finalYear</th>\n",
       "      <th>finalSeason</th>\n",
       "      <th>semesterNumber</th>\n",
       "    </tr>\n",
       "  </thead>\n",
       "  <tbody>\n",
       "    <tr>\n",
       "      <th>0</th>\n",
       "      <td>Monsieur</td>\n",
       "      <td>Arévalo Christian</td>\n",
       "      <td>169569</td>\n",
       "      <td>Présent</td>\n",
       "      <td>Informatique</td>\n",
       "      <td>2007-2008</td>\n",
       "      <td>Semestre d'automne</td>\n",
       "      <td>2009-2010</td>\n",
       "      <td>Semestre de printemps</td>\n",
       "      <td>6</td>\n",
       "    </tr>\n",
       "    <tr>\n",
       "      <th>1</th>\n",
       "      <td>Monsieur</td>\n",
       "      <td>Knecht Mathieu</td>\n",
       "      <td>169731</td>\n",
       "      <td>Présent</td>\n",
       "      <td>Informatique</td>\n",
       "      <td>2007-2008</td>\n",
       "      <td>Semestre d'automne</td>\n",
       "      <td>2010-2011</td>\n",
       "      <td>Semestre de printemps</td>\n",
       "      <td>8</td>\n",
       "    </tr>\n",
       "    <tr>\n",
       "      <th>2</th>\n",
       "      <td>Monsieur</td>\n",
       "      <td>Scheiben Pascal</td>\n",
       "      <td>169795</td>\n",
       "      <td>Présent</td>\n",
       "      <td>Informatique</td>\n",
       "      <td>2007-2008</td>\n",
       "      <td>Semestre d'automne</td>\n",
       "      <td>2011-2012</td>\n",
       "      <td>Semestre d'automne</td>\n",
       "      <td>9</td>\n",
       "    </tr>\n",
       "    <tr>\n",
       "      <th>3</th>\n",
       "      <td>Monsieur</td>\n",
       "      <td>Richter Arnaud</td>\n",
       "      <td>171195</td>\n",
       "      <td>Présent</td>\n",
       "      <td>Informatique</td>\n",
       "      <td>2007-2008</td>\n",
       "      <td>Semestre d'automne</td>\n",
       "      <td>2009-2010</td>\n",
       "      <td>Semestre de printemps</td>\n",
       "      <td>6</td>\n",
       "    </tr>\n",
       "    <tr>\n",
       "      <th>4</th>\n",
       "      <td>Monsieur</td>\n",
       "      <td>Buchschacher Nicolas</td>\n",
       "      <td>171619</td>\n",
       "      <td>Présent</td>\n",
       "      <td>Informatique</td>\n",
       "      <td>2007-2008</td>\n",
       "      <td>Semestre d'automne</td>\n",
       "      <td>2009-2010</td>\n",
       "      <td>Semestre de printemps</td>\n",
       "      <td>6</td>\n",
       "    </tr>\n",
       "    <tr>\n",
       "      <th>5</th>\n",
       "      <td>Monsieur</td>\n",
       "      <td>Aubelle Flavien</td>\n",
       "      <td>174905</td>\n",
       "      <td>Présent</td>\n",
       "      <td>Informatique</td>\n",
       "      <td>2007-2008</td>\n",
       "      <td>Semestre d'automne</td>\n",
       "      <td>2011-2012</td>\n",
       "      <td>Semestre de printemps</td>\n",
       "      <td>10</td>\n",
       "    </tr>\n",
       "    <tr>\n",
       "      <th>6</th>\n",
       "      <td>Monsieur</td>\n",
       "      <td>Hanser Valérian</td>\n",
       "      <td>175190</td>\n",
       "      <td>Présent</td>\n",
       "      <td>Informatique</td>\n",
       "      <td>2007-2008</td>\n",
       "      <td>Semestre d'automne</td>\n",
       "      <td>2010-2011</td>\n",
       "      <td>Semestre d'automne</td>\n",
       "      <td>7</td>\n",
       "    </tr>\n",
       "  </tbody>\n",
       "</table>\n",
       "</div>"
      ],
      "text/plain": [
       "     gender                  name  sciper   status       section  startYear  \\\n",
       "0  Monsieur     Arévalo Christian  169569  Présent  Informatique  2007-2008   \n",
       "1  Monsieur        Knecht Mathieu  169731  Présent  Informatique  2007-2008   \n",
       "2  Monsieur       Scheiben Pascal  169795  Présent  Informatique  2007-2008   \n",
       "3  Monsieur        Richter Arnaud  171195  Présent  Informatique  2007-2008   \n",
       "4  Monsieur  Buchschacher Nicolas  171619  Présent  Informatique  2007-2008   \n",
       "5  Monsieur       Aubelle Flavien  174905  Présent  Informatique  2007-2008   \n",
       "6  Monsieur       Hanser Valérian  175190  Présent  Informatique  2007-2008   \n",
       "\n",
       "          startSeason  finalYear            finalSeason  semesterNumber  \n",
       "0  Semestre d'automne  2009-2010  Semestre de printemps               6  \n",
       "1  Semestre d'automne  2010-2011  Semestre de printemps               8  \n",
       "2  Semestre d'automne  2011-2012     Semestre d'automne               9  \n",
       "3  Semestre d'automne  2009-2010  Semestre de printemps               6  \n",
       "4  Semestre d'automne  2009-2010  Semestre de printemps               6  \n",
       "5  Semestre d'automne  2011-2012  Semestre de printemps              10  \n",
       "6  Semestre d'automne  2010-2011     Semestre d'automne               7  "
      ]
     },
     "execution_count": 242,
     "metadata": {},
     "output_type": "execute_result"
    }
   ],
   "source": [
    "startEndData['semesterNumber'] = startEndData.apply(lambda row: getNumberOfBachelorSemester(row['startYear'], row['startSeason'],row['finalYear'], row['finalSeason']), axis=1)\n",
    "startEndData.head(7)"
   ]
  },
  {
   "cell_type": "markdown",
   "metadata": {
    "collapsed": true
   },
   "source": [
    "**We have now the number of semesters (6 months) each students took to finish their Bachelor degree.** (6 semesters, i.e 3 years, is the minimum)"
   ]
  },
  {
   "cell_type": "markdown",
   "metadata": {},
   "source": [
    "Let's separate now the students by gender and compute the mean time they took to achieve their cursus."
   ]
  },
  {
   "cell_type": "code",
   "execution_count": 253,
   "metadata": {
    "collapsed": false
   },
   "outputs": [
    {
     "data": {
      "text/plain": [
       "270"
      ]
     },
     "execution_count": 253,
     "metadata": {},
     "output_type": "execute_result"
    }
   ],
   "source": [
    "dataMen = startEndData[startEndData.gender == 'Monsieur']\n",
    "nbrMen = dataMen.shape[0]\n",
    "nbrMen"
   ]
  },
  {
   "cell_type": "code",
   "execution_count": 254,
   "metadata": {
    "collapsed": false
   },
   "outputs": [
    {
     "data": {
      "text/plain": [
       "24"
      ]
     },
     "execution_count": 254,
     "metadata": {},
     "output_type": "execute_result"
    }
   ],
   "source": [
    "dataWomen = startEndData[startEndData.gender == 'Madame']\n",
    "nbrWomen = dataWomen.shape[0]\n",
    "nbrWomen"
   ]
  },
  {
   "cell_type": "markdown",
   "metadata": {},
   "source": [
    "Note that women in the informatic section are not a common thing ^^'"
   ]
  },
  {
   "cell_type": "code",
   "execution_count": null,
   "metadata": {
    "collapsed": true
   },
   "outputs": [],
   "source": []
  }
 ],
 "metadata": {
  "anaconda-cloud": {},
  "kernelspec": {
   "display_name": "Python [Root]",
   "language": "python",
   "name": "Python [Root]"
  },
  "language_info": {
   "codemirror_mode": {
    "name": "ipython",
    "version": 3
   },
   "file_extension": ".py",
   "mimetype": "text/x-python",
   "name": "python",
   "nbconvert_exporter": "python",
   "pygments_lexer": "ipython3",
   "version": "3.5.2"
  }
 },
 "nbformat": 4,
 "nbformat_minor": 0
}
