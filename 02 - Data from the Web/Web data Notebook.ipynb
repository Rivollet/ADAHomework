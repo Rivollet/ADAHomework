{
 "cells": [
  {
   "cell_type": "markdown",
   "metadata": {},
   "source": [
    "# Homework 2: Data from the Web"
   ]
  },
  {
   "cell_type": "markdown",
   "metadata": {},
   "source": [
    "In this homework, we are going to fetch information from the EPFL website IS-Academia. The idea is to read data from the webpage in an html format, to parse this data using external library BeautifulSoup and to analyze the data obtained extracting some statistical information.\n",
    "We can then decompose the work in two principal activities: \n",
    "- Fetching the data\n",
    "- Analyzing the data"
   ]
  },
  {
   "cell_type": "markdown",
   "metadata": {},
   "source": [
    "# Fetching data from IS-Academia"
   ]
  },
  {
   "cell_type": "markdown",
   "metadata": {},
   "source": [
    "We import first the libraries we'll need in this notebook"
   ]
  },
  {
   "cell_type": "code",
   "execution_count": 1,
   "metadata": {
    "collapsed": false
   },
   "outputs": [],
   "source": [
    "#Usual imports\n",
    "%matplotlib inline\n",
    "import pandas as pd\n",
    "import numpy as np\n",
    "import matplotlib.pyplot as plt\n",
    "import seaborn as sns\n",
    "sns.set_context('notebook')\n",
    "\n",
    "#Specific imports for data fetching\n",
    "import requests #HTTP requests\n",
    "from bs4 import BeautifulSoup as BSoup #HTML parsing"
   ]
  },
  {
   "cell_type": "markdown",
   "metadata": {},
   "source": [
    "Let's start by indexing the web page where we are going to fetch all the data, i.e IS-Academia"
   ]
  },
  {
   "cell_type": "code",
   "execution_count": 2,
   "metadata": {
    "collapsed": false
   },
   "outputs": [],
   "source": [
    "# URL containing the empty form of IS_Academia that list students\n",
    "main_url = 'http://isa.epfl.ch/imoniteur_ISAP/!GEDPUBLICREPORTS.filter?ww_x_GPS=-1&ww_i_reportModel=133685247'\n",
    "\n",
    "# URL containing the form with the fields that we will replace depending on the information we want to extract, i.e {ACADEMIC_PERIOD_KEY}\n",
    "form_url = 'http://isa.epfl.ch/imoniteur_ISAP/!GEDPUBLICREPORTS.bhtml?ww_x_GPS=-1&ww_i_reportModel=133685247&ww_i_reportModelXsl=133685270&ww_x_UNITE_ACAD={ACADEMIC_UNIT_KEY}&ww_x_PERIODE_ACAD={ACADEMIC_PERIOD_KEY}&ww_x_PERIODE_PEDAGO={PEDAGOGIC_PERIOD_KEY}&ww_x_HIVERETE={HIVERETE_KEY}'"
   ]
  },
  {
   "cell_type": "markdown",
   "metadata": {},
   "source": [
    "The webpage where the data are stored is in a form format. Therefore, we have to change the URL depending on which list of student we want. We can check which are the specific keys for each section, year, bachelor semester and season, in order to obtain the corresponding student list when we replace them in the \"form_url\" above. The field (or parameters) to be change in the URL are given in brackets { }, for example {ACADEMIC_UNIT_KEY}."
   ]
  },
  {
   "cell_type": "code",
   "execution_count": 3,
   "metadata": {
    "collapsed": false
   },
   "outputs": [],
   "source": [
    "# We get the raw data of the main page\n",
    "ugly_html = requests.get(main_url)\n",
    "    \n",
    "# We parse it using BeautifulSoup\n",
    "beautiful_html = BSoup(ugly_html.text, 'html.parser')\n",
    "\n",
    "section_keys = {}\n",
    "year_keys = {}\n",
    "semester_keys = {}\n",
    "season_keys = {}\n",
    "\n",
    "# We store all the keys of the sections\n",
    "unite_html = beautiful_html.find('select', {'name': 'ww_x_UNITE_ACAD'})\n",
    "for unite in unite_html.find_all('option'):\n",
    "    section_keys[unite.text] = unite.get('value')\n",
    "\n",
    "# We store all the keys of the academic years\n",
    "acad_period_html = beautiful_html.find('select', {'name': 'ww_x_PERIODE_ACAD'})\n",
    "for period in acad_period_html.find_all('option'):\n",
    "    year_keys[period.text] = period.get('value')\n",
    "\n",
    "# We store all the keys of the academic semester (Bachelor and Master)\n",
    "peda_period_html = beautiful_html.find('select', {'name': 'ww_x_PERIODE_PEDAGO'})\n",
    "for peda in peda_period_html.find_all('option'):\n",
    "    semester_keys[peda.text] = peda.get('value')\n",
    "\n",
    "# We store all the keys of the seasons (Autumn / Spring)\n",
    "season_html = beautiful_html.find('select', {'name': 'ww_x_HIVERETE'})\n",
    "for season in season_html.find_all('option'):\n",
    "    season_keys[season.text] = season.get('value')\n",
    "    "
   ]
  },
  {
   "cell_type": "markdown",
   "metadata": {},
   "source": [
    "We can verify that we have all the keys that we need:\n",
    "\n",
    "(Note that the first entry is empty. It represents the situation when the user does not precise what he wants for this field of research)"
   ]
  },
  {
   "cell_type": "code",
   "execution_count": 4,
   "metadata": {
    "collapsed": false
   },
   "outputs": [
    {
     "data": {
      "text/plain": [
       "{'': 'null',\n",
       " 'Architecture': '942293',\n",
       " 'Chimie et génie chimique': '246696',\n",
       " 'Cours de mathématiques spéciales': '943282',\n",
       " 'EME (EPFL Middle East)': '637841336',\n",
       " 'Génie civil': '942623',\n",
       " 'Génie mécanique': '944263',\n",
       " 'Génie électrique et électronique ': '943936',\n",
       " 'Humanités digitales': '2054839157',\n",
       " 'Informatique': '249847',\n",
       " 'Ingénierie financière': '120623110',\n",
       " 'Management de la technologie': '946882',\n",
       " 'Mathématiques': '944590',\n",
       " 'Microtechnique': '945244',\n",
       " 'Physique': '945571',\n",
       " 'Science et génie des matériaux': '944917',\n",
       " \"Sciences et ingénierie de l'environnement\": '942953',\n",
       " 'Sciences et technologies du vivant': '945901',\n",
       " 'Section FCUE': '1574548993',\n",
       " 'Systèmes de communication': '946228'}"
      ]
     },
     "execution_count": 4,
     "metadata": {},
     "output_type": "execute_result"
    }
   ],
   "source": [
    "section_keys"
   ]
  },
  {
   "cell_type": "code",
   "execution_count": 5,
   "metadata": {
    "collapsed": false,
    "scrolled": true
   },
   "outputs": [
    {
     "data": {
      "text/plain": [
       "{'': 'null',\n",
       " '2007-2008': '978181',\n",
       " '2008-2009': '978187',\n",
       " '2009-2010': '978195',\n",
       " '2010-2011': '39486325',\n",
       " '2011-2012': '123455150',\n",
       " '2012-2013': '123456101',\n",
       " '2013-2014': '213637754',\n",
       " '2014-2015': '213637922',\n",
       " '2015-2016': '213638028',\n",
       " '2016-2017': '355925344'}"
      ]
     },
     "execution_count": 5,
     "metadata": {},
     "output_type": "execute_result"
    }
   ],
   "source": [
    "year_keys"
   ]
  },
  {
   "cell_type": "code",
   "execution_count": 6,
   "metadata": {
    "collapsed": false
   },
   "outputs": [
    {
     "data": {
      "text/plain": [
       "{'': 'null',\n",
       " 'Bachelor semestre 1': '249108',\n",
       " 'Bachelor semestre 2': '249114',\n",
       " 'Bachelor semestre 3': '942155',\n",
       " 'Bachelor semestre 4': '942163',\n",
       " 'Bachelor semestre 5': '942120',\n",
       " 'Bachelor semestre 5b': '2226768',\n",
       " 'Bachelor semestre 6': '942175',\n",
       " 'Bachelor semestre 6b': '2226785',\n",
       " 'Master semestre 1': '2230106',\n",
       " 'Master semestre 2': '942192',\n",
       " 'Master semestre 3': '2230128',\n",
       " 'Master semestre 4': '2230140',\n",
       " 'Mineur semestre 1': '2335667',\n",
       " 'Mineur semestre 2': '2335676',\n",
       " 'Mise à niveau': '2063602308',\n",
       " 'Projet Master automne': '249127',\n",
       " 'Projet Master printemps': '3781783',\n",
       " 'Semestre automne': '953159',\n",
       " 'Semestre printemps': '2754553',\n",
       " 'Stage automne 3ème année': '953137',\n",
       " 'Stage automne 4ème année': '2226616',\n",
       " 'Stage printemps 3ème année': '983606',\n",
       " 'Stage printemps 4ème année': '2226626',\n",
       " 'Stage printemps master': '2227132'}"
      ]
     },
     "execution_count": 6,
     "metadata": {},
     "output_type": "execute_result"
    }
   ],
   "source": [
    "semester_keys"
   ]
  },
  {
   "cell_type": "code",
   "execution_count": 7,
   "metadata": {
    "collapsed": false
   },
   "outputs": [
    {
     "data": {
      "text/plain": [
       "{'': 'null',\n",
       " \"Semestre d'automne\": '2936286',\n",
       " 'Semestre de printemps': '2936295'}"
      ]
     },
     "execution_count": 7,
     "metadata": {},
     "output_type": "execute_result"
    }
   ],
   "source": [
    "season_keys"
   ]
  },
  {
   "cell_type": "markdown",
   "metadata": {},
   "source": [
    "We create a function that update the URL depending on the list of student we want, for example 'Informatique / 2007-2008 / Bachelor semestre 1 / Semestre d'automne'."
   ]
  },
  {
   "cell_type": "code",
   "execution_count": 8,
   "metadata": {
    "collapsed": false
   },
   "outputs": [],
   "source": [
    "def getSpecificURL(section, years, semester, season):\n",
    "    new_url = form_url;\n",
    "    new_url = new_url.replace('{ACADEMIC_UNIT_KEY}', str(section_keys[section]))\n",
    "    new_url = new_url.replace('{ACADEMIC_PERIOD_KEY}', str(year_keys[years]))\n",
    "    new_url = new_url.replace('{PEDAGOGIC_PERIOD_KEY}', str(semester_keys[semester]))\n",
    "    new_url = new_url.replace('{HIVERETE_KEY}', str(season_keys[season]))\n",
    "    return new_url"
   ]
  },
  {
   "cell_type": "code",
   "execution_count": 9,
   "metadata": {
    "collapsed": false
   },
   "outputs": [
    {
     "data": {
      "text/plain": [
       "'http://isa.epfl.ch/imoniteur_ISAP/!GEDPUBLICREPORTS.bhtml?ww_x_GPS=-1&ww_i_reportModel=133685247&ww_i_reportModelXsl=133685270&ww_x_UNITE_ACAD=249847&ww_x_PERIODE_ACAD=978181&ww_x_PERIODE_PEDAGO=249108&ww_x_HIVERETE=2936286'"
      ]
     },
     "execution_count": 9,
     "metadata": {},
     "output_type": "execute_result"
    }
   ],
   "source": [
    "getSpecificURL('Informatique', '2007-2008', 'Bachelor semestre 1', 'Semestre d\\'automne')"
   ]
  },
  {
   "cell_type": "markdown",
   "metadata": {},
   "source": [
    "If you tap this URL in your favorite browser, you will obtain the list of student for this specific year and semester."
   ]
  },
  {
   "cell_type": "markdown",
   "metadata": {},
   "source": [
    "Before extracting the data we want, we still have to define a function that parse correctly the list of student (given in html) into a well designed DataFrame. To do so, we define the function parseTable:"
   ]
  },
  {
   "cell_type": "code",
   "execution_count": 10,
   "metadata": {
    "collapsed": true
   },
   "outputs": [],
   "source": [
    "def parseTable(table):\n",
    "    # Search on all the lines\n",
    "    lines = table.find_all('tr')\n",
    "    N = len(lines)\n",
    "    output = []\n",
    "    \n",
    "    \n",
    "    for i in range(2, N-1):\n",
    "        # Search on all the columns\n",
    "        line = lines[i]\n",
    "        rows = line.find_all('td')\n",
    "        M = len(rows)\n",
    "        if M > 0:\n",
    "            gender = rows[0].text\n",
    "            name = rows[1].text\n",
    "            sciper = rows[10].text\n",
    "            status = rows[7].text\n",
    "            output.append({'gender':gender, 'name':name, 'sciper':sciper, 'status':status})\n",
    "            \n",
    "    return pd.DataFrame(output)"
   ]
  },
  {
   "cell_type": "markdown",
   "metadata": {},
   "source": [
    "Now that we have all the tools that we needed to extract the data correctly, we can start fetching them from IS-Academia. First, we have to decide which ones are interesting for us. We will focus only on the *'Informatique'* section and on the students that have finished their bachelor degree. We will then store only the information on *'Informatique'* students that have *'Bachelor semestre 1'*, *'Bachelor semestre 5'* and *'Bachelor semestre 6'* entries. We  have to keep the *'Bachelor semestre 5'* entries because a student can finish his degree in the semester 5 if he redoes only half a year.\n",
    "\n",
    "Note also that we don't take into account the academic year 2016-2017, because the students have not completed there cursus yet."
   ]
  },
  {
   "cell_type": "code",
   "execution_count": 11,
   "metadata": {
    "collapsed": true
   },
   "outputs": [],
   "source": [
    "spec_section = ['Informatique']\n",
    "spec_year = ['2007-2008', '2008-2009', '2009-2010', '2010-2011', '2011-2012', '2012-2013', '2013-2014', '2014-2015', '2015-2016']\n",
    "spec_semester = ['Bachelor semestre 1','Bachelor semestre 5','Bachelor semestre 6']\n",
    "spec_season = ['Semestre d\\'automne', 'Semestre de printemps']"
   ]
  },
  {
   "cell_type": "code",
   "execution_count": 12,
   "metadata": {
    "collapsed": false
   },
   "outputs": [],
   "source": [
    "all_data = []\n",
    "\n",
    "for section in spec_section:\n",
    "    for year in spec_year:\n",
    "        for semester in spec_semester:\n",
    "            for season in spec_season:\n",
    "                spec_url = getSpecificURL(section, year, semester, season)\n",
    "                spec_html = requests.get(spec_url)\n",
    "                spec_beautiful_html = BSoup(spec_html.text, 'html.parser')\n",
    "                \n",
    "                student_table = spec_beautiful_html.find('table')\n",
    "                student_data = parseTable(student_table)\n",
    "                student_data['section'] = section\n",
    "                student_data['year'] = year\n",
    "                student_data['semester'] = semester\n",
    "                student_data['season'] = season\n",
    "                \n",
    "                if not(student_data.empty):\n",
    "                    all_data.append(student_data)"
   ]
  },
  {
   "cell_type": "code",
   "execution_count": 13,
   "metadata": {
    "collapsed": false,
    "scrolled": true
   },
   "outputs": [
    {
     "data": {
      "text/html": [
       "<div>\n",
       "<table border=\"1\" class=\"dataframe\">\n",
       "  <thead>\n",
       "    <tr style=\"text-align: right;\">\n",
       "      <th></th>\n",
       "      <th>gender</th>\n",
       "      <th>name</th>\n",
       "      <th>sciper</th>\n",
       "      <th>status</th>\n",
       "      <th>section</th>\n",
       "      <th>year</th>\n",
       "      <th>semester</th>\n",
       "      <th>season</th>\n",
       "    </tr>\n",
       "  </thead>\n",
       "  <tbody>\n",
       "    <tr>\n",
       "      <th>0</th>\n",
       "      <td>Monsieur</td>\n",
       "      <td>Arévalo Christian</td>\n",
       "      <td>169569</td>\n",
       "      <td>Présent</td>\n",
       "      <td>Informatique</td>\n",
       "      <td>2007-2008</td>\n",
       "      <td>Bachelor semestre 1</td>\n",
       "      <td>Semestre d'automne</td>\n",
       "    </tr>\n",
       "    <tr>\n",
       "      <th>1</th>\n",
       "      <td>Monsieur</td>\n",
       "      <td>Aubelle Flavien</td>\n",
       "      <td>174905</td>\n",
       "      <td>Présent</td>\n",
       "      <td>Informatique</td>\n",
       "      <td>2007-2008</td>\n",
       "      <td>Bachelor semestre 1</td>\n",
       "      <td>Semestre d'automne</td>\n",
       "    </tr>\n",
       "    <tr>\n",
       "      <th>2</th>\n",
       "      <td>Monsieur</td>\n",
       "      <td>Badoud Morgan</td>\n",
       "      <td>173922</td>\n",
       "      <td>Présent</td>\n",
       "      <td>Informatique</td>\n",
       "      <td>2007-2008</td>\n",
       "      <td>Bachelor semestre 1</td>\n",
       "      <td>Semestre d'automne</td>\n",
       "    </tr>\n",
       "    <tr>\n",
       "      <th>3</th>\n",
       "      <td>Monsieur</td>\n",
       "      <td>Baeriswyl Jonathan</td>\n",
       "      <td>179406</td>\n",
       "      <td>Présent</td>\n",
       "      <td>Informatique</td>\n",
       "      <td>2007-2008</td>\n",
       "      <td>Bachelor semestre 1</td>\n",
       "      <td>Semestre d'automne</td>\n",
       "    </tr>\n",
       "    <tr>\n",
       "      <th>4</th>\n",
       "      <td>Monsieur</td>\n",
       "      <td>Barroco Michael</td>\n",
       "      <td>179428</td>\n",
       "      <td>Présent</td>\n",
       "      <td>Informatique</td>\n",
       "      <td>2007-2008</td>\n",
       "      <td>Bachelor semestre 1</td>\n",
       "      <td>Semestre d'automne</td>\n",
       "    </tr>\n",
       "    <tr>\n",
       "      <th>5</th>\n",
       "      <td>Monsieur</td>\n",
       "      <td>Belfis Nicolas</td>\n",
       "      <td>179324</td>\n",
       "      <td>Présent</td>\n",
       "      <td>Informatique</td>\n",
       "      <td>2007-2008</td>\n",
       "      <td>Bachelor semestre 1</td>\n",
       "      <td>Semestre d'automne</td>\n",
       "    </tr>\n",
       "    <tr>\n",
       "      <th>6</th>\n",
       "      <td>Monsieur</td>\n",
       "      <td>Beliaev Stanislav</td>\n",
       "      <td>174597</td>\n",
       "      <td>Présent</td>\n",
       "      <td>Informatique</td>\n",
       "      <td>2007-2008</td>\n",
       "      <td>Bachelor semestre 1</td>\n",
       "      <td>Semestre d'automne</td>\n",
       "    </tr>\n",
       "    <tr>\n",
       "      <th>7</th>\n",
       "      <td>Monsieur</td>\n",
       "      <td>Bindschaedler Vincent</td>\n",
       "      <td>179449</td>\n",
       "      <td>Présent</td>\n",
       "      <td>Informatique</td>\n",
       "      <td>2007-2008</td>\n",
       "      <td>Bachelor semestre 1</td>\n",
       "      <td>Semestre d'automne</td>\n",
       "    </tr>\n",
       "    <tr>\n",
       "      <th>8</th>\n",
       "      <td>Monsieur</td>\n",
       "      <td>Bloch Marc-Olivier</td>\n",
       "      <td>178553</td>\n",
       "      <td>Présent</td>\n",
       "      <td>Informatique</td>\n",
       "      <td>2007-2008</td>\n",
       "      <td>Bachelor semestre 1</td>\n",
       "      <td>Semestre d'automne</td>\n",
       "    </tr>\n",
       "    <tr>\n",
       "      <th>9</th>\n",
       "      <td>Monsieur</td>\n",
       "      <td>Bloch Remi</td>\n",
       "      <td>179426</td>\n",
       "      <td>Présent</td>\n",
       "      <td>Informatique</td>\n",
       "      <td>2007-2008</td>\n",
       "      <td>Bachelor semestre 1</td>\n",
       "      <td>Semestre d'automne</td>\n",
       "    </tr>\n",
       "  </tbody>\n",
       "</table>\n",
       "</div>"
      ],
      "text/plain": [
       "     gender                   name  sciper   status       section       year  \\\n",
       "0  Monsieur      Arévalo Christian  169569  Présent  Informatique  2007-2008   \n",
       "1  Monsieur        Aubelle Flavien  174905  Présent  Informatique  2007-2008   \n",
       "2  Monsieur          Badoud Morgan  173922  Présent  Informatique  2007-2008   \n",
       "3  Monsieur     Baeriswyl Jonathan  179406  Présent  Informatique  2007-2008   \n",
       "4  Monsieur        Barroco Michael  179428  Présent  Informatique  2007-2008   \n",
       "5  Monsieur         Belfis Nicolas  179324  Présent  Informatique  2007-2008   \n",
       "6  Monsieur      Beliaev Stanislav  174597  Présent  Informatique  2007-2008   \n",
       "7  Monsieur  Bindschaedler Vincent  179449  Présent  Informatique  2007-2008   \n",
       "8  Monsieur     Bloch Marc-Olivier  178553  Présent  Informatique  2007-2008   \n",
       "9  Monsieur             Bloch Remi  179426  Présent  Informatique  2007-2008   \n",
       "\n",
       "              semester              season  \n",
       "0  Bachelor semestre 1  Semestre d'automne  \n",
       "1  Bachelor semestre 1  Semestre d'automne  \n",
       "2  Bachelor semestre 1  Semestre d'automne  \n",
       "3  Bachelor semestre 1  Semestre d'automne  \n",
       "4  Bachelor semestre 1  Semestre d'automne  \n",
       "5  Bachelor semestre 1  Semestre d'automne  \n",
       "6  Bachelor semestre 1  Semestre d'automne  \n",
       "7  Bachelor semestre 1  Semestre d'automne  \n",
       "8  Bachelor semestre 1  Semestre d'automne  \n",
       "9  Bachelor semestre 1  Semestre d'automne  "
      ]
     },
     "execution_count": 13,
     "metadata": {},
     "output_type": "execute_result"
    }
   ],
   "source": [
    "all_data[0].head(10)"
   ]
  },
  {
   "cell_type": "code",
   "execution_count": 14,
   "metadata": {
    "collapsed": false,
    "scrolled": true
   },
   "outputs": [
    {
     "data": {
      "text/plain": [
       "(2868, 8)"
      ]
     },
     "execution_count": 14,
     "metadata": {},
     "output_type": "execute_result"
    }
   ],
   "source": [
    "all_data_frame = pd.concat(all_data)\n",
    "all_data_frame.shape"
   ]
  },
  {
   "cell_type": "markdown",
   "metadata": {},
   "source": [
    "In oder to avoid unecessary future process, we store all the data in a csv file"
   ]
  },
  {
   "cell_type": "code",
   "execution_count": 15,
   "metadata": {
    "collapsed": true
   },
   "outputs": [],
   "source": [
    "all_data_frame.to_csv('data_ba.csv', ',', index=False)"
   ]
  },
  {
   "cell_type": "markdown",
   "metadata": {},
   "source": [
    "For futher work, we will also need the students in master degree. Therefore, we can redo the process above and store these new datas in another file. However, the data has a different structure for the master students. For example, it would be interesting to store the minor the student has (if he has one) etc...\n",
    "\n",
    "We need then to redefine a parser for the list of master students."
   ]
  },
  {
   "cell_type": "code",
   "execution_count": 16,
   "metadata": {
    "collapsed": true
   },
   "outputs": [],
   "source": [
    "def parseTable_ma(table):\n",
    "    # Search on all the lines\n",
    "    lines = table.find_all('tr')\n",
    "    N = len(lines)\n",
    "    output = []\n",
    "    \n",
    "    \n",
    "    for i in range(2, N-1):\n",
    "        # Search on all the columns\n",
    "        line = lines[i]\n",
    "        rows = line.find_all('td')\n",
    "        M = len(rows)\n",
    "        if M > 0:\n",
    "            gender = rows[0].text\n",
    "            name = rows[1].text\n",
    "            sciper = rows[10].text\n",
    "            status = rows[7].text\n",
    "            special = rows[4].text\n",
    "            minor = rows[6].text\n",
    "            output.append({'gender':gender, 'name':name, 'sciper':sciper, 'status':status, 'specialization': special, 'minor':minor})\n",
    "            \n",
    "    return pd.DataFrame(output)"
   ]
  },
  {
   "cell_type": "code",
   "execution_count": 17,
   "metadata": {
    "collapsed": true
   },
   "outputs": [],
   "source": [
    "spec_semester_ma = ['Master semestre 1','Master semestre 2','Master semestre 3','Master semestre 4']"
   ]
  },
  {
   "cell_type": "code",
   "execution_count": 18,
   "metadata": {
    "collapsed": false
   },
   "outputs": [],
   "source": [
    "all_data_ma = []\n",
    "\n",
    "for section in spec_section:\n",
    "    for year in spec_year:\n",
    "        for semester in spec_semester_ma:\n",
    "            for season in spec_season:\n",
    "                spec_url = getSpecificURL(section, year, semester, season)\n",
    "                spec_html = requests.get(spec_url)\n",
    "                spec_beautiful_html = BSoup(spec_html.text, 'html.parser')\n",
    "                \n",
    "                student_table = spec_beautiful_html.find('table')\n",
    "                student_data = parseTable_ma(student_table)\n",
    "                student_data['section'] = section\n",
    "                student_data['year'] = year\n",
    "                student_data['semester'] = semester\n",
    "                student_data['season'] = season\n",
    "                \n",
    "                if not(student_data.empty):\n",
    "                    all_data_ma.append(student_data)"
   ]
  },
  {
   "cell_type": "code",
   "execution_count": 19,
   "metadata": {
    "collapsed": false
   },
   "outputs": [
    {
     "data": {
      "text/plain": [
       "(2431, 10)"
      ]
     },
     "execution_count": 19,
     "metadata": {},
     "output_type": "execute_result"
    }
   ],
   "source": [
    "all_data_frame_ma = pd.concat(all_data_ma)\n",
    "all_data_frame_ma.shape"
   ]
  },
  {
   "cell_type": "code",
   "execution_count": 20,
   "metadata": {
    "collapsed": false
   },
   "outputs": [
    {
     "data": {
      "text/html": [
       "<div>\n",
       "<table border=\"1\" class=\"dataframe\">\n",
       "  <thead>\n",
       "    <tr style=\"text-align: right;\">\n",
       "      <th></th>\n",
       "      <th>gender</th>\n",
       "      <th>minor</th>\n",
       "      <th>name</th>\n",
       "      <th>sciper</th>\n",
       "      <th>specialization</th>\n",
       "      <th>status</th>\n",
       "      <th>section</th>\n",
       "      <th>year</th>\n",
       "      <th>semester</th>\n",
       "      <th>season</th>\n",
       "    </tr>\n",
       "  </thead>\n",
       "  <tbody>\n",
       "    <tr>\n",
       "      <th>0</th>\n",
       "      <td>Monsieur</td>\n",
       "      <td></td>\n",
       "      <td>Aeberhard François-Xavier</td>\n",
       "      <td>153066</td>\n",
       "      <td></td>\n",
       "      <td>Présent</td>\n",
       "      <td>Informatique</td>\n",
       "      <td>2007-2008</td>\n",
       "      <td>Master semestre 1</td>\n",
       "      <td>Semestre d'automne</td>\n",
       "    </tr>\n",
       "    <tr>\n",
       "      <th>1</th>\n",
       "      <td>Madame</td>\n",
       "      <td></td>\n",
       "      <td>Agarwal Megha</td>\n",
       "      <td>180027</td>\n",
       "      <td></td>\n",
       "      <td>Présent</td>\n",
       "      <td>Informatique</td>\n",
       "      <td>2007-2008</td>\n",
       "      <td>Master semestre 1</td>\n",
       "      <td>Semestre d'automne</td>\n",
       "    </tr>\n",
       "    <tr>\n",
       "      <th>2</th>\n",
       "      <td>Monsieur</td>\n",
       "      <td></td>\n",
       "      <td>Anagnostaras David</td>\n",
       "      <td>152232</td>\n",
       "      <td></td>\n",
       "      <td>Présent</td>\n",
       "      <td>Informatique</td>\n",
       "      <td>2007-2008</td>\n",
       "      <td>Master semestre 1</td>\n",
       "      <td>Semestre d'automne</td>\n",
       "    </tr>\n",
       "    <tr>\n",
       "      <th>3</th>\n",
       "      <td>Monsieur</td>\n",
       "      <td></td>\n",
       "      <td>Auroux Damien</td>\n",
       "      <td>177395</td>\n",
       "      <td></td>\n",
       "      <td>Présent</td>\n",
       "      <td>Informatique</td>\n",
       "      <td>2007-2008</td>\n",
       "      <td>Master semestre 1</td>\n",
       "      <td>Semestre d'automne</td>\n",
       "    </tr>\n",
       "    <tr>\n",
       "      <th>4</th>\n",
       "      <td>Monsieur</td>\n",
       "      <td></td>\n",
       "      <td>Awalebo Joseph</td>\n",
       "      <td>161970</td>\n",
       "      <td></td>\n",
       "      <td>Présent</td>\n",
       "      <td>Informatique</td>\n",
       "      <td>2007-2008</td>\n",
       "      <td>Master semestre 1</td>\n",
       "      <td>Semestre d'automne</td>\n",
       "    </tr>\n",
       "    <tr>\n",
       "      <th>5</th>\n",
       "      <td>Monsieur</td>\n",
       "      <td></td>\n",
       "      <td>Balet Ken</td>\n",
       "      <td>166258</td>\n",
       "      <td></td>\n",
       "      <td>Présent</td>\n",
       "      <td>Informatique</td>\n",
       "      <td>2007-2008</td>\n",
       "      <td>Master semestre 1</td>\n",
       "      <td>Semestre d'automne</td>\n",
       "    </tr>\n",
       "    <tr>\n",
       "      <th>6</th>\n",
       "      <td>Monsieur</td>\n",
       "      <td></td>\n",
       "      <td>Barazzutti Raphaël Pierre</td>\n",
       "      <td>173600</td>\n",
       "      <td></td>\n",
       "      <td>Présent</td>\n",
       "      <td>Informatique</td>\n",
       "      <td>2007-2008</td>\n",
       "      <td>Master semestre 1</td>\n",
       "      <td>Semestre d'automne</td>\n",
       "    </tr>\n",
       "    <tr>\n",
       "      <th>7</th>\n",
       "      <td>Monsieur</td>\n",
       "      <td></td>\n",
       "      <td>Bayramoglu Ersoy</td>\n",
       "      <td>178879</td>\n",
       "      <td></td>\n",
       "      <td>Présent</td>\n",
       "      <td>Informatique</td>\n",
       "      <td>2007-2008</td>\n",
       "      <td>Master semestre 1</td>\n",
       "      <td>Semestre d'automne</td>\n",
       "    </tr>\n",
       "    <tr>\n",
       "      <th>8</th>\n",
       "      <td>Madame</td>\n",
       "      <td></td>\n",
       "      <td>Benabdallah Zeineb</td>\n",
       "      <td>154573</td>\n",
       "      <td></td>\n",
       "      <td>Présent</td>\n",
       "      <td>Informatique</td>\n",
       "      <td>2007-2008</td>\n",
       "      <td>Master semestre 1</td>\n",
       "      <td>Semestre d'automne</td>\n",
       "    </tr>\n",
       "    <tr>\n",
       "      <th>9</th>\n",
       "      <td>Monsieur</td>\n",
       "      <td></td>\n",
       "      <td>Bettex Marc</td>\n",
       "      <td>160492</td>\n",
       "      <td></td>\n",
       "      <td>Présent</td>\n",
       "      <td>Informatique</td>\n",
       "      <td>2007-2008</td>\n",
       "      <td>Master semestre 1</td>\n",
       "      <td>Semestre d'automne</td>\n",
       "    </tr>\n",
       "    <tr>\n",
       "      <th>10</th>\n",
       "      <td>Monsieur</td>\n",
       "      <td></td>\n",
       "      <td>Billaud Joël</td>\n",
       "      <td>172687</td>\n",
       "      <td></td>\n",
       "      <td>Présent</td>\n",
       "      <td>Informatique</td>\n",
       "      <td>2007-2008</td>\n",
       "      <td>Master semestre 1</td>\n",
       "      <td>Semestre d'automne</td>\n",
       "    </tr>\n",
       "    <tr>\n",
       "      <th>11</th>\n",
       "      <td>Monsieur</td>\n",
       "      <td></td>\n",
       "      <td>Brightwell Mark</td>\n",
       "      <td>179802</td>\n",
       "      <td></td>\n",
       "      <td>Présent</td>\n",
       "      <td>Informatique</td>\n",
       "      <td>2007-2008</td>\n",
       "      <td>Master semestre 1</td>\n",
       "      <td>Semestre d'automne</td>\n",
       "    </tr>\n",
       "    <tr>\n",
       "      <th>12</th>\n",
       "      <td>Madame</td>\n",
       "      <td></td>\n",
       "      <td>Bucher Cécile</td>\n",
       "      <td>162618</td>\n",
       "      <td></td>\n",
       "      <td>Présent</td>\n",
       "      <td>Informatique</td>\n",
       "      <td>2007-2008</td>\n",
       "      <td>Master semestre 1</td>\n",
       "      <td>Semestre d'automne</td>\n",
       "    </tr>\n",
       "    <tr>\n",
       "      <th>13</th>\n",
       "      <td>Monsieur</td>\n",
       "      <td></td>\n",
       "      <td>Campora Simone</td>\n",
       "      <td>180072</td>\n",
       "      <td>Internet computing</td>\n",
       "      <td>Présent</td>\n",
       "      <td>Informatique</td>\n",
       "      <td>2007-2008</td>\n",
       "      <td>Master semestre 1</td>\n",
       "      <td>Semestre d'automne</td>\n",
       "    </tr>\n",
       "    <tr>\n",
       "      <th>14</th>\n",
       "      <td>Monsieur</td>\n",
       "      <td></td>\n",
       "      <td>Cardinaux Damien</td>\n",
       "      <td>146330</td>\n",
       "      <td></td>\n",
       "      <td>Présent</td>\n",
       "      <td>Informatique</td>\n",
       "      <td>2007-2008</td>\n",
       "      <td>Master semestre 1</td>\n",
       "      <td>Semestre d'automne</td>\n",
       "    </tr>\n",
       "  </tbody>\n",
       "</table>\n",
       "</div>"
      ],
      "text/plain": [
       "      gender minor                       name  sciper      specialization  \\\n",
       "0   Monsieur        Aeberhard François-Xavier  153066                       \n",
       "1     Madame                    Agarwal Megha  180027                       \n",
       "2   Monsieur               Anagnostaras David  152232                       \n",
       "3   Monsieur                    Auroux Damien  177395                       \n",
       "4   Monsieur                   Awalebo Joseph  161970                       \n",
       "5   Monsieur                        Balet Ken  166258                       \n",
       "6   Monsieur        Barazzutti Raphaël Pierre  173600                       \n",
       "7   Monsieur                 Bayramoglu Ersoy  178879                       \n",
       "8     Madame               Benabdallah Zeineb  154573                       \n",
       "9   Monsieur                      Bettex Marc  160492                       \n",
       "10  Monsieur                     Billaud Joël  172687                       \n",
       "11  Monsieur                  Brightwell Mark  179802                       \n",
       "12    Madame                    Bucher Cécile  162618                       \n",
       "13  Monsieur                   Campora Simone  180072  Internet computing   \n",
       "14  Monsieur                 Cardinaux Damien  146330                       \n",
       "\n",
       "     status       section       year           semester              season  \n",
       "0   Présent  Informatique  2007-2008  Master semestre 1  Semestre d'automne  \n",
       "1   Présent  Informatique  2007-2008  Master semestre 1  Semestre d'automne  \n",
       "2   Présent  Informatique  2007-2008  Master semestre 1  Semestre d'automne  \n",
       "3   Présent  Informatique  2007-2008  Master semestre 1  Semestre d'automne  \n",
       "4   Présent  Informatique  2007-2008  Master semestre 1  Semestre d'automne  \n",
       "5   Présent  Informatique  2007-2008  Master semestre 1  Semestre d'automne  \n",
       "6   Présent  Informatique  2007-2008  Master semestre 1  Semestre d'automne  \n",
       "7   Présent  Informatique  2007-2008  Master semestre 1  Semestre d'automne  \n",
       "8   Présent  Informatique  2007-2008  Master semestre 1  Semestre d'automne  \n",
       "9   Présent  Informatique  2007-2008  Master semestre 1  Semestre d'automne  \n",
       "10  Présent  Informatique  2007-2008  Master semestre 1  Semestre d'automne  \n",
       "11  Présent  Informatique  2007-2008  Master semestre 1  Semestre d'automne  \n",
       "12  Présent  Informatique  2007-2008  Master semestre 1  Semestre d'automne  \n",
       "13  Présent  Informatique  2007-2008  Master semestre 1  Semestre d'automne  \n",
       "14  Présent  Informatique  2007-2008  Master semestre 1  Semestre d'automne  "
      ]
     },
     "execution_count": 20,
     "metadata": {},
     "output_type": "execute_result"
    }
   ],
   "source": [
    "all_data_frame_ma.head(15)"
   ]
  },
  {
   "cell_type": "markdown",
   "metadata": {},
   "source": [
    "Again, we store these data in a csv file"
   ]
  },
  {
   "cell_type": "code",
   "execution_count": 21,
   "metadata": {
    "collapsed": true
   },
   "outputs": [],
   "source": [
    "all_data_frame_ma.to_csv('data_ma.csv', ',', index=False)"
   ]
  },
  {
   "cell_type": "markdown",
   "metadata": {},
   "source": [
    "# Assignments: Analyzing the data"
   ]
  },
  {
   "cell_type": "markdown",
   "metadata": {},
   "source": [
    "Now that we have fetched all the data interesting for us, we can start analyzing them and try to extract interesting information."
   ]
  },
  {
   "cell_type": "markdown",
   "metadata": {},
   "source": [
    "It is possible to import data without requesting the server because everything had been stored previously in memory."
   ]
  },
  {
   "cell_type": "code",
   "execution_count": 22,
   "metadata": {
    "collapsed": false
   },
   "outputs": [
    {
     "data": {
      "text/plain": [
       "(2868, 8)"
      ]
     },
     "execution_count": 22,
     "metadata": {},
     "output_type": "execute_result"
    }
   ],
   "source": [
    "all_data_frame = pd.read_csv('data_ba.csv', ',')\n",
    "all_data_frame.shape"
   ]
  },
  {
   "cell_type": "code",
   "execution_count": 23,
   "metadata": {
    "collapsed": false
   },
   "outputs": [
    {
     "data": {
      "text/plain": [
       "(2431, 10)"
      ]
     },
     "execution_count": 23,
     "metadata": {},
     "output_type": "execute_result"
    }
   ],
   "source": [
    "all_data_frame_ma = pd.read_csv('data_ma.csv', ',')\n",
    "all_data_frame_ma.shape"
   ]
  },
  {
   "cell_type": "markdown",
   "metadata": {
    "collapsed": true
   },
   "source": [
    "## TASK 1: Bachelor students"
   ]
  },
  {
   "cell_type": "markdown",
   "metadata": {},
   "source": [
    "In this first task, we will consider only the students that have finished their Bachelor degree and see how many months they took to complete it. We will then separate the students between men and women and observe if the time difference is statically interesting."
   ]
  },
  {
   "cell_type": "markdown",
   "metadata": {},
   "source": [
    "Note that we have to keep all the student with the status 'Congé', because they can finish their bachelor when they do an ERASMUS."
   ]
  },
  {
   "cell_type": "code",
   "execution_count": 24,
   "metadata": {
    "collapsed": false
   },
   "outputs": [],
   "source": [
    "data = pd.read_csv('data_ba.csv', ',')"
   ]
  },
  {
   "cell_type": "markdown",
   "metadata": {},
   "source": [
    "We sort the people by sciper and check if each student has an entry for *'Bachelor semester 6'*. If not, we remove the corresponding person. We can then check the years of the first and the last semester done at EPFL. With this methodolgy, we will consider as well the student that have finished their Bachelor degree after redoing only the *'Bachelor semester 5'*.\n",
    "\n",
    "Note that we cannot know if a student actually graduated after the *'Bachelor semester 6'* or if he failed at the last step. Therefore, we will consider that all the students with a *'Bachelor semester 6'* entry did graduated at some point."
   ]
  },
  {
   "cell_type": "code",
   "execution_count": 25,
   "metadata": {
    "collapsed": false
   },
   "outputs": [],
   "source": [
    "# Sort people\n",
    "data.sort_values(ascending=[True, True, True], by=['sciper', 'year', 'semester'], inplace=True)\n",
    "\n",
    "# Select only the people for which we have a 'Bachelor semester 1' entry\n",
    "starting_scipers = data[data.semester == 'Bachelor semestre 1'].sciper.drop_duplicates(keep='first')\n",
    "\n",
    "# Select only people that have completed their degree (i.e have a 'Bachelor semester 6' entry)\n",
    "graduated_scipers = data[data.semester == 'Bachelor semestre 6'].sciper.drop_duplicates(keep='first')\n",
    "\n",
    "# Take the intersection of the two list of scipers above\n",
    "correct_scipers = pd.Series(list(set(starting_scipers).intersection(set(graduated_scipers)))).sort_values(ascending=True)"
   ]
  },
  {
   "cell_type": "code",
   "execution_count": 26,
   "metadata": {
    "collapsed": false
   },
   "outputs": [
    {
     "data": {
      "text/html": [
       "<div>\n",
       "<table border=\"1\" class=\"dataframe\">\n",
       "  <thead>\n",
       "    <tr style=\"text-align: right;\">\n",
       "      <th></th>\n",
       "      <th>gender</th>\n",
       "      <th>name</th>\n",
       "      <th>sciper</th>\n",
       "      <th>status</th>\n",
       "      <th>section</th>\n",
       "      <th>year</th>\n",
       "      <th>semester</th>\n",
       "      <th>season</th>\n",
       "    </tr>\n",
       "  </thead>\n",
       "  <tbody>\n",
       "    <tr>\n",
       "      <th>204</th>\n",
       "      <td>Monsieur</td>\n",
       "      <td>Good Xavier</td>\n",
       "      <td>147008</td>\n",
       "      <td>Présent</td>\n",
       "      <td>Informatique</td>\n",
       "      <td>2008-2009</td>\n",
       "      <td>Bachelor semestre 1</td>\n",
       "      <td>Semestre d'automne</td>\n",
       "    </tr>\n",
       "    <tr>\n",
       "      <th>796</th>\n",
       "      <td>Monsieur</td>\n",
       "      <td>Good Xavier</td>\n",
       "      <td>147008</td>\n",
       "      <td>Congé</td>\n",
       "      <td>Informatique</td>\n",
       "      <td>2010-2011</td>\n",
       "      <td>Bachelor semestre 5</td>\n",
       "      <td>Semestre d'automne</td>\n",
       "    </tr>\n",
       "    <tr>\n",
       "      <th>853</th>\n",
       "      <td>Monsieur</td>\n",
       "      <td>Good Xavier</td>\n",
       "      <td>147008</td>\n",
       "      <td>Congé</td>\n",
       "      <td>Informatique</td>\n",
       "      <td>2010-2011</td>\n",
       "      <td>Bachelor semestre 6</td>\n",
       "      <td>Semestre de printemps</td>\n",
       "    </tr>\n",
       "    <tr>\n",
       "      <th>100</th>\n",
       "      <td>Monsieur</td>\n",
       "      <td>Conus Johann</td>\n",
       "      <td>153762</td>\n",
       "      <td>Présent</td>\n",
       "      <td>Informatique</td>\n",
       "      <td>2007-2008</td>\n",
       "      <td>Bachelor semestre 5</td>\n",
       "      <td>Semestre d'automne</td>\n",
       "    </tr>\n",
       "    <tr>\n",
       "      <th>144</th>\n",
       "      <td>Monsieur</td>\n",
       "      <td>Conus Johann</td>\n",
       "      <td>153762</td>\n",
       "      <td>Présent</td>\n",
       "      <td>Informatique</td>\n",
       "      <td>2007-2008</td>\n",
       "      <td>Bachelor semestre 6</td>\n",
       "      <td>Semestre de printemps</td>\n",
       "    </tr>\n",
       "    <tr>\n",
       "      <th>89</th>\n",
       "      <td>Madame</td>\n",
       "      <td>Andriambololona Riana Miarantsoa</td>\n",
       "      <td>154157</td>\n",
       "      <td>Présent</td>\n",
       "      <td>Informatique</td>\n",
       "      <td>2007-2008</td>\n",
       "      <td>Bachelor semestre 5</td>\n",
       "      <td>Semestre d'automne</td>\n",
       "    </tr>\n",
       "    <tr>\n",
       "      <th>123</th>\n",
       "      <td>Monsieur</td>\n",
       "      <td>Raja Yanick</td>\n",
       "      <td>159516</td>\n",
       "      <td>Présent</td>\n",
       "      <td>Informatique</td>\n",
       "      <td>2007-2008</td>\n",
       "      <td>Bachelor semestre 5</td>\n",
       "      <td>Semestre d'automne</td>\n",
       "    </tr>\n",
       "    <tr>\n",
       "      <th>164</th>\n",
       "      <td>Monsieur</td>\n",
       "      <td>Raja Yanick</td>\n",
       "      <td>159516</td>\n",
       "      <td>Présent</td>\n",
       "      <td>Informatique</td>\n",
       "      <td>2007-2008</td>\n",
       "      <td>Bachelor semestre 6</td>\n",
       "      <td>Semestre de printemps</td>\n",
       "    </tr>\n",
       "    <tr>\n",
       "      <th>112</th>\n",
       "      <td>Madame</td>\n",
       "      <td>Jesse Julia</td>\n",
       "      <td>159998</td>\n",
       "      <td>Présent</td>\n",
       "      <td>Informatique</td>\n",
       "      <td>2007-2008</td>\n",
       "      <td>Bachelor semestre 5</td>\n",
       "      <td>Semestre d'automne</td>\n",
       "    </tr>\n",
       "    <tr>\n",
       "      <th>153</th>\n",
       "      <td>Madame</td>\n",
       "      <td>Jesse Julia</td>\n",
       "      <td>159998</td>\n",
       "      <td>Présent</td>\n",
       "      <td>Informatique</td>\n",
       "      <td>2007-2008</td>\n",
       "      <td>Bachelor semestre 6</td>\n",
       "      <td>Semestre de printemps</td>\n",
       "    </tr>\n",
       "    <tr>\n",
       "      <th>91</th>\n",
       "      <td>Monsieur</td>\n",
       "      <td>Bécholey Alexandre</td>\n",
       "      <td>160213</td>\n",
       "      <td>Présent</td>\n",
       "      <td>Informatique</td>\n",
       "      <td>2007-2008</td>\n",
       "      <td>Bachelor semestre 5</td>\n",
       "      <td>Semestre d'automne</td>\n",
       "    </tr>\n",
       "    <tr>\n",
       "      <th>109</th>\n",
       "      <td>Madame</td>\n",
       "      <td>Grivet Ekaterina</td>\n",
       "      <td>161091</td>\n",
       "      <td>Congé</td>\n",
       "      <td>Informatique</td>\n",
       "      <td>2007-2008</td>\n",
       "      <td>Bachelor semestre 5</td>\n",
       "      <td>Semestre d'automne</td>\n",
       "    </tr>\n",
       "  </tbody>\n",
       "</table>\n",
       "</div>"
      ],
      "text/plain": [
       "       gender                              name  sciper   status  \\\n",
       "204  Monsieur                       Good Xavier  147008  Présent   \n",
       "796  Monsieur                       Good Xavier  147008    Congé   \n",
       "853  Monsieur                       Good Xavier  147008    Congé   \n",
       "100  Monsieur                      Conus Johann  153762  Présent   \n",
       "144  Monsieur                      Conus Johann  153762  Présent   \n",
       "89     Madame  Andriambololona Riana Miarantsoa  154157  Présent   \n",
       "123  Monsieur                       Raja Yanick  159516  Présent   \n",
       "164  Monsieur                       Raja Yanick  159516  Présent   \n",
       "112    Madame                       Jesse Julia  159998  Présent   \n",
       "153    Madame                       Jesse Julia  159998  Présent   \n",
       "91   Monsieur                Bécholey Alexandre  160213  Présent   \n",
       "109    Madame                  Grivet Ekaterina  161091    Congé   \n",
       "\n",
       "          section       year             semester                 season  \n",
       "204  Informatique  2008-2009  Bachelor semestre 1     Semestre d'automne  \n",
       "796  Informatique  2010-2011  Bachelor semestre 5     Semestre d'automne  \n",
       "853  Informatique  2010-2011  Bachelor semestre 6  Semestre de printemps  \n",
       "100  Informatique  2007-2008  Bachelor semestre 5     Semestre d'automne  \n",
       "144  Informatique  2007-2008  Bachelor semestre 6  Semestre de printemps  \n",
       "89   Informatique  2007-2008  Bachelor semestre 5     Semestre d'automne  \n",
       "123  Informatique  2007-2008  Bachelor semestre 5     Semestre d'automne  \n",
       "164  Informatique  2007-2008  Bachelor semestre 6  Semestre de printemps  \n",
       "112  Informatique  2007-2008  Bachelor semestre 5     Semestre d'automne  \n",
       "153  Informatique  2007-2008  Bachelor semestre 6  Semestre de printemps  \n",
       "91   Informatique  2007-2008  Bachelor semestre 5     Semestre d'automne  \n",
       "109  Informatique  2007-2008  Bachelor semestre 5     Semestre d'automne  "
      ]
     },
     "execution_count": 26,
     "metadata": {},
     "output_type": "execute_result"
    }
   ],
   "source": [
    "data_corrected = data[data['sciper'].isin(correct_scipers)]\n",
    "data.head(12)"
   ]
  },
  {
   "cell_type": "code",
   "execution_count": 27,
   "metadata": {
    "collapsed": false
   },
   "outputs": [],
   "source": [
    "# Find starting semester of the Bachelor. We keep the first one if the student has redone his first year.\n",
    "startData = data_corrected[data_corrected.semester == 'Bachelor semestre 1'].copy()\n",
    "startData.drop_duplicates(subset=['sciper'], keep='first', inplace = True)\n",
    "\n",
    "# Find ending semester of the Bachelor. We keep the last one if the student has redone some semesters.\n",
    "endData = data_corrected[data_corrected['semester'].isin(['Bachelor semestre 6', 'Bachelor semestre 5'])].copy()\n",
    "endData.drop_duplicates(subset=['sciper'], keep='last', inplace = True)"
   ]
  },
  {
   "cell_type": "code",
   "execution_count": 28,
   "metadata": {
    "collapsed": false
   },
   "outputs": [],
   "source": [
    "# Renaming the columns\n",
    "startData = startData.rename(columns={'year': 'startYear', 'season': 'startSeason'})\n",
    "endData = endData.rename(columns={'year': 'finalYear', 'season': 'finalSeason'})\n",
    "\n",
    "# Fusion of the two dataframes\n",
    "startEndData = pd.merge(startData, endData[['sciper', 'finalYear', 'finalSeason']], how='inner', left_on='sciper', right_on='sciper')\n",
    "startEndData.drop(['semester'], axis=1, inplace = True)"
   ]
  },
  {
   "cell_type": "markdown",
   "metadata": {},
   "source": [
    "We can now observe that 370 students have done their entire degree in *'Informatique'* between 2007 and 2016."
   ]
  },
  {
   "cell_type": "code",
   "execution_count": 29,
   "metadata": {
    "collapsed": false
   },
   "outputs": [
    {
     "data": {
      "text/plain": [
       "(370, 9)"
      ]
     },
     "execution_count": 29,
     "metadata": {},
     "output_type": "execute_result"
    }
   ],
   "source": [
    "startEndData.shape"
   ]
  },
  {
   "cell_type": "markdown",
   "metadata": {},
   "source": [
    "But what is interesting for us is to know how many semester each of these graduated students took to get their diploma. For that, let's define a function that calculate the number of semesters based on the student incoming and outcoming year/season."
   ]
  },
  {
   "cell_type": "code",
   "execution_count": 30,
   "metadata": {
    "collapsed": true
   },
   "outputs": [],
   "source": [
    "def getNumberOfBachelorSemester(startYear, startSeason, endYear, endSeason):\n",
    "    year_diff = int(endYear.split('-')[1]) - int(startYear.split('-')[0])\n",
    "    if( startSeason == endSeason):\n",
    "        semester_number = (2 * year_diff) - 1\n",
    "    else :\n",
    "        semester_number = (2 * year_diff)\n",
    "    return semester_number\n"
   ]
  },
  {
   "cell_type": "code",
   "execution_count": 31,
   "metadata": {
    "collapsed": false
   },
   "outputs": [
    {
     "data": {
      "text/html": [
       "<div>\n",
       "<table border=\"1\" class=\"dataframe\">\n",
       "  <thead>\n",
       "    <tr style=\"text-align: right;\">\n",
       "      <th></th>\n",
       "      <th>gender</th>\n",
       "      <th>name</th>\n",
       "      <th>sciper</th>\n",
       "      <th>status</th>\n",
       "      <th>section</th>\n",
       "      <th>startYear</th>\n",
       "      <th>startSeason</th>\n",
       "      <th>finalYear</th>\n",
       "      <th>finalSeason</th>\n",
       "      <th>semesterNumber</th>\n",
       "    </tr>\n",
       "  </thead>\n",
       "  <tbody>\n",
       "    <tr>\n",
       "      <th>0</th>\n",
       "      <td>Monsieur</td>\n",
       "      <td>Good Xavier</td>\n",
       "      <td>147008</td>\n",
       "      <td>Présent</td>\n",
       "      <td>Informatique</td>\n",
       "      <td>2008-2009</td>\n",
       "      <td>Semestre d'automne</td>\n",
       "      <td>2010-2011</td>\n",
       "      <td>Semestre de printemps</td>\n",
       "      <td>6</td>\n",
       "    </tr>\n",
       "    <tr>\n",
       "      <th>1</th>\n",
       "      <td>Monsieur</td>\n",
       "      <td>Arévalo Christian</td>\n",
       "      <td>169569</td>\n",
       "      <td>Présent</td>\n",
       "      <td>Informatique</td>\n",
       "      <td>2007-2008</td>\n",
       "      <td>Semestre d'automne</td>\n",
       "      <td>2009-2010</td>\n",
       "      <td>Semestre de printemps</td>\n",
       "      <td>6</td>\n",
       "    </tr>\n",
       "    <tr>\n",
       "      <th>2</th>\n",
       "      <td>Monsieur</td>\n",
       "      <td>Knecht Mathieu</td>\n",
       "      <td>169731</td>\n",
       "      <td>Présent</td>\n",
       "      <td>Informatique</td>\n",
       "      <td>2007-2008</td>\n",
       "      <td>Semestre d'automne</td>\n",
       "      <td>2010-2011</td>\n",
       "      <td>Semestre de printemps</td>\n",
       "      <td>8</td>\n",
       "    </tr>\n",
       "    <tr>\n",
       "      <th>3</th>\n",
       "      <td>Monsieur</td>\n",
       "      <td>Scheiben Pascal</td>\n",
       "      <td>169795</td>\n",
       "      <td>Présent</td>\n",
       "      <td>Informatique</td>\n",
       "      <td>2007-2008</td>\n",
       "      <td>Semestre d'automne</td>\n",
       "      <td>2011-2012</td>\n",
       "      <td>Semestre d'automne</td>\n",
       "      <td>9</td>\n",
       "    </tr>\n",
       "    <tr>\n",
       "      <th>4</th>\n",
       "      <td>Monsieur</td>\n",
       "      <td>Richter Arnaud</td>\n",
       "      <td>171195</td>\n",
       "      <td>Présent</td>\n",
       "      <td>Informatique</td>\n",
       "      <td>2007-2008</td>\n",
       "      <td>Semestre d'automne</td>\n",
       "      <td>2009-2010</td>\n",
       "      <td>Semestre de printemps</td>\n",
       "      <td>6</td>\n",
       "    </tr>\n",
       "    <tr>\n",
       "      <th>5</th>\n",
       "      <td>Monsieur</td>\n",
       "      <td>Buchschacher Nicolas</td>\n",
       "      <td>171619</td>\n",
       "      <td>Présent</td>\n",
       "      <td>Informatique</td>\n",
       "      <td>2007-2008</td>\n",
       "      <td>Semestre d'automne</td>\n",
       "      <td>2009-2010</td>\n",
       "      <td>Semestre de printemps</td>\n",
       "      <td>6</td>\n",
       "    </tr>\n",
       "    <tr>\n",
       "      <th>6</th>\n",
       "      <td>Monsieur</td>\n",
       "      <td>Aubelle Flavien</td>\n",
       "      <td>174905</td>\n",
       "      <td>Présent</td>\n",
       "      <td>Informatique</td>\n",
       "      <td>2007-2008</td>\n",
       "      <td>Semestre d'automne</td>\n",
       "      <td>2011-2012</td>\n",
       "      <td>Semestre de printemps</td>\n",
       "      <td>10</td>\n",
       "    </tr>\n",
       "  </tbody>\n",
       "</table>\n",
       "</div>"
      ],
      "text/plain": [
       "     gender                  name  sciper   status       section  startYear  \\\n",
       "0  Monsieur           Good Xavier  147008  Présent  Informatique  2008-2009   \n",
       "1  Monsieur     Arévalo Christian  169569  Présent  Informatique  2007-2008   \n",
       "2  Monsieur        Knecht Mathieu  169731  Présent  Informatique  2007-2008   \n",
       "3  Monsieur       Scheiben Pascal  169795  Présent  Informatique  2007-2008   \n",
       "4  Monsieur        Richter Arnaud  171195  Présent  Informatique  2007-2008   \n",
       "5  Monsieur  Buchschacher Nicolas  171619  Présent  Informatique  2007-2008   \n",
       "6  Monsieur       Aubelle Flavien  174905  Présent  Informatique  2007-2008   \n",
       "\n",
       "          startSeason  finalYear            finalSeason  semesterNumber  \n",
       "0  Semestre d'automne  2010-2011  Semestre de printemps               6  \n",
       "1  Semestre d'automne  2009-2010  Semestre de printemps               6  \n",
       "2  Semestre d'automne  2010-2011  Semestre de printemps               8  \n",
       "3  Semestre d'automne  2011-2012     Semestre d'automne               9  \n",
       "4  Semestre d'automne  2009-2010  Semestre de printemps               6  \n",
       "5  Semestre d'automne  2009-2010  Semestre de printemps               6  \n",
       "6  Semestre d'automne  2011-2012  Semestre de printemps              10  "
      ]
     },
     "execution_count": 31,
     "metadata": {},
     "output_type": "execute_result"
    }
   ],
   "source": [
    "# Applying the function on the data\n",
    "startEndData['semesterNumber'] = startEndData.apply(lambda row: getNumberOfBachelorSemester(row['startYear'], row['startSeason'],row['finalYear'], row['finalSeason']), axis=1)\n",
    "startEndData.head(7)"
   ]
  },
  {
   "cell_type": "markdown",
   "metadata": {
    "collapsed": true
   },
   "source": [
    "**We have now the number of semesters (6 months) each students took to finish their Bachelor degree.** (6 semesters, i.e 3 years, is the minimum)"
   ]
  },
  {
   "cell_type": "markdown",
   "metadata": {},
   "source": [
    "Let's separate now the students by gender and compute the mean time they took to achieve their cursus."
   ]
  },
  {
   "cell_type": "code",
   "execution_count": 32,
   "metadata": {
    "collapsed": false
   },
   "outputs": [
    {
     "data": {
      "text/plain": [
       "342"
      ]
     },
     "execution_count": 32,
     "metadata": {},
     "output_type": "execute_result"
    }
   ],
   "source": [
    "dataMen = startEndData[startEndData.gender == 'Monsieur']\n",
    "nbrMen = dataMen.shape[0]\n",
    "nbrMen"
   ]
  },
  {
   "cell_type": "code",
   "execution_count": 33,
   "metadata": {
    "collapsed": false
   },
   "outputs": [
    {
     "data": {
      "text/plain": [
       "28"
      ]
     },
     "execution_count": 33,
     "metadata": {},
     "output_type": "execute_result"
    }
   ],
   "source": [
    "dataWomen = startEndData[startEndData.gender == 'Madame']\n",
    "nbrWomen = dataWomen.shape[0]\n",
    "nbrWomen"
   ]
  },
  {
   "cell_type": "markdown",
   "metadata": {},
   "source": [
    "Note that women in the informatic section are not a common thing ^^'\n",
    "\n",
    "Let's see how many semesters they take (mean value per gender)."
   ]
  },
  {
   "cell_type": "code",
   "execution_count": 34,
   "metadata": {
    "collapsed": false
   },
   "outputs": [
    {
     "name": "stdout",
     "output_type": "stream",
     "text": [
      "7.146198830409356\n",
      "6.642857142857143\n"
     ]
    }
   ],
   "source": [
    "numberSemestersMen = dataMen['semesterNumber']\n",
    "numberSemestersWomen = dataWomen['semesterNumber']\n",
    "\n",
    "meanMen = numberSemestersMen.mean()\n",
    "meanWomen = numberSemestersWomen.mean()\n",
    "print(meanMen)\n",
    "print(meanWomen)"
   ]
  },
  {
   "cell_type": "markdown",
   "metadata": {},
   "source": [
    "We see that men take a bit longer to complete their bachelor than women. But let's not conclude that they are less smart than women! There is only 30 women in our statitics. More subject would be better for the analysis... unfortunatly we are not analyzing SV or architecture sections.\n",
    "\n",
    "To decide whether the difference in study length between men and women is statistically significant, we use the two-sample t-test as explained on http://hamelg.blogspot.ch/2015/11/python-for-data-analysis-part-24.html.\n",
    "\n",
    "There, it reads: \"A two-sample t-test investigates whether the means of two independent data samples differ from one another. In a two-sample test, the null hypothesis is that the means of both groups are the same.\"\n",
    "We believe that the samples of men and women respectively are independent."
   ]
  },
  {
   "cell_type": "code",
   "execution_count": 35,
   "metadata": {
    "collapsed": false
   },
   "outputs": [
    {
     "data": {
      "text/plain": [
       "Ttest_indResult(statistic=2.1951411139908266, pvalue=0.03469979187943048)"
      ]
     },
     "execution_count": 35,
     "metadata": {},
     "output_type": "execute_result"
    }
   ],
   "source": [
    "# Import stat library for t-test\n",
    "import scipy.stats as stats\n",
    "\n",
    "stats.ttest_ind(a= numberSemestersMen,\n",
    "                b= numberSemestersWomen,\n",
    "                equal_var=False)    # Assume samples have equal variance?"
   ]
  },
  {
   "cell_type": "markdown",
   "metadata": {},
   "source": [
    "The p-value is 0.035, hence the difference in study length between men and women is statistically significant, because is below 0.05.\n",
    "\n",
    "Let's plot the number of times each Bachelor degree duration occure in our list divided by gender."
   ]
  },
  {
   "cell_type": "code",
   "execution_count": 36,
   "metadata": {
    "collapsed": false
   },
   "outputs": [
    {
     "data": {
      "image/png": "[encoded data removed]",
      "text/plain": [
       "<matplotlib.figure.Figure at 0x118a416a0>"
      ]
     },
     "metadata": {},
     "output_type": "display_data"
    }
   ],
   "source": [
    "numberSemesters = startEndData[['gender', 'semesterNumber']]\n",
    "# We group the number of semester by values, so we can count how many times each number occure.\n",
    "numberSemestersPerLength = numberSemesters.groupby('semesterNumber')\n",
    "\n",
    "totalNbMen = numberSemesters[numberSemesters.gender == 'Monsieur'].size\n",
    "totalNbWomen = numberSemesters[numberSemesters.gender == 'Madame'].size\n",
    "\n",
    "# Divide into men and women\n",
    "numberSemestersPerLengthDivided = []\n",
    "for lengthGroup in numberSemestersPerLength:\n",
    "    length = lengthGroup[0]\n",
    "    personsWithLength = lengthGroup[1]\n",
    "    percentageMen = personsWithLength[personsWithLength.gender == 'Monsieur'].size / totalNbMen\n",
    "    percentageWomen = personsWithLength[personsWithLength.gender == 'Madame'].size / totalNbWomen\n",
    "    numberSemestersPerLengthDivided.append({'semesterNumber':length, 'men':percentageMen, 'women':percentageWomen})\n",
    "\n",
    "# Plot the histogram\n",
    "dfNumberSemesters = pd.DataFrame(numberSemestersPerLengthDivided)\n",
    "dfNumberSemesters = dfNumberSemesters.set_index(['semesterNumber'])\n",
    "dfNumberSemesters.plot.bar()\n",
    "plt.show()"
   ]
  },
  {
   "cell_type": "markdown",
   "metadata": {},
   "source": [
    "As we could expect, the major part of the students do their Bachelor in 6 semesters, i.e 3 years. But still more or less 30% redo at least one year. Let's also mention the student that took 7 years to do his Bachelor degree. He accomplished kind of a record! "
   ]
  },
  {
   "cell_type": "markdown",
   "metadata": {},
   "source": [
    "## TASK 2: Master students"
   ]
  },
  {
   "cell_type": "markdown",
   "metadata": {},
   "source": [
    "In this second assigment, we will now analyze the master student. This part is more tricky, because the data are not well structure as Bachelor ones. Some students will finish their master in 2 semesters (if they don't do any minor or specialization). For students with a minor or a specialization, they will have to do at least 3 semester. Moreover, most of the 'Project Master' entries are empty (even if the student has probably done a project). Therefore, we haven't fetch this information from IS-Academia, because the information is not reliable.\n",
    "\n",
    "In order to count the number of semesters done by the students to finish their master degree, we considered the following points:\n",
    "\n",
    "A student has graduated if\n",
    "- There is at least an entry for *'Master semestre 1'* and *'Master semestre 2'*\n",
    "- If he has a minor or a specialization, there is at least an entry for *'Master semestre 3'*\n",
    "\n",
    "If he has graduated, we count one semester at the end of his studies for the master project (instead of checking its entry in the data)."
   ]
  },
  {
   "cell_type": "markdown",
   "metadata": {},
   "source": [
    "Let's start by uploading the data from the file."
   ]
  },
  {
   "cell_type": "code",
   "execution_count": 37,
   "metadata": {
    "collapsed": false
   },
   "outputs": [
    {
     "data": {
      "text/plain": [
       "(2431, 10)"
      ]
     },
     "execution_count": 37,
     "metadata": {},
     "output_type": "execute_result"
    }
   ],
   "source": [
    "data_ma = pd.read_csv('data_ma.csv', ',')\n",
    "data_ma.shape"
   ]
  },
  {
   "cell_type": "markdown",
   "metadata": {},
   "source": [
    "Then, we keep only the students with an entry in *'Master semestre 1'* and *'Master semestre 2'*."
   ]
  },
  {
   "cell_type": "code",
   "execution_count": 38,
   "metadata": {
    "collapsed": false
   },
   "outputs": [],
   "source": [
    "# Sort people\n",
    "data_ma.sort_values(ascending=[True, True, True], by=['sciper', 'year', 'semester'], inplace=True)\n",
    "\n",
    "# Select only the people for which we have a 'Master semester 1' entry\n",
    "sem1_scipers = data_ma[data_ma.semester == 'Master semestre 1'].sciper.drop_duplicates(keep='first')\n",
    "\n",
    "# Select only the people for which we have a 'Master semester 2' entry\n",
    "sem2_scipers = data_ma[data_ma.semester == 'Master semestre 2'].sciper.drop_duplicates(keep='first')\n",
    "\n",
    "# Take the intersection of the two list of scipers above, students in master semester 1 and 2\n",
    "correct_scipers = pd.Series(list(set(sem1_scipers).intersection(set(sem2_scipers)))).sort_values(ascending=True)"
   ]
  },
  {
   "cell_type": "code",
   "execution_count": 39,
   "metadata": {
    "collapsed": false
   },
   "outputs": [
    {
     "data": {
      "text/html": [
       "<div>\n",
       "<table border=\"1\" class=\"dataframe\">\n",
       "  <thead>\n",
       "    <tr style=\"text-align: right;\">\n",
       "      <th></th>\n",
       "      <th>gender</th>\n",
       "      <th>minor</th>\n",
       "      <th>name</th>\n",
       "      <th>sciper</th>\n",
       "      <th>specialization</th>\n",
       "      <th>status</th>\n",
       "      <th>section</th>\n",
       "      <th>year</th>\n",
       "      <th>semester</th>\n",
       "      <th>season</th>\n",
       "    </tr>\n",
       "  </thead>\n",
       "  <tbody>\n",
       "    <tr>\n",
       "      <th>14</th>\n",
       "      <td>Monsieur</td>\n",
       "      <td>NaN</td>\n",
       "      <td>Cardinaux Damien</td>\n",
       "      <td>146330</td>\n",
       "      <td>NaN</td>\n",
       "      <td>Présent</td>\n",
       "      <td>Informatique</td>\n",
       "      <td>2007-2008</td>\n",
       "      <td>Master semestre 1</td>\n",
       "      <td>Semestre d'automne</td>\n",
       "    </tr>\n",
       "    <tr>\n",
       "      <th>87</th>\n",
       "      <td>Monsieur</td>\n",
       "      <td>NaN</td>\n",
       "      <td>Cardinaux Damien</td>\n",
       "      <td>146330</td>\n",
       "      <td>NaN</td>\n",
       "      <td>Présent</td>\n",
       "      <td>Informatique</td>\n",
       "      <td>2007-2008</td>\n",
       "      <td>Master semestre 2</td>\n",
       "      <td>Semestre de printemps</td>\n",
       "    </tr>\n",
       "    <tr>\n",
       "      <th>353</th>\n",
       "      <td>Monsieur</td>\n",
       "      <td>NaN</td>\n",
       "      <td>Cardinaux Damien</td>\n",
       "      <td>146330</td>\n",
       "      <td>NaN</td>\n",
       "      <td>Présent</td>\n",
       "      <td>Informatique</td>\n",
       "      <td>2008-2009</td>\n",
       "      <td>Master semestre 3</td>\n",
       "      <td>Semestre d'automne</td>\n",
       "    </tr>\n",
       "    <tr>\n",
       "      <th>257</th>\n",
       "      <td>Monsieur</td>\n",
       "      <td>NaN</td>\n",
       "      <td>Marx Clément</td>\n",
       "      <td>146742</td>\n",
       "      <td>Signals, Images and Interfaces</td>\n",
       "      <td>Présent</td>\n",
       "      <td>Informatique</td>\n",
       "      <td>2008-2009</td>\n",
       "      <td>Master semestre 1</td>\n",
       "      <td>Semestre d'automne</td>\n",
       "    </tr>\n",
       "    <tr>\n",
       "      <th>321</th>\n",
       "      <td>Monsieur</td>\n",
       "      <td>NaN</td>\n",
       "      <td>Marx Clément</td>\n",
       "      <td>146742</td>\n",
       "      <td>Signals, Images and Interfaces</td>\n",
       "      <td>Présent</td>\n",
       "      <td>Informatique</td>\n",
       "      <td>2008-2009</td>\n",
       "      <td>Master semestre 2</td>\n",
       "      <td>Semestre de printemps</td>\n",
       "    </tr>\n",
       "  </tbody>\n",
       "</table>\n",
       "</div>"
      ],
      "text/plain": [
       "       gender minor              name  sciper                  specialization  \\\n",
       "14   Monsieur   NaN  Cardinaux Damien  146330                             NaN   \n",
       "87   Monsieur   NaN  Cardinaux Damien  146330                             NaN   \n",
       "353  Monsieur   NaN  Cardinaux Damien  146330                             NaN   \n",
       "257  Monsieur   NaN      Marx Clément  146742  Signals, Images and Interfaces   \n",
       "321  Monsieur   NaN      Marx Clément  146742  Signals, Images and Interfaces   \n",
       "\n",
       "      status       section       year           semester  \\\n",
       "14   Présent  Informatique  2007-2008  Master semestre 1   \n",
       "87   Présent  Informatique  2007-2008  Master semestre 2   \n",
       "353  Présent  Informatique  2008-2009  Master semestre 3   \n",
       "257  Présent  Informatique  2008-2009  Master semestre 1   \n",
       "321  Présent  Informatique  2008-2009  Master semestre 2   \n",
       "\n",
       "                    season  \n",
       "14      Semestre d'automne  \n",
       "87   Semestre de printemps  \n",
       "353     Semestre d'automne  \n",
       "257     Semestre d'automne  \n",
       "321  Semestre de printemps  "
      ]
     },
     "execution_count": 39,
     "metadata": {},
     "output_type": "execute_result"
    }
   ],
   "source": [
    "data_corrected_ma = data_ma[data_ma['sciper'].isin(correct_scipers)]\n",
    "data_corrected_ma.head(5)"
   ]
  },
  {
   "cell_type": "markdown",
   "metadata": {},
   "source": [
    "We get the number of semesters for each student (identified by its sciper), counting the number of time a sciper appears in the list."
   ]
  },
  {
   "cell_type": "code",
   "execution_count": 40,
   "metadata": {
    "collapsed": false
   },
   "outputs": [
    {
     "data": {
      "text/html": [
       "<div>\n",
       "<table border=\"1\" class=\"dataframe\">\n",
       "  <thead>\n",
       "    <tr style=\"text-align: right;\">\n",
       "      <th></th>\n",
       "      <th>sciper</th>\n",
       "      <th>semesterNumber</th>\n",
       "    </tr>\n",
       "  </thead>\n",
       "  <tbody>\n",
       "    <tr>\n",
       "      <th>0</th>\n",
       "      <td>179988</td>\n",
       "      <td>7</td>\n",
       "    </tr>\n",
       "    <tr>\n",
       "      <th>1</th>\n",
       "      <td>166491</td>\n",
       "      <td>7</td>\n",
       "    </tr>\n",
       "    <tr>\n",
       "      <th>2</th>\n",
       "      <td>170530</td>\n",
       "      <td>6</td>\n",
       "    </tr>\n",
       "    <tr>\n",
       "      <th>3</th>\n",
       "      <td>181244</td>\n",
       "      <td>6</td>\n",
       "    </tr>\n",
       "    <tr>\n",
       "      <th>4</th>\n",
       "      <td>200932</td>\n",
       "      <td>6</td>\n",
       "    </tr>\n",
       "  </tbody>\n",
       "</table>\n",
       "</div>"
      ],
      "text/plain": [
       "   sciper  semesterNumber\n",
       "0  179988               7\n",
       "1  166491               7\n",
       "2  170530               6\n",
       "3  181244               6\n",
       "4  200932               6"
      ]
     },
     "execution_count": 40,
     "metadata": {},
     "output_type": "execute_result"
    }
   ],
   "source": [
    "# Counting how many times each sciper appears in the list\n",
    "semester_number_ma = data_corrected_ma.sciper.value_counts().to_frame()\n",
    "\n",
    "semester_number_ma.reset_index(level = 0, inplace = True)\n",
    "semester_number_ma.columns = ['sciper', 'semesterNumber']\n",
    "semester_number_ma.head(5)"
   ]
  },
  {
   "cell_type": "markdown",
   "metadata": {},
   "source": [
    "We can now merge this new information in the previous table. We will also keep only one entry for each student with the year of his first master semester. We also noticed that a specialization or a minor of students was not appearing in all the semester entries of the same student. Therefore, if a specialization or a minor appeard once in the tabs, we kept it for the student."
   ]
  },
  {
   "cell_type": "code",
   "execution_count": 41,
   "metadata": {
    "collapsed": false
   },
   "outputs": [
    {
     "data": {
      "text/html": [
       "<div>\n",
       "<table border=\"1\" class=\"dataframe\">\n",
       "  <thead>\n",
       "    <tr style=\"text-align: right;\">\n",
       "      <th></th>\n",
       "      <th>gender</th>\n",
       "      <th>name</th>\n",
       "      <th>sciper</th>\n",
       "      <th>section</th>\n",
       "      <th>year</th>\n",
       "      <th>semesterNumber</th>\n",
       "      <th>specialization</th>\n",
       "      <th>minor</th>\n",
       "    </tr>\n",
       "  </thead>\n",
       "  <tbody>\n",
       "    <tr>\n",
       "      <th>0</th>\n",
       "      <td>Monsieur</td>\n",
       "      <td>Cardinaux Damien</td>\n",
       "      <td>146330</td>\n",
       "      <td>Informatique</td>\n",
       "      <td>2007-2008</td>\n",
       "      <td>3</td>\n",
       "      <td>NaN</td>\n",
       "      <td>NaN</td>\n",
       "    </tr>\n",
       "    <tr>\n",
       "      <th>1</th>\n",
       "      <td>Monsieur</td>\n",
       "      <td>Marx Clément</td>\n",
       "      <td>146742</td>\n",
       "      <td>Informatique</td>\n",
       "      <td>2008-2009</td>\n",
       "      <td>5</td>\n",
       "      <td>Signals, Images and Interfaces</td>\n",
       "      <td>NaN</td>\n",
       "    </tr>\n",
       "    <tr>\n",
       "      <th>2</th>\n",
       "      <td>Monsieur</td>\n",
       "      <td>Junod Antoine</td>\n",
       "      <td>146929</td>\n",
       "      <td>Informatique</td>\n",
       "      <td>2007-2008</td>\n",
       "      <td>2</td>\n",
       "      <td>NaN</td>\n",
       "      <td>NaN</td>\n",
       "    </tr>\n",
       "    <tr>\n",
       "      <th>3</th>\n",
       "      <td>Monsieur</td>\n",
       "      <td>Good Xavier</td>\n",
       "      <td>147008</td>\n",
       "      <td>Informatique</td>\n",
       "      <td>2011-2012</td>\n",
       "      <td>4</td>\n",
       "      <td>Signals, Images and Interfaces</td>\n",
       "      <td>NaN</td>\n",
       "    </tr>\n",
       "    <tr>\n",
       "      <th>4</th>\n",
       "      <td>Monsieur</td>\n",
       "      <td>Anagnostaras David</td>\n",
       "      <td>152232</td>\n",
       "      <td>Informatique</td>\n",
       "      <td>2007-2008</td>\n",
       "      <td>3</td>\n",
       "      <td>NaN</td>\n",
       "      <td>Mineur en Management, technologie et entrepren...</td>\n",
       "    </tr>\n",
       "    <tr>\n",
       "      <th>5</th>\n",
       "      <td>Monsieur</td>\n",
       "      <td>Aeberhard François-Xavier</td>\n",
       "      <td>153066</td>\n",
       "      <td>Informatique</td>\n",
       "      <td>2007-2008</td>\n",
       "      <td>6</td>\n",
       "      <td>Internet computing</td>\n",
       "      <td>NaN</td>\n",
       "    </tr>\n",
       "    <tr>\n",
       "      <th>6</th>\n",
       "      <td>Monsieur</td>\n",
       "      <td>Cassina Ilya</td>\n",
       "      <td>153746</td>\n",
       "      <td>Informatique</td>\n",
       "      <td>2007-2008</td>\n",
       "      <td>3</td>\n",
       "      <td>NaN</td>\n",
       "      <td>NaN</td>\n",
       "    </tr>\n",
       "    <tr>\n",
       "      <th>7</th>\n",
       "      <td>Monsieur</td>\n",
       "      <td>Conus Johann</td>\n",
       "      <td>153762</td>\n",
       "      <td>Informatique</td>\n",
       "      <td>2008-2009</td>\n",
       "      <td>4</td>\n",
       "      <td>NaN</td>\n",
       "      <td>NaN</td>\n",
       "    </tr>\n",
       "    <tr>\n",
       "      <th>8</th>\n",
       "      <td>Monsieur</td>\n",
       "      <td>Fomene Tierry Alain</td>\n",
       "      <td>154080</td>\n",
       "      <td>Informatique</td>\n",
       "      <td>2007-2008</td>\n",
       "      <td>5</td>\n",
       "      <td>Internet computing</td>\n",
       "      <td>NaN</td>\n",
       "    </tr>\n",
       "    <tr>\n",
       "      <th>9</th>\n",
       "      <td>Madame</td>\n",
       "      <td>Benabdallah Zeineb</td>\n",
       "      <td>154573</td>\n",
       "      <td>Informatique</td>\n",
       "      <td>2007-2008</td>\n",
       "      <td>5</td>\n",
       "      <td>Biocomputing</td>\n",
       "      <td>NaN</td>\n",
       "    </tr>\n",
       "  </tbody>\n",
       "</table>\n",
       "</div>"
      ],
      "text/plain": [
       "     gender                       name  sciper       section       year  \\\n",
       "0  Monsieur           Cardinaux Damien  146330  Informatique  2007-2008   \n",
       "1  Monsieur               Marx Clément  146742  Informatique  2008-2009   \n",
       "2  Monsieur              Junod Antoine  146929  Informatique  2007-2008   \n",
       "3  Monsieur                Good Xavier  147008  Informatique  2011-2012   \n",
       "4  Monsieur         Anagnostaras David  152232  Informatique  2007-2008   \n",
       "5  Monsieur  Aeberhard François-Xavier  153066  Informatique  2007-2008   \n",
       "6  Monsieur               Cassina Ilya  153746  Informatique  2007-2008   \n",
       "7  Monsieur               Conus Johann  153762  Informatique  2008-2009   \n",
       "8  Monsieur        Fomene Tierry Alain  154080  Informatique  2007-2008   \n",
       "9    Madame         Benabdallah Zeineb  154573  Informatique  2007-2008   \n",
       "\n",
       "   semesterNumber                  specialization  \\\n",
       "0               3                             NaN   \n",
       "1               5  Signals, Images and Interfaces   \n",
       "2               2                             NaN   \n",
       "3               4  Signals, Images and Interfaces   \n",
       "4               3                             NaN   \n",
       "5               6              Internet computing   \n",
       "6               3                             NaN   \n",
       "7               4                             NaN   \n",
       "8               5              Internet computing   \n",
       "9               5                    Biocomputing   \n",
       "\n",
       "                                               minor  \n",
       "0                                                NaN  \n",
       "1                                                NaN  \n",
       "2                                                NaN  \n",
       "3                                                NaN  \n",
       "4  Mineur en Management, technologie et entrepren...  \n",
       "5                                                NaN  \n",
       "6                                                NaN  \n",
       "7                                                NaN  \n",
       "8                                                NaN  \n",
       "9                                                NaN  "
      ]
     },
     "execution_count": 41,
     "metadata": {},
     "output_type": "execute_result"
    }
   ],
   "source": [
    "data_students_ma = data_corrected_ma.drop_duplicates(subset=['sciper'], keep='first')\n",
    "data_students_ma = pd.merge(data_students_ma[['gender', 'name', 'sciper', 'section', 'year']], semester_number_ma, how='inner', left_on='sciper', right_on='sciper')\n",
    "\n",
    "data_special_ma = data_ma.dropna(subset = ['specialization']).drop_duplicates(subset=['sciper'], keep='last')\n",
    "data_students_ma = pd.merge(data_students_ma, data_special_ma[['sciper', 'specialization']], how='left', left_on='sciper', right_on='sciper')\n",
    "\n",
    "data_minor_ma = data_ma.dropna(subset = ['minor']).drop_duplicates(subset=['sciper'], keep='last')\n",
    "data_students_ma = pd.merge(data_students_ma, data_minor_ma[['sciper', 'minor']], how='left', left_on='sciper', right_on='sciper')\n",
    "\n",
    "data_students_ma.head(10)"
   ]
  },
  {
   "cell_type": "markdown",
   "metadata": {},
   "source": [
    "We can check now if all the students with a minor or a specialization have done at least 3 semesters. If not, we consider that they don't have finished their degree."
   ]
  },
  {
   "cell_type": "code",
   "execution_count": 42,
   "metadata": {
    "collapsed": false
   },
   "outputs": [
    {
     "data": {
      "text/plain": [
       "(697, 8)"
      ]
     },
     "execution_count": 42,
     "metadata": {},
     "output_type": "execute_result"
    }
   ],
   "source": [
    "# Finding the sciper of the student that have not finish their degree\n",
    "wrong_sciper_specialization_ma = data_students_ma[data_students_ma.semesterNumber == 2].dropna(subset = ['specialization']).sciper\n",
    "wrong_sciper_minor_ma = data_students_ma[data_students_ma.semesterNumber == 2].dropna(subset = ['minor']).sciper\n",
    "\n",
    "# We take out these students from our DataFrame\n",
    "data_students_ma = data_students_ma[~data_students_ma['sciper'].isin(wrong_sciper_specialization_ma)]\n",
    "data_students_ma = data_students_ma[~data_students_ma['sciper'].isin(wrong_sciper_minor_ma)]\n",
    "data_students_ma.shape"
   ]
  },
  {
   "cell_type": "markdown",
   "metadata": {},
   "source": [
    "Now that we consider that every students in our tabs has finished his degree, we can start analyzing the data.\n",
    "\n",
    "First, we need to add one more semester for each student for counting their master project."
   ]
  },
  {
   "cell_type": "code",
   "execution_count": 43,
   "metadata": {
    "collapsed": false
   },
   "outputs": [],
   "source": [
    "data_final_students_ma = data_students_ma.copy()\n",
    "data_final_students_ma.semesterNumber = data_final_students_ma.semesterNumber + 1"
   ]
  },
  {
   "cell_type": "markdown",
   "metadata": {},
   "source": [
    "Now we can plot the histogram of the mean number of semester done by the students depending on their specialization. If a student does not have any specialization, we note *'No specialization'*."
   ]
  },
  {
   "cell_type": "code",
   "execution_count": 44,
   "metadata": {
    "collapsed": false
   },
   "outputs": [
    {
     "data": {
      "image/png": "[encoded data removed]",
      "text/plain": [
       "<matplotlib.figure.Figure at 0x11878dd30>"
      ]
     },
     "metadata": {},
     "output_type": "display_data"
    }
   ],
   "source": [
    "# Replacing specialization values NaN by 'No specialization'\n",
    "data_students_ma_with_specialization = data_final_students_ma.copy()\n",
    "data_students_ma_with_specialization.specialization.fillna(value = 'No specialization', inplace = True)\n",
    "\n",
    "# Group by specialization\n",
    "numberSemesters = data_students_ma_with_specialization[['specialization', 'semesterNumber']]\n",
    "numberSemestersPerSpecialization = numberSemesters.groupby('specialization')\n",
    "\n",
    "# Dividing the DataFrame into different specialization and storing the average for each one\n",
    "numberSemestersPerSpecializationDivided = []\n",
    "lengthsPerSpecialization = {}\n",
    "for specializationGroup in numberSemestersPerSpecialization:\n",
    "    specialization = specializationGroup[0]\n",
    "    personsWithLength = specializationGroup[1]\n",
    "    \n",
    "    avgLength = np.round_(personsWithLength['semesterNumber'].mean(),decimals=3)\n",
    "    numberSemestersPerSpecializationDivided.append({'avgSemesterNumber':avgLength, \n",
    "                                                    'specialization': specialization})\n",
    "    \n",
    "    lengthsPerSpecialization[specialization] = personsWithLength['semesterNumber']\n",
    "    \n",
    "\n",
    "avgLengthPerSpecialization = pd.DataFrame(numberSemestersPerSpecializationDivided)\n",
    "avgLengthPerSpecialization = avgLengthPerSpecialization.set_index(['specialization'])\n",
    "ax = avgLengthPerSpecialization.plot.bar()\n",
    "\n",
    "# Computing overall average\n",
    "generalAvg = data_students_ma_with_specialization.semesterNumber.mean()\n",
    "\n",
    "# Plotting the results\n",
    "plt.axhline(y=generalAvg, color='b', label='Average')\n",
    "plt.legend()\n",
    "plt.show()"
   ]
  },
  {
   "cell_type": "markdown",
   "metadata": {},
   "source": [
    "Note that the mean of the student without specialization is the only one below 4 semesters. "
   ]
  },
  {
   "cell_type": "markdown",
   "metadata": {},
   "source": [
    "To conclude which values is statistically significant, we use the same website for the statistics reference and do a one-sample t-test.\n",
    "Here is the explanation: \"A one-sample t-test checks whether a sample mean differs from the population mean.\""
   ]
  },
  {
   "cell_type": "code",
   "execution_count": 45,
   "metadata": {
    "collapsed": false
   },
   "outputs": [
    {
     "data": {
      "text/html": [
       "<div>\n",
       "<table border=\"1\" class=\"dataframe\">\n",
       "  <thead>\n",
       "    <tr style=\"text-align: right;\">\n",
       "      <th></th>\n",
       "      <th># students</th>\n",
       "      <th>Differs significantly</th>\n",
       "      <th>p-value</th>\n",
       "    </tr>\n",
       "    <tr>\n",
       "      <th>Specialization</th>\n",
       "      <th></th>\n",
       "      <th></th>\n",
       "      <th></th>\n",
       "    </tr>\n",
       "  </thead>\n",
       "  <tbody>\n",
       "    <tr>\n",
       "      <th>Computer Engineering - SP</th>\n",
       "      <td>17</td>\n",
       "      <td>Yes</td>\n",
       "      <td>8.263090e-03</td>\n",
       "    </tr>\n",
       "    <tr>\n",
       "      <th>No specialization</th>\n",
       "      <td>500</td>\n",
       "      <td>Yes</td>\n",
       "      <td>2.339821e-10</td>\n",
       "    </tr>\n",
       "    <tr>\n",
       "      <th>Software Systems</th>\n",
       "      <td>10</td>\n",
       "      <td>Yes</td>\n",
       "      <td>2.306731e-02</td>\n",
       "    </tr>\n",
       "    <tr>\n",
       "      <th>Biocomputing</th>\n",
       "      <td>3</td>\n",
       "      <td>No</td>\n",
       "      <td>2.187936e-01</td>\n",
       "    </tr>\n",
       "    <tr>\n",
       "      <th>Foundations of Software</th>\n",
       "      <td>56</td>\n",
       "      <td>Yes</td>\n",
       "      <td>1.981885e-07</td>\n",
       "    </tr>\n",
       "    <tr>\n",
       "      <th>Internet computing</th>\n",
       "      <td>82</td>\n",
       "      <td>Yes</td>\n",
       "      <td>3.255559e-09</td>\n",
       "    </tr>\n",
       "    <tr>\n",
       "      <th>Signals, Images and Interfaces</th>\n",
       "      <td>24</td>\n",
       "      <td>Yes</td>\n",
       "      <td>1.723649e-04</td>\n",
       "    </tr>\n",
       "    <tr>\n",
       "      <th>Service science</th>\n",
       "      <td>3</td>\n",
       "      <td>No</td>\n",
       "      <td>6.435969e-01</td>\n",
       "    </tr>\n",
       "    <tr>\n",
       "      <th>Information Security - SP</th>\n",
       "      <td>2</td>\n",
       "      <td>Yes</td>\n",
       "      <td>0.000000e+00</td>\n",
       "    </tr>\n",
       "  </tbody>\n",
       "</table>\n",
       "</div>"
      ],
      "text/plain": [
       "                                # students Differs significantly       p-value\n",
       "Specialization                                                                \n",
       "Computer Engineering - SP               17                   Yes  8.263090e-03\n",
       "No specialization                      500                   Yes  2.339821e-10\n",
       "Software Systems                        10                   Yes  2.306731e-02\n",
       "Biocomputing                             3                    No  2.187936e-01\n",
       "Foundations of Software                 56                   Yes  1.981885e-07\n",
       "Internet computing                      82                   Yes  3.255559e-09\n",
       "Signals, Images and Interfaces          24                   Yes  1.723649e-04\n",
       "Service science                          3                    No  6.435969e-01\n",
       "Information Security - SP                2                   Yes  0.000000e+00"
      ]
     },
     "execution_count": 45,
     "metadata": {},
     "output_type": "execute_result"
    }
   ],
   "source": [
    "# Import stats library\n",
    "import scipy.stats as stats\n",
    "\n",
    "table = []\n",
    "pvalue_level = 0.05\n",
    "for specialization in lengthsPerSpecialization:\n",
    "    lengths = lengthsPerSpecialization[specialization]\n",
    "\n",
    "    resStat = stats.ttest_1samp(a= lengths.values, popmean= generalAvg)\n",
    "    pvalue = resStat.pvalue\n",
    "    \n",
    "    table.append({'Specialization':specialization, '# students':lengths.size, \n",
    "                  'p-value': pvalue, 'Differs significantly': 'Yes' if pvalue < pvalue_level else 'No'})\n",
    "    \n",
    "df = pd.DataFrame(table)\n",
    "df = df.set_index(['Specialization'])\n",
    "df"
   ]
  },
  {
   "cell_type": "markdown",
   "metadata": {},
   "source": [
    "We can observe for which specialization its differs significantly, i.e which one has a p-value smaller than 0.05."
   ]
  },
  {
   "cell_type": "markdown",
   "metadata": {},
   "source": [
    "# BONUS TASK: Master students by gender"
   ]
  },
  {
   "cell_type": "markdown",
   "metadata": {},
   "source": [
    "For this last part, we will now compare Master duration depeding on the gender of the students. Let's see if women are still smarter than men in the master degree.\n",
    "\n",
    "The 'year' column in *data_final_students_ma* corresponds to the starting year of the degree, i.e the year of *'Master semestre 1'*."
   ]
  },
  {
   "cell_type": "code",
   "execution_count": 54,
   "metadata": {
    "collapsed": false
   },
   "outputs": [
    {
     "data": {
      "text/html": [
       "<div>\n",
       "<table border=\"1\" class=\"dataframe\">\n",
       "  <thead>\n",
       "    <tr style=\"text-align: right;\">\n",
       "      <th></th>\n",
       "      <th>gender</th>\n",
       "      <th>name</th>\n",
       "      <th>sciper</th>\n",
       "      <th>section</th>\n",
       "      <th>year</th>\n",
       "      <th>semesterNumber</th>\n",
       "      <th>specialization</th>\n",
       "      <th>minor</th>\n",
       "    </tr>\n",
       "  </thead>\n",
       "  <tbody>\n",
       "    <tr>\n",
       "      <th>0</th>\n",
       "      <td>Monsieur</td>\n",
       "      <td>Cardinaux Damien</td>\n",
       "      <td>146330</td>\n",
       "      <td>Informatique</td>\n",
       "      <td>2007-2008</td>\n",
       "      <td>4</td>\n",
       "      <td>NaN</td>\n",
       "      <td>NaN</td>\n",
       "    </tr>\n",
       "    <tr>\n",
       "      <th>1</th>\n",
       "      <td>Monsieur</td>\n",
       "      <td>Marx Clément</td>\n",
       "      <td>146742</td>\n",
       "      <td>Informatique</td>\n",
       "      <td>2008-2009</td>\n",
       "      <td>6</td>\n",
       "      <td>Signals, Images and Interfaces</td>\n",
       "      <td>NaN</td>\n",
       "    </tr>\n",
       "    <tr>\n",
       "      <th>2</th>\n",
       "      <td>Monsieur</td>\n",
       "      <td>Junod Antoine</td>\n",
       "      <td>146929</td>\n",
       "      <td>Informatique</td>\n",
       "      <td>2007-2008</td>\n",
       "      <td>3</td>\n",
       "      <td>NaN</td>\n",
       "      <td>NaN</td>\n",
       "    </tr>\n",
       "    <tr>\n",
       "      <th>3</th>\n",
       "      <td>Monsieur</td>\n",
       "      <td>Good Xavier</td>\n",
       "      <td>147008</td>\n",
       "      <td>Informatique</td>\n",
       "      <td>2011-2012</td>\n",
       "      <td>5</td>\n",
       "      <td>Signals, Images and Interfaces</td>\n",
       "      <td>NaN</td>\n",
       "    </tr>\n",
       "    <tr>\n",
       "      <th>4</th>\n",
       "      <td>Monsieur</td>\n",
       "      <td>Anagnostaras David</td>\n",
       "      <td>152232</td>\n",
       "      <td>Informatique</td>\n",
       "      <td>2007-2008</td>\n",
       "      <td>4</td>\n",
       "      <td>NaN</td>\n",
       "      <td>Mineur en Management, technologie et entrepren...</td>\n",
       "    </tr>\n",
       "  </tbody>\n",
       "</table>\n",
       "</div>"
      ],
      "text/plain": [
       "     gender                name  sciper       section       year  \\\n",
       "0  Monsieur    Cardinaux Damien  146330  Informatique  2007-2008   \n",
       "1  Monsieur        Marx Clément  146742  Informatique  2008-2009   \n",
       "2  Monsieur       Junod Antoine  146929  Informatique  2007-2008   \n",
       "3  Monsieur         Good Xavier  147008  Informatique  2011-2012   \n",
       "4  Monsieur  Anagnostaras David  152232  Informatique  2007-2008   \n",
       "\n",
       "   semesterNumber                  specialization  \\\n",
       "0               4                             NaN   \n",
       "1               6  Signals, Images and Interfaces   \n",
       "2               3                             NaN   \n",
       "3               5  Signals, Images and Interfaces   \n",
       "4               4                             NaN   \n",
       "\n",
       "                                               minor  \n",
       "0                                                NaN  \n",
       "1                                                NaN  \n",
       "2                                                NaN  \n",
       "3                                                NaN  \n",
       "4  Mineur en Management, technologie et entrepren...  "
      ]
     },
     "execution_count": 54,
     "metadata": {},
     "output_type": "execute_result"
    }
   ],
   "source": [
    "data_final_students_ma.head(5)"
   ]
  },
  {
   "cell_type": "markdown",
   "metadata": {},
   "source": [
    "We repeat the same analysis as before in the Task 1."
   ]
  },
  {
   "cell_type": "code",
   "execution_count": 55,
   "metadata": {
    "collapsed": false
   },
   "outputs": [
    {
     "name": "stdout",
     "output_type": "stream",
     "text": [
      "4.1547420965058235\n",
      "4.145833333333333\n"
     ]
    }
   ],
   "source": [
    "# Separating men and women\n",
    "dataMen = data_final_students_ma[data_final_students_ma.gender == 'Monsieur']\n",
    "dataWomen = data_final_students_ma[data_final_students_ma.gender == 'Madame']\n",
    "\n",
    "numberSemestersMen = dataMen['semesterNumber']\n",
    "numberSemestersWomen = dataWomen['semesterNumber']\n",
    "\n",
    "# Computing the mean duration\n",
    "meanMen = numberSemestersMen.mean()\n",
    "meanWomen = numberSemestersWomen.mean()\n",
    "print(meanMen)\n",
    "print(meanWomen)"
   ]
  },
  {
   "cell_type": "markdown",
   "metadata": {},
   "source": [
    "This time, we observe that the mean duration is almost the same for men and women! Let's check if the stats give us the same conclusion."
   ]
  },
  {
   "cell_type": "code",
   "execution_count": 56,
   "metadata": {
    "collapsed": false
   },
   "outputs": [
    {
     "data": {
      "text/plain": [
       "Ttest_indResult(statistic=0.078291611584163603, pvalue=0.93772412598508392)"
      ]
     },
     "execution_count": 56,
     "metadata": {},
     "output_type": "execute_result"
    }
   ],
   "source": [
    "import scipy.stats as stats\n",
    "\n",
    "stats.ttest_ind(a= numberSemestersMen,\n",
    "                b= numberSemestersWomen,\n",
    "                equal_var=False)    # Assume samples have equal variance?"
   ]
  },
  {
   "cell_type": "markdown",
   "metadata": {},
   "source": [
    "Because the p-value is 0.938 (much bigger than 0.05), the difference in study lengths at master level is not statistically significant. The statistical approach give us the same conclusion!\n",
    "\n",
    "We can now plot an histogram of the duration for each group: Men and Women"
   ]
  },
  {
   "cell_type": "code",
   "execution_count": 57,
   "metadata": {
    "collapsed": false
   },
   "outputs": [
    {
     "data": {
      "image/png": "[encoded data removed]",
      "text/plain": [
       "<matplotlib.figure.Figure at 0x118854588>"
      ]
     },
     "metadata": {},
     "output_type": "display_data"
    }
   ],
   "source": [
    "numberSemesters = data_final_students_ma[['gender', 'semesterNumber']]\n",
    "numberSemestersPerLength = numberSemesters.groupby('semesterNumber')\n",
    "\n",
    "totalNbMen = numberSemesters[numberSemesters.gender == 'Monsieur'].size\n",
    "totalNbWomen = numberSemesters[numberSemesters.gender == 'Madame'].size\n",
    "\n",
    "# Dividing into men and women\n",
    "numberSemestersPerLengthDivided = []\n",
    "for lengthGroup in numberSemestersPerLength:\n",
    "    length = lengthGroup[0]\n",
    "    personsWithLength = lengthGroup[1]\n",
    "    percentageMen = personsWithLength[personsWithLength.gender == 'Monsieur'].size / totalNbMen\n",
    "    percentageWomen = personsWithLength[personsWithLength.gender == 'Madame'].size / totalNbWomen\n",
    "    numberSemestersPerLengthDivided.append({'semesterNumber':length, 'men':percentageMen, 'women':percentageWomen})\n",
    "    \n",
    "dfNumberSemesters = pd.DataFrame(numberSemestersPerLengthDivided)\n",
    "dfNumberSemesters = dfNumberSemesters.set_index(['semesterNumber'])\n",
    "\n",
    "# Plot\n",
    "dfNumberSemesters.plot.bar()\n",
    "plt.show()"
   ]
  },
  {
   "cell_type": "markdown",
   "metadata": {},
   "source": [
    "It can be interesting to also observe the mean duration of the master degree depending on the student starting year!"
   ]
  },
  {
   "cell_type": "code",
   "execution_count": 58,
   "metadata": {
    "collapsed": false
   },
   "outputs": [
    {
     "data": {
      "image/png": "[encoded data removed]",
      "text/plain": [
       "<matplotlib.figure.Figure at 0x117ac9ac8>"
      ]
     },
     "metadata": {},
     "output_type": "display_data"
    }
   ],
   "source": [
    "numberSemesters = data_final_students_ma[['year', 'gender', 'semesterNumber']]\n",
    "numberSemestersPerYearAndGender = numberSemesters.groupby(['year', 'gender'])\n",
    "\n",
    "# Function to extract the starting year\n",
    "extract_year = lambda year: int(year.split('-')[0])\n",
    "\n",
    "# Dividing between men and women\n",
    "avgSemestersPerStartYearMen = []\n",
    "avgSemestersPerStartYearWomen = []\n",
    "for lengthGroup in numberSemestersPerYearAndGender:\n",
    "    yearStr, gender = lengthGroup[0]\n",
    "    startYear = extract_year(yearStr)\n",
    "    lengthsDf = lengthGroup[1]\n",
    "    semesterNumbersDistribution = lengthGroup[1].semesterNumber\n",
    "    if gender == 'Monsieur':\n",
    "        avgSemestersPerStartYearMen.append({'avgSemesterNumber':semesterNumbersDistribution.mean(), \n",
    "                                            'startYear': startYear})\n",
    "    elif gender == 'Madame':\n",
    "        avgSemestersPerStartYearWomen.append({'avgSemesterNumber':semesterNumbersDistribution.mean(), \n",
    "                                              'startYear': startYear})\n",
    "\n",
    "dfNumberSemestersWomen = pd.DataFrame(avgSemestersPerStartYearWomen)\n",
    "dfNumberSemestersMen = pd.DataFrame(avgSemestersPerStartYearMen)\n",
    "\n",
    "dfNumberSemestersWomen = dfNumberSemestersWomen.reindex()\n",
    "dfNumberSemestersMen = dfNumberSemestersMen.reindex()\n",
    "\n",
    "# Plot\n",
    "ax1 = dfNumberSemestersWomen.plot.scatter(x='startYear', y='avgSemesterNumber', s=100, color='b', label='women')\n",
    "dfNumberSemestersMen.plot.scatter(x='startYear', y='avgSemesterNumber', s=100, ax=ax1, color='r',label='men')\n",
    "plt.legend()\n",
    "plt.show()\n"
   ]
  },
  {
   "cell_type": "markdown",
   "metadata": {},
   "source": [
    "The graph obtained above is interesting but it does not give us much information, because we don't know how many students are included in this graph per year. Therefore, it would be more intuitive to plot the duration for every student."
   ]
  },
  {
   "cell_type": "code",
   "execution_count": 61,
   "metadata": {
    "collapsed": false
   },
   "outputs": [
    {
     "data": {
      "image/png": "[encoded data removed]",
      "text/plain": [
       "<matplotlib.figure.Figure at 0x1182b17b8>"
      ]
     },
     "metadata": {},
     "output_type": "display_data"
    }
   ],
   "source": [
    "numberSemestersWomen = numberSemesters[numberSemesters.gender == 'Madame']\n",
    "numberSemestersMen = numberSemesters[numberSemesters.gender == 'Monsieur']\n",
    "\n",
    "# Function to extract the starting year\n",
    "extract_year = lambda year: int(year.split('-')[0])\n",
    "\n",
    "numberSemestersWomen['year'].apply(extract_year)\n",
    "numberSemestersMen['year'].apply(extract_year)\n",
    "\n",
    "# Plot\n",
    "ax1 = sns.stripplot(x='year', y='semesterNumber', data=numberSemestersWomen, jitter=True, s=5, label='women')\n",
    "sns.stripplot(x='year', y='semesterNumber', data=numberSemestersMen, jitter=True, s=5, label='men', ax=ax1)\n",
    "plt.show()"
   ]
  },
  {
   "cell_type": "markdown",
   "metadata": {
    "collapsed": true
   },
   "source": [
    "It is better, but because of the big number of data, it is hard to see all the points on the graph.\n",
    "Let's try yet another way to visualize the data, now emphasizing the distribution of study length."
   ]
  },
  {
   "cell_type": "code",
   "execution_count": 62,
   "metadata": {
    "collapsed": false,
    "scrolled": true
   },
   "outputs": [
    {
     "data": {
      "image/png": "[encoded data removed]",
      "text/plain": [
       "<matplotlib.figure.Figure at 0x1187b6978>"
      ]
     },
     "metadata": {},
     "output_type": "display_data"
    }
   ],
   "source": [
    "numberSemesters = data_final_students_ma[['year', 'gender', 'semesterNumber']]\n",
    "numberSemestersPerYearGenderTime = numberSemesters.groupby(['year', 'gender', 'semesterNumber'])\n",
    "\n",
    "numberMenPerYearLength = []\n",
    "numberWomenPerYearLength = []\n",
    "for lengthGroup in numberSemestersPerYearGenderTime:\n",
    "    yearStr, gender, semesterNumber = lengthGroup[0]\n",
    "    startYear = extract_year(yearStr)\n",
    "    \n",
    "    # Getting the number of students with this length\n",
    "    numberStudents = lengthGroup[1].size\n",
    "    if gender == 'Monsieur':\n",
    "        numberMenPerYearLength.append({'semesterNumber':semesterNumber, \n",
    "                                       'startYear': startYear, 'count':numberStudents})\n",
    "    elif gender == 'Madame':\n",
    "        numberWomenPerYearLength.append({'semesterNumber':semesterNumber, \n",
    "                                       'startYear': startYear, 'count':numberStudents})\n",
    "\n",
    "\n",
    "dfCountsSemestersWomen = pd.DataFrame(numberWomenPerYearLength)\n",
    "dfCountsSemestersMen = pd.DataFrame(numberMenPerYearLength)\n",
    "\n",
    "# Plot\n",
    "ax1 = dfCountsSemestersMen.plot.scatter(x='startYear', y='semesterNumber', \n",
    "                                  label='Men', s=dfCountsSemestersMen['count']*5, color='b')\n",
    "\n",
    "dfCountsSemestersMen.plot.scatter(x='startYear', y='semesterNumber', \n",
    "                                  label='Women', s=dfCountsSemestersWomen['count']*5, color='r', ax=ax1)\n",
    "plt.show()"
   ]
  },
  {
   "cell_type": "markdown",
   "metadata": {
    "collapsed": true
   },
   "source": [
    "Much better! Now we can see clearly how much time students take to finish their Master degree. \n",
    "\n",
    "Note also that the big number of students starting their degree in 2015 and finishing in 3 semesters is maybe due to the fact that many of them did not choose any specialization yet, but they will probably not do their master in 1 year. Unfortunatly, we don't have enough information in our data to distinguish these students to the other ones. One solution would have been to check if they are enroll for another semester in *'2016-2017'*."
   ]
  }
 ],
 "metadata": {
  "anaconda-cloud": {},
  "kernelspec": {
   "display_name": "Python [Root]",
   "language": "python",
   "name": "Python [Root]"
  },
  "language_info": {
   "codemirror_mode": {
    "name": "ipython",
    "version": 3
   },
   "file_extension": ".py",
   "mimetype": "text/x-python",
   "name": "python",
   "nbconvert_exporter": "python",
   "pygments_lexer": "ipython3",
   "version": "3.5.2"
  }
 },
 "nbformat": 4,
 "nbformat_minor": 0
}
